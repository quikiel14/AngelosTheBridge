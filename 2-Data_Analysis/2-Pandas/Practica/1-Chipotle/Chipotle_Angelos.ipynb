{
 "cells": [
  {
   "attachments": {},
   "cell_type": "markdown",
   "metadata": {},
   "source": [
    "# Ex1 - Filtering and Sorting Data"
   ]
  },
  {
   "attachments": {},
   "cell_type": "markdown",
   "metadata": {},
   "source": [
    "\n",
    "\n",
    "### Step 1. Import the necessary libraries"
   ]
  },
  {
   "cell_type": "code",
   "execution_count": 101,
   "metadata": {},
   "outputs": [],
   "source": [
    "#pip install pandas"
   ]
  },
  {
   "cell_type": "code",
   "execution_count": 102,
   "metadata": {},
   "outputs": [],
   "source": [
    "import pandas as pd\n",
    "import numpy as np"
   ]
  },
  {
   "attachments": {},
   "cell_type": "markdown",
   "metadata": {},
   "source": [
    "### Step 2. Import the dataset from this [address](https://raw.githubusercontent.com/justmarkham/DAT8/master/data/chipotle.tsv) and assign it to a variable called chipo."
   ]
  },
  {
   "cell_type": "code",
   "execution_count": 103,
   "metadata": {},
   "outputs": [
    {
     "data": {
      "application/vnd.microsoft.datawrangler.viewer.v0+json": {
       "columns": [
        {
         "name": "index",
         "rawType": "int64",
         "type": "integer"
        },
        {
         "name": "order_id",
         "rawType": "int64",
         "type": "integer"
        },
        {
         "name": "quantity",
         "rawType": "int64",
         "type": "integer"
        },
        {
         "name": "item_name",
         "rawType": "object",
         "type": "string"
        },
        {
         "name": "choice_description",
         "rawType": "object",
         "type": "unknown"
        },
        {
         "name": "item_price",
         "rawType": "object",
         "type": "string"
        }
       ],
       "conversionMethod": "pd.DataFrame",
       "ref": "30b2500a-0a29-4c8c-8e74-96eaa4ef4861",
       "rows": [
        [
         "0",
         "1",
         "1",
         "Chips and Fresh Tomato Salsa",
         null,
         "$2.39 "
        ],
        [
         "1",
         "1",
         "1",
         "Izze",
         "[Clementine]",
         "$3.39 "
        ],
        [
         "2",
         "1",
         "1",
         "Nantucket Nectar",
         "[Apple]",
         "$3.39 "
        ],
        [
         "3",
         "1",
         "1",
         "Chips and Tomatillo-Green Chili Salsa",
         null,
         "$2.39 "
        ],
        [
         "4",
         "2",
         "2",
         "Chicken Bowl",
         "[Tomatillo-Red Chili Salsa (Hot), [Black Beans, Rice, Cheese, Sour Cream]]",
         "$16.98 "
        ],
        [
         "5",
         "3",
         "1",
         "Chicken Bowl",
         "[Fresh Tomato Salsa (Mild), [Rice, Cheese, Sour Cream, Guacamole, Lettuce]]",
         "$10.98 "
        ],
        [
         "6",
         "3",
         "1",
         "Side of Chips",
         null,
         "$1.69 "
        ],
        [
         "7",
         "4",
         "1",
         "Steak Burrito",
         "[Tomatillo Red Chili Salsa, [Fajita Vegetables, Black Beans, Pinto Beans, Cheese, Sour Cream, Guacamole, Lettuce]]",
         "$11.75 "
        ],
        [
         "8",
         "4",
         "1",
         "Steak Soft Tacos",
         "[Tomatillo Green Chili Salsa, [Pinto Beans, Cheese, Sour Cream, Lettuce]]",
         "$9.25 "
        ],
        [
         "9",
         "5",
         "1",
         "Steak Burrito",
         "[Fresh Tomato Salsa, [Rice, Black Beans, Pinto Beans, Cheese, Sour Cream, Lettuce]]",
         "$9.25 "
        ],
        [
         "10",
         "5",
         "1",
         "Chips and Guacamole",
         null,
         "$4.45 "
        ],
        [
         "11",
         "6",
         "1",
         "Chicken Crispy Tacos",
         "[Roasted Chili Corn Salsa, [Fajita Vegetables, Rice, Black Beans, Cheese, Sour Cream]]",
         "$8.75 "
        ],
        [
         "12",
         "6",
         "1",
         "Chicken Soft Tacos",
         "[Roasted Chili Corn Salsa, [Rice, Black Beans, Cheese, Sour Cream]]",
         "$8.75 "
        ],
        [
         "13",
         "7",
         "1",
         "Chicken Bowl",
         "[Fresh Tomato Salsa, [Fajita Vegetables, Rice, Cheese, Sour Cream, Guacamole]]",
         "$11.25 "
        ],
        [
         "14",
         "7",
         "1",
         "Chips and Guacamole",
         null,
         "$4.45 "
        ],
        [
         "15",
         "8",
         "1",
         "Chips and Tomatillo-Green Chili Salsa",
         null,
         "$2.39 "
        ],
        [
         "16",
         "8",
         "1",
         "Chicken Burrito",
         "[Tomatillo-Green Chili Salsa (Medium), [Pinto Beans, Cheese, Sour Cream]]",
         "$8.49 "
        ],
        [
         "17",
         "9",
         "1",
         "Chicken Burrito",
         "[Fresh Tomato Salsa (Mild), [Black Beans, Rice, Cheese, Sour Cream, Lettuce]]",
         "$8.49 "
        ],
        [
         "18",
         "9",
         "2",
         "Canned Soda",
         "[Sprite]",
         "$2.18 "
        ],
        [
         "19",
         "10",
         "1",
         "Chicken Bowl",
         "[Tomatillo Red Chili Salsa, [Fajita Vegetables, Black Beans, Sour Cream, Cheese, Lettuce]]",
         "$8.75 "
        ],
        [
         "20",
         "10",
         "1",
         "Chips and Guacamole",
         null,
         "$4.45 "
        ],
        [
         "21",
         "11",
         "1",
         "Barbacoa Burrito",
         "[[Fresh Tomato Salsa (Mild), Tomatillo-Green Chili Salsa (Medium), Tomatillo-Red Chili Salsa (Hot)], [Rice, Cheese, Sour Cream, Lettuce]]",
         "$8.99 "
        ],
        [
         "22",
         "11",
         "1",
         "Nantucket Nectar",
         "[Pomegranate Cherry]",
         "$3.39 "
        ],
        [
         "23",
         "12",
         "1",
         "Chicken Burrito",
         "[[Tomatillo-Green Chili Salsa (Medium), Tomatillo-Red Chili Salsa (Hot)], [Pinto Beans, Rice, Cheese, Sour Cream, Guacamole, Lettuce]]",
         "$10.98 "
        ],
        [
         "24",
         "12",
         "1",
         "Izze",
         "[Grapefruit]",
         "$3.39 "
        ],
        [
         "25",
         "13",
         "1",
         "Chips and Fresh Tomato Salsa",
         null,
         "$2.39 "
        ],
        [
         "26",
         "13",
         "1",
         "Chicken Bowl",
         "[Roasted Chili Corn Salsa (Medium), [Pinto Beans, Rice, Fajita Veggies, Cheese, Sour Cream, Lettuce]]",
         "$8.49 "
        ],
        [
         "27",
         "14",
         "1",
         "Carnitas Burrito",
         "[[Tomatillo-Green Chili Salsa (Medium), Roasted Chili Corn Salsa (Medium)], [Black Beans, Rice, Sour Cream, Lettuce]]",
         "$8.99 "
        ],
        [
         "28",
         "14",
         "1",
         "Canned Soda",
         "[Dr. Pepper]",
         "$1.09 "
        ],
        [
         "29",
         "15",
         "1",
         "Chicken Burrito",
         "[Tomatillo-Green Chili Salsa (Medium), [Pinto Beans, Rice, Cheese, Sour Cream]]",
         "$8.49 "
        ],
        [
         "30",
         "15",
         "1",
         "Chips and Tomatillo-Green Chili Salsa",
         null,
         "$2.39 "
        ],
        [
         "31",
         "16",
         "1",
         "Steak Burrito",
         "[[Roasted Chili Corn Salsa (Medium), Fresh Tomato Salsa (Mild)], [Rice, Black Beans, Sour Cream]]",
         "$8.99 "
        ],
        [
         "32",
         "16",
         "1",
         "Side of Chips",
         null,
         "$1.69 "
        ],
        [
         "33",
         "17",
         "1",
         "Carnitas Bowl",
         "[Tomatillo-Red Chili Salsa (Hot), [Black Beans, Rice, Fajita Veggies, Cheese, Sour Cream, Lettuce]]",
         "$8.99 "
        ],
        [
         "34",
         "17",
         "1",
         "Bottled Water",
         null,
         "$1.09 "
        ],
        [
         "35",
         "18",
         "1",
         "Chicken Soft Tacos",
         "[Roasted Chili Corn Salsa, Rice]",
         "$8.75 "
        ],
        [
         "36",
         "18",
         "1",
         "Chicken Soft Tacos",
         "[Roasted Chili Corn Salsa, [Cheese, Lettuce]]",
         "$8.75 "
        ],
        [
         "37",
         "18",
         "1",
         "Chips and Guacamole",
         null,
         "$4.45 "
        ],
        [
         "38",
         "18",
         "1",
         "Chips and Tomatillo Green Chili Salsa",
         null,
         "$2.95 "
        ],
        [
         "39",
         "19",
         "1",
         "Barbacoa Bowl",
         "[Roasted Chili Corn Salsa, [Fajita Vegetables, Rice, Black Beans, Cheese, Sour Cream, Guacamole, Lettuce]]",
         "$11.75 "
        ],
        [
         "40",
         "19",
         "1",
         "Chips",
         null,
         "$2.15 "
        ],
        [
         "41",
         "20",
         "1",
         "Chips and Guacamole",
         null,
         "$4.45 "
        ],
        [
         "42",
         "20",
         "1",
         "Chicken Bowl",
         "[Roasted Chili Corn Salsa, [Rice, Black Beans, Cheese, Sour Cream, Guacamole, Lettuce]]",
         "$11.25 "
        ],
        [
         "43",
         "20",
         "1",
         "Steak Burrito",
         "[Fresh Tomato Salsa, [Rice, Pinto Beans, Cheese, Sour Cream, Guacamole, Lettuce]]",
         "$11.75 "
        ],
        [
         "44",
         "20",
         "1",
         "Chicken Salad Bowl",
         "[Fresh Tomato Salsa, [Fajita Vegetables, Pinto Beans, Lettuce]]",
         "$8.75 "
        ],
        [
         "45",
         "21",
         "1",
         "Chicken Burrito",
         "[Tomatillo-Red Chili Salsa (Hot), [Black Beans, Fajita Veggies, Cheese, Sour Cream, Guacamole, Lettuce]]",
         "$10.98 "
        ],
        [
         "46",
         "21",
         "1",
         "Steak Burrito",
         "[Tomatillo-Red Chili Salsa (Hot), [Rice, Fajita Veggies, Cheese]]",
         "$8.99 "
        ],
        [
         "47",
         "21",
         "1",
         "Izze",
         "[Blackberry]",
         "$3.39 "
        ],
        [
         "48",
         "22",
         "1",
         "Steak Burrito",
         "[[Fresh Tomato Salsa (Mild), Roasted Chili Corn Salsa (Medium), Tomatillo-Red Chili Salsa (Hot)], [Black Beans, Rice, Sour Cream]]",
         "$8.99 "
        ],
        [
         "49",
         "22",
         "1",
         "Chips and Guacamole",
         null,
         "$3.99 "
        ]
       ],
       "shape": {
        "columns": 5,
        "rows": 4622
       }
      },
      "text/html": [
       "<div>\n",
       "<style scoped>\n",
       "    .dataframe tbody tr th:only-of-type {\n",
       "        vertical-align: middle;\n",
       "    }\n",
       "\n",
       "    .dataframe tbody tr th {\n",
       "        vertical-align: top;\n",
       "    }\n",
       "\n",
       "    .dataframe thead th {\n",
       "        text-align: right;\n",
       "    }\n",
       "</style>\n",
       "<table border=\"1\" class=\"dataframe\">\n",
       "  <thead>\n",
       "    <tr style=\"text-align: right;\">\n",
       "      <th></th>\n",
       "      <th>order_id</th>\n",
       "      <th>quantity</th>\n",
       "      <th>item_name</th>\n",
       "      <th>choice_description</th>\n",
       "      <th>item_price</th>\n",
       "    </tr>\n",
       "  </thead>\n",
       "  <tbody>\n",
       "    <tr>\n",
       "      <th>0</th>\n",
       "      <td>1</td>\n",
       "      <td>1</td>\n",
       "      <td>Chips and Fresh Tomato Salsa</td>\n",
       "      <td>NaN</td>\n",
       "      <td>$2.39</td>\n",
       "    </tr>\n",
       "    <tr>\n",
       "      <th>1</th>\n",
       "      <td>1</td>\n",
       "      <td>1</td>\n",
       "      <td>Izze</td>\n",
       "      <td>[Clementine]</td>\n",
       "      <td>$3.39</td>\n",
       "    </tr>\n",
       "    <tr>\n",
       "      <th>2</th>\n",
       "      <td>1</td>\n",
       "      <td>1</td>\n",
       "      <td>Nantucket Nectar</td>\n",
       "      <td>[Apple]</td>\n",
       "      <td>$3.39</td>\n",
       "    </tr>\n",
       "    <tr>\n",
       "      <th>3</th>\n",
       "      <td>1</td>\n",
       "      <td>1</td>\n",
       "      <td>Chips and Tomatillo-Green Chili Salsa</td>\n",
       "      <td>NaN</td>\n",
       "      <td>$2.39</td>\n",
       "    </tr>\n",
       "    <tr>\n",
       "      <th>4</th>\n",
       "      <td>2</td>\n",
       "      <td>2</td>\n",
       "      <td>Chicken Bowl</td>\n",
       "      <td>[Tomatillo-Red Chili Salsa (Hot), [Black Beans...</td>\n",
       "      <td>$16.98</td>\n",
       "    </tr>\n",
       "    <tr>\n",
       "      <th>...</th>\n",
       "      <td>...</td>\n",
       "      <td>...</td>\n",
       "      <td>...</td>\n",
       "      <td>...</td>\n",
       "      <td>...</td>\n",
       "    </tr>\n",
       "    <tr>\n",
       "      <th>4617</th>\n",
       "      <td>1833</td>\n",
       "      <td>1</td>\n",
       "      <td>Steak Burrito</td>\n",
       "      <td>[Fresh Tomato Salsa, [Rice, Black Beans, Sour ...</td>\n",
       "      <td>$11.75</td>\n",
       "    </tr>\n",
       "    <tr>\n",
       "      <th>4618</th>\n",
       "      <td>1833</td>\n",
       "      <td>1</td>\n",
       "      <td>Steak Burrito</td>\n",
       "      <td>[Fresh Tomato Salsa, [Rice, Sour Cream, Cheese...</td>\n",
       "      <td>$11.75</td>\n",
       "    </tr>\n",
       "    <tr>\n",
       "      <th>4619</th>\n",
       "      <td>1834</td>\n",
       "      <td>1</td>\n",
       "      <td>Chicken Salad Bowl</td>\n",
       "      <td>[Fresh Tomato Salsa, [Fajita Vegetables, Pinto...</td>\n",
       "      <td>$11.25</td>\n",
       "    </tr>\n",
       "    <tr>\n",
       "      <th>4620</th>\n",
       "      <td>1834</td>\n",
       "      <td>1</td>\n",
       "      <td>Chicken Salad Bowl</td>\n",
       "      <td>[Fresh Tomato Salsa, [Fajita Vegetables, Lettu...</td>\n",
       "      <td>$8.75</td>\n",
       "    </tr>\n",
       "    <tr>\n",
       "      <th>4621</th>\n",
       "      <td>1834</td>\n",
       "      <td>1</td>\n",
       "      <td>Chicken Salad Bowl</td>\n",
       "      <td>[Fresh Tomato Salsa, [Fajita Vegetables, Pinto...</td>\n",
       "      <td>$8.75</td>\n",
       "    </tr>\n",
       "  </tbody>\n",
       "</table>\n",
       "<p>4622 rows × 5 columns</p>\n",
       "</div>"
      ],
      "text/plain": [
       "      order_id  quantity                              item_name  \\\n",
       "0            1         1           Chips and Fresh Tomato Salsa   \n",
       "1            1         1                                   Izze   \n",
       "2            1         1                       Nantucket Nectar   \n",
       "3            1         1  Chips and Tomatillo-Green Chili Salsa   \n",
       "4            2         2                           Chicken Bowl   \n",
       "...        ...       ...                                    ...   \n",
       "4617      1833         1                          Steak Burrito   \n",
       "4618      1833         1                          Steak Burrito   \n",
       "4619      1834         1                     Chicken Salad Bowl   \n",
       "4620      1834         1                     Chicken Salad Bowl   \n",
       "4621      1834         1                     Chicken Salad Bowl   \n",
       "\n",
       "                                     choice_description item_price  \n",
       "0                                                   NaN     $2.39   \n",
       "1                                          [Clementine]     $3.39   \n",
       "2                                               [Apple]     $3.39   \n",
       "3                                                   NaN     $2.39   \n",
       "4     [Tomatillo-Red Chili Salsa (Hot), [Black Beans...    $16.98   \n",
       "...                                                 ...        ...  \n",
       "4617  [Fresh Tomato Salsa, [Rice, Black Beans, Sour ...    $11.75   \n",
       "4618  [Fresh Tomato Salsa, [Rice, Sour Cream, Cheese...    $11.75   \n",
       "4619  [Fresh Tomato Salsa, [Fajita Vegetables, Pinto...    $11.25   \n",
       "4620  [Fresh Tomato Salsa, [Fajita Vegetables, Lettu...     $8.75   \n",
       "4621  [Fresh Tomato Salsa, [Fajita Vegetables, Pinto...     $8.75   \n",
       "\n",
       "[4622 rows x 5 columns]"
      ]
     },
     "execution_count": 103,
     "metadata": {},
     "output_type": "execute_result"
    }
   ],
   "source": [
    "url = \"https://raw.githubusercontent.com/justmarkham/DAT8/master/data/chipotle.tsv\"\n",
    "chipo = pd.read_csv(url, sep=\"\\t\")\n",
    "chipo"
   ]
  },
  {
   "attachments": {},
   "cell_type": "markdown",
   "metadata": {},
   "source": [
    "### Step 3. Name of the max valued product"
   ]
  },
  {
   "cell_type": "code",
   "execution_count": 104,
   "metadata": {},
   "outputs": [
    {
     "name": "stdout",
     "output_type": "stream",
     "text": [
      "<class 'pandas.core.frame.DataFrame'>\n",
      "RangeIndex: 4622 entries, 0 to 4621\n",
      "Data columns (total 5 columns):\n",
      " #   Column              Non-Null Count  Dtype \n",
      "---  ------              --------------  ----- \n",
      " 0   order_id            4622 non-null   int64 \n",
      " 1   quantity            4622 non-null   int64 \n",
      " 2   item_name           4622 non-null   object\n",
      " 3   choice_description  3376 non-null   object\n",
      " 4   item_price          4622 non-null   object\n",
      "dtypes: int64(2), object(3)\n",
      "memory usage: 180.7+ KB\n"
     ]
    }
   ],
   "source": [
    "chipo.info()"
   ]
  },
  {
   "cell_type": "code",
   "execution_count": 105,
   "metadata": {},
   "outputs": [
    {
     "name": "stdout",
     "output_type": "stream",
     "text": [
      "<class 'pandas.core.frame.DataFrame'>\n",
      "RangeIndex: 4622 entries, 0 to 4621\n",
      "Data columns (total 5 columns):\n",
      " #   Column              Non-Null Count  Dtype  \n",
      "---  ------              --------------  -----  \n",
      " 0   order_id            4622 non-null   int64  \n",
      " 1   quantity            4622 non-null   int64  \n",
      " 2   item_name           4622 non-null   object \n",
      " 3   choice_description  3376 non-null   object \n",
      " 4   item_price          4622 non-null   float64\n",
      "dtypes: float64(1), int64(2), object(2)\n",
      "memory usage: 180.7+ KB\n"
     ]
    }
   ],
   "source": [
    "chipo[\"item_price\"]= chipo[\"item_price\"].str.replace(\"$\",\"\").astype(float)\n",
    "chipo.info()"
   ]
  },
  {
   "cell_type": "code",
   "execution_count": 106,
   "metadata": {},
   "outputs": [
    {
     "data": {
      "application/vnd.microsoft.datawrangler.viewer.v0+json": {
       "columns": [
        {
         "name": "index",
         "rawType": "int64",
         "type": "integer"
        },
        {
         "name": "order_id",
         "rawType": "int64",
         "type": "integer"
        },
        {
         "name": "quantity",
         "rawType": "int64",
         "type": "integer"
        },
        {
         "name": "item_name",
         "rawType": "object",
         "type": "string"
        },
        {
         "name": "choice_description",
         "rawType": "object",
         "type": "unknown"
        },
        {
         "name": "item_price",
         "rawType": "float64",
         "type": "float"
        }
       ],
       "conversionMethod": "pd.DataFrame",
       "ref": "fdbbe374-51e5-4322-a054-605ce6d22281",
       "rows": [
        [
         "0",
         "1",
         "1",
         "Chips and Fresh Tomato Salsa",
         null,
         "2.39"
        ],
        [
         "1",
         "1",
         "1",
         "Izze",
         "[Clementine]",
         "3.39"
        ],
        [
         "2",
         "1",
         "1",
         "Nantucket Nectar",
         "[Apple]",
         "3.39"
        ],
        [
         "3",
         "1",
         "1",
         "Chips and Tomatillo-Green Chili Salsa",
         null,
         "2.39"
        ],
        [
         "4",
         "2",
         "2",
         "Chicken Bowl",
         "[Tomatillo-Red Chili Salsa (Hot), [Black Beans, Rice, Cheese, Sour Cream]]",
         "16.98"
        ]
       ],
       "shape": {
        "columns": 5,
        "rows": 5
       }
      },
      "text/html": [
       "<div>\n",
       "<style scoped>\n",
       "    .dataframe tbody tr th:only-of-type {\n",
       "        vertical-align: middle;\n",
       "    }\n",
       "\n",
       "    .dataframe tbody tr th {\n",
       "        vertical-align: top;\n",
       "    }\n",
       "\n",
       "    .dataframe thead th {\n",
       "        text-align: right;\n",
       "    }\n",
       "</style>\n",
       "<table border=\"1\" class=\"dataframe\">\n",
       "  <thead>\n",
       "    <tr style=\"text-align: right;\">\n",
       "      <th></th>\n",
       "      <th>order_id</th>\n",
       "      <th>quantity</th>\n",
       "      <th>item_name</th>\n",
       "      <th>choice_description</th>\n",
       "      <th>item_price</th>\n",
       "    </tr>\n",
       "  </thead>\n",
       "  <tbody>\n",
       "    <tr>\n",
       "      <th>0</th>\n",
       "      <td>1</td>\n",
       "      <td>1</td>\n",
       "      <td>Chips and Fresh Tomato Salsa</td>\n",
       "      <td>NaN</td>\n",
       "      <td>2.39</td>\n",
       "    </tr>\n",
       "    <tr>\n",
       "      <th>1</th>\n",
       "      <td>1</td>\n",
       "      <td>1</td>\n",
       "      <td>Izze</td>\n",
       "      <td>[Clementine]</td>\n",
       "      <td>3.39</td>\n",
       "    </tr>\n",
       "    <tr>\n",
       "      <th>2</th>\n",
       "      <td>1</td>\n",
       "      <td>1</td>\n",
       "      <td>Nantucket Nectar</td>\n",
       "      <td>[Apple]</td>\n",
       "      <td>3.39</td>\n",
       "    </tr>\n",
       "    <tr>\n",
       "      <th>3</th>\n",
       "      <td>1</td>\n",
       "      <td>1</td>\n",
       "      <td>Chips and Tomatillo-Green Chili Salsa</td>\n",
       "      <td>NaN</td>\n",
       "      <td>2.39</td>\n",
       "    </tr>\n",
       "    <tr>\n",
       "      <th>4</th>\n",
       "      <td>2</td>\n",
       "      <td>2</td>\n",
       "      <td>Chicken Bowl</td>\n",
       "      <td>[Tomatillo-Red Chili Salsa (Hot), [Black Beans...</td>\n",
       "      <td>16.98</td>\n",
       "    </tr>\n",
       "  </tbody>\n",
       "</table>\n",
       "</div>"
      ],
      "text/plain": [
       "   order_id  quantity                              item_name  \\\n",
       "0         1         1           Chips and Fresh Tomato Salsa   \n",
       "1         1         1                                   Izze   \n",
       "2         1         1                       Nantucket Nectar   \n",
       "3         1         1  Chips and Tomatillo-Green Chili Salsa   \n",
       "4         2         2                           Chicken Bowl   \n",
       "\n",
       "                                  choice_description  item_price  \n",
       "0                                                NaN        2.39  \n",
       "1                                       [Clementine]        3.39  \n",
       "2                                            [Apple]        3.39  \n",
       "3                                                NaN        2.39  \n",
       "4  [Tomatillo-Red Chili Salsa (Hot), [Black Beans...       16.98  "
      ]
     },
     "execution_count": 106,
     "metadata": {},
     "output_type": "execute_result"
    }
   ],
   "source": [
    "chipo.head()"
   ]
  },
  {
   "cell_type": "code",
   "execution_count": 107,
   "metadata": {},
   "outputs": [
    {
     "data": {
      "text/plain": [
       "'Chips and Fresh Tomato Salsa'"
      ]
     },
     "execution_count": 107,
     "metadata": {},
     "output_type": "execute_result"
    }
   ],
   "source": [
    "str(chipo[chipo[\"item_price\"] ==chipo[\"item_price\"].max()][\"item_name\"].values[0])"
   ]
  },
  {
   "cell_type": "markdown",
   "metadata": {},
   "source": []
  },
  {
   "cell_type": "code",
   "execution_count": 108,
   "metadata": {},
   "outputs": [
    {
     "data": {
      "text/plain": [
       "np.float64(44.25)"
      ]
     },
     "execution_count": 108,
     "metadata": {},
     "output_type": "execute_result"
    }
   ],
   "source": [
    "chipo[\"item_price\"].max()\n",
    "maximo = chipo[\"item_price\"].max()\n",
    "maximo"
   ]
  },
  {
   "cell_type": "code",
   "execution_count": 109,
   "metadata": {},
   "outputs": [
    {
     "data": {
      "application/vnd.microsoft.datawrangler.viewer.v0+json": {
       "columns": [
        {
         "name": "index",
         "rawType": "int64",
         "type": "integer"
        },
        {
         "name": "order_id",
         "rawType": "int64",
         "type": "integer"
        },
        {
         "name": "quantity",
         "rawType": "int64",
         "type": "integer"
        },
        {
         "name": "item_name",
         "rawType": "object",
         "type": "string"
        },
        {
         "name": "choice_description",
         "rawType": "object",
         "type": "unknown"
        },
        {
         "name": "item_price",
         "rawType": "float64",
         "type": "float"
        }
       ],
       "conversionMethod": "pd.DataFrame",
       "ref": "1bc8ef43-d566-441d-a378-456ca5aef2a1",
       "rows": [
        [
         "3598",
         "1443",
         "15",
         "Chips and Fresh Tomato Salsa",
         null,
         "44.25"
        ]
       ],
       "shape": {
        "columns": 5,
        "rows": 1
       }
      },
      "text/html": [
       "<div>\n",
       "<style scoped>\n",
       "    .dataframe tbody tr th:only-of-type {\n",
       "        vertical-align: middle;\n",
       "    }\n",
       "\n",
       "    .dataframe tbody tr th {\n",
       "        vertical-align: top;\n",
       "    }\n",
       "\n",
       "    .dataframe thead th {\n",
       "        text-align: right;\n",
       "    }\n",
       "</style>\n",
       "<table border=\"1\" class=\"dataframe\">\n",
       "  <thead>\n",
       "    <tr style=\"text-align: right;\">\n",
       "      <th></th>\n",
       "      <th>order_id</th>\n",
       "      <th>quantity</th>\n",
       "      <th>item_name</th>\n",
       "      <th>choice_description</th>\n",
       "      <th>item_price</th>\n",
       "    </tr>\n",
       "  </thead>\n",
       "  <tbody>\n",
       "    <tr>\n",
       "      <th>3598</th>\n",
       "      <td>1443</td>\n",
       "      <td>15</td>\n",
       "      <td>Chips and Fresh Tomato Salsa</td>\n",
       "      <td>NaN</td>\n",
       "      <td>44.25</td>\n",
       "    </tr>\n",
       "  </tbody>\n",
       "</table>\n",
       "</div>"
      ],
      "text/plain": [
       "      order_id  quantity                     item_name choice_description  \\\n",
       "3598      1443        15  Chips and Fresh Tomato Salsa                NaN   \n",
       "\n",
       "      item_price  \n",
       "3598       44.25  "
      ]
     },
     "execution_count": 109,
     "metadata": {},
     "output_type": "execute_result"
    }
   ],
   "source": [
    "chipo[chipo[\"item_price\"] == maximo]"
   ]
  },
  {
   "cell_type": "code",
   "execution_count": 110,
   "metadata": {},
   "outputs": [
    {
     "data": {
      "text/plain": [
       "item_name\n",
       "Chicken Bowl                             726\n",
       "Chicken Burrito                          553\n",
       "Chips and Guacamole                      479\n",
       "Steak Burrito                            368\n",
       "Canned Soft Drink                        301\n",
       "Chips                                    211\n",
       "Steak Bowl                               211\n",
       "Bottled Water                            162\n",
       "Chicken Soft Tacos                       115\n",
       "Chips and Fresh Tomato Salsa             110\n",
       "Chicken Salad Bowl                       110\n",
       "Canned Soda                              104\n",
       "Side of Chips                            101\n",
       "Veggie Burrito                            95\n",
       "Barbacoa Burrito                          91\n",
       "Veggie Bowl                               85\n",
       "Carnitas Bowl                             68\n",
       "Barbacoa Bowl                             66\n",
       "Carnitas Burrito                          59\n",
       "Steak Soft Tacos                          55\n",
       "6 Pack Soft Drink                         54\n",
       "Chips and Tomatillo Red Chili Salsa       48\n",
       "Chicken Crispy Tacos                      47\n",
       "Chips and Tomatillo Green Chili Salsa     43\n",
       "Carnitas Soft Tacos                       40\n",
       "Steak Crispy Tacos                        35\n",
       "Chips and Tomatillo-Green Chili Salsa     31\n",
       "Steak Salad Bowl                          29\n",
       "Nantucket Nectar                          27\n",
       "Barbacoa Soft Tacos                       25\n",
       "Chips and Roasted Chili Corn Salsa        22\n",
       "Izze                                      20\n",
       "Chips and Tomatillo-Red Chili Salsa       20\n",
       "Veggie Salad Bowl                         18\n",
       "Chips and Roasted Chili-Corn Salsa        18\n",
       "Barbacoa Crispy Tacos                     11\n",
       "Barbacoa Salad Bowl                       10\n",
       "Chicken Salad                              9\n",
       "Veggie Soft Tacos                          7\n",
       "Carnitas Crispy Tacos                      7\n",
       "Burrito                                    6\n",
       "Carnitas Salad Bowl                        6\n",
       "Veggie Salad                               6\n",
       "Steak Salad                                4\n",
       "Crispy Tacos                               2\n",
       "Bowl                                       2\n",
       "Salad                                      2\n",
       "Chips and Mild Fresh Tomato Salsa          1\n",
       "Veggie Crispy Tacos                        1\n",
       "Carnitas Salad                             1\n",
       "Name: count, dtype: int64"
      ]
     },
     "execution_count": 110,
     "metadata": {},
     "output_type": "execute_result"
    }
   ],
   "source": [
    "chipo[\"item_name\"].value_counts() # "
   ]
  },
  {
   "cell_type": "code",
   "execution_count": 111,
   "metadata": {},
   "outputs": [
    {
     "data": {
      "text/plain": [
       "array(['Chips and Fresh Tomato Salsa', 'Izze', 'Nantucket Nectar',\n",
       "       'Chips and Tomatillo-Green Chili Salsa', 'Chicken Bowl',\n",
       "       'Side of Chips', 'Steak Burrito', 'Steak Soft Tacos',\n",
       "       'Chips and Guacamole', 'Chicken Crispy Tacos',\n",
       "       'Chicken Soft Tacos', 'Chicken Burrito', 'Canned Soda',\n",
       "       'Barbacoa Burrito', 'Carnitas Burrito', 'Carnitas Bowl',\n",
       "       'Bottled Water', 'Chips and Tomatillo Green Chili Salsa',\n",
       "       'Barbacoa Bowl', 'Chips', 'Chicken Salad Bowl', 'Steak Bowl',\n",
       "       'Barbacoa Soft Tacos', 'Veggie Burrito', 'Veggie Bowl',\n",
       "       'Steak Crispy Tacos', 'Chips and Tomatillo Red Chili Salsa',\n",
       "       'Barbacoa Crispy Tacos', 'Veggie Salad Bowl',\n",
       "       'Chips and Roasted Chili-Corn Salsa',\n",
       "       'Chips and Roasted Chili Corn Salsa', 'Carnitas Soft Tacos',\n",
       "       'Chicken Salad', 'Canned Soft Drink', 'Steak Salad Bowl',\n",
       "       '6 Pack Soft Drink', 'Chips and Tomatillo-Red Chili Salsa', 'Bowl',\n",
       "       'Burrito', 'Crispy Tacos', 'Carnitas Crispy Tacos', 'Steak Salad',\n",
       "       'Chips and Mild Fresh Tomato Salsa', 'Veggie Soft Tacos',\n",
       "       'Carnitas Salad Bowl', 'Barbacoa Salad Bowl', 'Salad',\n",
       "       'Veggie Crispy Tacos', 'Veggie Salad', 'Carnitas Salad'],\n",
       "      dtype=object)"
      ]
     },
     "execution_count": 111,
     "metadata": {},
     "output_type": "execute_result"
    }
   ],
   "source": [
    "chipo[\"item_name\"].unique() # Todos los nombres de los productos que vende chipotle"
   ]
  },
  {
   "cell_type": "code",
   "execution_count": 112,
   "metadata": {},
   "outputs": [
    {
     "data": {
      "application/vnd.microsoft.datawrangler.viewer.v0+json": {
       "columns": [
        {
         "name": "index",
         "rawType": "int64",
         "type": "integer"
        },
        {
         "name": "order_id",
         "rawType": "int64",
         "type": "integer"
        },
        {
         "name": "quantity",
         "rawType": "int64",
         "type": "integer"
        },
        {
         "name": "item_name",
         "rawType": "object",
         "type": "string"
        },
        {
         "name": "choice_description",
         "rawType": "object",
         "type": "string"
        },
        {
         "name": "item_price",
         "rawType": "float64",
         "type": "float"
        }
       ],
       "conversionMethod": "pd.DataFrame",
       "ref": "f745f9b6-6e1d-45ef-90bd-3e3b26140baf",
       "rows": [
        [
         "16",
         "8",
         "1",
         "Chicken Burrito",
         "[Tomatillo-Green Chili Salsa (Medium), [Pinto Beans, Cheese, Sour Cream]]",
         "8.49"
        ],
        [
         "17",
         "9",
         "1",
         "Chicken Burrito",
         "[Fresh Tomato Salsa (Mild), [Black Beans, Rice, Cheese, Sour Cream, Lettuce]]",
         "8.49"
        ],
        [
         "23",
         "12",
         "1",
         "Chicken Burrito",
         "[[Tomatillo-Green Chili Salsa (Medium), Tomatillo-Red Chili Salsa (Hot)], [Pinto Beans, Rice, Cheese, Sour Cream, Guacamole, Lettuce]]",
         "10.98"
        ],
        [
         "29",
         "15",
         "1",
         "Chicken Burrito",
         "[Tomatillo-Green Chili Salsa (Medium), [Pinto Beans, Rice, Cheese, Sour Cream]]",
         "8.49"
        ],
        [
         "45",
         "21",
         "1",
         "Chicken Burrito",
         "[Tomatillo-Red Chili Salsa (Hot), [Black Beans, Fajita Veggies, Cheese, Sour Cream, Guacamole, Lettuce]]",
         "10.98"
        ],
        [
         "52",
         "24",
         "1",
         "Chicken Burrito",
         "[Roasted Chili Corn Salsa (Medium), [Black Beans, Rice, Fajita Veggies, Cheese, Sour Cream, Guacamole, Lettuce]]",
         "10.98"
        ],
        [
         "63",
         "28",
         "1",
         "Chicken Burrito",
         "[Fresh Tomato Salsa, [Rice, Black Beans, Cheese]]",
         "8.75"
        ],
        [
         "68",
         "30",
         "1",
         "Chicken Burrito",
         "[Tomatillo-Red Chili Salsa (Hot), [Black Beans, Fajita Veggies, Cheese, Sour Cream, Guacamole, Lettuce]]",
         "10.98"
        ],
        [
         "73",
         "33",
         "1",
         "Chicken Burrito",
         "[Tomatillo Red Chili Salsa, [Rice, Black Beans, Cheese, Sour Cream]]",
         "8.75"
        ],
        [
         "82",
         "36",
         "1",
         "Chicken Burrito",
         "[Fresh Tomato Salsa, [Rice, Black Beans, Cheese, Sour Cream, Lettuce]]",
         "8.75"
        ],
        [
         "83",
         "37",
         "1",
         "Chicken Burrito",
         "[Tomatillo Green Chili Salsa, [Rice, Black Beans, Sour Cream, Cheese]]",
         "8.75"
        ],
        [
         "98",
         "43",
         "1",
         "Chicken Burrito",
         "[Tomatillo Red Chili Salsa, [Rice, Black Beans, Cheese]]",
         "8.75"
        ],
        [
         "114",
         "50",
         "1",
         "Chicken Burrito",
         "[Tomatillo-Green Chili Salsa (Medium), [Pinto Beans, Rice, Cheese, Sour Cream]]",
         "8.49"
        ],
        [
         "116",
         "51",
         "1",
         "Chicken Burrito",
         "[[Tomatillo-Red Chili Salsa (Hot), Tomatillo-Green Chili Salsa (Medium)], [Rice, Pinto Beans, Cheese, Lettuce]]",
         "8.49"
        ],
        [
         "120",
         "53",
         "1",
         "Chicken Burrito",
         "[Tomatillo Red Chili Salsa, [Rice, Black Beans, Sour Cream, Cheese, Lettuce]]",
         "8.75"
        ],
        [
         "132",
         "58",
         "1",
         "Chicken Burrito",
         "[Tomatillo-Green Chili Salsa (Medium), [Pinto Beans, Rice, Cheese, Sour Cream]]",
         "8.49"
        ],
        [
         "134",
         "59",
         "1",
         "Chicken Burrito",
         "[Roasted Chili Corn Salsa (Medium), [Rice, Black Beans, Sour Cream, Guacamole]]",
         "10.98"
        ],
        [
         "150",
         "68",
         "2",
         "Chicken Burrito",
         "[Tomatillo Red Chili Salsa, [Rice, Black Beans, Sour Cream, Cheese, Lettuce]]",
         "17.5"
        ],
        [
         "152",
         "69",
         "1",
         "Chicken Burrito",
         "[Tomatillo-Green Chili Salsa (Medium), [Pinto Beans, Rice, Cheese, Sour Cream]]",
         "8.49"
        ],
        [
         "159",
         "72",
         "1",
         "Chicken Burrito",
         "[[Roasted Chili Corn Salsa (Medium), Tomatillo-Red Chili Salsa (Hot)], [Black Beans, Rice, Fajita Veggies, Cheese, Sour Cream, Guacamole, Lettuce]]",
         "10.98"
        ],
        [
         "161",
         "73",
         "1",
         "Chicken Burrito",
         "[[Roasted Chili Corn Salsa (Medium), Tomatillo-Red Chili Salsa (Hot)], [Black Beans, Rice, Fajita Veggies, Cheese, Guacamole, Lettuce]]",
         "10.98"
        ],
        [
         "167",
         "75",
         "1",
         "Chicken Burrito",
         "[Tomatillo Red Chili Salsa, [Rice, Black Beans, Cheese, Guacamole, Lettuce]]",
         "11.25"
        ],
        [
         "169",
         "75",
         "1",
         "Chicken Burrito",
         "[Tomatillo Red Chili Salsa, [Rice, Cheese, Sour Cream]]",
         "8.75"
        ],
        [
         "170",
         "76",
         "1",
         "Chicken Burrito",
         "[[Tomatillo-Red Chili Salsa (Hot), Fresh Tomato Salsa (Mild)], [Rice, Black Beans, Cheese, Lettuce]]",
         "8.49"
        ],
        [
         "172",
         "77",
         "1",
         "Chicken Burrito",
         "[Tomatillo-Red Chili Salsa (Hot), [Black Beans, Rice, Cheese, Sour Cream, Lettuce]]",
         "8.49"
        ],
        [
         "174",
         "78",
         "1",
         "Chicken Burrito",
         "[Tomatillo-Green Chili Salsa (Medium), Lettuce]",
         "8.49"
        ],
        [
         "178",
         "81",
         "1",
         "Chicken Burrito",
         "[Tomatillo-Green Chili Salsa (Medium), [Rice, Fajita Veggies, Cheese, Sour Cream]]",
         "8.49"
        ],
        [
         "188",
         "84",
         "1",
         "Chicken Burrito",
         "[Roasted Chili Corn Salsa (Medium), [Rice, Cheese, Sour Cream, Lettuce]]",
         "8.49"
        ],
        [
         "189",
         "84",
         "1",
         "Chicken Burrito",
         "[Roasted Chili Corn Salsa (Medium), [Rice, Cheese, Lettuce]]",
         "8.49"
        ],
        [
         "197",
         "88",
         "1",
         "Chicken Burrito",
         "[Tomatillo-Green Chili Salsa (Medium), [Pinto Beans, Rice, Cheese, Sour Cream]]",
         "8.49"
        ],
        [
         "202",
         "90",
         "1",
         "Chicken Burrito",
         "[Tomatillo Red Chili Salsa, [Rice, Black Beans, Sour Cream, Cheese, Lettuce, Guacamole]]",
         "11.25"
        ],
        [
         "203",
         "90",
         "1",
         "Chicken Burrito",
         "[Tomatillo Green Chili Salsa, [Rice, Pinto Beans, Sour Cream, Cheese, Lettuce]]",
         "8.75"
        ],
        [
         "204",
         "91",
         "1",
         "Chicken Burrito",
         "[Tomatillo-Red Chili Salsa (Hot), [Black Beans, Rice, Cheese, Sour Cream, Lettuce]]",
         "8.49"
        ],
        [
         "216",
         "96",
         "1",
         "Chicken Burrito",
         "[Tomatillo Red Chili Salsa, [Rice, Black Beans, Cheese, Sour Cream]]",
         "8.75"
        ],
        [
         "241",
         "105",
         "2",
         "Chicken Burrito",
         "[Tomatillo Red Chili Salsa, [Rice, Black Beans, Cheese, Sour Cream, Lettuce]]",
         "17.5"
        ],
        [
         "242",
         "106",
         "1",
         "Chicken Burrito",
         "[Fresh Tomato Salsa, [Rice, Pinto Beans, Cheese, Sour Cream]]",
         "8.75"
        ],
        [
         "244",
         "107",
         "1",
         "Chicken Burrito",
         "[Roasted Chili Corn Salsa (Medium), [Rice, Fajita Veggies, Cheese, Sour Cream, Guacamole, Lettuce]]",
         "10.98"
        ],
        [
         "270",
         "118",
         "1",
         "Chicken Burrito",
         "[Tomatillo-Green Chili Salsa (Medium), [Pinto Beans, Rice, Cheese, Sour Cream]]",
         "8.49"
        ],
        [
         "272",
         "119",
         "1",
         "Chicken Burrito",
         "[[Fresh Tomato Salsa (Mild), Roasted Chili Corn Salsa (Medium)], [Pinto Beans, Rice, Fajita Veggies, Cheese, Sour Cream, Lettuce]]",
         "8.49"
        ],
        [
         "273",
         "119",
         "1",
         "Chicken Burrito",
         "[Roasted Chili Corn Salsa (Medium), [Black Beans, Rice, Cheese, Sour Cream, Lettuce]]",
         "8.49"
        ],
        [
         "274",
         "120",
         "1",
         "Chicken Burrito",
         "[Tomatillo-Red Chili Salsa (Hot), [Black Beans, Rice, Cheese]]",
         "8.49"
        ],
        [
         "276",
         "121",
         "1",
         "Chicken Burrito",
         "[Fresh Tomato Salsa (Mild), [Black Beans, Rice, Cheese, Sour Cream]]",
         "8.49"
        ],
        [
         "289",
         "126",
         "1",
         "Chicken Burrito",
         "[Fresh Tomato Salsa, [Rice, Cheese, Sour Cream]]",
         "8.75"
        ],
        [
         "308",
         "134",
         "1",
         "Chicken Burrito",
         "[Tomatillo Red Chili Salsa, [Rice, Black Beans, Cheese, Lettuce]]",
         "8.75"
        ],
        [
         "309",
         "134",
         "1",
         "Chicken Burrito",
         "[Tomatillo Red Chili Salsa, [Rice, Black Beans, Cheese, Sour Cream, Guacamole, Lettuce]]",
         "11.25"
        ],
        [
         "316",
         "138",
         "1",
         "Chicken Burrito",
         "[Roasted Chili Corn Salsa (Medium), [Rice, Fajita Veggies, Cheese]]",
         "8.49"
        ],
        [
         "323",
         "141",
         "1",
         "Chicken Burrito",
         "[Roasted Chili Corn Salsa (Medium), [Pinto Beans, Black Beans, Rice, Fajita Veggies, Cheese, Sour Cream, Lettuce]]",
         "8.49"
        ],
        [
         "330",
         "144",
         "1",
         "Chicken Burrito",
         "[Fresh Tomato Salsa, [Rice, Black Beans, Cheese, Sour Cream, Guacamole, Lettuce]]",
         "11.25"
        ],
        [
         "338",
         "148",
         "1",
         "Chicken Burrito",
         "[Tomatillo Red Chili Salsa, [Rice, Black Beans, Sour Cream, Cheese, Lettuce, Guacamole]]",
         "11.25"
        ],
        [
         "339",
         "148",
         "1",
         "Chicken Burrito",
         "[Tomatillo Green Chili Salsa, [Rice, Pinto Beans, Sour Cream, Cheese, Lettuce]]",
         "8.75"
        ]
       ],
       "shape": {
        "columns": 5,
        "rows": 553
       }
      },
      "text/html": [
       "<div>\n",
       "<style scoped>\n",
       "    .dataframe tbody tr th:only-of-type {\n",
       "        vertical-align: middle;\n",
       "    }\n",
       "\n",
       "    .dataframe tbody tr th {\n",
       "        vertical-align: top;\n",
       "    }\n",
       "\n",
       "    .dataframe thead th {\n",
       "        text-align: right;\n",
       "    }\n",
       "</style>\n",
       "<table border=\"1\" class=\"dataframe\">\n",
       "  <thead>\n",
       "    <tr style=\"text-align: right;\">\n",
       "      <th></th>\n",
       "      <th>order_id</th>\n",
       "      <th>quantity</th>\n",
       "      <th>item_name</th>\n",
       "      <th>choice_description</th>\n",
       "      <th>item_price</th>\n",
       "    </tr>\n",
       "  </thead>\n",
       "  <tbody>\n",
       "    <tr>\n",
       "      <th>16</th>\n",
       "      <td>8</td>\n",
       "      <td>1</td>\n",
       "      <td>Chicken Burrito</td>\n",
       "      <td>[Tomatillo-Green Chili Salsa (Medium), [Pinto ...</td>\n",
       "      <td>8.49</td>\n",
       "    </tr>\n",
       "    <tr>\n",
       "      <th>17</th>\n",
       "      <td>9</td>\n",
       "      <td>1</td>\n",
       "      <td>Chicken Burrito</td>\n",
       "      <td>[Fresh Tomato Salsa (Mild), [Black Beans, Rice...</td>\n",
       "      <td>8.49</td>\n",
       "    </tr>\n",
       "    <tr>\n",
       "      <th>23</th>\n",
       "      <td>12</td>\n",
       "      <td>1</td>\n",
       "      <td>Chicken Burrito</td>\n",
       "      <td>[[Tomatillo-Green Chili Salsa (Medium), Tomati...</td>\n",
       "      <td>10.98</td>\n",
       "    </tr>\n",
       "    <tr>\n",
       "      <th>29</th>\n",
       "      <td>15</td>\n",
       "      <td>1</td>\n",
       "      <td>Chicken Burrito</td>\n",
       "      <td>[Tomatillo-Green Chili Salsa (Medium), [Pinto ...</td>\n",
       "      <td>8.49</td>\n",
       "    </tr>\n",
       "    <tr>\n",
       "      <th>45</th>\n",
       "      <td>21</td>\n",
       "      <td>1</td>\n",
       "      <td>Chicken Burrito</td>\n",
       "      <td>[Tomatillo-Red Chili Salsa (Hot), [Black Beans...</td>\n",
       "      <td>10.98</td>\n",
       "    </tr>\n",
       "    <tr>\n",
       "      <th>...</th>\n",
       "      <td>...</td>\n",
       "      <td>...</td>\n",
       "      <td>...</td>\n",
       "      <td>...</td>\n",
       "      <td>...</td>\n",
       "    </tr>\n",
       "    <tr>\n",
       "      <th>4556</th>\n",
       "      <td>1811</td>\n",
       "      <td>1</td>\n",
       "      <td>Chicken Burrito</td>\n",
       "      <td>[Tomatillo Green Chili Salsa, [Fajita Vegetabl...</td>\n",
       "      <td>11.25</td>\n",
       "    </tr>\n",
       "    <tr>\n",
       "      <th>4558</th>\n",
       "      <td>1812</td>\n",
       "      <td>1</td>\n",
       "      <td>Chicken Burrito</td>\n",
       "      <td>[Fresh Tomato Salsa, [Rice, Black Beans, Chees...</td>\n",
       "      <td>8.75</td>\n",
       "    </tr>\n",
       "    <tr>\n",
       "      <th>4559</th>\n",
       "      <td>1812</td>\n",
       "      <td>1</td>\n",
       "      <td>Chicken Burrito</td>\n",
       "      <td>[Tomatillo Red Chili Salsa, [Rice, Cheese, Gua...</td>\n",
       "      <td>11.25</td>\n",
       "    </tr>\n",
       "    <tr>\n",
       "      <th>4566</th>\n",
       "      <td>1816</td>\n",
       "      <td>1</td>\n",
       "      <td>Chicken Burrito</td>\n",
       "      <td>[Roasted Chili Corn Salsa, [Pinto Beans, Chees...</td>\n",
       "      <td>8.75</td>\n",
       "    </tr>\n",
       "    <tr>\n",
       "      <th>4569</th>\n",
       "      <td>1817</td>\n",
       "      <td>1</td>\n",
       "      <td>Chicken Burrito</td>\n",
       "      <td>[Fresh Tomato Salsa, [Fajita Vegetables, Rice]]</td>\n",
       "      <td>8.75</td>\n",
       "    </tr>\n",
       "  </tbody>\n",
       "</table>\n",
       "<p>553 rows × 5 columns</p>\n",
       "</div>"
      ],
      "text/plain": [
       "      order_id  quantity        item_name  \\\n",
       "16           8         1  Chicken Burrito   \n",
       "17           9         1  Chicken Burrito   \n",
       "23          12         1  Chicken Burrito   \n",
       "29          15         1  Chicken Burrito   \n",
       "45          21         1  Chicken Burrito   \n",
       "...        ...       ...              ...   \n",
       "4556      1811         1  Chicken Burrito   \n",
       "4558      1812         1  Chicken Burrito   \n",
       "4559      1812         1  Chicken Burrito   \n",
       "4566      1816         1  Chicken Burrito   \n",
       "4569      1817         1  Chicken Burrito   \n",
       "\n",
       "                                     choice_description  item_price  \n",
       "16    [Tomatillo-Green Chili Salsa (Medium), [Pinto ...        8.49  \n",
       "17    [Fresh Tomato Salsa (Mild), [Black Beans, Rice...        8.49  \n",
       "23    [[Tomatillo-Green Chili Salsa (Medium), Tomati...       10.98  \n",
       "29    [Tomatillo-Green Chili Salsa (Medium), [Pinto ...        8.49  \n",
       "45    [Tomatillo-Red Chili Salsa (Hot), [Black Beans...       10.98  \n",
       "...                                                 ...         ...  \n",
       "4556  [Tomatillo Green Chili Salsa, [Fajita Vegetabl...       11.25  \n",
       "4558  [Fresh Tomato Salsa, [Rice, Black Beans, Chees...        8.75  \n",
       "4559  [Tomatillo Red Chili Salsa, [Rice, Cheese, Gua...       11.25  \n",
       "4566  [Roasted Chili Corn Salsa, [Pinto Beans, Chees...        8.75  \n",
       "4569    [Fresh Tomato Salsa, [Fajita Vegetables, Rice]]        8.75  \n",
       "\n",
       "[553 rows x 5 columns]"
      ]
     },
     "execution_count": 112,
     "metadata": {},
     "output_type": "execute_result"
    }
   ],
   "source": [
    "chipo[chipo[\"item_name\"]==\"Chicken Burrito\"]"
   ]
  },
  {
   "attachments": {},
   "cell_type": "markdown",
   "metadata": {},
   "source": [
    "### Step 4. How many products cost more than $10.00?"
   ]
  },
  {
   "cell_type": "code",
   "execution_count": 113,
   "metadata": {},
   "outputs": [
    {
     "data": {
      "application/vnd.microsoft.datawrangler.viewer.v0+json": {
       "columns": [
        {
         "name": "index",
         "rawType": "int64",
         "type": "integer"
        },
        {
         "name": "order_id",
         "rawType": "int64",
         "type": "integer"
        },
        {
         "name": "quantity",
         "rawType": "int64",
         "type": "integer"
        },
        {
         "name": "item_name",
         "rawType": "object",
         "type": "string"
        },
        {
         "name": "choice_description",
         "rawType": "object",
         "type": "unknown"
        },
        {
         "name": "item_price",
         "rawType": "float64",
         "type": "float"
        }
       ],
       "conversionMethod": "pd.DataFrame",
       "ref": "e285587c-b86a-4128-9a74-3e7cbd58f94a",
       "rows": [
        [
         "4",
         "2",
         "2",
         "Chicken Bowl",
         "[Tomatillo-Red Chili Salsa (Hot), [Black Beans, Rice, Cheese, Sour Cream]]",
         "16.98"
        ],
        [
         "5",
         "3",
         "1",
         "Chicken Bowl",
         "[Fresh Tomato Salsa (Mild), [Rice, Cheese, Sour Cream, Guacamole, Lettuce]]",
         "10.98"
        ],
        [
         "7",
         "4",
         "1",
         "Steak Burrito",
         "[Tomatillo Red Chili Salsa, [Fajita Vegetables, Black Beans, Pinto Beans, Cheese, Sour Cream, Guacamole, Lettuce]]",
         "11.75"
        ],
        [
         "13",
         "7",
         "1",
         "Chicken Bowl",
         "[Fresh Tomato Salsa, [Fajita Vegetables, Rice, Cheese, Sour Cream, Guacamole]]",
         "11.25"
        ],
        [
         "23",
         "12",
         "1",
         "Chicken Burrito",
         "[[Tomatillo-Green Chili Salsa (Medium), Tomatillo-Red Chili Salsa (Hot)], [Pinto Beans, Rice, Cheese, Sour Cream, Guacamole, Lettuce]]",
         "10.98"
        ],
        [
         "39",
         "19",
         "1",
         "Barbacoa Bowl",
         "[Roasted Chili Corn Salsa, [Fajita Vegetables, Rice, Black Beans, Cheese, Sour Cream, Guacamole, Lettuce]]",
         "11.75"
        ],
        [
         "42",
         "20",
         "1",
         "Chicken Bowl",
         "[Roasted Chili Corn Salsa, [Rice, Black Beans, Cheese, Sour Cream, Guacamole, Lettuce]]",
         "11.25"
        ],
        [
         "43",
         "20",
         "1",
         "Steak Burrito",
         "[Fresh Tomato Salsa, [Rice, Pinto Beans, Cheese, Sour Cream, Guacamole, Lettuce]]",
         "11.75"
        ],
        [
         "45",
         "21",
         "1",
         "Chicken Burrito",
         "[Tomatillo-Red Chili Salsa (Hot), [Black Beans, Fajita Veggies, Cheese, Sour Cream, Guacamole, Lettuce]]",
         "10.98"
        ],
        [
         "52",
         "24",
         "1",
         "Chicken Burrito",
         "[Roasted Chili Corn Salsa (Medium), [Black Beans, Rice, Fajita Veggies, Cheese, Sour Cream, Guacamole, Lettuce]]",
         "10.98"
        ],
        [
         "57",
         "26",
         "1",
         "Veggie Burrito",
         "[Tomatillo Red Chili Salsa, [Fajita Vegetables, Rice, Black Beans, Cheese, Sour Cream, Guacamole, Lettuce]]",
         "11.25"
        ],
        [
         "58",
         "27",
         "1",
         "Barbacoa Bowl",
         "[Roasted Chili Corn Salsa, [Fajita Vegetables, Rice, Black Beans, Cheese, Sour Cream, Guacamole, Lettuce]]",
         "11.75"
        ],
        [
         "62",
         "28",
         "1",
         "Veggie Bowl",
         "[Fresh Tomato Salsa, [Fajita Vegetables, Rice, Black Beans, Cheese, Sour Cream, Guacamole, Lettuce]]",
         "11.25"
        ],
        [
         "68",
         "30",
         "1",
         "Chicken Burrito",
         "[Tomatillo-Red Chili Salsa (Hot), [Black Beans, Fajita Veggies, Cheese, Sour Cream, Guacamole, Lettuce]]",
         "10.98"
        ],
        [
         "79",
         "35",
         "1",
         "Chicken Soft Tacos",
         "[Roasted Chili Corn Salsa, [Rice, Cheese, Lettuce, Guacamole]]",
         "11.25"
        ],
        [
         "90",
         "40",
         "1",
         "Steak Bowl",
         "[Fresh Tomato Salsa, [Rice, Black Beans, Cheese, Sour Cream, Guacamole]]",
         "11.75"
        ],
        [
         "91",
         "40",
         "1",
         "Steak Bowl",
         "[Fresh Tomato Salsa, [Fajita Vegetables, Cheese, Sour Cream, Guacamole]]",
         "11.75"
        ],
        [
         "93",
         "41",
         "1",
         "Carnitas Burrito",
         "[Roasted Chili Corn Salsa, [Sour Cream, Guacamole]]",
         "11.75"
        ],
        [
         "97",
         "43",
         "1",
         "Carnitas Bowl",
         "[Fresh Tomato Salsa, [Fajita Vegetables, Rice, Black Beans, Cheese, Guacamole, Lettuce]]",
         "11.75"
        ],
        [
         "123",
         "54",
         "1",
         "Chicken Bowl",
         "[Fresh Tomato Salsa, [Guacamole, Cheese, Sour Cream, Fajita Vegetables, Rice]]",
         "11.25"
        ],
        [
         "130",
         "57",
         "1",
         "Barbacoa Burrito",
         "[Roasted Chili Corn Salsa, [Rice, Pinto Beans, Cheese, Guacamole, Lettuce]]",
         "11.75"
        ],
        [
         "134",
         "59",
         "1",
         "Chicken Burrito",
         "[Roasted Chili Corn Salsa (Medium), [Rice, Black Beans, Sour Cream, Guacamole]]",
         "10.98"
        ],
        [
         "135",
         "60",
         "2",
         "Chicken Salad Bowl",
         "[Tomatillo Green Chili Salsa, [Sour Cream, Cheese, Guacamole]]",
         "22.5"
        ],
        [
         "136",
         "61",
         "1",
         "Barbacoa Bowl",
         "[Tomatillo Red Chili Salsa, [Fajita Vegetables, Rice, Black Beans, Cheese, Sour Cream, Guacamole, Lettuce]]",
         "11.75"
        ],
        [
         "138",
         "62",
         "1",
         "Chicken Bowl",
         "[Fresh Tomato Salsa, [Rice, Fajita Vegetables, Sour Cream, Cheese, Guacamole]]",
         "11.25"
        ],
        [
         "140",
         "63",
         "1",
         "Chicken Bowl",
         "[Tomatillo Green Chili Salsa, [Rice, Sour Cream, Cheese, Guacamole]]",
         "11.25"
        ],
        [
         "142",
         "64",
         "1",
         "Chicken Bowl",
         "[Fresh Tomato Salsa, [Fajita Vegetables, Rice, Black Beans, Cheese, Guacamole, Lettuce]]",
         "11.25"
        ],
        [
         "143",
         "64",
         "1",
         "Veggie Bowl",
         "[Tomatillo Red Chili Salsa, [Fajita Vegetables, Black Beans, Cheese, Guacamole, Lettuce]]",
         "11.25"
        ],
        [
         "144",
         "65",
         "1",
         "Barbacoa Burrito",
         "[Tomatillo Red Chili Salsa, [Rice, Sour Cream, Cheese, Guacamole]]",
         "11.75"
        ],
        [
         "147",
         "66",
         "1",
         "Steak Burrito",
         "[Tomatillo-Green Chili Salsa (Medium), [Rice, Black Beans, Sour Cream, Guacamole]]",
         "11.48"
        ],
        [
         "148",
         "67",
         "2",
         "Steak Burrito",
         "[Tomatillo-Red Chili Salsa (Hot), [Rice, Cheese, Sour Cream, Lettuce]]",
         "17.98"
        ],
        [
         "150",
         "68",
         "2",
         "Chicken Burrito",
         "[Tomatillo Red Chili Salsa, [Rice, Black Beans, Sour Cream, Cheese, Lettuce]]",
         "17.5"
        ],
        [
         "154",
         "70",
         "2",
         "Chicken Bowl",
         "[Fresh Tomato Salsa, [Fajita Vegetables, Rice, Lettuce]]",
         "17.5"
        ],
        [
         "157",
         "71",
         "1",
         "Veggie Bowl",
         "[Tomatillo Red Chili Salsa, [Fajita Vegetables, Rice, Black Beans, Cheese, Guacamole, Lettuce]]",
         "11.25"
        ],
        [
         "158",
         "71",
         "1",
         "Steak Burrito",
         "[Tomatillo Green Chili Salsa, [Rice, Cheese, Guacamole, Lettuce]]",
         "11.75"
        ],
        [
         "159",
         "72",
         "1",
         "Chicken Burrito",
         "[[Roasted Chili Corn Salsa (Medium), Tomatillo-Red Chili Salsa (Hot)], [Black Beans, Rice, Fajita Veggies, Cheese, Sour Cream, Guacamole, Lettuce]]",
         "10.98"
        ],
        [
         "161",
         "73",
         "1",
         "Chicken Burrito",
         "[[Roasted Chili Corn Salsa (Medium), Tomatillo-Red Chili Salsa (Hot)], [Black Beans, Rice, Fajita Veggies, Cheese, Guacamole, Lettuce]]",
         "10.98"
        ],
        [
         "163",
         "74",
         "1",
         "Carnitas Bowl",
         "[Roasted Chili Corn Salsa (Medium), [Pinto Beans, Rice, Fajita Veggies, Cheese, Sour Cream, Guacamole, Lettuce]]",
         "11.48"
        ],
        [
         "167",
         "75",
         "1",
         "Chicken Burrito",
         "[Tomatillo Red Chili Salsa, [Rice, Black Beans, Cheese, Guacamole, Lettuce]]",
         "11.25"
        ],
        [
         "168",
         "75",
         "1",
         "Barbacoa Crispy Tacos",
         "[Tomatillo Red Chili Salsa, [Rice, Black Beans, Cheese, Sour Cream, Guacamole]]",
         "11.75"
        ],
        [
         "176",
         "79",
         "1",
         "Chicken Bowl",
         "[Roasted Chili Corn Salsa (Medium), [Black Beans, Rice, Fajita Veggies, Cheese, Sour Cream, Guacamole, Lettuce]]",
         "10.98"
        ],
        [
         "177",
         "80",
         "1",
         "Steak Burrito",
         "[Fresh Tomato Salsa (Mild), [Rice, Black Beans, Sour Cream, Guacamole]]",
         "11.48"
        ],
        [
         "186",
         "83",
         "1",
         "Veggie Salad Bowl",
         "[Fresh Tomato Salsa, [Fajita Vegetables, Rice, Black Beans, Cheese, Sour Cream, Guacamole, Lettuce]]",
         "11.25"
        ],
        [
         "187",
         "84",
         "1",
         "Steak Bowl",
         "[Fresh Tomato Salsa (Mild), [Rice, Fajita Veggies, Guacamole, Lettuce]]",
         "11.48"
        ],
        [
         "192",
         "86",
         "1",
         "Veggie Bowl",
         "[Roasted Chili Corn Salsa, [Fajita Vegetables, Rice, Cheese, Sour Cream, Guacamole, Lettuce]]",
         "11.25"
        ],
        [
         "199",
         "89",
         "1",
         "Chicken Bowl",
         "[[Roasted Chili Corn Salsa (Medium), Tomatillo-Red Chili Salsa (Hot)], [Black Beans, Rice, Fajita Veggies, Guacamole, Lettuce]]",
         "10.98"
        ],
        [
         "202",
         "90",
         "1",
         "Chicken Burrito",
         "[Tomatillo Red Chili Salsa, [Rice, Black Beans, Sour Cream, Cheese, Lettuce, Guacamole]]",
         "11.25"
        ],
        [
         "209",
         "93",
         "1",
         "Chicken Bowl",
         "[Roasted Chili Corn Salsa, [Fajita Vegetables, Rice, Black Beans, Cheese, Sour Cream, Guacamole, Lettuce]]",
         "11.25"
        ],
        [
         "210",
         "93",
         "1",
         "Veggie Bowl",
         "[Roasted Chili Corn Salsa, [Rice, Black Beans, Cheese, Sour Cream, Guacamole, Lettuce]]",
         "11.25"
        ],
        [
         "211",
         "93",
         "1",
         "Chicken Bowl",
         "[Roasted Chili Corn Salsa, [Fajita Vegetables, Rice, Black Beans, Pinto Beans, Cheese, Sour Cream, Guacamole, Lettuce]]",
         "11.25"
        ]
       ],
       "shape": {
        "columns": 5,
        "rows": 1130
       }
      },
      "text/html": [
       "<div>\n",
       "<style scoped>\n",
       "    .dataframe tbody tr th:only-of-type {\n",
       "        vertical-align: middle;\n",
       "    }\n",
       "\n",
       "    .dataframe tbody tr th {\n",
       "        vertical-align: top;\n",
       "    }\n",
       "\n",
       "    .dataframe thead th {\n",
       "        text-align: right;\n",
       "    }\n",
       "</style>\n",
       "<table border=\"1\" class=\"dataframe\">\n",
       "  <thead>\n",
       "    <tr style=\"text-align: right;\">\n",
       "      <th></th>\n",
       "      <th>order_id</th>\n",
       "      <th>quantity</th>\n",
       "      <th>item_name</th>\n",
       "      <th>choice_description</th>\n",
       "      <th>item_price</th>\n",
       "    </tr>\n",
       "  </thead>\n",
       "  <tbody>\n",
       "    <tr>\n",
       "      <th>4</th>\n",
       "      <td>2</td>\n",
       "      <td>2</td>\n",
       "      <td>Chicken Bowl</td>\n",
       "      <td>[Tomatillo-Red Chili Salsa (Hot), [Black Beans...</td>\n",
       "      <td>16.98</td>\n",
       "    </tr>\n",
       "    <tr>\n",
       "      <th>5</th>\n",
       "      <td>3</td>\n",
       "      <td>1</td>\n",
       "      <td>Chicken Bowl</td>\n",
       "      <td>[Fresh Tomato Salsa (Mild), [Rice, Cheese, Sou...</td>\n",
       "      <td>10.98</td>\n",
       "    </tr>\n",
       "    <tr>\n",
       "      <th>7</th>\n",
       "      <td>4</td>\n",
       "      <td>1</td>\n",
       "      <td>Steak Burrito</td>\n",
       "      <td>[Tomatillo Red Chili Salsa, [Fajita Vegetables...</td>\n",
       "      <td>11.75</td>\n",
       "    </tr>\n",
       "    <tr>\n",
       "      <th>13</th>\n",
       "      <td>7</td>\n",
       "      <td>1</td>\n",
       "      <td>Chicken Bowl</td>\n",
       "      <td>[Fresh Tomato Salsa, [Fajita Vegetables, Rice,...</td>\n",
       "      <td>11.25</td>\n",
       "    </tr>\n",
       "    <tr>\n",
       "      <th>23</th>\n",
       "      <td>12</td>\n",
       "      <td>1</td>\n",
       "      <td>Chicken Burrito</td>\n",
       "      <td>[[Tomatillo-Green Chili Salsa (Medium), Tomati...</td>\n",
       "      <td>10.98</td>\n",
       "    </tr>\n",
       "    <tr>\n",
       "      <th>...</th>\n",
       "      <td>...</td>\n",
       "      <td>...</td>\n",
       "      <td>...</td>\n",
       "      <td>...</td>\n",
       "      <td>...</td>\n",
       "    </tr>\n",
       "    <tr>\n",
       "      <th>4610</th>\n",
       "      <td>1830</td>\n",
       "      <td>1</td>\n",
       "      <td>Steak Burrito</td>\n",
       "      <td>[Fresh Tomato Salsa, [Rice, Sour Cream, Cheese...</td>\n",
       "      <td>11.75</td>\n",
       "    </tr>\n",
       "    <tr>\n",
       "      <th>4611</th>\n",
       "      <td>1830</td>\n",
       "      <td>1</td>\n",
       "      <td>Veggie Burrito</td>\n",
       "      <td>[Tomatillo Green Chili Salsa, [Rice, Fajita Ve...</td>\n",
       "      <td>11.25</td>\n",
       "    </tr>\n",
       "    <tr>\n",
       "      <th>4617</th>\n",
       "      <td>1833</td>\n",
       "      <td>1</td>\n",
       "      <td>Steak Burrito</td>\n",
       "      <td>[Fresh Tomato Salsa, [Rice, Black Beans, Sour ...</td>\n",
       "      <td>11.75</td>\n",
       "    </tr>\n",
       "    <tr>\n",
       "      <th>4618</th>\n",
       "      <td>1833</td>\n",
       "      <td>1</td>\n",
       "      <td>Steak Burrito</td>\n",
       "      <td>[Fresh Tomato Salsa, [Rice, Sour Cream, Cheese...</td>\n",
       "      <td>11.75</td>\n",
       "    </tr>\n",
       "    <tr>\n",
       "      <th>4619</th>\n",
       "      <td>1834</td>\n",
       "      <td>1</td>\n",
       "      <td>Chicken Salad Bowl</td>\n",
       "      <td>[Fresh Tomato Salsa, [Fajita Vegetables, Pinto...</td>\n",
       "      <td>11.25</td>\n",
       "    </tr>\n",
       "  </tbody>\n",
       "</table>\n",
       "<p>1130 rows × 5 columns</p>\n",
       "</div>"
      ],
      "text/plain": [
       "      order_id  quantity           item_name  \\\n",
       "4            2         2        Chicken Bowl   \n",
       "5            3         1        Chicken Bowl   \n",
       "7            4         1       Steak Burrito   \n",
       "13           7         1        Chicken Bowl   \n",
       "23          12         1     Chicken Burrito   \n",
       "...        ...       ...                 ...   \n",
       "4610      1830         1       Steak Burrito   \n",
       "4611      1830         1      Veggie Burrito   \n",
       "4617      1833         1       Steak Burrito   \n",
       "4618      1833         1       Steak Burrito   \n",
       "4619      1834         1  Chicken Salad Bowl   \n",
       "\n",
       "                                     choice_description  item_price  \n",
       "4     [Tomatillo-Red Chili Salsa (Hot), [Black Beans...       16.98  \n",
       "5     [Fresh Tomato Salsa (Mild), [Rice, Cheese, Sou...       10.98  \n",
       "7     [Tomatillo Red Chili Salsa, [Fajita Vegetables...       11.75  \n",
       "13    [Fresh Tomato Salsa, [Fajita Vegetables, Rice,...       11.25  \n",
       "23    [[Tomatillo-Green Chili Salsa (Medium), Tomati...       10.98  \n",
       "...                                                 ...         ...  \n",
       "4610  [Fresh Tomato Salsa, [Rice, Sour Cream, Cheese...       11.75  \n",
       "4611  [Tomatillo Green Chili Salsa, [Rice, Fajita Ve...       11.25  \n",
       "4617  [Fresh Tomato Salsa, [Rice, Black Beans, Sour ...       11.75  \n",
       "4618  [Fresh Tomato Salsa, [Rice, Sour Cream, Cheese...       11.75  \n",
       "4619  [Fresh Tomato Salsa, [Fajita Vegetables, Pinto...       11.25  \n",
       "\n",
       "[1130 rows x 5 columns]"
      ]
     },
     "execution_count": 113,
     "metadata": {},
     "output_type": "execute_result"
    }
   ],
   "source": [
    "chipo[chipo[\"item_price\"]>10]"
   ]
  },
  {
   "cell_type": "code",
   "execution_count": 114,
   "metadata": {},
   "outputs": [
    {
     "name": "stdout",
     "output_type": "stream",
     "text": [
      "1130\n"
     ]
    }
   ],
   "source": [
    "Veces_ = chipo[chipo[\"item_price\"]>10][\"item_price\"]\n",
    "print(len(Veces_))"
   ]
  },
  {
   "cell_type": "code",
   "execution_count": 115,
   "metadata": {},
   "outputs": [],
   "source": [
    "#chipo[\"total_price\"]=chipo[]"
   ]
  },
  {
   "cell_type": "code",
   "execution_count": 116,
   "metadata": {},
   "outputs": [
    {
     "data": {
      "text/plain": [
       "np.float64(14003.54)"
      ]
     },
     "execution_count": 116,
     "metadata": {},
     "output_type": "execute_result"
    }
   ],
   "source": [
    "chipo[chipo[\"item_price\"]>10][\"item_price\"].sum()"
   ]
  },
  {
   "attachments": {},
   "cell_type": "markdown",
   "metadata": {},
   "source": [
    "### Step 4.1: Y cuántos pedidos se han hecho con un producto de más de 10$? Es lo mismo?"
   ]
  },
  {
   "cell_type": "code",
   "execution_count": 117,
   "metadata": {},
   "outputs": [
    {
     "data": {
      "text/plain": [
       "1130"
      ]
     },
     "execution_count": 117,
     "metadata": {},
     "output_type": "execute_result"
    }
   ],
   "source": [
    "#Total_item_pric\n",
    "#chipo[\"Total_prices\"] = chipo[\"item_price\"] * chipo[\"quantity\"]\n",
    "# chipo[chipo[\"quantity\"] >= 1 & chipo[\"item_price\"]>=10]\n",
    "filtracion = chipo[chipo[\"item_price\"] >= 10]\n",
    "len(filtracion)"
   ]
  },
  {
   "cell_type": "code",
   "execution_count": 118,
   "metadata": {},
   "outputs": [
    {
     "name": "stdout",
     "output_type": "stream",
     "text": [
      "      order_id  quantity           item_name  \\\n",
      "4            2         2        Chicken Bowl   \n",
      "5            3         1        Chicken Bowl   \n",
      "7            4         1       Steak Burrito   \n",
      "13           7         1        Chicken Bowl   \n",
      "23          12         1     Chicken Burrito   \n",
      "...        ...       ...                 ...   \n",
      "4610      1830         1       Steak Burrito   \n",
      "4611      1830         1      Veggie Burrito   \n",
      "4617      1833         1       Steak Burrito   \n",
      "4618      1833         1       Steak Burrito   \n",
      "4619      1834         1  Chicken Salad Bowl   \n",
      "\n",
      "                                     choice_description  item_price  \n",
      "4     [Tomatillo-Red Chili Salsa (Hot), [Black Beans...       16.98  \n",
      "5     [Fresh Tomato Salsa (Mild), [Rice, Cheese, Sou...       10.98  \n",
      "7     [Tomatillo Red Chili Salsa, [Fajita Vegetables...       11.75  \n",
      "13    [Fresh Tomato Salsa, [Fajita Vegetables, Rice,...       11.25  \n",
      "23    [[Tomatillo-Green Chili Salsa (Medium), Tomati...       10.98  \n",
      "...                                                 ...         ...  \n",
      "4610  [Fresh Tomato Salsa, [Rice, Sour Cream, Cheese...       11.75  \n",
      "4611  [Tomatillo Green Chili Salsa, [Rice, Fajita Ve...       11.25  \n",
      "4617  [Fresh Tomato Salsa, [Rice, Black Beans, Sour ...       11.75  \n",
      "4618  [Fresh Tomato Salsa, [Rice, Sour Cream, Cheese...       11.75  \n",
      "4619  [Fresh Tomato Salsa, [Fajita Vegetables, Pinto...       11.25  \n",
      "\n",
      "[1130 rows x 5 columns]\n"
     ]
    }
   ],
   "source": [
    "productos_mas_de_10 = chipo[chipo['item_price'] > 10]\n",
    "print(productos_mas_de_10)\n"
   ]
  },
  {
   "cell_type": "code",
   "execution_count": 119,
   "metadata": {},
   "outputs": [
    {
     "name": "stdout",
     "output_type": "stream",
     "text": [
      "863\n"
     ]
    }
   ],
   "source": [
    "pedidos_con_producto_mas_de_10 = productos_mas_de_10['order_id'].nunique()\n",
    "print(pedidos_con_producto_mas_de_10)\n"
   ]
  },
  {
   "cell_type": "markdown",
   "metadata": {},
   "source": [
    "### Step 4.2: Y cuántos pedidos se han hecho de más de 10$? Es lo mismo?"
   ]
  },
  {
   "cell_type": "code",
   "execution_count": 120,
   "metadata": {},
   "outputs": [
    {
     "name": "stdout",
     "output_type": "stream",
     "text": [
      "order_id\n",
      "1       11.56\n",
      "2        8.49\n",
      "3       12.67\n",
      "4       21.00\n",
      "5       13.70\n",
      "        ...  \n",
      "1830    23.00\n",
      "1831    12.90\n",
      "1832    13.20\n",
      "1833    23.50\n",
      "1834    28.75\n",
      "Name: total_price_de_cada_producto, Length: 1834, dtype: float64\n",
      "Pedidos mas que 10 dolares: 1785\n"
     ]
    }
   ],
   "source": [
    "# Multiplicar la cantidad por el precio del artículo para obtener el precio total por artículo\n",
    "chipo['total_price_de_cada_producto'] =  chipo['item_price'] / chipo['quantity'] \n",
    "\n",
    "\n",
    "# Agrupar por 'order_id' y sumar los 'total_price' para obtener el total por pedido\n",
    "order_totals = chipo.groupby('order_id')['total_price_de_cada_producto'].sum()\n",
    "print(order_totals)\n",
    "pedidos_over_10 = order_totals[order_totals > 10].count()\n",
    "print(\"Pedidos mas que 10 dolares:\",pedidos_over_10)\n",
    "\n"
   ]
  },
  {
   "cell_type": "markdown",
   "metadata": {},
   "source": [
    "### Step 4.3: Y en cuántos pedidos se ha pagado más de 10$ por un mismo producto? Es lo mismo?"
   ]
  },
  {
   "cell_type": "code",
   "execution_count": 121,
   "metadata": {},
   "outputs": [
    {
     "name": "stdout",
     "output_type": "stream",
     "text": [
      "787\n"
     ]
    }
   ],
   "source": [
    "pedidos_con_producto_caro = chipo[chipo['total_price_de_cada_producto'] > 10]['order_id'].nunique()\n",
    "print(pedidos_con_producto_caro)\n",
    "\n"
   ]
  },
  {
   "attachments": {},
   "cell_type": "markdown",
   "metadata": {},
   "source": [
    "### Step 5. What is the price of each item and name it unit_price. Get only item_name and unit_price"
   ]
  },
  {
   "cell_type": "code",
   "execution_count": 122,
   "metadata": {},
   "outputs": [
    {
     "name": "stdout",
     "output_type": "stream",
     "text": [
      "                                  item_name  unit_price\n",
      "0              Chips and Fresh Tomato Salsa        2.39\n",
      "1                                      Izze        3.39\n",
      "2                          Nantucket Nectar        3.39\n",
      "3     Chips and Tomatillo-Green Chili Salsa        2.39\n",
      "4                              Chicken Bowl        8.49\n",
      "...                                     ...         ...\n",
      "4617                          Steak Burrito       11.75\n",
      "4618                          Steak Burrito       11.75\n",
      "4619                     Chicken Salad Bowl       11.25\n",
      "4620                     Chicken Salad Bowl        8.75\n",
      "4621                     Chicken Salad Bowl        8.75\n",
      "\n",
      "[4622 rows x 2 columns]\n",
      "                                item_name  unit_price\n",
      "0                       6 Pack Soft Drink    6.490000\n",
      "1                           Barbacoa Bowl   10.187273\n",
      "2                        Barbacoa Burrito    9.832418\n",
      "3                   Barbacoa Crispy Tacos   10.087273\n",
      "4                     Barbacoa Salad Bowl   10.640000\n",
      "5                     Barbacoa Soft Tacos   10.018400\n",
      "6                           Bottled Water    1.431667\n",
      "7                                    Bowl    7.400000\n",
      "8                                 Burrito    7.400000\n",
      "9                             Canned Soda    1.090000\n",
      "10                      Canned Soft Drink    1.250000\n",
      "11                          Carnitas Bowl   10.315588\n",
      "12                       Carnitas Burrito    9.975932\n",
      "13                  Carnitas Crispy Tacos    9.852857\n",
      "14                         Carnitas Salad    8.990000\n",
      "15                    Carnitas Salad Bowl   11.056667\n",
      "16                    Carnitas Soft Tacos    9.398500\n",
      "17                           Chicken Bowl    9.657727\n",
      "18                        Chicken Burrito    9.475949\n",
      "19                   Chicken Crispy Tacos    9.492340\n",
      "20                          Chicken Salad    9.010000\n",
      "21                     Chicken Salad Bowl    9.909091\n",
      "22                     Chicken Soft Tacos    9.240261\n",
      "23                                  Chips    2.149242\n",
      "24           Chips and Fresh Tomato Salsa    2.748727\n",
      "25                    Chips and Guacamole    4.345616\n",
      "26      Chips and Mild Fresh Tomato Salsa    3.000000\n",
      "27     Chips and Roasted Chili Corn Salsa    2.950000\n",
      "28     Chips and Roasted Chili-Corn Salsa    2.390000\n",
      "29  Chips and Tomatillo Green Chili Salsa    2.950000\n",
      "30    Chips and Tomatillo Red Chili Salsa    2.950000\n",
      "31  Chips and Tomatillo-Green Chili Salsa    2.390000\n",
      "32    Chips and Tomatillo-Red Chili Salsa    2.390000\n",
      "33                           Crispy Tacos    7.400000\n",
      "34                                   Izze    3.390000\n",
      "35                       Nantucket Nectar    3.390000\n",
      "36                                  Salad    7.400000\n",
      "37                          Side of Chips    1.690000\n",
      "38                             Steak Bowl   10.232559\n",
      "39                          Steak Burrito    9.993424\n",
      "40                     Steak Crispy Tacos    9.952857\n",
      "41                            Steak Salad    8.915000\n",
      "42                       Steak Salad Bowl   11.027931\n",
      "43                       Steak Soft Tacos    9.578182\n",
      "44                            Veggie Bowl   10.011882\n",
      "45                         Veggie Burrito    9.602842\n",
      "46                    Veggie Crispy Tacos    8.490000\n",
      "47                           Veggie Salad    8.490000\n",
      "48                      Veggie Salad Bowl   10.138889\n",
      "49                      Veggie Soft Tacos    9.352857\n"
     ]
    }
   ],
   "source": [
    "chipo['unit_price'] = chipo['item_price'] / chipo['quantity']\n",
    "\n",
    "item_unit_price = chipo[['item_name', 'unit_price']]\n",
    "print(item_unit_price)\n",
    "#La media \n",
    "average_unit_price = chipo.groupby('item_name')['unit_price'].mean().reset_index()\n",
    "print(average_unit_price)\n",
    "\n"
   ]
  },
  {
   "attachments": {},
   "cell_type": "markdown",
   "metadata": {},
   "source": [
    "### Step 6. Sort by the name of the item"
   ]
  },
  {
   "cell_type": "code",
   "execution_count": 123,
   "metadata": {},
   "outputs": [
    {
     "name": "stdout",
     "output_type": "stream",
     "text": [
      "              item_name  unit_price\n",
      "3389  6 Pack Soft Drink        6.49\n",
      "341   6 Pack Soft Drink        6.49\n",
      "1849  6 Pack Soft Drink        6.49\n",
      "1860  6 Pack Soft Drink        6.49\n",
      "2713  6 Pack Soft Drink        6.49\n",
      "...                 ...         ...\n",
      "2384  Veggie Soft Tacos        8.75\n",
      "781   Veggie Soft Tacos        8.75\n",
      "2851  Veggie Soft Tacos        8.49\n",
      "1699  Veggie Soft Tacos       11.25\n",
      "1395  Veggie Soft Tacos        8.49\n",
      "\n",
      "[4622 rows x 2 columns]\n"
     ]
    }
   ],
   "source": [
    "chipo_sorted = chipo.sort_values(by='item_name')\n",
    "\n",
    "print(chipo_sorted[['item_name', 'unit_price']])"
   ]
  },
  {
   "cell_type": "markdown",
   "metadata": {},
   "source": []
  },
  {
   "attachments": {},
   "cell_type": "markdown",
   "metadata": {},
   "source": [
    "### Step 7. What was the quantity of the most expensive item ordered? 2 ways"
   ]
  },
  {
   "cell_type": "code",
   "execution_count": 124,
   "metadata": {},
   "outputs": [
    {
     "name": "stdout",
     "output_type": "stream",
     "text": [
      "order_id                                                1443\n",
      "quantity                                                  15\n",
      "item_name                       Chips and Fresh Tomato Salsa\n",
      "choice_description                                       NaN\n",
      "item_price                                             44.25\n",
      "total_price_de_cada_producto                            2.95\n",
      "unit_price                                              2.95\n",
      "Name: 3598, dtype: object\n",
      "The quantity of the most expensive item ordered is: 15\n"
     ]
    }
   ],
   "source": [
    "\n",
    "sorted_chipo = chipo.sort_values(by='item_price', ascending=False)\n",
    "#print(sorted_chipo)\n",
    "\n",
    "most_expensive_item = sorted_chipo.iloc[0]\n",
    "print(most_expensive_item)\n",
    "\n",
    "quantity_most_expensive = most_expensive_item['quantity']\n",
    "print(f\"The quantity of the most expensive item ordered is: {quantity_most_expensive}\")\n",
    "\n"
   ]
  },
  {
   "cell_type": "code",
   "execution_count": null,
   "metadata": {},
   "outputs": [],
   "source": []
  },
  {
   "cell_type": "code",
   "execution_count": 125,
   "metadata": {},
   "outputs": [
    {
     "name": "stdout",
     "output_type": "stream",
     "text": [
      "44.25\n",
      "      order_id  quantity                     item_name choice_description  \\\n",
      "3598      1443        15  Chips and Fresh Tomato Salsa                NaN   \n",
      "\n",
      "      item_price  total_price_de_cada_producto  unit_price  \n",
      "3598       44.25                          2.95        2.95  \n",
      "[15]\n"
     ]
    }
   ],
   "source": [
    "\n",
    "max_price = chipo['item_price'].max()\n",
    "print(max_price)\n",
    "\n",
    "max_price_items = chipo[chipo['item_price'] == max_price]\n",
    "print(max_price_items)\n",
    "quantity_max_price_items = max_price_items['quantity'].values\n",
    "print(quantity_max_price_items)\n",
    "\n"
   ]
  },
  {
   "attachments": {},
   "cell_type": "markdown",
   "metadata": {},
   "source": [
    "### Step 8. How many times was a Veggie Salad Bowl ordered?"
   ]
  },
  {
   "cell_type": "code",
   "execution_count": 126,
   "metadata": {},
   "outputs": [
    {
     "name": "stdout",
     "output_type": "stream",
     "text": [
      "The Veggie Salad Bowl was ordered 18 times.\n",
      "A total of 18 Veggie Salad Bowls were ordered.\n"
     ]
    }
   ],
   "source": [
    "veggie_salad_orders = chipo[chipo['item_name'] == 'Veggie Salad Bowl']\n",
    "num_veggie_salad_orders = veggie_salad_orders.shape[0]\n",
    "print(f\"The Veggie Salad Bowl was ordered {num_veggie_salad_orders} times.\")\n",
    "# Porque a veces sale con cantidad mas que 1 \n",
    "total_veggie_salad_bowls = veggie_salad_orders['quantity'].sum()\n",
    "print(f\"A total of {total_veggie_salad_bowls} Veggie Salad Bowls were ordered.\")\n",
    "\n",
    "\n"
   ]
  },
  {
   "attachments": {},
   "cell_type": "markdown",
   "metadata": {},
   "source": [
    "### Step 9. How many times did someone order more than one Canned Soda?"
   ]
  },
  {
   "cell_type": "code",
   "execution_count": 127,
   "metadata": {},
   "outputs": [
    {
     "name": "stdout",
     "output_type": "stream",
     "text": [
      "Canned Soda was ordered more than once in 20 orders.\n"
     ]
    }
   ],
   "source": [
    "canned_soda_orders = chipo[(chipo['item_name'] == 'Canned Soda') & (chipo['quantity'] > 1)]\n",
    "num_canned_soda_orders = canned_soda_orders.shape[0]\n",
    "print(f\"Canned Soda was ordered more than once in {num_canned_soda_orders} orders.\")\n"
   ]
  }
 ],
 "metadata": {
  "anaconda-cloud": {},
  "kernelspec": {
   "display_name": "Python 3",
   "language": "python",
   "name": "python3"
  },
  "language_info": {
   "codemirror_mode": {
    "name": "ipython",
    "version": 3
   },
   "file_extension": ".py",
   "mimetype": "text/x-python",
   "name": "python",
   "nbconvert_exporter": "python",
   "pygments_lexer": "ipython3",
   "version": "3.11.9"
  }
 },
 "nbformat": 4,
 "nbformat_minor": 4
}
