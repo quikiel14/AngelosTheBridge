{
 "cells": [
  {
   "attachments": {},
   "cell_type": "markdown",
   "metadata": {},
   "source": [
    "# Ex1 - Filtering and Sorting Data"
   ]
  },
  {
   "attachments": {},
   "cell_type": "markdown",
   "metadata": {},
   "source": [
    "\n",
    "\n",
    "### Step 1. Import the necessary libraries"
   ]
  },
  {
   "cell_type": "code",
   "execution_count": 149,
   "metadata": {},
   "outputs": [],
   "source": [
    "import pandas as pd\n",
    "import numpy as np"
   ]
  },
  {
   "attachments": {},
   "cell_type": "markdown",
   "metadata": {},
   "source": [
    "### Step 2. Import the dataset from this [address](https://raw.githubusercontent.com/justmarkham/DAT8/master/data/chipotle.tsv) and assign it to a variable called chipo."
   ]
  },
  {
   "cell_type": "code",
   "execution_count": 150,
   "metadata": {},
   "outputs": [
    {
     "data": {
      "application/vnd.microsoft.datawrangler.viewer.v0+json": {
       "columns": [
        {
         "name": "index",
         "rawType": "int64",
         "type": "integer"
        },
        {
         "name": "order_id",
         "rawType": "int64",
         "type": "integer"
        },
        {
         "name": "quantity",
         "rawType": "int64",
         "type": "integer"
        },
        {
         "name": "item_name",
         "rawType": "object",
         "type": "string"
        },
        {
         "name": "choice_description",
         "rawType": "object",
         "type": "unknown"
        },
        {
         "name": "item_price",
         "rawType": "object",
         "type": "string"
        }
       ],
       "conversionMethod": "pd.DataFrame",
       "ref": "26c96709-df77-4ab0-8ddf-017bc2aa31a2",
       "rows": [
        [
         "0",
         "1",
         "1",
         "Chips and Fresh Tomato Salsa",
         null,
         "$2.39 "
        ],
        [
         "1",
         "1",
         "1",
         "Izze",
         "[Clementine]",
         "$3.39 "
        ],
        [
         "2",
         "1",
         "1",
         "Nantucket Nectar",
         "[Apple]",
         "$3.39 "
        ],
        [
         "3",
         "1",
         "1",
         "Chips and Tomatillo-Green Chili Salsa",
         null,
         "$2.39 "
        ],
        [
         "4",
         "2",
         "2",
         "Chicken Bowl",
         "[Tomatillo-Red Chili Salsa (Hot), [Black Beans, Rice, Cheese, Sour Cream]]",
         "$16.98 "
        ],
        [
         "5",
         "3",
         "1",
         "Chicken Bowl",
         "[Fresh Tomato Salsa (Mild), [Rice, Cheese, Sour Cream, Guacamole, Lettuce]]",
         "$10.98 "
        ],
        [
         "6",
         "3",
         "1",
         "Side of Chips",
         null,
         "$1.69 "
        ],
        [
         "7",
         "4",
         "1",
         "Steak Burrito",
         "[Tomatillo Red Chili Salsa, [Fajita Vegetables, Black Beans, Pinto Beans, Cheese, Sour Cream, Guacamole, Lettuce]]",
         "$11.75 "
        ],
        [
         "8",
         "4",
         "1",
         "Steak Soft Tacos",
         "[Tomatillo Green Chili Salsa, [Pinto Beans, Cheese, Sour Cream, Lettuce]]",
         "$9.25 "
        ],
        [
         "9",
         "5",
         "1",
         "Steak Burrito",
         "[Fresh Tomato Salsa, [Rice, Black Beans, Pinto Beans, Cheese, Sour Cream, Lettuce]]",
         "$9.25 "
        ],
        [
         "10",
         "5",
         "1",
         "Chips and Guacamole",
         null,
         "$4.45 "
        ],
        [
         "11",
         "6",
         "1",
         "Chicken Crispy Tacos",
         "[Roasted Chili Corn Salsa, [Fajita Vegetables, Rice, Black Beans, Cheese, Sour Cream]]",
         "$8.75 "
        ],
        [
         "12",
         "6",
         "1",
         "Chicken Soft Tacos",
         "[Roasted Chili Corn Salsa, [Rice, Black Beans, Cheese, Sour Cream]]",
         "$8.75 "
        ],
        [
         "13",
         "7",
         "1",
         "Chicken Bowl",
         "[Fresh Tomato Salsa, [Fajita Vegetables, Rice, Cheese, Sour Cream, Guacamole]]",
         "$11.25 "
        ],
        [
         "14",
         "7",
         "1",
         "Chips and Guacamole",
         null,
         "$4.45 "
        ],
        [
         "15",
         "8",
         "1",
         "Chips and Tomatillo-Green Chili Salsa",
         null,
         "$2.39 "
        ],
        [
         "16",
         "8",
         "1",
         "Chicken Burrito",
         "[Tomatillo-Green Chili Salsa (Medium), [Pinto Beans, Cheese, Sour Cream]]",
         "$8.49 "
        ],
        [
         "17",
         "9",
         "1",
         "Chicken Burrito",
         "[Fresh Tomato Salsa (Mild), [Black Beans, Rice, Cheese, Sour Cream, Lettuce]]",
         "$8.49 "
        ],
        [
         "18",
         "9",
         "2",
         "Canned Soda",
         "[Sprite]",
         "$2.18 "
        ],
        [
         "19",
         "10",
         "1",
         "Chicken Bowl",
         "[Tomatillo Red Chili Salsa, [Fajita Vegetables, Black Beans, Sour Cream, Cheese, Lettuce]]",
         "$8.75 "
        ],
        [
         "20",
         "10",
         "1",
         "Chips and Guacamole",
         null,
         "$4.45 "
        ],
        [
         "21",
         "11",
         "1",
         "Barbacoa Burrito",
         "[[Fresh Tomato Salsa (Mild), Tomatillo-Green Chili Salsa (Medium), Tomatillo-Red Chili Salsa (Hot)], [Rice, Cheese, Sour Cream, Lettuce]]",
         "$8.99 "
        ],
        [
         "22",
         "11",
         "1",
         "Nantucket Nectar",
         "[Pomegranate Cherry]",
         "$3.39 "
        ],
        [
         "23",
         "12",
         "1",
         "Chicken Burrito",
         "[[Tomatillo-Green Chili Salsa (Medium), Tomatillo-Red Chili Salsa (Hot)], [Pinto Beans, Rice, Cheese, Sour Cream, Guacamole, Lettuce]]",
         "$10.98 "
        ],
        [
         "24",
         "12",
         "1",
         "Izze",
         "[Grapefruit]",
         "$3.39 "
        ],
        [
         "25",
         "13",
         "1",
         "Chips and Fresh Tomato Salsa",
         null,
         "$2.39 "
        ],
        [
         "26",
         "13",
         "1",
         "Chicken Bowl",
         "[Roasted Chili Corn Salsa (Medium), [Pinto Beans, Rice, Fajita Veggies, Cheese, Sour Cream, Lettuce]]",
         "$8.49 "
        ],
        [
         "27",
         "14",
         "1",
         "Carnitas Burrito",
         "[[Tomatillo-Green Chili Salsa (Medium), Roasted Chili Corn Salsa (Medium)], [Black Beans, Rice, Sour Cream, Lettuce]]",
         "$8.99 "
        ],
        [
         "28",
         "14",
         "1",
         "Canned Soda",
         "[Dr. Pepper]",
         "$1.09 "
        ],
        [
         "29",
         "15",
         "1",
         "Chicken Burrito",
         "[Tomatillo-Green Chili Salsa (Medium), [Pinto Beans, Rice, Cheese, Sour Cream]]",
         "$8.49 "
        ],
        [
         "30",
         "15",
         "1",
         "Chips and Tomatillo-Green Chili Salsa",
         null,
         "$2.39 "
        ],
        [
         "31",
         "16",
         "1",
         "Steak Burrito",
         "[[Roasted Chili Corn Salsa (Medium), Fresh Tomato Salsa (Mild)], [Rice, Black Beans, Sour Cream]]",
         "$8.99 "
        ],
        [
         "32",
         "16",
         "1",
         "Side of Chips",
         null,
         "$1.69 "
        ],
        [
         "33",
         "17",
         "1",
         "Carnitas Bowl",
         "[Tomatillo-Red Chili Salsa (Hot), [Black Beans, Rice, Fajita Veggies, Cheese, Sour Cream, Lettuce]]",
         "$8.99 "
        ],
        [
         "34",
         "17",
         "1",
         "Bottled Water",
         null,
         "$1.09 "
        ],
        [
         "35",
         "18",
         "1",
         "Chicken Soft Tacos",
         "[Roasted Chili Corn Salsa, Rice]",
         "$8.75 "
        ],
        [
         "36",
         "18",
         "1",
         "Chicken Soft Tacos",
         "[Roasted Chili Corn Salsa, [Cheese, Lettuce]]",
         "$8.75 "
        ],
        [
         "37",
         "18",
         "1",
         "Chips and Guacamole",
         null,
         "$4.45 "
        ],
        [
         "38",
         "18",
         "1",
         "Chips and Tomatillo Green Chili Salsa",
         null,
         "$2.95 "
        ],
        [
         "39",
         "19",
         "1",
         "Barbacoa Bowl",
         "[Roasted Chili Corn Salsa, [Fajita Vegetables, Rice, Black Beans, Cheese, Sour Cream, Guacamole, Lettuce]]",
         "$11.75 "
        ],
        [
         "40",
         "19",
         "1",
         "Chips",
         null,
         "$2.15 "
        ],
        [
         "41",
         "20",
         "1",
         "Chips and Guacamole",
         null,
         "$4.45 "
        ],
        [
         "42",
         "20",
         "1",
         "Chicken Bowl",
         "[Roasted Chili Corn Salsa, [Rice, Black Beans, Cheese, Sour Cream, Guacamole, Lettuce]]",
         "$11.25 "
        ],
        [
         "43",
         "20",
         "1",
         "Steak Burrito",
         "[Fresh Tomato Salsa, [Rice, Pinto Beans, Cheese, Sour Cream, Guacamole, Lettuce]]",
         "$11.75 "
        ],
        [
         "44",
         "20",
         "1",
         "Chicken Salad Bowl",
         "[Fresh Tomato Salsa, [Fajita Vegetables, Pinto Beans, Lettuce]]",
         "$8.75 "
        ],
        [
         "45",
         "21",
         "1",
         "Chicken Burrito",
         "[Tomatillo-Red Chili Salsa (Hot), [Black Beans, Fajita Veggies, Cheese, Sour Cream, Guacamole, Lettuce]]",
         "$10.98 "
        ],
        [
         "46",
         "21",
         "1",
         "Steak Burrito",
         "[Tomatillo-Red Chili Salsa (Hot), [Rice, Fajita Veggies, Cheese]]",
         "$8.99 "
        ],
        [
         "47",
         "21",
         "1",
         "Izze",
         "[Blackberry]",
         "$3.39 "
        ],
        [
         "48",
         "22",
         "1",
         "Steak Burrito",
         "[[Fresh Tomato Salsa (Mild), Roasted Chili Corn Salsa (Medium), Tomatillo-Red Chili Salsa (Hot)], [Black Beans, Rice, Sour Cream]]",
         "$8.99 "
        ],
        [
         "49",
         "22",
         "1",
         "Chips and Guacamole",
         null,
         "$3.99 "
        ]
       ],
       "shape": {
        "columns": 5,
        "rows": 4622
       }
      },
      "text/html": [
       "<div>\n",
       "<style scoped>\n",
       "    .dataframe tbody tr th:only-of-type {\n",
       "        vertical-align: middle;\n",
       "    }\n",
       "\n",
       "    .dataframe tbody tr th {\n",
       "        vertical-align: top;\n",
       "    }\n",
       "\n",
       "    .dataframe thead th {\n",
       "        text-align: right;\n",
       "    }\n",
       "</style>\n",
       "<table border=\"1\" class=\"dataframe\">\n",
       "  <thead>\n",
       "    <tr style=\"text-align: right;\">\n",
       "      <th></th>\n",
       "      <th>order_id</th>\n",
       "      <th>quantity</th>\n",
       "      <th>item_name</th>\n",
       "      <th>choice_description</th>\n",
       "      <th>item_price</th>\n",
       "    </tr>\n",
       "  </thead>\n",
       "  <tbody>\n",
       "    <tr>\n",
       "      <th>0</th>\n",
       "      <td>1</td>\n",
       "      <td>1</td>\n",
       "      <td>Chips and Fresh Tomato Salsa</td>\n",
       "      <td>NaN</td>\n",
       "      <td>$2.39</td>\n",
       "    </tr>\n",
       "    <tr>\n",
       "      <th>1</th>\n",
       "      <td>1</td>\n",
       "      <td>1</td>\n",
       "      <td>Izze</td>\n",
       "      <td>[Clementine]</td>\n",
       "      <td>$3.39</td>\n",
       "    </tr>\n",
       "    <tr>\n",
       "      <th>2</th>\n",
       "      <td>1</td>\n",
       "      <td>1</td>\n",
       "      <td>Nantucket Nectar</td>\n",
       "      <td>[Apple]</td>\n",
       "      <td>$3.39</td>\n",
       "    </tr>\n",
       "    <tr>\n",
       "      <th>3</th>\n",
       "      <td>1</td>\n",
       "      <td>1</td>\n",
       "      <td>Chips and Tomatillo-Green Chili Salsa</td>\n",
       "      <td>NaN</td>\n",
       "      <td>$2.39</td>\n",
       "    </tr>\n",
       "    <tr>\n",
       "      <th>4</th>\n",
       "      <td>2</td>\n",
       "      <td>2</td>\n",
       "      <td>Chicken Bowl</td>\n",
       "      <td>[Tomatillo-Red Chili Salsa (Hot), [Black Beans...</td>\n",
       "      <td>$16.98</td>\n",
       "    </tr>\n",
       "    <tr>\n",
       "      <th>...</th>\n",
       "      <td>...</td>\n",
       "      <td>...</td>\n",
       "      <td>...</td>\n",
       "      <td>...</td>\n",
       "      <td>...</td>\n",
       "    </tr>\n",
       "    <tr>\n",
       "      <th>4617</th>\n",
       "      <td>1833</td>\n",
       "      <td>1</td>\n",
       "      <td>Steak Burrito</td>\n",
       "      <td>[Fresh Tomato Salsa, [Rice, Black Beans, Sour ...</td>\n",
       "      <td>$11.75</td>\n",
       "    </tr>\n",
       "    <tr>\n",
       "      <th>4618</th>\n",
       "      <td>1833</td>\n",
       "      <td>1</td>\n",
       "      <td>Steak Burrito</td>\n",
       "      <td>[Fresh Tomato Salsa, [Rice, Sour Cream, Cheese...</td>\n",
       "      <td>$11.75</td>\n",
       "    </tr>\n",
       "    <tr>\n",
       "      <th>4619</th>\n",
       "      <td>1834</td>\n",
       "      <td>1</td>\n",
       "      <td>Chicken Salad Bowl</td>\n",
       "      <td>[Fresh Tomato Salsa, [Fajita Vegetables, Pinto...</td>\n",
       "      <td>$11.25</td>\n",
       "    </tr>\n",
       "    <tr>\n",
       "      <th>4620</th>\n",
       "      <td>1834</td>\n",
       "      <td>1</td>\n",
       "      <td>Chicken Salad Bowl</td>\n",
       "      <td>[Fresh Tomato Salsa, [Fajita Vegetables, Lettu...</td>\n",
       "      <td>$8.75</td>\n",
       "    </tr>\n",
       "    <tr>\n",
       "      <th>4621</th>\n",
       "      <td>1834</td>\n",
       "      <td>1</td>\n",
       "      <td>Chicken Salad Bowl</td>\n",
       "      <td>[Fresh Tomato Salsa, [Fajita Vegetables, Pinto...</td>\n",
       "      <td>$8.75</td>\n",
       "    </tr>\n",
       "  </tbody>\n",
       "</table>\n",
       "<p>4622 rows × 5 columns</p>\n",
       "</div>"
      ],
      "text/plain": [
       "      order_id  quantity                              item_name  \\\n",
       "0            1         1           Chips and Fresh Tomato Salsa   \n",
       "1            1         1                                   Izze   \n",
       "2            1         1                       Nantucket Nectar   \n",
       "3            1         1  Chips and Tomatillo-Green Chili Salsa   \n",
       "4            2         2                           Chicken Bowl   \n",
       "...        ...       ...                                    ...   \n",
       "4617      1833         1                          Steak Burrito   \n",
       "4618      1833         1                          Steak Burrito   \n",
       "4619      1834         1                     Chicken Salad Bowl   \n",
       "4620      1834         1                     Chicken Salad Bowl   \n",
       "4621      1834         1                     Chicken Salad Bowl   \n",
       "\n",
       "                                     choice_description item_price  \n",
       "0                                                   NaN     $2.39   \n",
       "1                                          [Clementine]     $3.39   \n",
       "2                                               [Apple]     $3.39   \n",
       "3                                                   NaN     $2.39   \n",
       "4     [Tomatillo-Red Chili Salsa (Hot), [Black Beans...    $16.98   \n",
       "...                                                 ...        ...  \n",
       "4617  [Fresh Tomato Salsa, [Rice, Black Beans, Sour ...    $11.75   \n",
       "4618  [Fresh Tomato Salsa, [Rice, Sour Cream, Cheese...    $11.75   \n",
       "4619  [Fresh Tomato Salsa, [Fajita Vegetables, Pinto...    $11.25   \n",
       "4620  [Fresh Tomato Salsa, [Fajita Vegetables, Lettu...     $8.75   \n",
       "4621  [Fresh Tomato Salsa, [Fajita Vegetables, Pinto...     $8.75   \n",
       "\n",
       "[4622 rows x 5 columns]"
      ]
     },
     "execution_count": 150,
     "metadata": {},
     "output_type": "execute_result"
    }
   ],
   "source": [
    "url = \"https://raw.githubusercontent.com/justmarkham/DAT8/master/data/chipotle.tsv\"\n",
    "chipo = pd.read_csv(url, sep=\"\\t\")\n",
    "chipo"
   ]
  },
  {
   "attachments": {},
   "cell_type": "markdown",
   "metadata": {},
   "source": [
    "### Step 3. Name of the max valued product"
   ]
  },
  {
   "cell_type": "code",
   "execution_count": 151,
   "metadata": {},
   "outputs": [
    {
     "name": "stdout",
     "output_type": "stream",
     "text": [
      "<class 'pandas.core.frame.DataFrame'>\n",
      "RangeIndex: 4622 entries, 0 to 4621\n",
      "Data columns (total 5 columns):\n",
      " #   Column              Non-Null Count  Dtype \n",
      "---  ------              --------------  ----- \n",
      " 0   order_id            4622 non-null   int64 \n",
      " 1   quantity            4622 non-null   int64 \n",
      " 2   item_name           4622 non-null   object\n",
      " 3   choice_description  3376 non-null   object\n",
      " 4   item_price          4622 non-null   object\n",
      "dtypes: int64(2), object(3)\n",
      "memory usage: 180.7+ KB\n"
     ]
    }
   ],
   "source": [
    "chipo.info()"
   ]
  },
  {
   "cell_type": "code",
   "execution_count": 152,
   "metadata": {},
   "outputs": [
    {
     "name": "stdout",
     "output_type": "stream",
     "text": [
      "<class 'pandas.core.frame.DataFrame'>\n",
      "RangeIndex: 4622 entries, 0 to 4621\n",
      "Data columns (total 5 columns):\n",
      " #   Column              Non-Null Count  Dtype  \n",
      "---  ------              --------------  -----  \n",
      " 0   order_id            4622 non-null   int64  \n",
      " 1   quantity            4622 non-null   int64  \n",
      " 2   item_name           4622 non-null   object \n",
      " 3   choice_description  3376 non-null   object \n",
      " 4   item_price          4622 non-null   float64\n",
      "dtypes: float64(1), int64(2), object(2)\n",
      "memory usage: 180.7+ KB\n"
     ]
    }
   ],
   "source": [
    "chipo[\"item_price\"]= chipo[\"item_price\"].str.replace(\"$\",\"\").astype(float)\n",
    "chipo.info()"
   ]
  },
  {
   "cell_type": "code",
   "execution_count": 153,
   "metadata": {},
   "outputs": [],
   "source": [
    "#chipo[\"item_price\"].hist()"
   ]
  },
  {
   "cell_type": "code",
   "execution_count": 154,
   "metadata": {},
   "outputs": [],
   "source": [
    "#chipo[\"item_price\"]"
   ]
  },
  {
   "cell_type": "code",
   "execution_count": 155,
   "metadata": {},
   "outputs": [
    {
     "data": {
      "application/vnd.microsoft.datawrangler.viewer.v0+json": {
       "columns": [
        {
         "name": "index",
         "rawType": "int64",
         "type": "integer"
        },
        {
         "name": "order_id",
         "rawType": "int64",
         "type": "integer"
        },
        {
         "name": "quantity",
         "rawType": "int64",
         "type": "integer"
        },
        {
         "name": "item_name",
         "rawType": "object",
         "type": "string"
        },
        {
         "name": "choice_description",
         "rawType": "object",
         "type": "unknown"
        },
        {
         "name": "item_price",
         "rawType": "float64",
         "type": "float"
        }
       ],
       "conversionMethod": "pd.DataFrame",
       "ref": "ba35940c-bdbf-4050-a4a3-8fb75d99368d",
       "rows": [
        [
         "0",
         "1",
         "1",
         "Chips and Fresh Tomato Salsa",
         null,
         "2.39"
        ],
        [
         "1",
         "1",
         "1",
         "Izze",
         "[Clementine]",
         "3.39"
        ],
        [
         "2",
         "1",
         "1",
         "Nantucket Nectar",
         "[Apple]",
         "3.39"
        ],
        [
         "3",
         "1",
         "1",
         "Chips and Tomatillo-Green Chili Salsa",
         null,
         "2.39"
        ],
        [
         "4",
         "2",
         "2",
         "Chicken Bowl",
         "[Tomatillo-Red Chili Salsa (Hot), [Black Beans, Rice, Cheese, Sour Cream]]",
         "16.98"
        ]
       ],
       "shape": {
        "columns": 5,
        "rows": 5
       }
      },
      "text/html": [
       "<div>\n",
       "<style scoped>\n",
       "    .dataframe tbody tr th:only-of-type {\n",
       "        vertical-align: middle;\n",
       "    }\n",
       "\n",
       "    .dataframe tbody tr th {\n",
       "        vertical-align: top;\n",
       "    }\n",
       "\n",
       "    .dataframe thead th {\n",
       "        text-align: right;\n",
       "    }\n",
       "</style>\n",
       "<table border=\"1\" class=\"dataframe\">\n",
       "  <thead>\n",
       "    <tr style=\"text-align: right;\">\n",
       "      <th></th>\n",
       "      <th>order_id</th>\n",
       "      <th>quantity</th>\n",
       "      <th>item_name</th>\n",
       "      <th>choice_description</th>\n",
       "      <th>item_price</th>\n",
       "    </tr>\n",
       "  </thead>\n",
       "  <tbody>\n",
       "    <tr>\n",
       "      <th>0</th>\n",
       "      <td>1</td>\n",
       "      <td>1</td>\n",
       "      <td>Chips and Fresh Tomato Salsa</td>\n",
       "      <td>NaN</td>\n",
       "      <td>2.39</td>\n",
       "    </tr>\n",
       "    <tr>\n",
       "      <th>1</th>\n",
       "      <td>1</td>\n",
       "      <td>1</td>\n",
       "      <td>Izze</td>\n",
       "      <td>[Clementine]</td>\n",
       "      <td>3.39</td>\n",
       "    </tr>\n",
       "    <tr>\n",
       "      <th>2</th>\n",
       "      <td>1</td>\n",
       "      <td>1</td>\n",
       "      <td>Nantucket Nectar</td>\n",
       "      <td>[Apple]</td>\n",
       "      <td>3.39</td>\n",
       "    </tr>\n",
       "    <tr>\n",
       "      <th>3</th>\n",
       "      <td>1</td>\n",
       "      <td>1</td>\n",
       "      <td>Chips and Tomatillo-Green Chili Salsa</td>\n",
       "      <td>NaN</td>\n",
       "      <td>2.39</td>\n",
       "    </tr>\n",
       "    <tr>\n",
       "      <th>4</th>\n",
       "      <td>2</td>\n",
       "      <td>2</td>\n",
       "      <td>Chicken Bowl</td>\n",
       "      <td>[Tomatillo-Red Chili Salsa (Hot), [Black Beans...</td>\n",
       "      <td>16.98</td>\n",
       "    </tr>\n",
       "  </tbody>\n",
       "</table>\n",
       "</div>"
      ],
      "text/plain": [
       "   order_id  quantity                              item_name  \\\n",
       "0         1         1           Chips and Fresh Tomato Salsa   \n",
       "1         1         1                                   Izze   \n",
       "2         1         1                       Nantucket Nectar   \n",
       "3         1         1  Chips and Tomatillo-Green Chili Salsa   \n",
       "4         2         2                           Chicken Bowl   \n",
       "\n",
       "                                  choice_description  item_price  \n",
       "0                                                NaN        2.39  \n",
       "1                                       [Clementine]        3.39  \n",
       "2                                            [Apple]        3.39  \n",
       "3                                                NaN        2.39  \n",
       "4  [Tomatillo-Red Chili Salsa (Hot), [Black Beans...       16.98  "
      ]
     },
     "execution_count": 155,
     "metadata": {},
     "output_type": "execute_result"
    }
   ],
   "source": [
    "chipo.head()"
   ]
  },
  {
   "cell_type": "code",
   "execution_count": 156,
   "metadata": {},
   "outputs": [
    {
     "data": {
      "text/plain": [
       "np.float64(44.25)"
      ]
     },
     "execution_count": 156,
     "metadata": {},
     "output_type": "execute_result"
    }
   ],
   "source": [
    "chipo[\"item_price\"].max()\n",
    "maximo = chipo[\"item_price\"].max()\n",
    "maximo"
   ]
  },
  {
   "cell_type": "code",
   "execution_count": 157,
   "metadata": {},
   "outputs": [
    {
     "data": {
      "application/vnd.microsoft.datawrangler.viewer.v0+json": {
       "columns": [
        {
         "name": "index",
         "rawType": "int64",
         "type": "integer"
        },
        {
         "name": "order_id",
         "rawType": "int64",
         "type": "integer"
        },
        {
         "name": "quantity",
         "rawType": "int64",
         "type": "integer"
        },
        {
         "name": "item_name",
         "rawType": "object",
         "type": "string"
        },
        {
         "name": "choice_description",
         "rawType": "object",
         "type": "unknown"
        },
        {
         "name": "item_price",
         "rawType": "float64",
         "type": "float"
        }
       ],
       "conversionMethod": "pd.DataFrame",
       "ref": "668147fd-64c9-4466-a16f-2edb32bad18b",
       "rows": [
        [
         "3598",
         "1443",
         "15",
         "Chips and Fresh Tomato Salsa",
         null,
         "44.25"
        ]
       ],
       "shape": {
        "columns": 5,
        "rows": 1
       }
      },
      "text/html": [
       "<div>\n",
       "<style scoped>\n",
       "    .dataframe tbody tr th:only-of-type {\n",
       "        vertical-align: middle;\n",
       "    }\n",
       "\n",
       "    .dataframe tbody tr th {\n",
       "        vertical-align: top;\n",
       "    }\n",
       "\n",
       "    .dataframe thead th {\n",
       "        text-align: right;\n",
       "    }\n",
       "</style>\n",
       "<table border=\"1\" class=\"dataframe\">\n",
       "  <thead>\n",
       "    <tr style=\"text-align: right;\">\n",
       "      <th></th>\n",
       "      <th>order_id</th>\n",
       "      <th>quantity</th>\n",
       "      <th>item_name</th>\n",
       "      <th>choice_description</th>\n",
       "      <th>item_price</th>\n",
       "    </tr>\n",
       "  </thead>\n",
       "  <tbody>\n",
       "    <tr>\n",
       "      <th>3598</th>\n",
       "      <td>1443</td>\n",
       "      <td>15</td>\n",
       "      <td>Chips and Fresh Tomato Salsa</td>\n",
       "      <td>NaN</td>\n",
       "      <td>44.25</td>\n",
       "    </tr>\n",
       "  </tbody>\n",
       "</table>\n",
       "</div>"
      ],
      "text/plain": [
       "      order_id  quantity                     item_name choice_description  \\\n",
       "3598      1443        15  Chips and Fresh Tomato Salsa                NaN   \n",
       "\n",
       "      item_price  \n",
       "3598       44.25  "
      ]
     },
     "execution_count": 157,
     "metadata": {},
     "output_type": "execute_result"
    }
   ],
   "source": [
    "chipo[chipo[\"item_price\"] == maximo]"
   ]
  },
  {
   "cell_type": "code",
   "execution_count": 158,
   "metadata": {},
   "outputs": [
    {
     "data": {
      "text/plain": [
       "'Chips and Fresh Tomato Salsa'"
      ]
     },
     "execution_count": 158,
     "metadata": {},
     "output_type": "execute_result"
    }
   ],
   "source": [
    "str(chipo[chipo[\"item_price\"] ==chipo[\"item_price\"].max()][\"item_name\"].values[0])"
   ]
  },
  {
   "cell_type": "code",
   "execution_count": 159,
   "metadata": {},
   "outputs": [],
   "source": [
    "#chipo[\"item_name\"].value_counts()"
   ]
  },
  {
   "cell_type": "code",
   "execution_count": 160,
   "metadata": {},
   "outputs": [
    {
     "data": {
      "application/vnd.microsoft.datawrangler.viewer.v0+json": {
       "columns": [
        {
         "name": "index",
         "rawType": "int64",
         "type": "integer"
        },
        {
         "name": "order_id",
         "rawType": "int64",
         "type": "integer"
        },
        {
         "name": "quantity",
         "rawType": "int64",
         "type": "integer"
        },
        {
         "name": "item_name",
         "rawType": "object",
         "type": "string"
        },
        {
         "name": "choice_description",
         "rawType": "object",
         "type": "string"
        },
        {
         "name": "item_price",
         "rawType": "float64",
         "type": "float"
        }
       ],
       "conversionMethod": "pd.DataFrame",
       "ref": "11819b7b-9f89-4a2d-9012-a3e9c56da253",
       "rows": [
        [
         "4",
         "2",
         "2",
         "Chicken Bowl",
         "[Tomatillo-Red Chili Salsa (Hot), [Black Beans, Rice, Cheese, Sour Cream]]",
         "16.98"
        ],
        [
         "5",
         "3",
         "1",
         "Chicken Bowl",
         "[Fresh Tomato Salsa (Mild), [Rice, Cheese, Sour Cream, Guacamole, Lettuce]]",
         "10.98"
        ],
        [
         "13",
         "7",
         "1",
         "Chicken Bowl",
         "[Fresh Tomato Salsa, [Fajita Vegetables, Rice, Cheese, Sour Cream, Guacamole]]",
         "11.25"
        ],
        [
         "19",
         "10",
         "1",
         "Chicken Bowl",
         "[Tomatillo Red Chili Salsa, [Fajita Vegetables, Black Beans, Sour Cream, Cheese, Lettuce]]",
         "8.75"
        ],
        [
         "26",
         "13",
         "1",
         "Chicken Bowl",
         "[Roasted Chili Corn Salsa (Medium), [Pinto Beans, Rice, Fajita Veggies, Cheese, Sour Cream, Lettuce]]",
         "8.49"
        ],
        [
         "42",
         "20",
         "1",
         "Chicken Bowl",
         "[Roasted Chili Corn Salsa, [Rice, Black Beans, Cheese, Sour Cream, Guacamole, Lettuce]]",
         "11.25"
        ],
        [
         "76",
         "34",
         "1",
         "Chicken Bowl",
         "[Fresh Tomato Salsa, [Rice, Black Beans, Pinto Beans, Cheese, Lettuce]]",
         "8.75"
        ],
        [
         "78",
         "34",
         "1",
         "Chicken Bowl",
         "[Fresh Tomato Salsa, [Rice, Black Beans, Cheese, Sour Cream, Lettuce]]",
         "8.75"
        ],
        [
         "99",
         "44",
         "1",
         "Chicken Bowl",
         "[Tomatillo Red Chili Salsa, [Rice, Fajita Vegetables, Sour Cream, Lettuce]]",
         "8.75"
        ],
        [
         "110",
         "49",
         "1",
         "Chicken Bowl",
         "[Tomatillo Red Chili Salsa, [Rice, Black Beans, Cheese, Sour Cream, Lettuce]]",
         "8.75"
        ],
        [
         "123",
         "54",
         "1",
         "Chicken Bowl",
         "[Fresh Tomato Salsa, [Guacamole, Cheese, Sour Cream, Fajita Vegetables, Rice]]",
         "11.25"
        ],
        [
         "138",
         "62",
         "1",
         "Chicken Bowl",
         "[Fresh Tomato Salsa, [Rice, Fajita Vegetables, Sour Cream, Cheese, Guacamole]]",
         "11.25"
        ],
        [
         "140",
         "63",
         "1",
         "Chicken Bowl",
         "[Tomatillo Green Chili Salsa, [Rice, Sour Cream, Cheese, Guacamole]]",
         "11.25"
        ],
        [
         "142",
         "64",
         "1",
         "Chicken Bowl",
         "[Fresh Tomato Salsa, [Fajita Vegetables, Rice, Black Beans, Cheese, Guacamole, Lettuce]]",
         "11.25"
        ],
        [
         "154",
         "70",
         "2",
         "Chicken Bowl",
         "[Fresh Tomato Salsa, [Fajita Vegetables, Rice, Lettuce]]",
         "17.5"
        ],
        [
         "160",
         "73",
         "1",
         "Chicken Bowl",
         "[Fresh Tomato Salsa (Mild), [Black Beans, Rice, Fajita Veggies, Cheese, Sour Cream, Lettuce]]",
         "8.49"
        ],
        [
         "176",
         "79",
         "1",
         "Chicken Bowl",
         "[Roasted Chili Corn Salsa (Medium), [Black Beans, Rice, Fajita Veggies, Cheese, Sour Cream, Guacamole, Lettuce]]",
         "10.98"
        ],
        [
         "182",
         "82",
         "1",
         "Chicken Bowl",
         "[Fresh Tomato Salsa, [Rice, Black Beans, Sour Cream]]",
         "8.75"
        ],
        [
         "193",
         "86",
         "1",
         "Chicken Bowl",
         "[Fresh Tomato Salsa, [Rice, Cheese, Sour Cream]]",
         "8.75"
        ],
        [
         "199",
         "89",
         "1",
         "Chicken Bowl",
         "[[Roasted Chili Corn Salsa (Medium), Tomatillo-Red Chili Salsa (Hot)], [Black Beans, Rice, Fajita Veggies, Guacamole, Lettuce]]",
         "10.98"
        ],
        [
         "206",
         "92",
         "1",
         "Chicken Bowl",
         "[Fresh Tomato Salsa, [Rice, Cheese, Lettuce]]",
         "8.75"
        ],
        [
         "209",
         "93",
         "1",
         "Chicken Bowl",
         "[Roasted Chili Corn Salsa, [Fajita Vegetables, Rice, Black Beans, Cheese, Sour Cream, Guacamole, Lettuce]]",
         "11.25"
        ],
        [
         "211",
         "93",
         "1",
         "Chicken Bowl",
         "[Roasted Chili Corn Salsa, [Fajita Vegetables, Rice, Black Beans, Pinto Beans, Cheese, Sour Cream, Guacamole, Lettuce]]",
         "11.25"
        ],
        [
         "218",
         "96",
         "1",
         "Chicken Bowl",
         "[Tomatillo Green Chili Salsa, [Rice, Black Beans, Cheese, Sour Cream]]",
         "8.75"
        ],
        [
         "220",
         "97",
         "1",
         "Chicken Bowl",
         "[Roasted Chili Corn Salsa, [Rice, Black Beans, Cheese, Sour Cream]]",
         "8.75"
        ],
        [
         "224",
         "98",
         "1",
         "Chicken Bowl",
         "[Tomatillo Green Chili Salsa, [Rice, Pinto Beans, Sour Cream, Lettuce]]",
         "8.75"
        ],
        [
         "231",
         "102",
         "1",
         "Chicken Bowl",
         "[Fresh Tomato Salsa, [Fajita Vegetables, Rice, Black Beans, Cheese, Sour Cream, Lettuce]]",
         "8.75"
        ],
        [
         "252",
         "110",
         "1",
         "Chicken Bowl",
         "[Tomatillo Red Chili Salsa, [Rice, Cheese, Lettuce]]",
         "8.75"
        ],
        [
         "257",
         "111",
         "1",
         "Chicken Bowl",
         "[Fresh Tomato Salsa, [Rice, Black Beans, Cheese]]",
         "8.75"
        ],
        [
         "282",
         "124",
         "2",
         "Chicken Bowl",
         "[Fresh Tomato Salsa, [Rice, Black Beans, Cheese, Sour Cream]]",
         "17.5"
        ],
        [
         "284",
         "124",
         "1",
         "Chicken Bowl",
         "[Fresh Tomato Salsa, [Rice, Cheese, Sour Cream]]",
         "8.75"
        ],
        [
         "290",
         "126",
         "1",
         "Chicken Bowl",
         "[Roasted Chili Corn Salsa, [Fajita Vegetables, Rice, Black Beans, Guacamole, Lettuce]]",
         "11.25"
        ],
        [
         "291",
         "127",
         "1",
         "Chicken Bowl",
         "[Tomatillo Green Chili Salsa, [Rice, Sour Cream, Guacamole, Lettuce]]",
         "11.25"
        ],
        [
         "301",
         "131",
         "1",
         "Chicken Bowl",
         "[Fresh Tomato Salsa (Mild), [Rice, Fajita Veggies, Cheese, Sour Cream, Lettuce]]",
         "8.49"
        ],
        [
         "303",
         "132",
         "1",
         "Chicken Bowl",
         "[Fresh Tomato Salsa, [Rice, Black Beans, Cheese, Sour Cream, Guacamole, Lettuce]]",
         "11.25"
        ],
        [
         "304",
         "132",
         "1",
         "Chicken Bowl",
         "[Fresh Tomato Salsa, [Rice, Black Beans, Cheese, Sour Cream, Lettuce]]",
         "8.75"
        ],
        [
         "312",
         "135",
         "1",
         "Chicken Bowl",
         "[Fresh Tomato Salsa, [Rice, Black Beans, Cheese, Sour Cream]]",
         "8.75"
        ],
        [
         "319",
         "139",
         "1",
         "Chicken Bowl",
         "[Fresh Tomato Salsa, [Fajita Vegetables, Rice, Black Beans, Sour Cream]]",
         "8.75"
        ],
        [
         "327",
         "143",
         "1",
         "Chicken Bowl",
         "[Tomatillo Red Chili Salsa, [Rice, Cheese]]",
         "8.75"
        ],
        [
         "348",
         "150",
         "1",
         "Chicken Bowl",
         "[Tomatillo-Red Chili Salsa (Hot), [Rice, Fajita Veggies, Cheese, Sour Cream, Lettuce]]",
         "8.49"
        ],
        [
         "371",
         "161",
         "1",
         "Chicken Bowl",
         "[Fresh Tomato Salsa, [Rice, Cheese, Sour Cream]]",
         "8.75"
        ],
        [
         "379",
         "165",
         "1",
         "Chicken Bowl",
         "[Fresh Tomato Salsa, [Rice, Black Beans, Cheese, Sour Cream, Guacamole]]",
         "11.25"
        ],
        [
         "407",
         "177",
         "1",
         "Chicken Bowl",
         "[Tomatillo Red Chili Salsa, [Rice, Black Beans, Cheese, Sour Cream, Guacamole, Lettuce]]",
         "11.25"
        ],
        [
         "409",
         "178",
         "3",
         "Chicken Bowl",
         "[[Fresh Tomato Salsa (Mild), Tomatillo-Green Chili Salsa (Medium), Roasted Chili Corn Salsa (Medium)], [Black Beans, Rice, Fajita Veggies, Cheese, Guacamole, Lettuce]]",
         "32.94"
        ],
        [
         "411",
         "179",
         "1",
         "Chicken Bowl",
         "[Tomatillo Green Chili Salsa, [Sour Cream, Cheese, Guacamole]]",
         "11.25"
        ],
        [
         "415",
         "181",
         "2",
         "Chicken Bowl",
         "[Tomatillo Red Chili Salsa]",
         "17.5"
        ],
        [
         "422",
         "184",
         "1",
         "Chicken Bowl",
         "[Roasted Chili Corn Salsa, [Rice, Lettuce]]",
         "8.75"
        ],
        [
         "449",
         "195",
         "1",
         "Chicken Bowl",
         "[Fresh Tomato Salsa, [Rice, Black Beans, Cheese, Lettuce]]",
         "8.75"
        ],
        [
         "454",
         "195",
         "1",
         "Chicken Bowl",
         "[Fresh Tomato Salsa, [Rice, Black Beans, Cheese, Sour Cream, Guacamole, Lettuce]]",
         "11.25"
        ],
        [
         "456",
         "196",
         "1",
         "Chicken Bowl",
         "[Fresh Tomato Salsa, [Rice, Black Beans, Cheese]]",
         "8.75"
        ]
       ],
       "shape": {
        "columns": 5,
        "rows": 726
       }
      },
      "text/html": [
       "<div>\n",
       "<style scoped>\n",
       "    .dataframe tbody tr th:only-of-type {\n",
       "        vertical-align: middle;\n",
       "    }\n",
       "\n",
       "    .dataframe tbody tr th {\n",
       "        vertical-align: top;\n",
       "    }\n",
       "\n",
       "    .dataframe thead th {\n",
       "        text-align: right;\n",
       "    }\n",
       "</style>\n",
       "<table border=\"1\" class=\"dataframe\">\n",
       "  <thead>\n",
       "    <tr style=\"text-align: right;\">\n",
       "      <th></th>\n",
       "      <th>order_id</th>\n",
       "      <th>quantity</th>\n",
       "      <th>item_name</th>\n",
       "      <th>choice_description</th>\n",
       "      <th>item_price</th>\n",
       "    </tr>\n",
       "  </thead>\n",
       "  <tbody>\n",
       "    <tr>\n",
       "      <th>4</th>\n",
       "      <td>2</td>\n",
       "      <td>2</td>\n",
       "      <td>Chicken Bowl</td>\n",
       "      <td>[Tomatillo-Red Chili Salsa (Hot), [Black Beans...</td>\n",
       "      <td>16.98</td>\n",
       "    </tr>\n",
       "    <tr>\n",
       "      <th>5</th>\n",
       "      <td>3</td>\n",
       "      <td>1</td>\n",
       "      <td>Chicken Bowl</td>\n",
       "      <td>[Fresh Tomato Salsa (Mild), [Rice, Cheese, Sou...</td>\n",
       "      <td>10.98</td>\n",
       "    </tr>\n",
       "    <tr>\n",
       "      <th>13</th>\n",
       "      <td>7</td>\n",
       "      <td>1</td>\n",
       "      <td>Chicken Bowl</td>\n",
       "      <td>[Fresh Tomato Salsa, [Fajita Vegetables, Rice,...</td>\n",
       "      <td>11.25</td>\n",
       "    </tr>\n",
       "    <tr>\n",
       "      <th>19</th>\n",
       "      <td>10</td>\n",
       "      <td>1</td>\n",
       "      <td>Chicken Bowl</td>\n",
       "      <td>[Tomatillo Red Chili Salsa, [Fajita Vegetables...</td>\n",
       "      <td>8.75</td>\n",
       "    </tr>\n",
       "    <tr>\n",
       "      <th>26</th>\n",
       "      <td>13</td>\n",
       "      <td>1</td>\n",
       "      <td>Chicken Bowl</td>\n",
       "      <td>[Roasted Chili Corn Salsa (Medium), [Pinto Bea...</td>\n",
       "      <td>8.49</td>\n",
       "    </tr>\n",
       "    <tr>\n",
       "      <th>...</th>\n",
       "      <td>...</td>\n",
       "      <td>...</td>\n",
       "      <td>...</td>\n",
       "      <td>...</td>\n",
       "      <td>...</td>\n",
       "    </tr>\n",
       "    <tr>\n",
       "      <th>4590</th>\n",
       "      <td>1825</td>\n",
       "      <td>1</td>\n",
       "      <td>Chicken Bowl</td>\n",
       "      <td>[Roasted Chili Corn Salsa, [Rice, Black Beans,...</td>\n",
       "      <td>11.25</td>\n",
       "    </tr>\n",
       "    <tr>\n",
       "      <th>4591</th>\n",
       "      <td>1825</td>\n",
       "      <td>1</td>\n",
       "      <td>Chicken Bowl</td>\n",
       "      <td>[Tomatillo Red Chili Salsa, [Rice, Black Beans...</td>\n",
       "      <td>8.75</td>\n",
       "    </tr>\n",
       "    <tr>\n",
       "      <th>4595</th>\n",
       "      <td>1826</td>\n",
       "      <td>1</td>\n",
       "      <td>Chicken Bowl</td>\n",
       "      <td>[Tomatillo Green Chili Salsa, [Rice, Black Bea...</td>\n",
       "      <td>8.75</td>\n",
       "    </tr>\n",
       "    <tr>\n",
       "      <th>4599</th>\n",
       "      <td>1827</td>\n",
       "      <td>1</td>\n",
       "      <td>Chicken Bowl</td>\n",
       "      <td>[Roasted Chili Corn Salsa, [Cheese, Lettuce]]</td>\n",
       "      <td>8.75</td>\n",
       "    </tr>\n",
       "    <tr>\n",
       "      <th>4604</th>\n",
       "      <td>1828</td>\n",
       "      <td>1</td>\n",
       "      <td>Chicken Bowl</td>\n",
       "      <td>[Fresh Tomato Salsa, [Rice, Black Beans, Chees...</td>\n",
       "      <td>8.75</td>\n",
       "    </tr>\n",
       "  </tbody>\n",
       "</table>\n",
       "<p>726 rows × 5 columns</p>\n",
       "</div>"
      ],
      "text/plain": [
       "      order_id  quantity     item_name  \\\n",
       "4            2         2  Chicken Bowl   \n",
       "5            3         1  Chicken Bowl   \n",
       "13           7         1  Chicken Bowl   \n",
       "19          10         1  Chicken Bowl   \n",
       "26          13         1  Chicken Bowl   \n",
       "...        ...       ...           ...   \n",
       "4590      1825         1  Chicken Bowl   \n",
       "4591      1825         1  Chicken Bowl   \n",
       "4595      1826         1  Chicken Bowl   \n",
       "4599      1827         1  Chicken Bowl   \n",
       "4604      1828         1  Chicken Bowl   \n",
       "\n",
       "                                     choice_description  item_price  \n",
       "4     [Tomatillo-Red Chili Salsa (Hot), [Black Beans...       16.98  \n",
       "5     [Fresh Tomato Salsa (Mild), [Rice, Cheese, Sou...       10.98  \n",
       "13    [Fresh Tomato Salsa, [Fajita Vegetables, Rice,...       11.25  \n",
       "19    [Tomatillo Red Chili Salsa, [Fajita Vegetables...        8.75  \n",
       "26    [Roasted Chili Corn Salsa (Medium), [Pinto Bea...        8.49  \n",
       "...                                                 ...         ...  \n",
       "4590  [Roasted Chili Corn Salsa, [Rice, Black Beans,...       11.25  \n",
       "4591  [Tomatillo Red Chili Salsa, [Rice, Black Beans...        8.75  \n",
       "4595  [Tomatillo Green Chili Salsa, [Rice, Black Bea...        8.75  \n",
       "4599      [Roasted Chili Corn Salsa, [Cheese, Lettuce]]        8.75  \n",
       "4604  [Fresh Tomato Salsa, [Rice, Black Beans, Chees...        8.75  \n",
       "\n",
       "[726 rows x 5 columns]"
      ]
     },
     "execution_count": 160,
     "metadata": {},
     "output_type": "execute_result"
    }
   ],
   "source": [
    "chipo[chipo[\"item_name\"]==\"Chicken Bowl\"]"
   ]
  },
  {
   "cell_type": "code",
   "execution_count": 161,
   "metadata": {},
   "outputs": [],
   "source": [
    "#chipo[\"total_price\"]=chipo[\"item_price\"] * chipo[\"quantity\"]\n",
    "#chipo"
   ]
  },
  {
   "cell_type": "code",
   "execution_count": null,
   "metadata": {},
   "outputs": [],
   "source": []
  },
  {
   "cell_type": "code",
   "execution_count": 162,
   "metadata": {},
   "outputs": [
    {
     "data": {
      "application/vnd.microsoft.datawrangler.viewer.v0+json": {
       "columns": [
        {
         "name": "index",
         "rawType": "int64",
         "type": "integer"
        },
        {
         "name": "order_id",
         "rawType": "int64",
         "type": "integer"
        },
        {
         "name": "quantity",
         "rawType": "int64",
         "type": "integer"
        },
        {
         "name": "item_name",
         "rawType": "object",
         "type": "string"
        },
        {
         "name": "choice_description",
         "rawType": "object",
         "type": "unknown"
        },
        {
         "name": "item_price",
         "rawType": "float64",
         "type": "float"
        },
        {
         "name": "unit_price",
         "rawType": "float64",
         "type": "float"
        }
       ],
       "conversionMethod": "pd.DataFrame",
       "ref": "4d0512a3-a004-458b-81a0-3f8ee18b9e11",
       "rows": [
        [
         "0",
         "1",
         "1",
         "Chips and Fresh Tomato Salsa",
         null,
         "2.39",
         "2.39"
        ],
        [
         "1",
         "1",
         "1",
         "Izze",
         "[Clementine]",
         "3.39",
         "3.39"
        ],
        [
         "2",
         "1",
         "1",
         "Nantucket Nectar",
         "[Apple]",
         "3.39",
         "3.39"
        ],
        [
         "3",
         "1",
         "1",
         "Chips and Tomatillo-Green Chili Salsa",
         null,
         "2.39",
         "2.39"
        ],
        [
         "4",
         "2",
         "2",
         "Chicken Bowl",
         "[Tomatillo-Red Chili Salsa (Hot), [Black Beans, Rice, Cheese, Sour Cream]]",
         "16.98",
         "8.49"
        ],
        [
         "5",
         "3",
         "1",
         "Chicken Bowl",
         "[Fresh Tomato Salsa (Mild), [Rice, Cheese, Sour Cream, Guacamole, Lettuce]]",
         "10.98",
         "10.98"
        ],
        [
         "6",
         "3",
         "1",
         "Side of Chips",
         null,
         "1.69",
         "1.69"
        ],
        [
         "7",
         "4",
         "1",
         "Steak Burrito",
         "[Tomatillo Red Chili Salsa, [Fajita Vegetables, Black Beans, Pinto Beans, Cheese, Sour Cream, Guacamole, Lettuce]]",
         "11.75",
         "11.75"
        ],
        [
         "8",
         "4",
         "1",
         "Steak Soft Tacos",
         "[Tomatillo Green Chili Salsa, [Pinto Beans, Cheese, Sour Cream, Lettuce]]",
         "9.25",
         "9.25"
        ],
        [
         "9",
         "5",
         "1",
         "Steak Burrito",
         "[Fresh Tomato Salsa, [Rice, Black Beans, Pinto Beans, Cheese, Sour Cream, Lettuce]]",
         "9.25",
         "9.25"
        ],
        [
         "10",
         "5",
         "1",
         "Chips and Guacamole",
         null,
         "4.45",
         "4.45"
        ],
        [
         "11",
         "6",
         "1",
         "Chicken Crispy Tacos",
         "[Roasted Chili Corn Salsa, [Fajita Vegetables, Rice, Black Beans, Cheese, Sour Cream]]",
         "8.75",
         "8.75"
        ],
        [
         "12",
         "6",
         "1",
         "Chicken Soft Tacos",
         "[Roasted Chili Corn Salsa, [Rice, Black Beans, Cheese, Sour Cream]]",
         "8.75",
         "8.75"
        ],
        [
         "13",
         "7",
         "1",
         "Chicken Bowl",
         "[Fresh Tomato Salsa, [Fajita Vegetables, Rice, Cheese, Sour Cream, Guacamole]]",
         "11.25",
         "11.25"
        ],
        [
         "14",
         "7",
         "1",
         "Chips and Guacamole",
         null,
         "4.45",
         "4.45"
        ],
        [
         "15",
         "8",
         "1",
         "Chips and Tomatillo-Green Chili Salsa",
         null,
         "2.39",
         "2.39"
        ],
        [
         "16",
         "8",
         "1",
         "Chicken Burrito",
         "[Tomatillo-Green Chili Salsa (Medium), [Pinto Beans, Cheese, Sour Cream]]",
         "8.49",
         "8.49"
        ],
        [
         "17",
         "9",
         "1",
         "Chicken Burrito",
         "[Fresh Tomato Salsa (Mild), [Black Beans, Rice, Cheese, Sour Cream, Lettuce]]",
         "8.49",
         "8.49"
        ],
        [
         "18",
         "9",
         "2",
         "Canned Soda",
         "[Sprite]",
         "2.18",
         "1.09"
        ],
        [
         "19",
         "10",
         "1",
         "Chicken Bowl",
         "[Tomatillo Red Chili Salsa, [Fajita Vegetables, Black Beans, Sour Cream, Cheese, Lettuce]]",
         "8.75",
         "8.75"
        ],
        [
         "20",
         "10",
         "1",
         "Chips and Guacamole",
         null,
         "4.45",
         "4.45"
        ],
        [
         "21",
         "11",
         "1",
         "Barbacoa Burrito",
         "[[Fresh Tomato Salsa (Mild), Tomatillo-Green Chili Salsa (Medium), Tomatillo-Red Chili Salsa (Hot)], [Rice, Cheese, Sour Cream, Lettuce]]",
         "8.99",
         "8.99"
        ],
        [
         "22",
         "11",
         "1",
         "Nantucket Nectar",
         "[Pomegranate Cherry]",
         "3.39",
         "3.39"
        ],
        [
         "23",
         "12",
         "1",
         "Chicken Burrito",
         "[[Tomatillo-Green Chili Salsa (Medium), Tomatillo-Red Chili Salsa (Hot)], [Pinto Beans, Rice, Cheese, Sour Cream, Guacamole, Lettuce]]",
         "10.98",
         "10.98"
        ],
        [
         "24",
         "12",
         "1",
         "Izze",
         "[Grapefruit]",
         "3.39",
         "3.39"
        ],
        [
         "25",
         "13",
         "1",
         "Chips and Fresh Tomato Salsa",
         null,
         "2.39",
         "2.39"
        ],
        [
         "26",
         "13",
         "1",
         "Chicken Bowl",
         "[Roasted Chili Corn Salsa (Medium), [Pinto Beans, Rice, Fajita Veggies, Cheese, Sour Cream, Lettuce]]",
         "8.49",
         "8.49"
        ],
        [
         "27",
         "14",
         "1",
         "Carnitas Burrito",
         "[[Tomatillo-Green Chili Salsa (Medium), Roasted Chili Corn Salsa (Medium)], [Black Beans, Rice, Sour Cream, Lettuce]]",
         "8.99",
         "8.99"
        ],
        [
         "28",
         "14",
         "1",
         "Canned Soda",
         "[Dr. Pepper]",
         "1.09",
         "1.09"
        ],
        [
         "29",
         "15",
         "1",
         "Chicken Burrito",
         "[Tomatillo-Green Chili Salsa (Medium), [Pinto Beans, Rice, Cheese, Sour Cream]]",
         "8.49",
         "8.49"
        ],
        [
         "30",
         "15",
         "1",
         "Chips and Tomatillo-Green Chili Salsa",
         null,
         "2.39",
         "2.39"
        ],
        [
         "31",
         "16",
         "1",
         "Steak Burrito",
         "[[Roasted Chili Corn Salsa (Medium), Fresh Tomato Salsa (Mild)], [Rice, Black Beans, Sour Cream]]",
         "8.99",
         "8.99"
        ],
        [
         "32",
         "16",
         "1",
         "Side of Chips",
         null,
         "1.69",
         "1.69"
        ],
        [
         "33",
         "17",
         "1",
         "Carnitas Bowl",
         "[Tomatillo-Red Chili Salsa (Hot), [Black Beans, Rice, Fajita Veggies, Cheese, Sour Cream, Lettuce]]",
         "8.99",
         "8.99"
        ],
        [
         "34",
         "17",
         "1",
         "Bottled Water",
         null,
         "1.09",
         "1.09"
        ],
        [
         "35",
         "18",
         "1",
         "Chicken Soft Tacos",
         "[Roasted Chili Corn Salsa, Rice]",
         "8.75",
         "8.75"
        ],
        [
         "36",
         "18",
         "1",
         "Chicken Soft Tacos",
         "[Roasted Chili Corn Salsa, [Cheese, Lettuce]]",
         "8.75",
         "8.75"
        ],
        [
         "37",
         "18",
         "1",
         "Chips and Guacamole",
         null,
         "4.45",
         "4.45"
        ],
        [
         "38",
         "18",
         "1",
         "Chips and Tomatillo Green Chili Salsa",
         null,
         "2.95",
         "2.95"
        ],
        [
         "39",
         "19",
         "1",
         "Barbacoa Bowl",
         "[Roasted Chili Corn Salsa, [Fajita Vegetables, Rice, Black Beans, Cheese, Sour Cream, Guacamole, Lettuce]]",
         "11.75",
         "11.75"
        ],
        [
         "40",
         "19",
         "1",
         "Chips",
         null,
         "2.15",
         "2.15"
        ],
        [
         "41",
         "20",
         "1",
         "Chips and Guacamole",
         null,
         "4.45",
         "4.45"
        ],
        [
         "42",
         "20",
         "1",
         "Chicken Bowl",
         "[Roasted Chili Corn Salsa, [Rice, Black Beans, Cheese, Sour Cream, Guacamole, Lettuce]]",
         "11.25",
         "11.25"
        ],
        [
         "43",
         "20",
         "1",
         "Steak Burrito",
         "[Fresh Tomato Salsa, [Rice, Pinto Beans, Cheese, Sour Cream, Guacamole, Lettuce]]",
         "11.75",
         "11.75"
        ],
        [
         "44",
         "20",
         "1",
         "Chicken Salad Bowl",
         "[Fresh Tomato Salsa, [Fajita Vegetables, Pinto Beans, Lettuce]]",
         "8.75",
         "8.75"
        ],
        [
         "45",
         "21",
         "1",
         "Chicken Burrito",
         "[Tomatillo-Red Chili Salsa (Hot), [Black Beans, Fajita Veggies, Cheese, Sour Cream, Guacamole, Lettuce]]",
         "10.98",
         "10.98"
        ],
        [
         "46",
         "21",
         "1",
         "Steak Burrito",
         "[Tomatillo-Red Chili Salsa (Hot), [Rice, Fajita Veggies, Cheese]]",
         "8.99",
         "8.99"
        ],
        [
         "47",
         "21",
         "1",
         "Izze",
         "[Blackberry]",
         "3.39",
         "3.39"
        ],
        [
         "48",
         "22",
         "1",
         "Steak Burrito",
         "[[Fresh Tomato Salsa (Mild), Roasted Chili Corn Salsa (Medium), Tomatillo-Red Chili Salsa (Hot)], [Black Beans, Rice, Sour Cream]]",
         "8.99",
         "8.99"
        ],
        [
         "49",
         "22",
         "1",
         "Chips and Guacamole",
         null,
         "3.99",
         "3.99"
        ]
       ],
       "shape": {
        "columns": 6,
        "rows": 4622
       }
      },
      "text/html": [
       "<div>\n",
       "<style scoped>\n",
       "    .dataframe tbody tr th:only-of-type {\n",
       "        vertical-align: middle;\n",
       "    }\n",
       "\n",
       "    .dataframe tbody tr th {\n",
       "        vertical-align: top;\n",
       "    }\n",
       "\n",
       "    .dataframe thead th {\n",
       "        text-align: right;\n",
       "    }\n",
       "</style>\n",
       "<table border=\"1\" class=\"dataframe\">\n",
       "  <thead>\n",
       "    <tr style=\"text-align: right;\">\n",
       "      <th></th>\n",
       "      <th>order_id</th>\n",
       "      <th>quantity</th>\n",
       "      <th>item_name</th>\n",
       "      <th>choice_description</th>\n",
       "      <th>item_price</th>\n",
       "      <th>unit_price</th>\n",
       "    </tr>\n",
       "  </thead>\n",
       "  <tbody>\n",
       "    <tr>\n",
       "      <th>0</th>\n",
       "      <td>1</td>\n",
       "      <td>1</td>\n",
       "      <td>Chips and Fresh Tomato Salsa</td>\n",
       "      <td>NaN</td>\n",
       "      <td>2.39</td>\n",
       "      <td>2.39</td>\n",
       "    </tr>\n",
       "    <tr>\n",
       "      <th>1</th>\n",
       "      <td>1</td>\n",
       "      <td>1</td>\n",
       "      <td>Izze</td>\n",
       "      <td>[Clementine]</td>\n",
       "      <td>3.39</td>\n",
       "      <td>3.39</td>\n",
       "    </tr>\n",
       "    <tr>\n",
       "      <th>2</th>\n",
       "      <td>1</td>\n",
       "      <td>1</td>\n",
       "      <td>Nantucket Nectar</td>\n",
       "      <td>[Apple]</td>\n",
       "      <td>3.39</td>\n",
       "      <td>3.39</td>\n",
       "    </tr>\n",
       "    <tr>\n",
       "      <th>3</th>\n",
       "      <td>1</td>\n",
       "      <td>1</td>\n",
       "      <td>Chips and Tomatillo-Green Chili Salsa</td>\n",
       "      <td>NaN</td>\n",
       "      <td>2.39</td>\n",
       "      <td>2.39</td>\n",
       "    </tr>\n",
       "    <tr>\n",
       "      <th>4</th>\n",
       "      <td>2</td>\n",
       "      <td>2</td>\n",
       "      <td>Chicken Bowl</td>\n",
       "      <td>[Tomatillo-Red Chili Salsa (Hot), [Black Beans...</td>\n",
       "      <td>16.98</td>\n",
       "      <td>8.49</td>\n",
       "    </tr>\n",
       "    <tr>\n",
       "      <th>...</th>\n",
       "      <td>...</td>\n",
       "      <td>...</td>\n",
       "      <td>...</td>\n",
       "      <td>...</td>\n",
       "      <td>...</td>\n",
       "      <td>...</td>\n",
       "    </tr>\n",
       "    <tr>\n",
       "      <th>4617</th>\n",
       "      <td>1833</td>\n",
       "      <td>1</td>\n",
       "      <td>Steak Burrito</td>\n",
       "      <td>[Fresh Tomato Salsa, [Rice, Black Beans, Sour ...</td>\n",
       "      <td>11.75</td>\n",
       "      <td>11.75</td>\n",
       "    </tr>\n",
       "    <tr>\n",
       "      <th>4618</th>\n",
       "      <td>1833</td>\n",
       "      <td>1</td>\n",
       "      <td>Steak Burrito</td>\n",
       "      <td>[Fresh Tomato Salsa, [Rice, Sour Cream, Cheese...</td>\n",
       "      <td>11.75</td>\n",
       "      <td>11.75</td>\n",
       "    </tr>\n",
       "    <tr>\n",
       "      <th>4619</th>\n",
       "      <td>1834</td>\n",
       "      <td>1</td>\n",
       "      <td>Chicken Salad Bowl</td>\n",
       "      <td>[Fresh Tomato Salsa, [Fajita Vegetables, Pinto...</td>\n",
       "      <td>11.25</td>\n",
       "      <td>11.25</td>\n",
       "    </tr>\n",
       "    <tr>\n",
       "      <th>4620</th>\n",
       "      <td>1834</td>\n",
       "      <td>1</td>\n",
       "      <td>Chicken Salad Bowl</td>\n",
       "      <td>[Fresh Tomato Salsa, [Fajita Vegetables, Lettu...</td>\n",
       "      <td>8.75</td>\n",
       "      <td>8.75</td>\n",
       "    </tr>\n",
       "    <tr>\n",
       "      <th>4621</th>\n",
       "      <td>1834</td>\n",
       "      <td>1</td>\n",
       "      <td>Chicken Salad Bowl</td>\n",
       "      <td>[Fresh Tomato Salsa, [Fajita Vegetables, Pinto...</td>\n",
       "      <td>8.75</td>\n",
       "      <td>8.75</td>\n",
       "    </tr>\n",
       "  </tbody>\n",
       "</table>\n",
       "<p>4622 rows × 6 columns</p>\n",
       "</div>"
      ],
      "text/plain": [
       "      order_id  quantity                              item_name  \\\n",
       "0            1         1           Chips and Fresh Tomato Salsa   \n",
       "1            1         1                                   Izze   \n",
       "2            1         1                       Nantucket Nectar   \n",
       "3            1         1  Chips and Tomatillo-Green Chili Salsa   \n",
       "4            2         2                           Chicken Bowl   \n",
       "...        ...       ...                                    ...   \n",
       "4617      1833         1                          Steak Burrito   \n",
       "4618      1833         1                          Steak Burrito   \n",
       "4619      1834         1                     Chicken Salad Bowl   \n",
       "4620      1834         1                     Chicken Salad Bowl   \n",
       "4621      1834         1                     Chicken Salad Bowl   \n",
       "\n",
       "                                     choice_description  item_price  \\\n",
       "0                                                   NaN        2.39   \n",
       "1                                          [Clementine]        3.39   \n",
       "2                                               [Apple]        3.39   \n",
       "3                                                   NaN        2.39   \n",
       "4     [Tomatillo-Red Chili Salsa (Hot), [Black Beans...       16.98   \n",
       "...                                                 ...         ...   \n",
       "4617  [Fresh Tomato Salsa, [Rice, Black Beans, Sour ...       11.75   \n",
       "4618  [Fresh Tomato Salsa, [Rice, Sour Cream, Cheese...       11.75   \n",
       "4619  [Fresh Tomato Salsa, [Fajita Vegetables, Pinto...       11.25   \n",
       "4620  [Fresh Tomato Salsa, [Fajita Vegetables, Lettu...        8.75   \n",
       "4621  [Fresh Tomato Salsa, [Fajita Vegetables, Pinto...        8.75   \n",
       "\n",
       "      unit_price  \n",
       "0           2.39  \n",
       "1           3.39  \n",
       "2           3.39  \n",
       "3           2.39  \n",
       "4           8.49  \n",
       "...          ...  \n",
       "4617       11.75  \n",
       "4618       11.75  \n",
       "4619       11.25  \n",
       "4620        8.75  \n",
       "4621        8.75  \n",
       "\n",
       "[4622 rows x 6 columns]"
      ]
     },
     "execution_count": 162,
     "metadata": {},
     "output_type": "execute_result"
    }
   ],
   "source": [
    "chipo['unit_price'] = chipo['item_price'] / chipo['quantity']\n",
    "chipo"
   ]
  },
  {
   "cell_type": "code",
   "execution_count": 163,
   "metadata": {},
   "outputs": [
    {
     "data": {
      "application/vnd.microsoft.datawrangler.viewer.v0+json": {
       "columns": [
        {
         "name": "index",
         "rawType": "int64",
         "type": "integer"
        },
        {
         "name": "order_id",
         "rawType": "int64",
         "type": "integer"
        },
        {
         "name": "quantity",
         "rawType": "int64",
         "type": "integer"
        },
        {
         "name": "item_name",
         "rawType": "object",
         "type": "string"
        },
        {
         "name": "choice_description",
         "rawType": "object",
         "type": "string"
        },
        {
         "name": "item_price",
         "rawType": "float64",
         "type": "float"
        },
        {
         "name": "unit_price",
         "rawType": "float64",
         "type": "float"
        }
       ],
       "conversionMethod": "pd.DataFrame",
       "ref": "f6491bd5-bd91-43b3-ac83-15f346542b99",
       "rows": [
        [
         "281",
         "123",
         "2",
         "Steak Salad Bowl",
         "[Tomatillo Red Chili Salsa, [Black Beans, Cheese, Guacamole]]",
         "23.78",
         "11.89"
        ],
        [
         "606",
         "250",
         "1",
         "Steak Salad Bowl",
         "[Fresh Tomato Salsa, [Pinto Beans, Cheese, Guacamole, Lettuce]]",
         "11.89",
         "11.89"
        ],
        [
         "613",
         "253",
         "2",
         "Steak Salad Bowl",
         "[Tomatillo Red Chili Salsa, [Fajita Vegetables, Black Beans, Cheese, Guacamole, Lettuce]]",
         "23.78",
         "11.89"
        ],
        [
         "749",
         "309",
         "1",
         "Steak Salad Bowl",
         "[Roasted Chili Corn Salsa, [Rice, Cheese, Lettuce, Guacamole]]",
         "11.89",
         "11.89"
        ],
        [
         "1132",
         "468",
         "1",
         "Carnitas Salad Bowl",
         "[Fresh Tomato Salsa, [Rice, Black Beans, Cheese, Guacamole]]",
         "11.89",
         "11.89"
        ],
        [
         "1159",
         "478",
         "1",
         "Steak Salad Bowl",
         "[Fresh Tomato Salsa, [Rice, Fajita Vegetables, Sour Cream, Cheese, Lettuce, Guacamole]]",
         "11.89",
         "11.89"
        ],
        [
         "1229",
         "501",
         "1",
         "Barbacoa Salad Bowl",
         "[Fresh Tomato Salsa, [Rice, Fajita Vegetables, Pinto Beans, Black Beans, Sour Cream, Cheese, Lettuce, Guacamole]]",
         "11.89",
         "11.89"
        ],
        [
         "1311",
         "534",
         "1",
         "Steak Salad Bowl",
         "[Roasted Chili Corn Salsa, [Fajita Vegetables, Rice, Black Beans, Cheese, Sour Cream, Guacamole, Lettuce]]",
         "11.89",
         "11.89"
        ],
        [
         "1326",
         "541",
         "1",
         "Barbacoa Salad Bowl",
         "[Fresh Tomato Salsa, [Fajita Vegetables, Rice, Black Beans, Cheese, Guacamole, Lettuce]]",
         "11.89",
         "11.89"
        ],
        [
         "1505",
         "612",
         "1",
         "Steak Salad Bowl",
         "[Fresh Tomato Salsa, [Rice, Pinto Beans, Cheese, Sour Cream, Guacamole, Lettuce]]",
         "11.89",
         "11.89"
        ],
        [
         "1571",
         "637",
         "1",
         "Steak Salad Bowl",
         "[Fresh Tomato Salsa, [Fajita Vegetables, Sour Cream, Cheese, Lettuce, Guacamole]]",
         "11.89",
         "11.89"
        ],
        [
         "1590",
         "644",
         "1",
         "Steak Salad Bowl",
         "[Fresh Tomato Salsa, [Fajita Vegetables, Rice, Black Beans, Cheese, Sour Cream, Guacamole]]",
         "11.89",
         "11.89"
        ],
        [
         "1816",
         "734",
         "1",
         "Steak Salad Bowl",
         "[Fresh Tomato Salsa, [Rice, Black Beans, Cheese, Guacamole]]",
         "11.89",
         "11.89"
        ],
        [
         "2401",
         "953",
         "1",
         "Steak Salad Bowl",
         "[Fresh Tomato Salsa, [Fajita Vegetables, Guacamole]]",
         "11.89",
         "11.89"
        ],
        [
         "2439",
         "969",
         "1",
         "Steak Salad Bowl",
         "[Fresh Tomato Salsa, [Fajita Vegetables, Rice, Cheese, Sour Cream, Guacamole, Lettuce]]",
         "11.89",
         "11.89"
        ],
        [
         "2442",
         "970",
         "1",
         "Barbacoa Salad Bowl",
         "[Tomatillo Green Chili Salsa, [Rice, Fajita Vegetables, Pinto Beans, Sour Cream, Cheese, Lettuce, Guacamole]]",
         "11.89",
         "11.89"
        ],
        [
         "2610",
         "1035",
         "1",
         "Carnitas Salad Bowl",
         "[Roasted Chili Corn Salsa, [Fajita Vegetables, Rice, Black Beans, Cheese, Sour Cream, Guacamole, Lettuce]]",
         "11.89",
         "11.89"
        ],
        [
         "2740",
         "1088",
         "1",
         "Steak Salad Bowl",
         "[Fresh Tomato Salsa, [Fajita Vegetables, Black Beans, Cheese, Sour Cream, Guacamole]]",
         "11.89",
         "11.89"
        ],
        [
         "2804",
         "1114",
         "1",
         "Steak Salad Bowl",
         "[Tomatillo Red Chili Salsa, [Rice, Black Beans, Cheese, Sour Cream, Guacamole, Lettuce]]",
         "11.89",
         "11.89"
        ],
        [
         "2957",
         "1176",
         "1",
         "Steak Salad Bowl",
         "[Fresh Tomato Salsa, [Black Beans, Cheese, Guacamole, Lettuce]]",
         "11.89",
         "11.89"
        ],
        [
         "3120",
         "1244",
         "1",
         "Steak Salad Bowl",
         "[Roasted Chili Corn Salsa, [Fajita Vegetables, Rice, Pinto Beans, Cheese, Sour Cream, Guacamole, Lettuce]]",
         "11.89",
         "11.89"
        ],
        [
         "3208",
         "1283",
         "1",
         "Barbacoa Salad Bowl",
         "[Tomatillo Red Chili Salsa, [Black Beans, Cheese, Sour Cream, Guacamole]]",
         "11.89",
         "11.89"
        ],
        [
         "3350",
         "1343",
         "1",
         "Steak Salad Bowl",
         "[Fresh Tomato Salsa, [Cheese, Guacamole, Lettuce]]",
         "11.89",
         "11.89"
        ],
        [
         "3493",
         "1403",
         "1",
         "Steak Salad Bowl",
         "[Roasted Chili Corn Salsa, [Fajita Vegetables, Rice, Cheese, Guacamole, Lettuce]]",
         "11.89",
         "11.89"
        ],
        [
         "3546",
         "1426",
         "1",
         "Barbacoa Salad Bowl",
         "[Fresh Tomato Salsa, Guacamole]",
         "11.89",
         "11.89"
        ],
        [
         "3749",
         "1499",
         "1",
         "Carnitas Salad Bowl",
         "[Roasted Chili Corn Salsa, [Fajita Vegetables, Rice, Pinto Beans, Cheese, Sour Cream, Guacamole, Lettuce]]",
         "11.89",
         "11.89"
        ],
        [
         "4239",
         "1692",
         "1",
         "Carnitas Salad Bowl",
         "[Tomatillo Green Chili Salsa, [Black Beans, Cheese, Guacamole]]",
         "11.89",
         "11.89"
        ],
        [
         "4313",
         "1720",
         "1",
         "Steak Salad Bowl",
         "[Roasted Chili Corn Salsa, [Fajita Vegetables, Rice, Black Beans, Guacamole]]",
         "11.89",
         "11.89"
        ]
       ],
       "shape": {
        "columns": 6,
        "rows": 28
       }
      },
      "text/html": [
       "<div>\n",
       "<style scoped>\n",
       "    .dataframe tbody tr th:only-of-type {\n",
       "        vertical-align: middle;\n",
       "    }\n",
       "\n",
       "    .dataframe tbody tr th {\n",
       "        vertical-align: top;\n",
       "    }\n",
       "\n",
       "    .dataframe thead th {\n",
       "        text-align: right;\n",
       "    }\n",
       "</style>\n",
       "<table border=\"1\" class=\"dataframe\">\n",
       "  <thead>\n",
       "    <tr style=\"text-align: right;\">\n",
       "      <th></th>\n",
       "      <th>order_id</th>\n",
       "      <th>quantity</th>\n",
       "      <th>item_name</th>\n",
       "      <th>choice_description</th>\n",
       "      <th>item_price</th>\n",
       "      <th>unit_price</th>\n",
       "    </tr>\n",
       "  </thead>\n",
       "  <tbody>\n",
       "    <tr>\n",
       "      <th>281</th>\n",
       "      <td>123</td>\n",
       "      <td>2</td>\n",
       "      <td>Steak Salad Bowl</td>\n",
       "      <td>[Tomatillo Red Chili Salsa, [Black Beans, Chee...</td>\n",
       "      <td>23.78</td>\n",
       "      <td>11.89</td>\n",
       "    </tr>\n",
       "    <tr>\n",
       "      <th>606</th>\n",
       "      <td>250</td>\n",
       "      <td>1</td>\n",
       "      <td>Steak Salad Bowl</td>\n",
       "      <td>[Fresh Tomato Salsa, [Pinto Beans, Cheese, Gua...</td>\n",
       "      <td>11.89</td>\n",
       "      <td>11.89</td>\n",
       "    </tr>\n",
       "    <tr>\n",
       "      <th>613</th>\n",
       "      <td>253</td>\n",
       "      <td>2</td>\n",
       "      <td>Steak Salad Bowl</td>\n",
       "      <td>[Tomatillo Red Chili Salsa, [Fajita Vegetables...</td>\n",
       "      <td>23.78</td>\n",
       "      <td>11.89</td>\n",
       "    </tr>\n",
       "    <tr>\n",
       "      <th>749</th>\n",
       "      <td>309</td>\n",
       "      <td>1</td>\n",
       "      <td>Steak Salad Bowl</td>\n",
       "      <td>[Roasted Chili Corn Salsa, [Rice, Cheese, Lett...</td>\n",
       "      <td>11.89</td>\n",
       "      <td>11.89</td>\n",
       "    </tr>\n",
       "    <tr>\n",
       "      <th>1132</th>\n",
       "      <td>468</td>\n",
       "      <td>1</td>\n",
       "      <td>Carnitas Salad Bowl</td>\n",
       "      <td>[Fresh Tomato Salsa, [Rice, Black Beans, Chees...</td>\n",
       "      <td>11.89</td>\n",
       "      <td>11.89</td>\n",
       "    </tr>\n",
       "    <tr>\n",
       "      <th>1159</th>\n",
       "      <td>478</td>\n",
       "      <td>1</td>\n",
       "      <td>Steak Salad Bowl</td>\n",
       "      <td>[Fresh Tomato Salsa, [Rice, Fajita Vegetables,...</td>\n",
       "      <td>11.89</td>\n",
       "      <td>11.89</td>\n",
       "    </tr>\n",
       "    <tr>\n",
       "      <th>1229</th>\n",
       "      <td>501</td>\n",
       "      <td>1</td>\n",
       "      <td>Barbacoa Salad Bowl</td>\n",
       "      <td>[Fresh Tomato Salsa, [Rice, Fajita Vegetables,...</td>\n",
       "      <td>11.89</td>\n",
       "      <td>11.89</td>\n",
       "    </tr>\n",
       "    <tr>\n",
       "      <th>1311</th>\n",
       "      <td>534</td>\n",
       "      <td>1</td>\n",
       "      <td>Steak Salad Bowl</td>\n",
       "      <td>[Roasted Chili Corn Salsa, [Fajita Vegetables,...</td>\n",
       "      <td>11.89</td>\n",
       "      <td>11.89</td>\n",
       "    </tr>\n",
       "    <tr>\n",
       "      <th>1326</th>\n",
       "      <td>541</td>\n",
       "      <td>1</td>\n",
       "      <td>Barbacoa Salad Bowl</td>\n",
       "      <td>[Fresh Tomato Salsa, [Fajita Vegetables, Rice,...</td>\n",
       "      <td>11.89</td>\n",
       "      <td>11.89</td>\n",
       "    </tr>\n",
       "    <tr>\n",
       "      <th>1505</th>\n",
       "      <td>612</td>\n",
       "      <td>1</td>\n",
       "      <td>Steak Salad Bowl</td>\n",
       "      <td>[Fresh Tomato Salsa, [Rice, Pinto Beans, Chees...</td>\n",
       "      <td>11.89</td>\n",
       "      <td>11.89</td>\n",
       "    </tr>\n",
       "    <tr>\n",
       "      <th>1571</th>\n",
       "      <td>637</td>\n",
       "      <td>1</td>\n",
       "      <td>Steak Salad Bowl</td>\n",
       "      <td>[Fresh Tomato Salsa, [Fajita Vegetables, Sour ...</td>\n",
       "      <td>11.89</td>\n",
       "      <td>11.89</td>\n",
       "    </tr>\n",
       "    <tr>\n",
       "      <th>1590</th>\n",
       "      <td>644</td>\n",
       "      <td>1</td>\n",
       "      <td>Steak Salad Bowl</td>\n",
       "      <td>[Fresh Tomato Salsa, [Fajita Vegetables, Rice,...</td>\n",
       "      <td>11.89</td>\n",
       "      <td>11.89</td>\n",
       "    </tr>\n",
       "    <tr>\n",
       "      <th>1816</th>\n",
       "      <td>734</td>\n",
       "      <td>1</td>\n",
       "      <td>Steak Salad Bowl</td>\n",
       "      <td>[Fresh Tomato Salsa, [Rice, Black Beans, Chees...</td>\n",
       "      <td>11.89</td>\n",
       "      <td>11.89</td>\n",
       "    </tr>\n",
       "    <tr>\n",
       "      <th>2401</th>\n",
       "      <td>953</td>\n",
       "      <td>1</td>\n",
       "      <td>Steak Salad Bowl</td>\n",
       "      <td>[Fresh Tomato Salsa, [Fajita Vegetables, Guaca...</td>\n",
       "      <td>11.89</td>\n",
       "      <td>11.89</td>\n",
       "    </tr>\n",
       "    <tr>\n",
       "      <th>2439</th>\n",
       "      <td>969</td>\n",
       "      <td>1</td>\n",
       "      <td>Steak Salad Bowl</td>\n",
       "      <td>[Fresh Tomato Salsa, [Fajita Vegetables, Rice,...</td>\n",
       "      <td>11.89</td>\n",
       "      <td>11.89</td>\n",
       "    </tr>\n",
       "    <tr>\n",
       "      <th>2442</th>\n",
       "      <td>970</td>\n",
       "      <td>1</td>\n",
       "      <td>Barbacoa Salad Bowl</td>\n",
       "      <td>[Tomatillo Green Chili Salsa, [Rice, Fajita Ve...</td>\n",
       "      <td>11.89</td>\n",
       "      <td>11.89</td>\n",
       "    </tr>\n",
       "    <tr>\n",
       "      <th>2610</th>\n",
       "      <td>1035</td>\n",
       "      <td>1</td>\n",
       "      <td>Carnitas Salad Bowl</td>\n",
       "      <td>[Roasted Chili Corn Salsa, [Fajita Vegetables,...</td>\n",
       "      <td>11.89</td>\n",
       "      <td>11.89</td>\n",
       "    </tr>\n",
       "    <tr>\n",
       "      <th>2740</th>\n",
       "      <td>1088</td>\n",
       "      <td>1</td>\n",
       "      <td>Steak Salad Bowl</td>\n",
       "      <td>[Fresh Tomato Salsa, [Fajita Vegetables, Black...</td>\n",
       "      <td>11.89</td>\n",
       "      <td>11.89</td>\n",
       "    </tr>\n",
       "    <tr>\n",
       "      <th>2804</th>\n",
       "      <td>1114</td>\n",
       "      <td>1</td>\n",
       "      <td>Steak Salad Bowl</td>\n",
       "      <td>[Tomatillo Red Chili Salsa, [Rice, Black Beans...</td>\n",
       "      <td>11.89</td>\n",
       "      <td>11.89</td>\n",
       "    </tr>\n",
       "    <tr>\n",
       "      <th>2957</th>\n",
       "      <td>1176</td>\n",
       "      <td>1</td>\n",
       "      <td>Steak Salad Bowl</td>\n",
       "      <td>[Fresh Tomato Salsa, [Black Beans, Cheese, Gua...</td>\n",
       "      <td>11.89</td>\n",
       "      <td>11.89</td>\n",
       "    </tr>\n",
       "    <tr>\n",
       "      <th>3120</th>\n",
       "      <td>1244</td>\n",
       "      <td>1</td>\n",
       "      <td>Steak Salad Bowl</td>\n",
       "      <td>[Roasted Chili Corn Salsa, [Fajita Vegetables,...</td>\n",
       "      <td>11.89</td>\n",
       "      <td>11.89</td>\n",
       "    </tr>\n",
       "    <tr>\n",
       "      <th>3208</th>\n",
       "      <td>1283</td>\n",
       "      <td>1</td>\n",
       "      <td>Barbacoa Salad Bowl</td>\n",
       "      <td>[Tomatillo Red Chili Salsa, [Black Beans, Chee...</td>\n",
       "      <td>11.89</td>\n",
       "      <td>11.89</td>\n",
       "    </tr>\n",
       "    <tr>\n",
       "      <th>3350</th>\n",
       "      <td>1343</td>\n",
       "      <td>1</td>\n",
       "      <td>Steak Salad Bowl</td>\n",
       "      <td>[Fresh Tomato Salsa, [Cheese, Guacamole, Lettu...</td>\n",
       "      <td>11.89</td>\n",
       "      <td>11.89</td>\n",
       "    </tr>\n",
       "    <tr>\n",
       "      <th>3493</th>\n",
       "      <td>1403</td>\n",
       "      <td>1</td>\n",
       "      <td>Steak Salad Bowl</td>\n",
       "      <td>[Roasted Chili Corn Salsa, [Fajita Vegetables,...</td>\n",
       "      <td>11.89</td>\n",
       "      <td>11.89</td>\n",
       "    </tr>\n",
       "    <tr>\n",
       "      <th>3546</th>\n",
       "      <td>1426</td>\n",
       "      <td>1</td>\n",
       "      <td>Barbacoa Salad Bowl</td>\n",
       "      <td>[Fresh Tomato Salsa, Guacamole]</td>\n",
       "      <td>11.89</td>\n",
       "      <td>11.89</td>\n",
       "    </tr>\n",
       "    <tr>\n",
       "      <th>3749</th>\n",
       "      <td>1499</td>\n",
       "      <td>1</td>\n",
       "      <td>Carnitas Salad Bowl</td>\n",
       "      <td>[Roasted Chili Corn Salsa, [Fajita Vegetables,...</td>\n",
       "      <td>11.89</td>\n",
       "      <td>11.89</td>\n",
       "    </tr>\n",
       "    <tr>\n",
       "      <th>4239</th>\n",
       "      <td>1692</td>\n",
       "      <td>1</td>\n",
       "      <td>Carnitas Salad Bowl</td>\n",
       "      <td>[Tomatillo Green Chili Salsa, [Black Beans, Ch...</td>\n",
       "      <td>11.89</td>\n",
       "      <td>11.89</td>\n",
       "    </tr>\n",
       "    <tr>\n",
       "      <th>4313</th>\n",
       "      <td>1720</td>\n",
       "      <td>1</td>\n",
       "      <td>Steak Salad Bowl</td>\n",
       "      <td>[Roasted Chili Corn Salsa, [Fajita Vegetables,...</td>\n",
       "      <td>11.89</td>\n",
       "      <td>11.89</td>\n",
       "    </tr>\n",
       "  </tbody>\n",
       "</table>\n",
       "</div>"
      ],
      "text/plain": [
       "      order_id  quantity            item_name  \\\n",
       "281        123         2     Steak Salad Bowl   \n",
       "606        250         1     Steak Salad Bowl   \n",
       "613        253         2     Steak Salad Bowl   \n",
       "749        309         1     Steak Salad Bowl   \n",
       "1132       468         1  Carnitas Salad Bowl   \n",
       "1159       478         1     Steak Salad Bowl   \n",
       "1229       501         1  Barbacoa Salad Bowl   \n",
       "1311       534         1     Steak Salad Bowl   \n",
       "1326       541         1  Barbacoa Salad Bowl   \n",
       "1505       612         1     Steak Salad Bowl   \n",
       "1571       637         1     Steak Salad Bowl   \n",
       "1590       644         1     Steak Salad Bowl   \n",
       "1816       734         1     Steak Salad Bowl   \n",
       "2401       953         1     Steak Salad Bowl   \n",
       "2439       969         1     Steak Salad Bowl   \n",
       "2442       970         1  Barbacoa Salad Bowl   \n",
       "2610      1035         1  Carnitas Salad Bowl   \n",
       "2740      1088         1     Steak Salad Bowl   \n",
       "2804      1114         1     Steak Salad Bowl   \n",
       "2957      1176         1     Steak Salad Bowl   \n",
       "3120      1244         1     Steak Salad Bowl   \n",
       "3208      1283         1  Barbacoa Salad Bowl   \n",
       "3350      1343         1     Steak Salad Bowl   \n",
       "3493      1403         1     Steak Salad Bowl   \n",
       "3546      1426         1  Barbacoa Salad Bowl   \n",
       "3749      1499         1  Carnitas Salad Bowl   \n",
       "4239      1692         1  Carnitas Salad Bowl   \n",
       "4313      1720         1     Steak Salad Bowl   \n",
       "\n",
       "                                     choice_description  item_price  \\\n",
       "281   [Tomatillo Red Chili Salsa, [Black Beans, Chee...       23.78   \n",
       "606   [Fresh Tomato Salsa, [Pinto Beans, Cheese, Gua...       11.89   \n",
       "613   [Tomatillo Red Chili Salsa, [Fajita Vegetables...       23.78   \n",
       "749   [Roasted Chili Corn Salsa, [Rice, Cheese, Lett...       11.89   \n",
       "1132  [Fresh Tomato Salsa, [Rice, Black Beans, Chees...       11.89   \n",
       "1159  [Fresh Tomato Salsa, [Rice, Fajita Vegetables,...       11.89   \n",
       "1229  [Fresh Tomato Salsa, [Rice, Fajita Vegetables,...       11.89   \n",
       "1311  [Roasted Chili Corn Salsa, [Fajita Vegetables,...       11.89   \n",
       "1326  [Fresh Tomato Salsa, [Fajita Vegetables, Rice,...       11.89   \n",
       "1505  [Fresh Tomato Salsa, [Rice, Pinto Beans, Chees...       11.89   \n",
       "1571  [Fresh Tomato Salsa, [Fajita Vegetables, Sour ...       11.89   \n",
       "1590  [Fresh Tomato Salsa, [Fajita Vegetables, Rice,...       11.89   \n",
       "1816  [Fresh Tomato Salsa, [Rice, Black Beans, Chees...       11.89   \n",
       "2401  [Fresh Tomato Salsa, [Fajita Vegetables, Guaca...       11.89   \n",
       "2439  [Fresh Tomato Salsa, [Fajita Vegetables, Rice,...       11.89   \n",
       "2442  [Tomatillo Green Chili Salsa, [Rice, Fajita Ve...       11.89   \n",
       "2610  [Roasted Chili Corn Salsa, [Fajita Vegetables,...       11.89   \n",
       "2740  [Fresh Tomato Salsa, [Fajita Vegetables, Black...       11.89   \n",
       "2804  [Tomatillo Red Chili Salsa, [Rice, Black Beans...       11.89   \n",
       "2957  [Fresh Tomato Salsa, [Black Beans, Cheese, Gua...       11.89   \n",
       "3120  [Roasted Chili Corn Salsa, [Fajita Vegetables,...       11.89   \n",
       "3208  [Tomatillo Red Chili Salsa, [Black Beans, Chee...       11.89   \n",
       "3350  [Fresh Tomato Salsa, [Cheese, Guacamole, Lettu...       11.89   \n",
       "3493  [Roasted Chili Corn Salsa, [Fajita Vegetables,...       11.89   \n",
       "3546                    [Fresh Tomato Salsa, Guacamole]       11.89   \n",
       "3749  [Roasted Chili Corn Salsa, [Fajita Vegetables,...       11.89   \n",
       "4239  [Tomatillo Green Chili Salsa, [Black Beans, Ch...       11.89   \n",
       "4313  [Roasted Chili Corn Salsa, [Fajita Vegetables,...       11.89   \n",
       "\n",
       "      unit_price  \n",
       "281        11.89  \n",
       "606        11.89  \n",
       "613        11.89  \n",
       "749        11.89  \n",
       "1132       11.89  \n",
       "1159       11.89  \n",
       "1229       11.89  \n",
       "1311       11.89  \n",
       "1326       11.89  \n",
       "1505       11.89  \n",
       "1571       11.89  \n",
       "1590       11.89  \n",
       "1816       11.89  \n",
       "2401       11.89  \n",
       "2439       11.89  \n",
       "2442       11.89  \n",
       "2610       11.89  \n",
       "2740       11.89  \n",
       "2804       11.89  \n",
       "2957       11.89  \n",
       "3120       11.89  \n",
       "3208       11.89  \n",
       "3350       11.89  \n",
       "3493       11.89  \n",
       "3546       11.89  \n",
       "3749       11.89  \n",
       "4239       11.89  \n",
       "4313       11.89  "
      ]
     },
     "execution_count": 163,
     "metadata": {},
     "output_type": "execute_result"
    }
   ],
   "source": [
    "chipo[chipo[\"unit_price\"]==chipo[\"unit_price\"].max()]"
   ]
  },
  {
   "cell_type": "code",
   "execution_count": 164,
   "metadata": {},
   "outputs": [
    {
     "data": {
      "text/plain": [
       "array(['Steak Salad Bowl', 'Carnitas Salad Bowl', 'Barbacoa Salad Bowl'],\n",
       "      dtype=object)"
      ]
     },
     "execution_count": 164,
     "metadata": {},
     "output_type": "execute_result"
    }
   ],
   "source": [
    "chipo[chipo[\"unit_price\"]==chipo[\"unit_price\"].max()][\"item_name\"].unique()"
   ]
  },
  {
   "cell_type": "code",
   "execution_count": 165,
   "metadata": {},
   "outputs": [
    {
     "data": {
      "text/plain": [
       "array(['Steak Salad Bowl', 'Carnitas Salad Bowl', 'Barbacoa Salad Bowl'],\n",
       "      dtype=object)"
      ]
     },
     "execution_count": 165,
     "metadata": {},
     "output_type": "execute_result"
    }
   ],
   "source": [
    "chipo.loc[chipo[\"unit_price\"]==chipo[\"unit_price\"].max(),\"item_name\"].unique()"
   ]
  },
  {
   "cell_type": "code",
   "execution_count": 166,
   "metadata": {},
   "outputs": [],
   "source": [
    "#chipo[\"order_id\"].value_counts()"
   ]
  },
  {
   "cell_type": "code",
   "execution_count": 167,
   "metadata": {},
   "outputs": [],
   "source": [
    "#chipo[\"item_name\"].unique()"
   ]
  },
  {
   "attachments": {},
   "cell_type": "markdown",
   "metadata": {},
   "source": [
    "### Step 4. How many products cost more than $10.00?"
   ]
  },
  {
   "cell_type": "code",
   "execution_count": 168,
   "metadata": {},
   "outputs": [
    {
     "data": {
      "application/vnd.microsoft.datawrangler.viewer.v0+json": {
       "columns": [
        {
         "name": "index",
         "rawType": "int64",
         "type": "integer"
        },
        {
         "name": "order_id",
         "rawType": "int64",
         "type": "integer"
        },
        {
         "name": "quantity",
         "rawType": "int64",
         "type": "integer"
        },
        {
         "name": "item_name",
         "rawType": "object",
         "type": "string"
        },
        {
         "name": "choice_description",
         "rawType": "object",
         "type": "string"
        },
        {
         "name": "item_price",
         "rawType": "float64",
         "type": "float"
        },
        {
         "name": "unit_price",
         "rawType": "float64",
         "type": "float"
        }
       ],
       "conversionMethod": "pd.DataFrame",
       "ref": "ee91872e-eacd-48d9-996a-faedd9989411",
       "rows": [
        [
         "5",
         "3",
         "1",
         "Chicken Bowl",
         "[Fresh Tomato Salsa (Mild), [Rice, Cheese, Sour Cream, Guacamole, Lettuce]]",
         "10.98",
         "10.98"
        ],
        [
         "7",
         "4",
         "1",
         "Steak Burrito",
         "[Tomatillo Red Chili Salsa, [Fajita Vegetables, Black Beans, Pinto Beans, Cheese, Sour Cream, Guacamole, Lettuce]]",
         "11.75",
         "11.75"
        ],
        [
         "13",
         "7",
         "1",
         "Chicken Bowl",
         "[Fresh Tomato Salsa, [Fajita Vegetables, Rice, Cheese, Sour Cream, Guacamole]]",
         "11.25",
         "11.25"
        ],
        [
         "23",
         "12",
         "1",
         "Chicken Burrito",
         "[[Tomatillo-Green Chili Salsa (Medium), Tomatillo-Red Chili Salsa (Hot)], [Pinto Beans, Rice, Cheese, Sour Cream, Guacamole, Lettuce]]",
         "10.98",
         "10.98"
        ],
        [
         "39",
         "19",
         "1",
         "Barbacoa Bowl",
         "[Roasted Chili Corn Salsa, [Fajita Vegetables, Rice, Black Beans, Cheese, Sour Cream, Guacamole, Lettuce]]",
         "11.75",
         "11.75"
        ],
        [
         "42",
         "20",
         "1",
         "Chicken Bowl",
         "[Roasted Chili Corn Salsa, [Rice, Black Beans, Cheese, Sour Cream, Guacamole, Lettuce]]",
         "11.25",
         "11.25"
        ],
        [
         "43",
         "20",
         "1",
         "Steak Burrito",
         "[Fresh Tomato Salsa, [Rice, Pinto Beans, Cheese, Sour Cream, Guacamole, Lettuce]]",
         "11.75",
         "11.75"
        ],
        [
         "45",
         "21",
         "1",
         "Chicken Burrito",
         "[Tomatillo-Red Chili Salsa (Hot), [Black Beans, Fajita Veggies, Cheese, Sour Cream, Guacamole, Lettuce]]",
         "10.98",
         "10.98"
        ],
        [
         "52",
         "24",
         "1",
         "Chicken Burrito",
         "[Roasted Chili Corn Salsa (Medium), [Black Beans, Rice, Fajita Veggies, Cheese, Sour Cream, Guacamole, Lettuce]]",
         "10.98",
         "10.98"
        ],
        [
         "57",
         "26",
         "1",
         "Veggie Burrito",
         "[Tomatillo Red Chili Salsa, [Fajita Vegetables, Rice, Black Beans, Cheese, Sour Cream, Guacamole, Lettuce]]",
         "11.25",
         "11.25"
        ],
        [
         "58",
         "27",
         "1",
         "Barbacoa Bowl",
         "[Roasted Chili Corn Salsa, [Fajita Vegetables, Rice, Black Beans, Cheese, Sour Cream, Guacamole, Lettuce]]",
         "11.75",
         "11.75"
        ],
        [
         "62",
         "28",
         "1",
         "Veggie Bowl",
         "[Fresh Tomato Salsa, [Fajita Vegetables, Rice, Black Beans, Cheese, Sour Cream, Guacamole, Lettuce]]",
         "11.25",
         "11.25"
        ],
        [
         "68",
         "30",
         "1",
         "Chicken Burrito",
         "[Tomatillo-Red Chili Salsa (Hot), [Black Beans, Fajita Veggies, Cheese, Sour Cream, Guacamole, Lettuce]]",
         "10.98",
         "10.98"
        ],
        [
         "79",
         "35",
         "1",
         "Chicken Soft Tacos",
         "[Roasted Chili Corn Salsa, [Rice, Cheese, Lettuce, Guacamole]]",
         "11.25",
         "11.25"
        ],
        [
         "90",
         "40",
         "1",
         "Steak Bowl",
         "[Fresh Tomato Salsa, [Rice, Black Beans, Cheese, Sour Cream, Guacamole]]",
         "11.75",
         "11.75"
        ],
        [
         "91",
         "40",
         "1",
         "Steak Bowl",
         "[Fresh Tomato Salsa, [Fajita Vegetables, Cheese, Sour Cream, Guacamole]]",
         "11.75",
         "11.75"
        ],
        [
         "93",
         "41",
         "1",
         "Carnitas Burrito",
         "[Roasted Chili Corn Salsa, [Sour Cream, Guacamole]]",
         "11.75",
         "11.75"
        ],
        [
         "97",
         "43",
         "1",
         "Carnitas Bowl",
         "[Fresh Tomato Salsa, [Fajita Vegetables, Rice, Black Beans, Cheese, Guacamole, Lettuce]]",
         "11.75",
         "11.75"
        ],
        [
         "123",
         "54",
         "1",
         "Chicken Bowl",
         "[Fresh Tomato Salsa, [Guacamole, Cheese, Sour Cream, Fajita Vegetables, Rice]]",
         "11.25",
         "11.25"
        ],
        [
         "130",
         "57",
         "1",
         "Barbacoa Burrito",
         "[Roasted Chili Corn Salsa, [Rice, Pinto Beans, Cheese, Guacamole, Lettuce]]",
         "11.75",
         "11.75"
        ],
        [
         "134",
         "59",
         "1",
         "Chicken Burrito",
         "[Roasted Chili Corn Salsa (Medium), [Rice, Black Beans, Sour Cream, Guacamole]]",
         "10.98",
         "10.98"
        ],
        [
         "135",
         "60",
         "2",
         "Chicken Salad Bowl",
         "[Tomatillo Green Chili Salsa, [Sour Cream, Cheese, Guacamole]]",
         "22.5",
         "11.25"
        ],
        [
         "136",
         "61",
         "1",
         "Barbacoa Bowl",
         "[Tomatillo Red Chili Salsa, [Fajita Vegetables, Rice, Black Beans, Cheese, Sour Cream, Guacamole, Lettuce]]",
         "11.75",
         "11.75"
        ],
        [
         "138",
         "62",
         "1",
         "Chicken Bowl",
         "[Fresh Tomato Salsa, [Rice, Fajita Vegetables, Sour Cream, Cheese, Guacamole]]",
         "11.25",
         "11.25"
        ],
        [
         "140",
         "63",
         "1",
         "Chicken Bowl",
         "[Tomatillo Green Chili Salsa, [Rice, Sour Cream, Cheese, Guacamole]]",
         "11.25",
         "11.25"
        ],
        [
         "142",
         "64",
         "1",
         "Chicken Bowl",
         "[Fresh Tomato Salsa, [Fajita Vegetables, Rice, Black Beans, Cheese, Guacamole, Lettuce]]",
         "11.25",
         "11.25"
        ],
        [
         "143",
         "64",
         "1",
         "Veggie Bowl",
         "[Tomatillo Red Chili Salsa, [Fajita Vegetables, Black Beans, Cheese, Guacamole, Lettuce]]",
         "11.25",
         "11.25"
        ],
        [
         "144",
         "65",
         "1",
         "Barbacoa Burrito",
         "[Tomatillo Red Chili Salsa, [Rice, Sour Cream, Cheese, Guacamole]]",
         "11.75",
         "11.75"
        ],
        [
         "147",
         "66",
         "1",
         "Steak Burrito",
         "[Tomatillo-Green Chili Salsa (Medium), [Rice, Black Beans, Sour Cream, Guacamole]]",
         "11.48",
         "11.48"
        ],
        [
         "157",
         "71",
         "1",
         "Veggie Bowl",
         "[Tomatillo Red Chili Salsa, [Fajita Vegetables, Rice, Black Beans, Cheese, Guacamole, Lettuce]]",
         "11.25",
         "11.25"
        ],
        [
         "158",
         "71",
         "1",
         "Steak Burrito",
         "[Tomatillo Green Chili Salsa, [Rice, Cheese, Guacamole, Lettuce]]",
         "11.75",
         "11.75"
        ],
        [
         "159",
         "72",
         "1",
         "Chicken Burrito",
         "[[Roasted Chili Corn Salsa (Medium), Tomatillo-Red Chili Salsa (Hot)], [Black Beans, Rice, Fajita Veggies, Cheese, Sour Cream, Guacamole, Lettuce]]",
         "10.98",
         "10.98"
        ],
        [
         "161",
         "73",
         "1",
         "Chicken Burrito",
         "[[Roasted Chili Corn Salsa (Medium), Tomatillo-Red Chili Salsa (Hot)], [Black Beans, Rice, Fajita Veggies, Cheese, Guacamole, Lettuce]]",
         "10.98",
         "10.98"
        ],
        [
         "163",
         "74",
         "1",
         "Carnitas Bowl",
         "[Roasted Chili Corn Salsa (Medium), [Pinto Beans, Rice, Fajita Veggies, Cheese, Sour Cream, Guacamole, Lettuce]]",
         "11.48",
         "11.48"
        ],
        [
         "167",
         "75",
         "1",
         "Chicken Burrito",
         "[Tomatillo Red Chili Salsa, [Rice, Black Beans, Cheese, Guacamole, Lettuce]]",
         "11.25",
         "11.25"
        ],
        [
         "168",
         "75",
         "1",
         "Barbacoa Crispy Tacos",
         "[Tomatillo Red Chili Salsa, [Rice, Black Beans, Cheese, Sour Cream, Guacamole]]",
         "11.75",
         "11.75"
        ],
        [
         "176",
         "79",
         "1",
         "Chicken Bowl",
         "[Roasted Chili Corn Salsa (Medium), [Black Beans, Rice, Fajita Veggies, Cheese, Sour Cream, Guacamole, Lettuce]]",
         "10.98",
         "10.98"
        ],
        [
         "177",
         "80",
         "1",
         "Steak Burrito",
         "[Fresh Tomato Salsa (Mild), [Rice, Black Beans, Sour Cream, Guacamole]]",
         "11.48",
         "11.48"
        ],
        [
         "186",
         "83",
         "1",
         "Veggie Salad Bowl",
         "[Fresh Tomato Salsa, [Fajita Vegetables, Rice, Black Beans, Cheese, Sour Cream, Guacamole, Lettuce]]",
         "11.25",
         "11.25"
        ],
        [
         "187",
         "84",
         "1",
         "Steak Bowl",
         "[Fresh Tomato Salsa (Mild), [Rice, Fajita Veggies, Guacamole, Lettuce]]",
         "11.48",
         "11.48"
        ],
        [
         "192",
         "86",
         "1",
         "Veggie Bowl",
         "[Roasted Chili Corn Salsa, [Fajita Vegetables, Rice, Cheese, Sour Cream, Guacamole, Lettuce]]",
         "11.25",
         "11.25"
        ],
        [
         "199",
         "89",
         "1",
         "Chicken Bowl",
         "[[Roasted Chili Corn Salsa (Medium), Tomatillo-Red Chili Salsa (Hot)], [Black Beans, Rice, Fajita Veggies, Guacamole, Lettuce]]",
         "10.98",
         "10.98"
        ],
        [
         "202",
         "90",
         "1",
         "Chicken Burrito",
         "[Tomatillo Red Chili Salsa, [Rice, Black Beans, Sour Cream, Cheese, Lettuce, Guacamole]]",
         "11.25",
         "11.25"
        ],
        [
         "209",
         "93",
         "1",
         "Chicken Bowl",
         "[Roasted Chili Corn Salsa, [Fajita Vegetables, Rice, Black Beans, Cheese, Sour Cream, Guacamole, Lettuce]]",
         "11.25",
         "11.25"
        ],
        [
         "210",
         "93",
         "1",
         "Veggie Bowl",
         "[Roasted Chili Corn Salsa, [Rice, Black Beans, Cheese, Sour Cream, Guacamole, Lettuce]]",
         "11.25",
         "11.25"
        ],
        [
         "211",
         "93",
         "1",
         "Chicken Bowl",
         "[Roasted Chili Corn Salsa, [Fajita Vegetables, Rice, Black Beans, Pinto Beans, Cheese, Sour Cream, Guacamole, Lettuce]]",
         "11.25",
         "11.25"
        ],
        [
         "213",
         "94",
         "2",
         "Chicken Salad Bowl",
         "[Fresh Tomato Salsa, [Fajita Vegetables, Pinto Beans, Guacamole]]",
         "22.5",
         "11.25"
        ],
        [
         "215",
         "95",
         "1",
         "Steak Bowl",
         "[Tomatillo Green Chili Salsa, [Fajita Vegetables, Rice, Black Beans, Cheese, Guacamole, Lettuce]]",
         "11.75",
         "11.75"
        ],
        [
         "225",
         "99",
         "1",
         "Veggie Burrito",
         "[Tomatillo Red Chili Salsa, [Black Beans, Cheese, Guacamole]]",
         "11.25",
         "11.25"
        ],
        [
         "234",
         "103",
         "1",
         "Steak Burrito",
         "[Tomatillo Red Chili Salsa, [Rice, Black Beans, Cheese, Sour Cream, Guacamole, Lettuce]]",
         "11.75",
         "11.75"
        ]
       ],
       "shape": {
        "columns": 6,
        "rows": 1034
       }
      },
      "text/html": [
       "<div>\n",
       "<style scoped>\n",
       "    .dataframe tbody tr th:only-of-type {\n",
       "        vertical-align: middle;\n",
       "    }\n",
       "\n",
       "    .dataframe tbody tr th {\n",
       "        vertical-align: top;\n",
       "    }\n",
       "\n",
       "    .dataframe thead th {\n",
       "        text-align: right;\n",
       "    }\n",
       "</style>\n",
       "<table border=\"1\" class=\"dataframe\">\n",
       "  <thead>\n",
       "    <tr style=\"text-align: right;\">\n",
       "      <th></th>\n",
       "      <th>order_id</th>\n",
       "      <th>quantity</th>\n",
       "      <th>item_name</th>\n",
       "      <th>choice_description</th>\n",
       "      <th>item_price</th>\n",
       "      <th>unit_price</th>\n",
       "    </tr>\n",
       "  </thead>\n",
       "  <tbody>\n",
       "    <tr>\n",
       "      <th>5</th>\n",
       "      <td>3</td>\n",
       "      <td>1</td>\n",
       "      <td>Chicken Bowl</td>\n",
       "      <td>[Fresh Tomato Salsa (Mild), [Rice, Cheese, Sou...</td>\n",
       "      <td>10.98</td>\n",
       "      <td>10.98</td>\n",
       "    </tr>\n",
       "    <tr>\n",
       "      <th>7</th>\n",
       "      <td>4</td>\n",
       "      <td>1</td>\n",
       "      <td>Steak Burrito</td>\n",
       "      <td>[Tomatillo Red Chili Salsa, [Fajita Vegetables...</td>\n",
       "      <td>11.75</td>\n",
       "      <td>11.75</td>\n",
       "    </tr>\n",
       "    <tr>\n",
       "      <th>13</th>\n",
       "      <td>7</td>\n",
       "      <td>1</td>\n",
       "      <td>Chicken Bowl</td>\n",
       "      <td>[Fresh Tomato Salsa, [Fajita Vegetables, Rice,...</td>\n",
       "      <td>11.25</td>\n",
       "      <td>11.25</td>\n",
       "    </tr>\n",
       "    <tr>\n",
       "      <th>23</th>\n",
       "      <td>12</td>\n",
       "      <td>1</td>\n",
       "      <td>Chicken Burrito</td>\n",
       "      <td>[[Tomatillo-Green Chili Salsa (Medium), Tomati...</td>\n",
       "      <td>10.98</td>\n",
       "      <td>10.98</td>\n",
       "    </tr>\n",
       "    <tr>\n",
       "      <th>39</th>\n",
       "      <td>19</td>\n",
       "      <td>1</td>\n",
       "      <td>Barbacoa Bowl</td>\n",
       "      <td>[Roasted Chili Corn Salsa, [Fajita Vegetables,...</td>\n",
       "      <td>11.75</td>\n",
       "      <td>11.75</td>\n",
       "    </tr>\n",
       "    <tr>\n",
       "      <th>...</th>\n",
       "      <td>...</td>\n",
       "      <td>...</td>\n",
       "      <td>...</td>\n",
       "      <td>...</td>\n",
       "      <td>...</td>\n",
       "      <td>...</td>\n",
       "    </tr>\n",
       "    <tr>\n",
       "      <th>4610</th>\n",
       "      <td>1830</td>\n",
       "      <td>1</td>\n",
       "      <td>Steak Burrito</td>\n",
       "      <td>[Fresh Tomato Salsa, [Rice, Sour Cream, Cheese...</td>\n",
       "      <td>11.75</td>\n",
       "      <td>11.75</td>\n",
       "    </tr>\n",
       "    <tr>\n",
       "      <th>4611</th>\n",
       "      <td>1830</td>\n",
       "      <td>1</td>\n",
       "      <td>Veggie Burrito</td>\n",
       "      <td>[Tomatillo Green Chili Salsa, [Rice, Fajita Ve...</td>\n",
       "      <td>11.25</td>\n",
       "      <td>11.25</td>\n",
       "    </tr>\n",
       "    <tr>\n",
       "      <th>4617</th>\n",
       "      <td>1833</td>\n",
       "      <td>1</td>\n",
       "      <td>Steak Burrito</td>\n",
       "      <td>[Fresh Tomato Salsa, [Rice, Black Beans, Sour ...</td>\n",
       "      <td>11.75</td>\n",
       "      <td>11.75</td>\n",
       "    </tr>\n",
       "    <tr>\n",
       "      <th>4618</th>\n",
       "      <td>1833</td>\n",
       "      <td>1</td>\n",
       "      <td>Steak Burrito</td>\n",
       "      <td>[Fresh Tomato Salsa, [Rice, Sour Cream, Cheese...</td>\n",
       "      <td>11.75</td>\n",
       "      <td>11.75</td>\n",
       "    </tr>\n",
       "    <tr>\n",
       "      <th>4619</th>\n",
       "      <td>1834</td>\n",
       "      <td>1</td>\n",
       "      <td>Chicken Salad Bowl</td>\n",
       "      <td>[Fresh Tomato Salsa, [Fajita Vegetables, Pinto...</td>\n",
       "      <td>11.25</td>\n",
       "      <td>11.25</td>\n",
       "    </tr>\n",
       "  </tbody>\n",
       "</table>\n",
       "<p>1034 rows × 6 columns</p>\n",
       "</div>"
      ],
      "text/plain": [
       "      order_id  quantity           item_name  \\\n",
       "5            3         1        Chicken Bowl   \n",
       "7            4         1       Steak Burrito   \n",
       "13           7         1        Chicken Bowl   \n",
       "23          12         1     Chicken Burrito   \n",
       "39          19         1       Barbacoa Bowl   \n",
       "...        ...       ...                 ...   \n",
       "4610      1830         1       Steak Burrito   \n",
       "4611      1830         1      Veggie Burrito   \n",
       "4617      1833         1       Steak Burrito   \n",
       "4618      1833         1       Steak Burrito   \n",
       "4619      1834         1  Chicken Salad Bowl   \n",
       "\n",
       "                                     choice_description  item_price  \\\n",
       "5     [Fresh Tomato Salsa (Mild), [Rice, Cheese, Sou...       10.98   \n",
       "7     [Tomatillo Red Chili Salsa, [Fajita Vegetables...       11.75   \n",
       "13    [Fresh Tomato Salsa, [Fajita Vegetables, Rice,...       11.25   \n",
       "23    [[Tomatillo-Green Chili Salsa (Medium), Tomati...       10.98   \n",
       "39    [Roasted Chili Corn Salsa, [Fajita Vegetables,...       11.75   \n",
       "...                                                 ...         ...   \n",
       "4610  [Fresh Tomato Salsa, [Rice, Sour Cream, Cheese...       11.75   \n",
       "4611  [Tomatillo Green Chili Salsa, [Rice, Fajita Ve...       11.25   \n",
       "4617  [Fresh Tomato Salsa, [Rice, Black Beans, Sour ...       11.75   \n",
       "4618  [Fresh Tomato Salsa, [Rice, Sour Cream, Cheese...       11.75   \n",
       "4619  [Fresh Tomato Salsa, [Fajita Vegetables, Pinto...       11.25   \n",
       "\n",
       "      unit_price  \n",
       "5          10.98  \n",
       "7          11.75  \n",
       "13         11.25  \n",
       "23         10.98  \n",
       "39         11.75  \n",
       "...          ...  \n",
       "4610       11.75  \n",
       "4611       11.25  \n",
       "4617       11.75  \n",
       "4618       11.75  \n",
       "4619       11.25  \n",
       "\n",
       "[1034 rows x 6 columns]"
      ]
     },
     "execution_count": 168,
     "metadata": {},
     "output_type": "execute_result"
    }
   ],
   "source": [
    "chipo[chipo[\"unit_price\"]>10]"
   ]
  },
  {
   "cell_type": "code",
   "execution_count": 169,
   "metadata": {},
   "outputs": [
    {
     "data": {
      "text/plain": [
       "array(['Chicken Bowl', 'Steak Burrito', 'Chicken Burrito',\n",
       "       'Barbacoa Bowl', 'Veggie Burrito', 'Veggie Bowl',\n",
       "       'Chicken Soft Tacos', 'Steak Bowl', 'Carnitas Burrito',\n",
       "       'Carnitas Bowl', 'Barbacoa Burrito', 'Chicken Salad Bowl',\n",
       "       'Barbacoa Crispy Tacos', 'Veggie Salad Bowl', 'Chicken Salad',\n",
       "       'Steak Salad Bowl', 'Chicken Crispy Tacos', 'Veggie Soft Tacos',\n",
       "       'Barbacoa Soft Tacos', 'Carnitas Crispy Tacos',\n",
       "       'Carnitas Salad Bowl', 'Barbacoa Salad Bowl', 'Steak Soft Tacos',\n",
       "       'Carnitas Soft Tacos', 'Steak Crispy Tacos'], dtype=object)"
      ]
     },
     "execution_count": 169,
     "metadata": {},
     "output_type": "execute_result"
    }
   ],
   "source": [
    "chipo[chipo[\"unit_price\"]>10][\"item_name\"].unique()"
   ]
  },
  {
   "cell_type": "code",
   "execution_count": 170,
   "metadata": {},
   "outputs": [
    {
     "data": {
      "text/plain": [
       "25"
      ]
     },
     "execution_count": 170,
     "metadata": {},
     "output_type": "execute_result"
    }
   ],
   "source": [
    "chipo[chipo[\"unit_price\"]>10][\"item_name\"].nunique()"
   ]
  },
  {
   "cell_type": "code",
   "execution_count": 171,
   "metadata": {},
   "outputs": [],
   "source": [
    "#len(chipo[chipo[\"item_price\"]>10])"
   ]
  },
  {
   "cell_type": "code",
   "execution_count": 172,
   "metadata": {},
   "outputs": [],
   "source": [
    "#chipo[chipo[\"item_price\"]>10].count()"
   ]
  },
  {
   "cell_type": "code",
   "execution_count": 173,
   "metadata": {},
   "outputs": [],
   "source": [
    "#chipo[chipo[\"unit_price\"]>10][\"unit_price\"].sum()"
   ]
  },
  {
   "attachments": {},
   "cell_type": "markdown",
   "metadata": {},
   "source": [
    "### Step 4.1: Y cuántos pedidos se han hecho con un producto de más de 10$? Es lo mismo?"
   ]
  },
  {
   "cell_type": "code",
   "execution_count": 174,
   "metadata": {},
   "outputs": [
    {
     "data": {
      "text/plain": [
       "array([   3,    4,    7,   12,   19,   20,   21,   24,   26,   27,   28,\n",
       "         30,   35,   40,   41,   43,   54,   57,   59,   60,   61,   62,\n",
       "         63,   64,   65,   66,   71,   72,   73,   74,   75,   79,   80,\n",
       "         83,   84,   86,   89,   90,   93,   94,   95,   99,  103,  107,\n",
       "        109,  114,  123,  126,  127,  128,  129,  132,  134,  140,  144,\n",
       "        146,  147,  148,  149,  152,  157,  158,  159,  163,  165,  166,\n",
       "        168,  170,  171,  174,  175,  176,  177,  178,  179,  180,  186,\n",
       "        189,  192,  195,  196,  198,  202,  203,  204,  205,  206,  207,\n",
       "        210,  211,  212,  222,  227,  228,  229,  231,  235,  238,  239,\n",
       "        241,  242,  243,  245,  248,  250,  253,  256,  258,  261,  262,\n",
       "        269,  273,  277,  278,  282,  283,  284,  290,  293,  295,  297,\n",
       "        300,  304,  305,  306,  308,  309,  316,  317,  324,  327,  328,\n",
       "        329,  337,  338,  339,  341,  343,  347,  350,  356,  357,  358,\n",
       "        360,  361,  362,  365,  367,  369,  372,  373,  374,  375,  379,\n",
       "        380,  384,  387,  396,  398,  400,  404,  405,  406,  407,  408,\n",
       "        409,  413,  420,  423,  428,  429,  431,  434,  435,  438,  439,\n",
       "        441,  442,  443,  446,  450,  451,  452,  453,  455,  456,  459,\n",
       "        461,  462,  464,  467,  468,  469,  472,  474,  478,  479,  483,\n",
       "        487,  488,  491,  492,  493,  494,  498,  501,  502,  503,  504,\n",
       "        507,  509,  512,  518,  519,  526,  527,  528,  529,  534,  538,\n",
       "        539,  541,  545,  546,  548,  551,  552,  553,  556,  557,  561,\n",
       "        562,  564,  566,  568,  570,  571,  577,  578,  579,  582,  587,\n",
       "        588,  589,  593,  596,  597,  599,  600,  603,  605,  609,  612,\n",
       "        618,  620,  621,  622,  627,  628,  630,  632,  635,  637,  640,\n",
       "        644,  645,  646,  647,  649,  652,  653,  654,  657,  658,  659,\n",
       "        660,  664,  666,  669,  672,  673,  679,  682,  684,  687,  688,\n",
       "        691,  692,  693,  694,  697,  701,  702,  704,  705,  707,  708,\n",
       "        712,  713,  716,  718,  719,  721,  722,  727,  731,  734,  737,\n",
       "        741,  754,  755,  759,  760,  761,  766,  767,  770,  774,  777,\n",
       "        780,  782,  784,  785,  790,  791,  792,  793,  794,  801,  802,\n",
       "        804,  806,  807,  810,  812,  814,  815,  818,  819,  821,  823,\n",
       "        825,  830,  833,  836,  837,  839,  842,  843,  845,  849,  850,\n",
       "        851,  855,  856,  859,  863,  864,  865,  869,  870,  871,  872,\n",
       "        874,  875,  879,  881,  885,  886,  887,  890,  893,  894,  898,\n",
       "        899,  900,  901,  902,  905,  908,  914,  916,  917,  920,  929,\n",
       "        930,  933,  937,  939,  941,  943,  948,  949,  951,  952,  953,\n",
       "        956,  957,  958,  960,  962,  963,  964,  966,  968,  969,  970,\n",
       "        973,  975,  976,  977,  979,  980,  981,  983,  985,  987,  988,\n",
       "        989,  991,  994,  995,  996,  997, 1000, 1003, 1004, 1006, 1010,\n",
       "       1012, 1013, 1015, 1016, 1017, 1019, 1021, 1022, 1025, 1033, 1034,\n",
       "       1035, 1036, 1037, 1038, 1039, 1043, 1044, 1047, 1049, 1051, 1052,\n",
       "       1057, 1058, 1061, 1062, 1063, 1064, 1069, 1070, 1075, 1076, 1078,\n",
       "       1079, 1080, 1082, 1086, 1087, 1088, 1091, 1092, 1096, 1097, 1098,\n",
       "       1101, 1104, 1106, 1107, 1109, 1110, 1111, 1113, 1114, 1116, 1123,\n",
       "       1126, 1134, 1138, 1139, 1144, 1146, 1149, 1150, 1151, 1153, 1154,\n",
       "       1155, 1157, 1158, 1159, 1160, 1163, 1165, 1166, 1168, 1169, 1170,\n",
       "       1171, 1175, 1176, 1185, 1188, 1189, 1191, 1193, 1196, 1199, 1200,\n",
       "       1203, 1206, 1208, 1209, 1214, 1218, 1221, 1222, 1223, 1224, 1228,\n",
       "       1232, 1233, 1234, 1238, 1239, 1243, 1244, 1248, 1252, 1253, 1255,\n",
       "       1257, 1269, 1270, 1273, 1276, 1279, 1280, 1282, 1283, 1284, 1286,\n",
       "       1287, 1289, 1292, 1294, 1296, 1297, 1301, 1302, 1304, 1311, 1313,\n",
       "       1316, 1317, 1322, 1323, 1328, 1331, 1334, 1337, 1339, 1343, 1344,\n",
       "       1350, 1353, 1356, 1357, 1360, 1361, 1362, 1364, 1366, 1368, 1370,\n",
       "       1381, 1382, 1383, 1384, 1385, 1386, 1387, 1388, 1391, 1392, 1394,\n",
       "       1397, 1398, 1400, 1403, 1408, 1409, 1410, 1411, 1412, 1413, 1415,\n",
       "       1418, 1422, 1424, 1425, 1426, 1428, 1429, 1434, 1435, 1440, 1443,\n",
       "       1444, 1445, 1451, 1453, 1455, 1456, 1458, 1460, 1461, 1462, 1470,\n",
       "       1472, 1473, 1474, 1476, 1477, 1480, 1483, 1486, 1492, 1493, 1495,\n",
       "       1496, 1497, 1499, 1501, 1502, 1508, 1511, 1512, 1513, 1514, 1518,\n",
       "       1519, 1521, 1522, 1523, 1526, 1531, 1534, 1538, 1539, 1540, 1544,\n",
       "       1545, 1546, 1547, 1550, 1551, 1553, 1554, 1561, 1567, 1571, 1577,\n",
       "       1583, 1586, 1587, 1588, 1589, 1594, 1601, 1607, 1611, 1613, 1614,\n",
       "       1615, 1619, 1625, 1627, 1632, 1633, 1636, 1639, 1643, 1646, 1647,\n",
       "       1648, 1655, 1656, 1657, 1659, 1660, 1661, 1662, 1663, 1664, 1667,\n",
       "       1672, 1673, 1674, 1677, 1680, 1681, 1684, 1686, 1688, 1692, 1695,\n",
       "       1696, 1699, 1700, 1701, 1703, 1706, 1708, 1710, 1713, 1715, 1716,\n",
       "       1717, 1718, 1720, 1723, 1724, 1725, 1726, 1728, 1730, 1731, 1733,\n",
       "       1735, 1736, 1737, 1739, 1742, 1744, 1745, 1747, 1748, 1749, 1750,\n",
       "       1751, 1754, 1756, 1760, 1764, 1765, 1766, 1768, 1770, 1772, 1773,\n",
       "       1775, 1780, 1781, 1782, 1784, 1786, 1788, 1789, 1790, 1791, 1792,\n",
       "       1793, 1796, 1798, 1802, 1805, 1810, 1811, 1812, 1815, 1820, 1822,\n",
       "       1824, 1825, 1829, 1830, 1833, 1834])"
      ]
     },
     "execution_count": 174,
     "metadata": {},
     "output_type": "execute_result"
    }
   ],
   "source": [
    "chipo[chipo[\"unit_price\"]>10][\"order_id\"].unique()"
   ]
  },
  {
   "cell_type": "code",
   "execution_count": 175,
   "metadata": {},
   "outputs": [
    {
     "data": {
      "text/plain": [
       "787"
      ]
     },
     "execution_count": 175,
     "metadata": {},
     "output_type": "execute_result"
    }
   ],
   "source": [
    "len(chipo[chipo[\"unit_price\"]>10][\"order_id\"].unique())"
   ]
  },
  {
   "cell_type": "markdown",
   "metadata": {},
   "source": [
    "### Step 4.2: Y cuántos pedidos se han hecho de más de 10$? Es lo mismo?"
   ]
  },
  {
   "cell_type": "code",
   "execution_count": 176,
   "metadata": {},
   "outputs": [
    {
     "data": {
      "text/plain": [
       "order_id\n",
       "926     205.25\n",
       "1443    160.74\n",
       "1483    139.00\n",
       "691     118.25\n",
       "1786    114.30\n",
       "         ...  \n",
       "1262     10.08\n",
       "1436     10.08\n",
       "889      10.08\n",
       "14       10.08\n",
       "17       10.08\n",
       "Name: item_price, Length: 1834, dtype: float64"
      ]
     },
     "execution_count": 176,
     "metadata": {},
     "output_type": "execute_result"
    }
   ],
   "source": [
    "chipo.groupby(\"order_id\")[\"item_price\"].sum().sort_values(ascending=False)"
   ]
  },
  {
   "cell_type": "code",
   "execution_count": 177,
   "metadata": {},
   "outputs": [
    {
     "data": {
      "text/plain": [
       "order_id\n",
       "1       11.56\n",
       "2       16.98\n",
       "3       12.67\n",
       "4       21.00\n",
       "5       13.70\n",
       "        ...  \n",
       "1830    23.00\n",
       "1831    12.90\n",
       "1832    13.20\n",
       "1833    23.50\n",
       "1834    28.75\n",
       "Name: item_price, Length: 1834, dtype: float64"
      ]
     },
     "execution_count": 177,
     "metadata": {},
     "output_type": "execute_result"
    }
   ],
   "source": [
    "orders_sum = chipo.groupby(\"order_id\")[\"item_price\"].sum()\n",
    "orders_sum"
   ]
  },
  {
   "cell_type": "code",
   "execution_count": 178,
   "metadata": {},
   "outputs": [
    {
     "data": {
      "text/plain": [
       "1834"
      ]
     },
     "execution_count": 178,
     "metadata": {},
     "output_type": "execute_result"
    }
   ],
   "source": [
    "len(orders_sum[orders_sum>10])"
   ]
  },
  {
   "cell_type": "code",
   "execution_count": 179,
   "metadata": {},
   "outputs": [
    {
     "data": {
      "text/plain": [
       "order_id\n",
       "926     205.25\n",
       "1443    160.74\n",
       "1483    139.00\n",
       "691     118.25\n",
       "1786    114.30\n",
       "205     109.90\n",
       "511     104.59\n",
       "491     102.00\n",
       "1449     95.39\n",
       "759      86.30\n",
       "1454     85.24\n",
       "1559     82.44\n",
       "953      81.14\n",
       "195      81.00\n",
       "1006     71.40\n",
       "577      71.15\n",
       "818      70.85\n",
       "1660     70.25\n",
       "1825     66.50\n",
       "1051     59.35\n",
       "Name: item_price, dtype: float64"
      ]
     },
     "execution_count": 179,
     "metadata": {},
     "output_type": "execute_result"
    }
   ],
   "source": [
    "chipo.groupby(\"order_id\")[\"item_price\"].sum().sort_values(ascending=False).head(20)"
   ]
  },
  {
   "cell_type": "code",
   "execution_count": 180,
   "metadata": {},
   "outputs": [
    {
     "data": {
      "text/plain": [
       "1834"
      ]
     },
     "execution_count": 180,
     "metadata": {},
     "output_type": "execute_result"
    }
   ],
   "source": [
    "len(chipo.groupby(\"order_id\")[\"item_price\"].sum().sort_values(ascending=False))"
   ]
  },
  {
   "cell_type": "code",
   "execution_count": 181,
   "metadata": {},
   "outputs": [
    {
     "data": {
      "text/plain": [
       "Index([ 926, 1443, 1483,  691, 1786,  205,  511,  491, 1449,  759, 1454, 1559,\n",
       "        953,  195, 1006,  577,  818, 1660, 1825, 1051],\n",
       "      dtype='int64', name='order_id')"
      ]
     },
     "execution_count": 181,
     "metadata": {},
     "output_type": "execute_result"
    }
   ],
   "source": [
    "chipo.groupby(\"order_id\")[\"item_price\"].sum().sort_values(ascending=False).head(20).index\n"
   ]
  },
  {
   "cell_type": "code",
   "execution_count": 182,
   "metadata": {},
   "outputs": [],
   "source": [
    "top_20_order_ids = chipo.groupby(\"order_id\")[\"item_price\"].sum().sort_values(ascending=False).head(20).index"
   ]
  },
  {
   "cell_type": "code",
   "execution_count": 183,
   "metadata": {},
   "outputs": [
    {
     "data": {
      "text/plain": [
       "0       False\n",
       "1       False\n",
       "2       False\n",
       "3       False\n",
       "4       False\n",
       "        ...  \n",
       "4617    False\n",
       "4618    False\n",
       "4619    False\n",
       "4620    False\n",
       "4621    False\n",
       "Name: order_id, Length: 4622, dtype: bool"
      ]
     },
     "execution_count": 183,
     "metadata": {},
     "output_type": "execute_result"
    }
   ],
   "source": [
    "chipo[\"order_id\"].isin(top_20_order_ids)"
   ]
  },
  {
   "cell_type": "code",
   "execution_count": 184,
   "metadata": {},
   "outputs": [
    {
     "data": {
      "application/vnd.microsoft.datawrangler.viewer.v0+json": {
       "columns": [
        {
         "name": "index",
         "rawType": "int64",
         "type": "integer"
        },
        {
         "name": "order_id",
         "rawType": "int64",
         "type": "integer"
        },
        {
         "name": "quantity",
         "rawType": "int64",
         "type": "integer"
        },
        {
         "name": "item_name",
         "rawType": "object",
         "type": "string"
        },
        {
         "name": "choice_description",
         "rawType": "object",
         "type": "unknown"
        },
        {
         "name": "item_price",
         "rawType": "float64",
         "type": "float"
        },
        {
         "name": "unit_price",
         "rawType": "float64",
         "type": "float"
        }
       ],
       "conversionMethod": "pd.DataFrame",
       "ref": "cbc43ed8-3c05-4f59-baef-832f26696940",
       "rows": [
        [
         "448",
         "195",
         "1",
         "Chicken Burrito",
         "[Fresh Tomato Salsa, [Rice, Cheese, Sour Cream, Lettuce]]",
         "8.75",
         "8.75"
        ],
        [
         "449",
         "195",
         "1",
         "Chicken Bowl",
         "[Fresh Tomato Salsa, [Rice, Black Beans, Cheese, Lettuce]]",
         "8.75",
         "8.75"
        ],
        [
         "450",
         "195",
         "1",
         "Barbacoa Burrito",
         "[Fresh Tomato Salsa, [Fajita Vegetables, Rice, Cheese, Sour Cream, Guacamole, Lettuce]]",
         "11.75",
         "11.75"
        ],
        [
         "451",
         "195",
         "1",
         "Chicken Burrito",
         "[Fresh Tomato Salsa, [Fajita Vegetables, Rice, Cheese, Sour Cream]]",
         "8.75",
         "8.75"
        ],
        [
         "452",
         "195",
         "1",
         "Chicken Burrito",
         "[Fresh Tomato Salsa, [Rice, Black Beans, Cheese, Sour Cream, Guacamole, Lettuce]]",
         "11.25",
         "11.25"
        ],
        [
         "453",
         "195",
         "1",
         "Carnitas Soft Tacos",
         "[Fresh Tomato Salsa, [Sour Cream, Lettuce]]",
         "9.25",
         "9.25"
        ],
        [
         "454",
         "195",
         "1",
         "Chicken Bowl",
         "[Fresh Tomato Salsa, [Rice, Black Beans, Cheese, Sour Cream, Guacamole, Lettuce]]",
         "11.25",
         "11.25"
        ],
        [
         "455",
         "195",
         "1",
         "Veggie Salad Bowl",
         "[Fresh Tomato Salsa, [Fajita Vegetables, Rice, Black Beans, Cheese, Guacamole, Lettuce]]",
         "11.25",
         "11.25"
        ],
        [
         "478",
         "205",
         "1",
         "Carnitas Burrito",
         "[Fresh Tomato Salsa, [Fajita Vegetables, Rice, Black Beans, Cheese, Sour Cream, Lettuce]]",
         "9.25",
         "9.25"
        ],
        [
         "479",
         "205",
         "1",
         "Veggie Burrito",
         "[Roasted Chili Corn Salsa, [Fajita Vegetables, Rice, Black Beans, Cheese, Sour Cream, Guacamole, Lettuce]]",
         "11.25",
         "11.25"
        ],
        [
         "480",
         "205",
         "1",
         "Chicken Bowl",
         "[Fresh Tomato Salsa, [Fajita Vegetables, Rice, Black Beans, Cheese]]",
         "8.75",
         "8.75"
        ],
        [
         "481",
         "205",
         "1",
         "Steak Burrito",
         "[Tomatillo Red Chili Salsa, [Rice, Black Beans, Cheese, Sour Cream, Lettuce]]",
         "9.25",
         "9.25"
        ],
        [
         "482",
         "205",
         "1",
         "Chicken Burrito",
         "[Fresh Tomato Salsa, [Rice, Black Beans, Cheese, Sour Cream, Guacamole, Lettuce]]",
         "11.25",
         "11.25"
        ],
        [
         "483",
         "205",
         "1",
         "Chicken Bowl",
         "[Fresh Tomato Salsa, [Rice, Black Beans, Cheese, Sour Cream, Guacamole, Lettuce]]",
         "11.25",
         "11.25"
        ],
        [
         "484",
         "205",
         "1",
         "Chicken Bowl",
         "[Fresh Tomato Salsa, [Fajita Vegetables, Rice, Black Beans, Cheese]]",
         "8.75",
         "8.75"
        ],
        [
         "485",
         "205",
         "1",
         "Barbacoa Crispy Tacos",
         "[Fresh Tomato Salsa, Guacamole]",
         "11.75",
         "11.75"
        ],
        [
         "486",
         "205",
         "1",
         "Chicken Burrito",
         "[Fresh Tomato Salsa, Cheese]",
         "8.75",
         "8.75"
        ],
        [
         "487",
         "205",
         "1",
         "Chicken Burrito",
         "[Fresh Tomato Salsa, [Rice, Cheese, Lettuce]]",
         "8.75",
         "8.75"
        ],
        [
         "488",
         "205",
         "1",
         "Chicken Bowl",
         "[Fresh Tomato Salsa, [Rice, Black Beans, Cheese, Sour Cream, Lettuce]]",
         "8.75",
         "8.75"
        ],
        [
         "489",
         "205",
         "1",
         "Chips",
         null,
         "2.15",
         "2.15"
        ],
        [
         "1197",
         "491",
         "1",
         "Carnitas Burrito",
         "[Tomatillo Green Chili Salsa, [Fajita Vegetables, Rice, Cheese, Sour Cream]]",
         "9.25",
         "9.25"
        ],
        [
         "1198",
         "491",
         "1",
         "Chicken Bowl",
         "[Roasted Chili Corn Salsa, [Rice, Black Beans, Cheese, Guacamole]]",
         "11.25",
         "11.25"
        ],
        [
         "1199",
         "491",
         "1",
         "Steak Burrito",
         "[Fresh Tomato Salsa, [Rice, Black Beans, Cheese, Sour Cream, Guacamole, Lettuce]]",
         "11.75",
         "11.75"
        ],
        [
         "1200",
         "491",
         "1",
         "Carnitas Bowl",
         "[Roasted Chili Corn Salsa, [Rice, Pinto Beans, Sour Cream]]",
         "9.25",
         "9.25"
        ],
        [
         "1201",
         "491",
         "1",
         "Chicken Burrito",
         "[Fresh Tomato Salsa, [Cheese, Sour Cream, Lettuce]]",
         "8.75",
         "8.75"
        ],
        [
         "1202",
         "491",
         "1",
         "Barbacoa Burrito",
         "[Fresh Tomato Salsa, [Rice, Pinto Beans, Guacamole, Lettuce]]",
         "11.75",
         "11.75"
        ],
        [
         "1203",
         "491",
         "1",
         "Chicken Burrito",
         "[Fresh Tomato Salsa, [Cheese, Sour Cream, Lettuce]]",
         "8.75",
         "8.75"
        ],
        [
         "1204",
         "491",
         "1",
         "Chicken Bowl",
         "[Fresh Tomato Salsa, [Rice, Black Beans, Cheese, Sour Cream, Lettuce]]",
         "8.75",
         "8.75"
        ],
        [
         "1205",
         "491",
         "1",
         "Chicken Bowl",
         "[Roasted Chili Corn Salsa, [Rice, Black Beans, Cheese, Sour Cream, Guacamole]]",
         "11.25",
         "11.25"
        ],
        [
         "1206",
         "491",
         "1",
         "Chicken Bowl",
         "[Fresh Tomato Salsa, [Rice, Black Beans, Cheese, Guacamole]]",
         "11.25",
         "11.25"
        ],
        [
         "1254",
         "511",
         "4",
         "Chicken Burrito",
         "[Fresh Tomato Salsa, [Fajita Vegetables, Rice, Black Beans, Cheese, Lettuce]]",
         "35.0",
         "8.75"
        ],
        [
         "1255",
         "511",
         "3",
         "Steak Burrito",
         "[Fresh Tomato Salsa, [Fajita Vegetables, Rice, Black Beans, Cheese, Lettuce]]",
         "27.75",
         "9.25"
        ],
        [
         "1256",
         "511",
         "1",
         "Veggie Burrito",
         "[Fresh Tomato Salsa, [Fajita Vegetables, Rice, Black Beans, Cheese, Lettuce]]",
         "8.75",
         "8.75"
        ],
        [
         "1257",
         "511",
         "4",
         "Chips and Fresh Tomato Salsa",
         null,
         "11.8",
         "2.95"
        ],
        [
         "1258",
         "511",
         "2",
         "Chips and Guacamole",
         null,
         "8.9",
         "4.45"
        ],
        [
         "1259",
         "511",
         "2",
         "Chips and Tomatillo Green Chili Salsa",
         null,
         "5.9",
         "2.95"
        ],
        [
         "1260",
         "511",
         "1",
         "6 Pack Soft Drink",
         "[Coke]",
         "6.49",
         "6.49"
        ],
        [
         "1422",
         "577",
         "1",
         "Chicken Salad Bowl",
         "[Fresh Tomato Salsa, [Rice, Black Beans, Cheese, Guacamole, Lettuce]]",
         "11.25",
         "11.25"
        ],
        [
         "1423",
         "577",
         "2",
         "Chips and Guacamole",
         null,
         "8.9",
         "4.45"
        ],
        [
         "1424",
         "577",
         "1",
         "Chicken Burrito",
         "[Roasted Chili Corn Salsa, [Fajita Vegetables, Rice, Pinto Beans, Guacamole, Lettuce]]",
         "11.25",
         "11.25"
        ],
        [
         "1425",
         "577",
         "4",
         "Bottled Water",
         null,
         "6.0",
         "1.5"
        ],
        [
         "1426",
         "577",
         "1",
         "Chicken Soft Tacos",
         "[Fresh Tomato Salsa, [Fajita Vegetables, Cheese, Guacamole]]",
         "11.25",
         "11.25"
        ],
        [
         "1427",
         "577",
         "1",
         "Chicken Bowl",
         "[Tomatillo Red Chili Salsa, [Fajita Vegetables, Rice, Cheese, Guacamole]]",
         "11.25",
         "11.25"
        ],
        [
         "1428",
         "577",
         "1",
         "Veggie Bowl",
         "[Fresh Tomato Salsa, [Black Beans, Pinto Beans, Cheese, Guacamole, Lettuce]]",
         "11.25",
         "11.25"
        ],
        [
         "1707",
         "691",
         "1",
         "Chicken Burrito",
         "[Tomatillo Red Chili Salsa, [Rice, Cheese, Sour Cream]]",
         "8.75",
         "8.75"
        ],
        [
         "1708",
         "691",
         "1",
         "Chicken Salad Bowl",
         "[Roasted Chili Corn Salsa, [Fajita Vegetables, Black Beans, Guacamole, Lettuce]]",
         "11.25",
         "11.25"
        ],
        [
         "1709",
         "691",
         "1",
         "Steak Burrito",
         "[Tomatillo Red Chili Salsa, [Rice, Black Beans, Cheese, Lettuce]]",
         "9.25",
         "9.25"
        ],
        [
         "1710",
         "691",
         "1",
         "Chicken Burrito",
         "[Tomatillo Red Chili Salsa, [Rice, Pinto Beans, Cheese, Lettuce]]",
         "8.75",
         "8.75"
        ],
        [
         "1711",
         "691",
         "1",
         "Chicken Bowl",
         "[Fresh Tomato Salsa, [Rice, Black Beans, Cheese, Sour Cream, Guacamole]]",
         "11.25",
         "11.25"
        ],
        [
         "1712",
         "691",
         "1",
         "Chicken Burrito",
         "[Roasted Chili Corn Salsa, [Fajita Vegetables, Rice, Black Beans, Guacamole]]",
         "11.25",
         "11.25"
        ]
       ],
       "shape": {
        "columns": 6,
        "rows": 183
       }
      },
      "text/html": [
       "<div>\n",
       "<style scoped>\n",
       "    .dataframe tbody tr th:only-of-type {\n",
       "        vertical-align: middle;\n",
       "    }\n",
       "\n",
       "    .dataframe tbody tr th {\n",
       "        vertical-align: top;\n",
       "    }\n",
       "\n",
       "    .dataframe thead th {\n",
       "        text-align: right;\n",
       "    }\n",
       "</style>\n",
       "<table border=\"1\" class=\"dataframe\">\n",
       "  <thead>\n",
       "    <tr style=\"text-align: right;\">\n",
       "      <th></th>\n",
       "      <th>order_id</th>\n",
       "      <th>quantity</th>\n",
       "      <th>item_name</th>\n",
       "      <th>choice_description</th>\n",
       "      <th>item_price</th>\n",
       "      <th>unit_price</th>\n",
       "    </tr>\n",
       "  </thead>\n",
       "  <tbody>\n",
       "    <tr>\n",
       "      <th>448</th>\n",
       "      <td>195</td>\n",
       "      <td>1</td>\n",
       "      <td>Chicken Burrito</td>\n",
       "      <td>[Fresh Tomato Salsa, [Rice, Cheese, Sour Cream...</td>\n",
       "      <td>8.75</td>\n",
       "      <td>8.75</td>\n",
       "    </tr>\n",
       "    <tr>\n",
       "      <th>449</th>\n",
       "      <td>195</td>\n",
       "      <td>1</td>\n",
       "      <td>Chicken Bowl</td>\n",
       "      <td>[Fresh Tomato Salsa, [Rice, Black Beans, Chees...</td>\n",
       "      <td>8.75</td>\n",
       "      <td>8.75</td>\n",
       "    </tr>\n",
       "    <tr>\n",
       "      <th>450</th>\n",
       "      <td>195</td>\n",
       "      <td>1</td>\n",
       "      <td>Barbacoa Burrito</td>\n",
       "      <td>[Fresh Tomato Salsa, [Fajita Vegetables, Rice,...</td>\n",
       "      <td>11.75</td>\n",
       "      <td>11.75</td>\n",
       "    </tr>\n",
       "    <tr>\n",
       "      <th>451</th>\n",
       "      <td>195</td>\n",
       "      <td>1</td>\n",
       "      <td>Chicken Burrito</td>\n",
       "      <td>[Fresh Tomato Salsa, [Fajita Vegetables, Rice,...</td>\n",
       "      <td>8.75</td>\n",
       "      <td>8.75</td>\n",
       "    </tr>\n",
       "    <tr>\n",
       "      <th>452</th>\n",
       "      <td>195</td>\n",
       "      <td>1</td>\n",
       "      <td>Chicken Burrito</td>\n",
       "      <td>[Fresh Tomato Salsa, [Rice, Black Beans, Chees...</td>\n",
       "      <td>11.25</td>\n",
       "      <td>11.25</td>\n",
       "    </tr>\n",
       "    <tr>\n",
       "      <th>...</th>\n",
       "      <td>...</td>\n",
       "      <td>...</td>\n",
       "      <td>...</td>\n",
       "      <td>...</td>\n",
       "      <td>...</td>\n",
       "      <td>...</td>\n",
       "    </tr>\n",
       "    <tr>\n",
       "      <th>4590</th>\n",
       "      <td>1825</td>\n",
       "      <td>1</td>\n",
       "      <td>Chicken Bowl</td>\n",
       "      <td>[Roasted Chili Corn Salsa, [Rice, Black Beans,...</td>\n",
       "      <td>11.25</td>\n",
       "      <td>11.25</td>\n",
       "    </tr>\n",
       "    <tr>\n",
       "      <th>4591</th>\n",
       "      <td>1825</td>\n",
       "      <td>1</td>\n",
       "      <td>Chicken Bowl</td>\n",
       "      <td>[Tomatillo Red Chili Salsa, [Rice, Black Beans...</td>\n",
       "      <td>8.75</td>\n",
       "      <td>8.75</td>\n",
       "    </tr>\n",
       "    <tr>\n",
       "      <th>4592</th>\n",
       "      <td>1825</td>\n",
       "      <td>1</td>\n",
       "      <td>Barbacoa Burrito</td>\n",
       "      <td>[Tomatillo Red Chili Salsa, [Rice, Fajita Vege...</td>\n",
       "      <td>11.75</td>\n",
       "      <td>11.75</td>\n",
       "    </tr>\n",
       "    <tr>\n",
       "      <th>4593</th>\n",
       "      <td>1825</td>\n",
       "      <td>1</td>\n",
       "      <td>Carnitas Bowl</td>\n",
       "      <td>[Roasted Chili Corn Salsa, [Rice, Sour Cream, ...</td>\n",
       "      <td>11.75</td>\n",
       "      <td>11.75</td>\n",
       "    </tr>\n",
       "    <tr>\n",
       "      <th>4594</th>\n",
       "      <td>1825</td>\n",
       "      <td>1</td>\n",
       "      <td>Barbacoa Bowl</td>\n",
       "      <td>[Roasted Chili Corn Salsa, [Pinto Beans, Sour ...</td>\n",
       "      <td>11.75</td>\n",
       "      <td>11.75</td>\n",
       "    </tr>\n",
       "  </tbody>\n",
       "</table>\n",
       "<p>183 rows × 6 columns</p>\n",
       "</div>"
      ],
      "text/plain": [
       "      order_id  quantity         item_name  \\\n",
       "448        195         1   Chicken Burrito   \n",
       "449        195         1      Chicken Bowl   \n",
       "450        195         1  Barbacoa Burrito   \n",
       "451        195         1   Chicken Burrito   \n",
       "452        195         1   Chicken Burrito   \n",
       "...        ...       ...               ...   \n",
       "4590      1825         1      Chicken Bowl   \n",
       "4591      1825         1      Chicken Bowl   \n",
       "4592      1825         1  Barbacoa Burrito   \n",
       "4593      1825         1     Carnitas Bowl   \n",
       "4594      1825         1     Barbacoa Bowl   \n",
       "\n",
       "                                     choice_description  item_price  \\\n",
       "448   [Fresh Tomato Salsa, [Rice, Cheese, Sour Cream...        8.75   \n",
       "449   [Fresh Tomato Salsa, [Rice, Black Beans, Chees...        8.75   \n",
       "450   [Fresh Tomato Salsa, [Fajita Vegetables, Rice,...       11.75   \n",
       "451   [Fresh Tomato Salsa, [Fajita Vegetables, Rice,...        8.75   \n",
       "452   [Fresh Tomato Salsa, [Rice, Black Beans, Chees...       11.25   \n",
       "...                                                 ...         ...   \n",
       "4590  [Roasted Chili Corn Salsa, [Rice, Black Beans,...       11.25   \n",
       "4591  [Tomatillo Red Chili Salsa, [Rice, Black Beans...        8.75   \n",
       "4592  [Tomatillo Red Chili Salsa, [Rice, Fajita Vege...       11.75   \n",
       "4593  [Roasted Chili Corn Salsa, [Rice, Sour Cream, ...       11.75   \n",
       "4594  [Roasted Chili Corn Salsa, [Pinto Beans, Sour ...       11.75   \n",
       "\n",
       "      unit_price  \n",
       "448         8.75  \n",
       "449         8.75  \n",
       "450        11.75  \n",
       "451         8.75  \n",
       "452        11.25  \n",
       "...          ...  \n",
       "4590       11.25  \n",
       "4591        8.75  \n",
       "4592       11.75  \n",
       "4593       11.75  \n",
       "4594       11.75  \n",
       "\n",
       "[183 rows x 6 columns]"
      ]
     },
     "execution_count": 184,
     "metadata": {},
     "output_type": "execute_result"
    }
   ],
   "source": [
    "chipo[chipo[\"order_id\"].isin(top_20_order_ids)]"
   ]
  },
  {
   "cell_type": "code",
   "execution_count": 207,
   "metadata": {},
   "outputs": [
    {
     "name": "stdout",
     "output_type": "stream",
     "text": [
      "1834\n"
     ]
    }
   ],
   "source": [
    "total = 0 \n",
    "for order_id in chipo[\"order_id\"].unique():\n",
    "    order = chipo[chipo[\"order_id\"] == order_id]\n",
    "    amount = order[\"item_price\"].sum()\n",
    "    if amount > 10:\n",
    "        #print(f\"order_id {order_id} amounts to {amount}\")\n",
    "        total += 1\n",
    "        \n",
    "print(total)"
   ]
  },
  {
   "cell_type": "markdown",
   "metadata": {},
   "source": [
    "### Step 4.3: Y en cuántos pedidos se ha pagado más de 10$ por un mismo producto? Es lo mismo?"
   ]
  },
  {
   "cell_type": "code",
   "execution_count": 185,
   "metadata": {},
   "outputs": [
    {
     "data": {
      "application/vnd.microsoft.datawrangler.viewer.v0+json": {
       "columns": [
        {
         "name": "index",
         "rawType": "int64",
         "type": "integer"
        },
        {
         "name": "order_id",
         "rawType": "int64",
         "type": "integer"
        },
        {
         "name": "quantity",
         "rawType": "int64",
         "type": "integer"
        },
        {
         "name": "item_name",
         "rawType": "object",
         "type": "string"
        },
        {
         "name": "choice_description",
         "rawType": "object",
         "type": "unknown"
        },
        {
         "name": "item_price",
         "rawType": "float64",
         "type": "float"
        },
        {
         "name": "unit_price",
         "rawType": "float64",
         "type": "float"
        }
       ],
       "conversionMethod": "pd.DataFrame",
       "ref": "e9694e49-c64a-41f9-b6f0-e9a5496f6a27",
       "rows": [
        [
         "4",
         "2",
         "2",
         "Chicken Bowl",
         "[Tomatillo-Red Chili Salsa (Hot), [Black Beans, Rice, Cheese, Sour Cream]]",
         "16.98",
         "8.49"
        ],
        [
         "5",
         "3",
         "1",
         "Chicken Bowl",
         "[Fresh Tomato Salsa (Mild), [Rice, Cheese, Sour Cream, Guacamole, Lettuce]]",
         "10.98",
         "10.98"
        ],
        [
         "7",
         "4",
         "1",
         "Steak Burrito",
         "[Tomatillo Red Chili Salsa, [Fajita Vegetables, Black Beans, Pinto Beans, Cheese, Sour Cream, Guacamole, Lettuce]]",
         "11.75",
         "11.75"
        ],
        [
         "13",
         "7",
         "1",
         "Chicken Bowl",
         "[Fresh Tomato Salsa, [Fajita Vegetables, Rice, Cheese, Sour Cream, Guacamole]]",
         "11.25",
         "11.25"
        ],
        [
         "23",
         "12",
         "1",
         "Chicken Burrito",
         "[[Tomatillo-Green Chili Salsa (Medium), Tomatillo-Red Chili Salsa (Hot)], [Pinto Beans, Rice, Cheese, Sour Cream, Guacamole, Lettuce]]",
         "10.98",
         "10.98"
        ],
        [
         "39",
         "19",
         "1",
         "Barbacoa Bowl",
         "[Roasted Chili Corn Salsa, [Fajita Vegetables, Rice, Black Beans, Cheese, Sour Cream, Guacamole, Lettuce]]",
         "11.75",
         "11.75"
        ],
        [
         "42",
         "20",
         "1",
         "Chicken Bowl",
         "[Roasted Chili Corn Salsa, [Rice, Black Beans, Cheese, Sour Cream, Guacamole, Lettuce]]",
         "11.25",
         "11.25"
        ],
        [
         "43",
         "20",
         "1",
         "Steak Burrito",
         "[Fresh Tomato Salsa, [Rice, Pinto Beans, Cheese, Sour Cream, Guacamole, Lettuce]]",
         "11.75",
         "11.75"
        ],
        [
         "45",
         "21",
         "1",
         "Chicken Burrito",
         "[Tomatillo-Red Chili Salsa (Hot), [Black Beans, Fajita Veggies, Cheese, Sour Cream, Guacamole, Lettuce]]",
         "10.98",
         "10.98"
        ],
        [
         "52",
         "24",
         "1",
         "Chicken Burrito",
         "[Roasted Chili Corn Salsa (Medium), [Black Beans, Rice, Fajita Veggies, Cheese, Sour Cream, Guacamole, Lettuce]]",
         "10.98",
         "10.98"
        ],
        [
         "57",
         "26",
         "1",
         "Veggie Burrito",
         "[Tomatillo Red Chili Salsa, [Fajita Vegetables, Rice, Black Beans, Cheese, Sour Cream, Guacamole, Lettuce]]",
         "11.25",
         "11.25"
        ],
        [
         "58",
         "27",
         "1",
         "Barbacoa Bowl",
         "[Roasted Chili Corn Salsa, [Fajita Vegetables, Rice, Black Beans, Cheese, Sour Cream, Guacamole, Lettuce]]",
         "11.75",
         "11.75"
        ],
        [
         "62",
         "28",
         "1",
         "Veggie Bowl",
         "[Fresh Tomato Salsa, [Fajita Vegetables, Rice, Black Beans, Cheese, Sour Cream, Guacamole, Lettuce]]",
         "11.25",
         "11.25"
        ],
        [
         "68",
         "30",
         "1",
         "Chicken Burrito",
         "[Tomatillo-Red Chili Salsa (Hot), [Black Beans, Fajita Veggies, Cheese, Sour Cream, Guacamole, Lettuce]]",
         "10.98",
         "10.98"
        ],
        [
         "79",
         "35",
         "1",
         "Chicken Soft Tacos",
         "[Roasted Chili Corn Salsa, [Rice, Cheese, Lettuce, Guacamole]]",
         "11.25",
         "11.25"
        ],
        [
         "90",
         "40",
         "1",
         "Steak Bowl",
         "[Fresh Tomato Salsa, [Rice, Black Beans, Cheese, Sour Cream, Guacamole]]",
         "11.75",
         "11.75"
        ],
        [
         "91",
         "40",
         "1",
         "Steak Bowl",
         "[Fresh Tomato Salsa, [Fajita Vegetables, Cheese, Sour Cream, Guacamole]]",
         "11.75",
         "11.75"
        ],
        [
         "93",
         "41",
         "1",
         "Carnitas Burrito",
         "[Roasted Chili Corn Salsa, [Sour Cream, Guacamole]]",
         "11.75",
         "11.75"
        ],
        [
         "97",
         "43",
         "1",
         "Carnitas Bowl",
         "[Fresh Tomato Salsa, [Fajita Vegetables, Rice, Black Beans, Cheese, Guacamole, Lettuce]]",
         "11.75",
         "11.75"
        ],
        [
         "123",
         "54",
         "1",
         "Chicken Bowl",
         "[Fresh Tomato Salsa, [Guacamole, Cheese, Sour Cream, Fajita Vegetables, Rice]]",
         "11.25",
         "11.25"
        ],
        [
         "130",
         "57",
         "1",
         "Barbacoa Burrito",
         "[Roasted Chili Corn Salsa, [Rice, Pinto Beans, Cheese, Guacamole, Lettuce]]",
         "11.75",
         "11.75"
        ],
        [
         "134",
         "59",
         "1",
         "Chicken Burrito",
         "[Roasted Chili Corn Salsa (Medium), [Rice, Black Beans, Sour Cream, Guacamole]]",
         "10.98",
         "10.98"
        ],
        [
         "135",
         "60",
         "2",
         "Chicken Salad Bowl",
         "[Tomatillo Green Chili Salsa, [Sour Cream, Cheese, Guacamole]]",
         "22.5",
         "11.25"
        ],
        [
         "136",
         "61",
         "1",
         "Barbacoa Bowl",
         "[Tomatillo Red Chili Salsa, [Fajita Vegetables, Rice, Black Beans, Cheese, Sour Cream, Guacamole, Lettuce]]",
         "11.75",
         "11.75"
        ],
        [
         "138",
         "62",
         "1",
         "Chicken Bowl",
         "[Fresh Tomato Salsa, [Rice, Fajita Vegetables, Sour Cream, Cheese, Guacamole]]",
         "11.25",
         "11.25"
        ],
        [
         "140",
         "63",
         "1",
         "Chicken Bowl",
         "[Tomatillo Green Chili Salsa, [Rice, Sour Cream, Cheese, Guacamole]]",
         "11.25",
         "11.25"
        ],
        [
         "142",
         "64",
         "1",
         "Chicken Bowl",
         "[Fresh Tomato Salsa, [Fajita Vegetables, Rice, Black Beans, Cheese, Guacamole, Lettuce]]",
         "11.25",
         "11.25"
        ],
        [
         "143",
         "64",
         "1",
         "Veggie Bowl",
         "[Tomatillo Red Chili Salsa, [Fajita Vegetables, Black Beans, Cheese, Guacamole, Lettuce]]",
         "11.25",
         "11.25"
        ],
        [
         "144",
         "65",
         "1",
         "Barbacoa Burrito",
         "[Tomatillo Red Chili Salsa, [Rice, Sour Cream, Cheese, Guacamole]]",
         "11.75",
         "11.75"
        ],
        [
         "147",
         "66",
         "1",
         "Steak Burrito",
         "[Tomatillo-Green Chili Salsa (Medium), [Rice, Black Beans, Sour Cream, Guacamole]]",
         "11.48",
         "11.48"
        ],
        [
         "148",
         "67",
         "2",
         "Steak Burrito",
         "[Tomatillo-Red Chili Salsa (Hot), [Rice, Cheese, Sour Cream, Lettuce]]",
         "17.98",
         "8.99"
        ],
        [
         "150",
         "68",
         "2",
         "Chicken Burrito",
         "[Tomatillo Red Chili Salsa, [Rice, Black Beans, Sour Cream, Cheese, Lettuce]]",
         "17.5",
         "8.75"
        ],
        [
         "154",
         "70",
         "2",
         "Chicken Bowl",
         "[Fresh Tomato Salsa, [Fajita Vegetables, Rice, Lettuce]]",
         "17.5",
         "8.75"
        ],
        [
         "157",
         "71",
         "1",
         "Veggie Bowl",
         "[Tomatillo Red Chili Salsa, [Fajita Vegetables, Rice, Black Beans, Cheese, Guacamole, Lettuce]]",
         "11.25",
         "11.25"
        ],
        [
         "158",
         "71",
         "1",
         "Steak Burrito",
         "[Tomatillo Green Chili Salsa, [Rice, Cheese, Guacamole, Lettuce]]",
         "11.75",
         "11.75"
        ],
        [
         "159",
         "72",
         "1",
         "Chicken Burrito",
         "[[Roasted Chili Corn Salsa (Medium), Tomatillo-Red Chili Salsa (Hot)], [Black Beans, Rice, Fajita Veggies, Cheese, Sour Cream, Guacamole, Lettuce]]",
         "10.98",
         "10.98"
        ],
        [
         "161",
         "73",
         "1",
         "Chicken Burrito",
         "[[Roasted Chili Corn Salsa (Medium), Tomatillo-Red Chili Salsa (Hot)], [Black Beans, Rice, Fajita Veggies, Cheese, Guacamole, Lettuce]]",
         "10.98",
         "10.98"
        ],
        [
         "163",
         "74",
         "1",
         "Carnitas Bowl",
         "[Roasted Chili Corn Salsa (Medium), [Pinto Beans, Rice, Fajita Veggies, Cheese, Sour Cream, Guacamole, Lettuce]]",
         "11.48",
         "11.48"
        ],
        [
         "167",
         "75",
         "1",
         "Chicken Burrito",
         "[Tomatillo Red Chili Salsa, [Rice, Black Beans, Cheese, Guacamole, Lettuce]]",
         "11.25",
         "11.25"
        ],
        [
         "168",
         "75",
         "1",
         "Barbacoa Crispy Tacos",
         "[Tomatillo Red Chili Salsa, [Rice, Black Beans, Cheese, Sour Cream, Guacamole]]",
         "11.75",
         "11.75"
        ],
        [
         "176",
         "79",
         "1",
         "Chicken Bowl",
         "[Roasted Chili Corn Salsa (Medium), [Black Beans, Rice, Fajita Veggies, Cheese, Sour Cream, Guacamole, Lettuce]]",
         "10.98",
         "10.98"
        ],
        [
         "177",
         "80",
         "1",
         "Steak Burrito",
         "[Fresh Tomato Salsa (Mild), [Rice, Black Beans, Sour Cream, Guacamole]]",
         "11.48",
         "11.48"
        ],
        [
         "186",
         "83",
         "1",
         "Veggie Salad Bowl",
         "[Fresh Tomato Salsa, [Fajita Vegetables, Rice, Black Beans, Cheese, Sour Cream, Guacamole, Lettuce]]",
         "11.25",
         "11.25"
        ],
        [
         "187",
         "84",
         "1",
         "Steak Bowl",
         "[Fresh Tomato Salsa (Mild), [Rice, Fajita Veggies, Guacamole, Lettuce]]",
         "11.48",
         "11.48"
        ],
        [
         "192",
         "86",
         "1",
         "Veggie Bowl",
         "[Roasted Chili Corn Salsa, [Fajita Vegetables, Rice, Cheese, Sour Cream, Guacamole, Lettuce]]",
         "11.25",
         "11.25"
        ],
        [
         "199",
         "89",
         "1",
         "Chicken Bowl",
         "[[Roasted Chili Corn Salsa (Medium), Tomatillo-Red Chili Salsa (Hot)], [Black Beans, Rice, Fajita Veggies, Guacamole, Lettuce]]",
         "10.98",
         "10.98"
        ],
        [
         "202",
         "90",
         "1",
         "Chicken Burrito",
         "[Tomatillo Red Chili Salsa, [Rice, Black Beans, Sour Cream, Cheese, Lettuce, Guacamole]]",
         "11.25",
         "11.25"
        ],
        [
         "209",
         "93",
         "1",
         "Chicken Bowl",
         "[Roasted Chili Corn Salsa, [Fajita Vegetables, Rice, Black Beans, Cheese, Sour Cream, Guacamole, Lettuce]]",
         "11.25",
         "11.25"
        ],
        [
         "210",
         "93",
         "1",
         "Veggie Bowl",
         "[Roasted Chili Corn Salsa, [Rice, Black Beans, Cheese, Sour Cream, Guacamole, Lettuce]]",
         "11.25",
         "11.25"
        ],
        [
         "211",
         "93",
         "1",
         "Chicken Bowl",
         "[Roasted Chili Corn Salsa, [Fajita Vegetables, Rice, Black Beans, Pinto Beans, Cheese, Sour Cream, Guacamole, Lettuce]]",
         "11.25",
         "11.25"
        ]
       ],
       "shape": {
        "columns": 6,
        "rows": 1130
       }
      },
      "text/html": [
       "<div>\n",
       "<style scoped>\n",
       "    .dataframe tbody tr th:only-of-type {\n",
       "        vertical-align: middle;\n",
       "    }\n",
       "\n",
       "    .dataframe tbody tr th {\n",
       "        vertical-align: top;\n",
       "    }\n",
       "\n",
       "    .dataframe thead th {\n",
       "        text-align: right;\n",
       "    }\n",
       "</style>\n",
       "<table border=\"1\" class=\"dataframe\">\n",
       "  <thead>\n",
       "    <tr style=\"text-align: right;\">\n",
       "      <th></th>\n",
       "      <th>order_id</th>\n",
       "      <th>quantity</th>\n",
       "      <th>item_name</th>\n",
       "      <th>choice_description</th>\n",
       "      <th>item_price</th>\n",
       "      <th>unit_price</th>\n",
       "    </tr>\n",
       "  </thead>\n",
       "  <tbody>\n",
       "    <tr>\n",
       "      <th>4</th>\n",
       "      <td>2</td>\n",
       "      <td>2</td>\n",
       "      <td>Chicken Bowl</td>\n",
       "      <td>[Tomatillo-Red Chili Salsa (Hot), [Black Beans...</td>\n",
       "      <td>16.98</td>\n",
       "      <td>8.49</td>\n",
       "    </tr>\n",
       "    <tr>\n",
       "      <th>5</th>\n",
       "      <td>3</td>\n",
       "      <td>1</td>\n",
       "      <td>Chicken Bowl</td>\n",
       "      <td>[Fresh Tomato Salsa (Mild), [Rice, Cheese, Sou...</td>\n",
       "      <td>10.98</td>\n",
       "      <td>10.98</td>\n",
       "    </tr>\n",
       "    <tr>\n",
       "      <th>7</th>\n",
       "      <td>4</td>\n",
       "      <td>1</td>\n",
       "      <td>Steak Burrito</td>\n",
       "      <td>[Tomatillo Red Chili Salsa, [Fajita Vegetables...</td>\n",
       "      <td>11.75</td>\n",
       "      <td>11.75</td>\n",
       "    </tr>\n",
       "    <tr>\n",
       "      <th>13</th>\n",
       "      <td>7</td>\n",
       "      <td>1</td>\n",
       "      <td>Chicken Bowl</td>\n",
       "      <td>[Fresh Tomato Salsa, [Fajita Vegetables, Rice,...</td>\n",
       "      <td>11.25</td>\n",
       "      <td>11.25</td>\n",
       "    </tr>\n",
       "    <tr>\n",
       "      <th>23</th>\n",
       "      <td>12</td>\n",
       "      <td>1</td>\n",
       "      <td>Chicken Burrito</td>\n",
       "      <td>[[Tomatillo-Green Chili Salsa (Medium), Tomati...</td>\n",
       "      <td>10.98</td>\n",
       "      <td>10.98</td>\n",
       "    </tr>\n",
       "    <tr>\n",
       "      <th>...</th>\n",
       "      <td>...</td>\n",
       "      <td>...</td>\n",
       "      <td>...</td>\n",
       "      <td>...</td>\n",
       "      <td>...</td>\n",
       "      <td>...</td>\n",
       "    </tr>\n",
       "    <tr>\n",
       "      <th>4610</th>\n",
       "      <td>1830</td>\n",
       "      <td>1</td>\n",
       "      <td>Steak Burrito</td>\n",
       "      <td>[Fresh Tomato Salsa, [Rice, Sour Cream, Cheese...</td>\n",
       "      <td>11.75</td>\n",
       "      <td>11.75</td>\n",
       "    </tr>\n",
       "    <tr>\n",
       "      <th>4611</th>\n",
       "      <td>1830</td>\n",
       "      <td>1</td>\n",
       "      <td>Veggie Burrito</td>\n",
       "      <td>[Tomatillo Green Chili Salsa, [Rice, Fajita Ve...</td>\n",
       "      <td>11.25</td>\n",
       "      <td>11.25</td>\n",
       "    </tr>\n",
       "    <tr>\n",
       "      <th>4617</th>\n",
       "      <td>1833</td>\n",
       "      <td>1</td>\n",
       "      <td>Steak Burrito</td>\n",
       "      <td>[Fresh Tomato Salsa, [Rice, Black Beans, Sour ...</td>\n",
       "      <td>11.75</td>\n",
       "      <td>11.75</td>\n",
       "    </tr>\n",
       "    <tr>\n",
       "      <th>4618</th>\n",
       "      <td>1833</td>\n",
       "      <td>1</td>\n",
       "      <td>Steak Burrito</td>\n",
       "      <td>[Fresh Tomato Salsa, [Rice, Sour Cream, Cheese...</td>\n",
       "      <td>11.75</td>\n",
       "      <td>11.75</td>\n",
       "    </tr>\n",
       "    <tr>\n",
       "      <th>4619</th>\n",
       "      <td>1834</td>\n",
       "      <td>1</td>\n",
       "      <td>Chicken Salad Bowl</td>\n",
       "      <td>[Fresh Tomato Salsa, [Fajita Vegetables, Pinto...</td>\n",
       "      <td>11.25</td>\n",
       "      <td>11.25</td>\n",
       "    </tr>\n",
       "  </tbody>\n",
       "</table>\n",
       "<p>1130 rows × 6 columns</p>\n",
       "</div>"
      ],
      "text/plain": [
       "      order_id  quantity           item_name  \\\n",
       "4            2         2        Chicken Bowl   \n",
       "5            3         1        Chicken Bowl   \n",
       "7            4         1       Steak Burrito   \n",
       "13           7         1        Chicken Bowl   \n",
       "23          12         1     Chicken Burrito   \n",
       "...        ...       ...                 ...   \n",
       "4610      1830         1       Steak Burrito   \n",
       "4611      1830         1      Veggie Burrito   \n",
       "4617      1833         1       Steak Burrito   \n",
       "4618      1833         1       Steak Burrito   \n",
       "4619      1834         1  Chicken Salad Bowl   \n",
       "\n",
       "                                     choice_description  item_price  \\\n",
       "4     [Tomatillo-Red Chili Salsa (Hot), [Black Beans...       16.98   \n",
       "5     [Fresh Tomato Salsa (Mild), [Rice, Cheese, Sou...       10.98   \n",
       "7     [Tomatillo Red Chili Salsa, [Fajita Vegetables...       11.75   \n",
       "13    [Fresh Tomato Salsa, [Fajita Vegetables, Rice,...       11.25   \n",
       "23    [[Tomatillo-Green Chili Salsa (Medium), Tomati...       10.98   \n",
       "...                                                 ...         ...   \n",
       "4610  [Fresh Tomato Salsa, [Rice, Sour Cream, Cheese...       11.75   \n",
       "4611  [Tomatillo Green Chili Salsa, [Rice, Fajita Ve...       11.25   \n",
       "4617  [Fresh Tomato Salsa, [Rice, Black Beans, Sour ...       11.75   \n",
       "4618  [Fresh Tomato Salsa, [Rice, Sour Cream, Cheese...       11.75   \n",
       "4619  [Fresh Tomato Salsa, [Fajita Vegetables, Pinto...       11.25   \n",
       "\n",
       "      unit_price  \n",
       "4           8.49  \n",
       "5          10.98  \n",
       "7          11.75  \n",
       "13         11.25  \n",
       "23         10.98  \n",
       "...          ...  \n",
       "4610       11.75  \n",
       "4611       11.25  \n",
       "4617       11.75  \n",
       "4618       11.75  \n",
       "4619       11.25  \n",
       "\n",
       "[1130 rows x 6 columns]"
      ]
     },
     "execution_count": 185,
     "metadata": {},
     "output_type": "execute_result"
    }
   ],
   "source": [
    "chipo[chipo[\"item_price\"]>10]"
   ]
  },
  {
   "cell_type": "code",
   "execution_count": 186,
   "metadata": {},
   "outputs": [
    {
     "data": {
      "text/plain": [
       "863"
      ]
     },
     "execution_count": 186,
     "metadata": {},
     "output_type": "execute_result"
    }
   ],
   "source": [
    "chipo[chipo[\"item_price\"]>10][\"order_id\"].nunique()"
   ]
  },
  {
   "attachments": {},
   "cell_type": "markdown",
   "metadata": {},
   "source": [
    "### Step 5. What is the price of each item and name it unit_price. Get only item_name and unit_price"
   ]
  },
  {
   "cell_type": "code",
   "execution_count": 187,
   "metadata": {},
   "outputs": [
    {
     "data": {
      "application/vnd.microsoft.datawrangler.viewer.v0+json": {
       "columns": [
        {
         "name": "index",
         "rawType": "int64",
         "type": "integer"
        },
        {
         "name": "item_name",
         "rawType": "object",
         "type": "string"
        },
        {
         "name": "unit_price",
         "rawType": "float64",
         "type": "float"
        }
       ],
       "conversionMethod": "pd.DataFrame",
       "ref": "a793c6d8-d6be-459b-a83b-d1c17d514b29",
       "rows": [
        [
         "0",
         "Chips and Fresh Tomato Salsa",
         "2.39"
        ],
        [
         "1",
         "Izze",
         "3.39"
        ],
        [
         "2",
         "Nantucket Nectar",
         "3.39"
        ],
        [
         "3",
         "Chips and Tomatillo-Green Chili Salsa",
         "2.39"
        ],
        [
         "4",
         "Chicken Bowl",
         "8.49"
        ],
        [
         "5",
         "Chicken Bowl",
         "10.98"
        ],
        [
         "6",
         "Side of Chips",
         "1.69"
        ],
        [
         "7",
         "Steak Burrito",
         "11.75"
        ],
        [
         "8",
         "Steak Soft Tacos",
         "9.25"
        ],
        [
         "9",
         "Steak Burrito",
         "9.25"
        ],
        [
         "10",
         "Chips and Guacamole",
         "4.45"
        ],
        [
         "11",
         "Chicken Crispy Tacos",
         "8.75"
        ],
        [
         "12",
         "Chicken Soft Tacos",
         "8.75"
        ],
        [
         "13",
         "Chicken Bowl",
         "11.25"
        ],
        [
         "14",
         "Chips and Guacamole",
         "4.45"
        ],
        [
         "15",
         "Chips and Tomatillo-Green Chili Salsa",
         "2.39"
        ],
        [
         "16",
         "Chicken Burrito",
         "8.49"
        ],
        [
         "17",
         "Chicken Burrito",
         "8.49"
        ],
        [
         "18",
         "Canned Soda",
         "1.09"
        ],
        [
         "19",
         "Chicken Bowl",
         "8.75"
        ],
        [
         "20",
         "Chips and Guacamole",
         "4.45"
        ],
        [
         "21",
         "Barbacoa Burrito",
         "8.99"
        ],
        [
         "22",
         "Nantucket Nectar",
         "3.39"
        ],
        [
         "23",
         "Chicken Burrito",
         "10.98"
        ],
        [
         "24",
         "Izze",
         "3.39"
        ],
        [
         "25",
         "Chips and Fresh Tomato Salsa",
         "2.39"
        ],
        [
         "26",
         "Chicken Bowl",
         "8.49"
        ],
        [
         "27",
         "Carnitas Burrito",
         "8.99"
        ],
        [
         "28",
         "Canned Soda",
         "1.09"
        ],
        [
         "29",
         "Chicken Burrito",
         "8.49"
        ],
        [
         "30",
         "Chips and Tomatillo-Green Chili Salsa",
         "2.39"
        ],
        [
         "31",
         "Steak Burrito",
         "8.99"
        ],
        [
         "32",
         "Side of Chips",
         "1.69"
        ],
        [
         "33",
         "Carnitas Bowl",
         "8.99"
        ],
        [
         "34",
         "Bottled Water",
         "1.09"
        ],
        [
         "35",
         "Chicken Soft Tacos",
         "8.75"
        ],
        [
         "36",
         "Chicken Soft Tacos",
         "8.75"
        ],
        [
         "37",
         "Chips and Guacamole",
         "4.45"
        ],
        [
         "38",
         "Chips and Tomatillo Green Chili Salsa",
         "2.95"
        ],
        [
         "39",
         "Barbacoa Bowl",
         "11.75"
        ],
        [
         "40",
         "Chips",
         "2.15"
        ],
        [
         "41",
         "Chips and Guacamole",
         "4.45"
        ],
        [
         "42",
         "Chicken Bowl",
         "11.25"
        ],
        [
         "43",
         "Steak Burrito",
         "11.75"
        ],
        [
         "44",
         "Chicken Salad Bowl",
         "8.75"
        ],
        [
         "45",
         "Chicken Burrito",
         "10.98"
        ],
        [
         "46",
         "Steak Burrito",
         "8.99"
        ],
        [
         "47",
         "Izze",
         "3.39"
        ],
        [
         "48",
         "Steak Burrito",
         "8.99"
        ],
        [
         "49",
         "Chips and Guacamole",
         "3.99"
        ]
       ],
       "shape": {
        "columns": 2,
        "rows": 4622
       }
      },
      "text/html": [
       "<div>\n",
       "<style scoped>\n",
       "    .dataframe tbody tr th:only-of-type {\n",
       "        vertical-align: middle;\n",
       "    }\n",
       "\n",
       "    .dataframe tbody tr th {\n",
       "        vertical-align: top;\n",
       "    }\n",
       "\n",
       "    .dataframe thead th {\n",
       "        text-align: right;\n",
       "    }\n",
       "</style>\n",
       "<table border=\"1\" class=\"dataframe\">\n",
       "  <thead>\n",
       "    <tr style=\"text-align: right;\">\n",
       "      <th></th>\n",
       "      <th>item_name</th>\n",
       "      <th>unit_price</th>\n",
       "    </tr>\n",
       "  </thead>\n",
       "  <tbody>\n",
       "    <tr>\n",
       "      <th>0</th>\n",
       "      <td>Chips and Fresh Tomato Salsa</td>\n",
       "      <td>2.39</td>\n",
       "    </tr>\n",
       "    <tr>\n",
       "      <th>1</th>\n",
       "      <td>Izze</td>\n",
       "      <td>3.39</td>\n",
       "    </tr>\n",
       "    <tr>\n",
       "      <th>2</th>\n",
       "      <td>Nantucket Nectar</td>\n",
       "      <td>3.39</td>\n",
       "    </tr>\n",
       "    <tr>\n",
       "      <th>3</th>\n",
       "      <td>Chips and Tomatillo-Green Chili Salsa</td>\n",
       "      <td>2.39</td>\n",
       "    </tr>\n",
       "    <tr>\n",
       "      <th>4</th>\n",
       "      <td>Chicken Bowl</td>\n",
       "      <td>8.49</td>\n",
       "    </tr>\n",
       "    <tr>\n",
       "      <th>...</th>\n",
       "      <td>...</td>\n",
       "      <td>...</td>\n",
       "    </tr>\n",
       "    <tr>\n",
       "      <th>4617</th>\n",
       "      <td>Steak Burrito</td>\n",
       "      <td>11.75</td>\n",
       "    </tr>\n",
       "    <tr>\n",
       "      <th>4618</th>\n",
       "      <td>Steak Burrito</td>\n",
       "      <td>11.75</td>\n",
       "    </tr>\n",
       "    <tr>\n",
       "      <th>4619</th>\n",
       "      <td>Chicken Salad Bowl</td>\n",
       "      <td>11.25</td>\n",
       "    </tr>\n",
       "    <tr>\n",
       "      <th>4620</th>\n",
       "      <td>Chicken Salad Bowl</td>\n",
       "      <td>8.75</td>\n",
       "    </tr>\n",
       "    <tr>\n",
       "      <th>4621</th>\n",
       "      <td>Chicken Salad Bowl</td>\n",
       "      <td>8.75</td>\n",
       "    </tr>\n",
       "  </tbody>\n",
       "</table>\n",
       "<p>4622 rows × 2 columns</p>\n",
       "</div>"
      ],
      "text/plain": [
       "                                  item_name  unit_price\n",
       "0              Chips and Fresh Tomato Salsa        2.39\n",
       "1                                      Izze        3.39\n",
       "2                          Nantucket Nectar        3.39\n",
       "3     Chips and Tomatillo-Green Chili Salsa        2.39\n",
       "4                              Chicken Bowl        8.49\n",
       "...                                     ...         ...\n",
       "4617                          Steak Burrito       11.75\n",
       "4618                          Steak Burrito       11.75\n",
       "4619                     Chicken Salad Bowl       11.25\n",
       "4620                     Chicken Salad Bowl        8.75\n",
       "4621                     Chicken Salad Bowl        8.75\n",
       "\n",
       "[4622 rows x 2 columns]"
      ]
     },
     "execution_count": 187,
     "metadata": {},
     "output_type": "execute_result"
    }
   ],
   "source": [
    "chipo.loc[:,['item_name','unit_price']]"
   ]
  },
  {
   "cell_type": "code",
   "execution_count": 188,
   "metadata": {},
   "outputs": [
    {
     "data": {
      "application/vnd.microsoft.datawrangler.viewer.v0+json": {
       "columns": [
        {
         "name": "index",
         "rawType": "int64",
         "type": "integer"
        },
        {
         "name": "item_name",
         "rawType": "object",
         "type": "string"
        },
        {
         "name": "unit_price",
         "rawType": "float64",
         "type": "float"
        }
       ],
       "conversionMethod": "pd.DataFrame",
       "ref": "d46f52ce-3c79-43ec-b098-427a27609356",
       "rows": [
        [
         "0",
         "Chips and Fresh Tomato Salsa",
         "2.39"
        ],
        [
         "1",
         "Izze",
         "3.39"
        ],
        [
         "2",
         "Nantucket Nectar",
         "3.39"
        ],
        [
         "3",
         "Chips and Tomatillo-Green Chili Salsa",
         "2.39"
        ],
        [
         "4",
         "Chicken Bowl",
         "8.49"
        ],
        [
         "5",
         "Chicken Bowl",
         "10.98"
        ],
        [
         "6",
         "Side of Chips",
         "1.69"
        ],
        [
         "7",
         "Steak Burrito",
         "11.75"
        ],
        [
         "8",
         "Steak Soft Tacos",
         "9.25"
        ],
        [
         "9",
         "Steak Burrito",
         "9.25"
        ],
        [
         "10",
         "Chips and Guacamole",
         "4.45"
        ],
        [
         "11",
         "Chicken Crispy Tacos",
         "8.75"
        ],
        [
         "12",
         "Chicken Soft Tacos",
         "8.75"
        ],
        [
         "13",
         "Chicken Bowl",
         "11.25"
        ],
        [
         "16",
         "Chicken Burrito",
         "8.49"
        ],
        [
         "18",
         "Canned Soda",
         "1.09"
        ],
        [
         "19",
         "Chicken Bowl",
         "8.75"
        ],
        [
         "21",
         "Barbacoa Burrito",
         "8.99"
        ],
        [
         "23",
         "Chicken Burrito",
         "10.98"
        ],
        [
         "27",
         "Carnitas Burrito",
         "8.99"
        ],
        [
         "31",
         "Steak Burrito",
         "8.99"
        ],
        [
         "33",
         "Carnitas Bowl",
         "8.99"
        ],
        [
         "34",
         "Bottled Water",
         "1.09"
        ],
        [
         "38",
         "Chips and Tomatillo Green Chili Salsa",
         "2.95"
        ],
        [
         "39",
         "Barbacoa Bowl",
         "11.75"
        ],
        [
         "40",
         "Chips",
         "2.15"
        ],
        [
         "44",
         "Chicken Salad Bowl",
         "8.75"
        ],
        [
         "49",
         "Chips and Guacamole",
         "3.99"
        ],
        [
         "54",
         "Steak Bowl",
         "8.99"
        ],
        [
         "56",
         "Barbacoa Soft Tacos",
         "9.25"
        ],
        [
         "57",
         "Veggie Burrito",
         "11.25"
        ],
        [
         "62",
         "Veggie Bowl",
         "11.25"
        ],
        [
         "63",
         "Chicken Burrito",
         "8.75"
        ],
        [
         "65",
         "Steak Soft Tacos",
         "8.99"
        ],
        [
         "79",
         "Chicken Soft Tacos",
         "11.25"
        ],
        [
         "81",
         "Barbacoa Burrito",
         "9.25"
        ],
        [
         "85",
         "Veggie Bowl",
         "8.49"
        ],
        [
         "88",
         "Carnitas Burrito",
         "9.25"
        ],
        [
         "89",
         "Chips and Fresh Tomato Salsa",
         "2.95"
        ],
        [
         "90",
         "Steak Bowl",
         "11.75"
        ],
        [
         "92",
         "Steak Crispy Tacos",
         "9.25"
        ],
        [
         "93",
         "Carnitas Burrito",
         "11.75"
        ],
        [
         "95",
         "Barbacoa Bowl",
         "9.25"
        ],
        [
         "97",
         "Carnitas Bowl",
         "11.75"
        ],
        [
         "104",
         "Veggie Burrito",
         "8.49"
        ],
        [
         "111",
         "Chips and Tomatillo Red Chili Salsa",
         "2.95"
        ],
        [
         "115",
         "Barbacoa Bowl",
         "8.99"
        ],
        [
         "130",
         "Barbacoa Burrito",
         "11.75"
        ],
        [
         "135",
         "Chicken Salad Bowl",
         "11.25"
        ],
        [
         "145",
         "Carnitas Bowl",
         "9.25"
        ]
       ],
       "shape": {
        "columns": 2,
        "rows": 139
       }
      },
      "text/html": [
       "<div>\n",
       "<style scoped>\n",
       "    .dataframe tbody tr th:only-of-type {\n",
       "        vertical-align: middle;\n",
       "    }\n",
       "\n",
       "    .dataframe tbody tr th {\n",
       "        vertical-align: top;\n",
       "    }\n",
       "\n",
       "    .dataframe thead th {\n",
       "        text-align: right;\n",
       "    }\n",
       "</style>\n",
       "<table border=\"1\" class=\"dataframe\">\n",
       "  <thead>\n",
       "    <tr style=\"text-align: right;\">\n",
       "      <th></th>\n",
       "      <th>item_name</th>\n",
       "      <th>unit_price</th>\n",
       "    </tr>\n",
       "  </thead>\n",
       "  <tbody>\n",
       "    <tr>\n",
       "      <th>0</th>\n",
       "      <td>Chips and Fresh Tomato Salsa</td>\n",
       "      <td>2.39</td>\n",
       "    </tr>\n",
       "    <tr>\n",
       "      <th>1</th>\n",
       "      <td>Izze</td>\n",
       "      <td>3.39</td>\n",
       "    </tr>\n",
       "    <tr>\n",
       "      <th>2</th>\n",
       "      <td>Nantucket Nectar</td>\n",
       "      <td>3.39</td>\n",
       "    </tr>\n",
       "    <tr>\n",
       "      <th>3</th>\n",
       "      <td>Chips and Tomatillo-Green Chili Salsa</td>\n",
       "      <td>2.39</td>\n",
       "    </tr>\n",
       "    <tr>\n",
       "      <th>4</th>\n",
       "      <td>Chicken Bowl</td>\n",
       "      <td>8.49</td>\n",
       "    </tr>\n",
       "    <tr>\n",
       "      <th>...</th>\n",
       "      <td>...</td>\n",
       "      <td>...</td>\n",
       "    </tr>\n",
       "    <tr>\n",
       "      <th>3989</th>\n",
       "      <td>Chicken Salad</td>\n",
       "      <td>8.19</td>\n",
       "    </tr>\n",
       "    <tr>\n",
       "      <th>4235</th>\n",
       "      <td>Chicken Bowl</td>\n",
       "      <td>8.50</td>\n",
       "    </tr>\n",
       "    <tr>\n",
       "      <th>4237</th>\n",
       "      <td>Chips and Guacamole</td>\n",
       "      <td>4.25</td>\n",
       "    </tr>\n",
       "    <tr>\n",
       "      <th>4509</th>\n",
       "      <td>Chips</td>\n",
       "      <td>1.99</td>\n",
       "    </tr>\n",
       "    <tr>\n",
       "      <th>4510</th>\n",
       "      <td>Barbacoa Bowl</td>\n",
       "      <td>11.49</td>\n",
       "    </tr>\n",
       "  </tbody>\n",
       "</table>\n",
       "<p>139 rows × 2 columns</p>\n",
       "</div>"
      ],
      "text/plain": [
       "                                  item_name  unit_price\n",
       "0              Chips and Fresh Tomato Salsa        2.39\n",
       "1                                      Izze        3.39\n",
       "2                          Nantucket Nectar        3.39\n",
       "3     Chips and Tomatillo-Green Chili Salsa        2.39\n",
       "4                              Chicken Bowl        8.49\n",
       "...                                     ...         ...\n",
       "3989                          Chicken Salad        8.19\n",
       "4235                           Chicken Bowl        8.50\n",
       "4237                    Chips and Guacamole        4.25\n",
       "4509                                  Chips        1.99\n",
       "4510                          Barbacoa Bowl       11.49\n",
       "\n",
       "[139 rows x 2 columns]"
      ]
     },
     "execution_count": 188,
     "metadata": {},
     "output_type": "execute_result"
    }
   ],
   "source": [
    "chipo.loc[:,['item_name','unit_price']].drop_duplicates()"
   ]
  },
  {
   "cell_type": "code",
   "execution_count": 189,
   "metadata": {},
   "outputs": [
    {
     "data": {
      "text/plain": [
       "139"
      ]
     },
     "execution_count": 189,
     "metadata": {},
     "output_type": "execute_result"
    }
   ],
   "source": [
    "len(chipo.loc[:,['item_name','unit_price']].drop_duplicates())"
   ]
  },
  {
   "cell_type": "code",
   "execution_count": 190,
   "metadata": {},
   "outputs": [
    {
     "data": {
      "text/plain": [
       "50"
      ]
     },
     "execution_count": 190,
     "metadata": {},
     "output_type": "execute_result"
    }
   ],
   "source": [
    "chipo['item_name'].nunique()"
   ]
  },
  {
   "attachments": {},
   "cell_type": "markdown",
   "metadata": {},
   "source": [
    "### Step 6. Sort by the name of the item"
   ]
  },
  {
   "cell_type": "code",
   "execution_count": 191,
   "metadata": {},
   "outputs": [
    {
     "data": {
      "application/vnd.microsoft.datawrangler.viewer.v0+json": {
       "columns": [
        {
         "name": "index",
         "rawType": "int64",
         "type": "integer"
        },
        {
         "name": "order_id",
         "rawType": "int64",
         "type": "integer"
        },
        {
         "name": "quantity",
         "rawType": "int64",
         "type": "integer"
        },
        {
         "name": "item_name",
         "rawType": "object",
         "type": "string"
        },
        {
         "name": "choice_description",
         "rawType": "object",
         "type": "unknown"
        },
        {
         "name": "item_price",
         "rawType": "float64",
         "type": "float"
        },
        {
         "name": "unit_price",
         "rawType": "float64",
         "type": "float"
        }
       ],
       "conversionMethod": "pd.DataFrame",
       "ref": "52af0a95-d7e0-496b-acc8-130af690d125",
       "rows": [
        [
         "3889",
         "1559",
         "2",
         "Veggie Soft Tacos",
         "[Fresh Tomato Salsa (Mild), [Black Beans, Rice, Cheese, Lettuce]]",
         "16.98",
         "8.49"
        ],
        [
         "2851",
         "1132",
         "1",
         "Veggie Soft Tacos",
         "[Roasted Chili Corn Salsa (Medium), [Black Beans, Fajita Veggies, Cheese, Sour Cream, Lettuce]]",
         "8.49",
         "8.49"
        ],
        [
         "738",
         "304",
         "1",
         "Veggie Soft Tacos",
         "[Tomatillo Red Chili Salsa, [Fajita Vegetables, Rice, Black Beans, Cheese, Guacamole, Lettuce]]",
         "11.25",
         "11.25"
        ],
        [
         "1395",
         "567",
         "1",
         "Veggie Soft Tacos",
         "[Fresh Tomato Salsa (Mild), [Pinto Beans, Rice, Cheese, Sour Cream]]",
         "8.49",
         "8.49"
        ],
        [
         "2384",
         "948",
         "1",
         "Veggie Soft Tacos",
         "[Roasted Chili Corn Salsa, [Fajita Vegetables, Black Beans, Pinto Beans, Cheese, Lettuce]]",
         "8.75",
         "8.75"
        ],
        [
         "1699",
         "688",
         "1",
         "Veggie Soft Tacos",
         "[Fresh Tomato Salsa, [Fajita Vegetables, Rice, Black Beans, Pinto Beans, Cheese, Sour Cream, Guacamole, Lettuce]]",
         "11.25",
         "11.25"
        ],
        [
         "781",
         "322",
         "1",
         "Veggie Soft Tacos",
         "[Fresh Tomato Salsa, [Black Beans, Cheese, Sour Cream, Lettuce]]",
         "8.75",
         "8.75"
        ],
        [
         "4573",
         "1818",
         "1",
         "Veggie Salad Bowl",
         "[Fresh Tomato Salsa, [Fajita Vegetables, Pinto Beans, Lettuce]]",
         "8.75",
         "8.75"
        ],
        [
         "455",
         "195",
         "1",
         "Veggie Salad Bowl",
         "[Fresh Tomato Salsa, [Fajita Vegetables, Rice, Black Beans, Cheese, Guacamole, Lettuce]]",
         "11.25",
         "11.25"
        ],
        [
         "496",
         "207",
         "1",
         "Veggie Salad Bowl",
         "[Fresh Tomato Salsa, [Rice, Lettuce, Guacamole, Fajita Vegetables, Cheese, Sour Cream, Black Beans]]",
         "11.25",
         "11.25"
        ],
        [
         "2156",
         "869",
         "1",
         "Veggie Salad Bowl",
         "[Tomatillo Red Chili Salsa, [Fajita Vegetables, Rice, Black Beans, Cheese, Guacamole]]",
         "11.25",
         "11.25"
        ],
        [
         "2683",
         "1066",
         "1",
         "Veggie Salad Bowl",
         "[Roasted Chili Corn Salsa, [Fajita Vegetables, Rice, Black Beans, Lettuce]]",
         "8.75",
         "8.75"
        ],
        [
         "3293",
         "1321",
         "1",
         "Veggie Salad Bowl",
         "[Fresh Tomato Salsa, [Rice, Black Beans, Cheese, Sour Cream]]",
         "8.75",
         "8.75"
        ],
        [
         "295",
         "128",
         "1",
         "Veggie Salad Bowl",
         "[Fresh Tomato Salsa, [Fajita Vegetables, Lettuce, Guacamole, Sour Cream, Cheese, Black Beans, Rice]]",
         "11.25",
         "11.25"
        ],
        [
         "4109",
         "1646",
         "1",
         "Veggie Salad Bowl",
         "[Tomatillo Red Chili Salsa, [Fajita Vegetables, Rice, Black Beans, Cheese, Guacamole, Lettuce]]",
         "11.25",
         "11.25"
        ],
        [
         "2269",
         "913",
         "1",
         "Veggie Salad Bowl",
         "[Fresh Tomato Salsa, [Fajita Vegetables, Rice, Pinto Beans, Cheese, Lettuce]]",
         "8.75",
         "8.75"
        ],
        [
         "1316",
         "536",
         "1",
         "Veggie Salad Bowl",
         "[Fresh Tomato Salsa, [Fajita Vegetables, Rice, Black Beans, Cheese, Sour Cream]]",
         "8.75",
         "8.75"
        ],
        [
         "2223",
         "896",
         "1",
         "Veggie Salad Bowl",
         "[Roasted Chili Corn Salsa, Fajita Vegetables]",
         "8.75",
         "8.75"
        ],
        [
         "4541",
         "1805",
         "1",
         "Veggie Salad Bowl",
         "[Tomatillo Green Chili Salsa, [Fajita Vegetables, Rice, Black Beans, Cheese, Sour Cream, Lettuce]]",
         "8.75",
         "8.75"
        ],
        [
         "3223",
         "1289",
         "1",
         "Veggie Salad Bowl",
         "[Tomatillo Red Chili Salsa, [Fajita Vegetables, Rice, Black Beans, Cheese, Guacamole]]",
         "11.25",
         "11.25"
        ],
        [
         "4261",
         "1700",
         "1",
         "Veggie Salad Bowl",
         "[Fresh Tomato Salsa, [Fajita Vegetables, Rice, Guacamole]]",
         "11.25",
         "11.25"
        ],
        [
         "960",
         "394",
         "1",
         "Veggie Salad Bowl",
         "[Fresh Tomato Salsa, [Fajita Vegetables, Lettuce]]",
         "8.75",
         "8.75"
        ],
        [
         "1884",
         "760",
         "1",
         "Veggie Salad Bowl",
         "[Fresh Tomato Salsa, [Fajita Vegetables, Rice, Black Beans, Cheese, Guacamole, Lettuce]]",
         "11.25",
         "11.25"
        ],
        [
         "4201",
         "1677",
         "1",
         "Veggie Salad Bowl",
         "[Fresh Tomato Salsa, [Fajita Vegetables, Black Beans, Guacamole]]",
         "11.25",
         "11.25"
        ],
        [
         "186",
         "83",
         "1",
         "Veggie Salad Bowl",
         "[Fresh Tomato Salsa, [Fajita Vegetables, Rice, Black Beans, Cheese, Sour Cream, Guacamole, Lettuce]]",
         "11.25",
         "11.25"
        ],
        [
         "2756",
         "1094",
         "1",
         "Veggie Salad",
         "[[Tomatillo-Green Chili Salsa (Medium), Roasted Chili Corn Salsa (Medium), Tomatillo-Red Chili Salsa (Hot)], [Black Beans, Rice, Fajita Veggies, Lettuce]]",
         "8.49",
         "8.49"
        ],
        [
         "1694",
         "686",
         "1",
         "Veggie Salad",
         "[[Fresh Tomato Salsa (Mild), Roasted Chili Corn Salsa (Medium)], [Rice, Fajita Veggies, Lettuce]]",
         "8.49",
         "8.49"
        ],
        [
         "3471",
         "1395",
         "1",
         "Veggie Salad",
         "[[Tomatillo-Green Chili Salsa (Medium), Roasted Chili Corn Salsa (Medium), Tomatillo-Red Chili Salsa (Hot)], [Black Beans, Rice, Fajita Veggies, Lettuce]]",
         "8.49",
         "8.49"
        ],
        [
         "3163",
         "1263",
         "1",
         "Veggie Salad",
         "[[Fresh Tomato Salsa (Mild), Roasted Chili Corn Salsa (Medium), Tomatillo-Red Chili Salsa (Hot)], [Black Beans, Rice, Fajita Veggies, Lettuce]]",
         "8.49",
         "8.49"
        ],
        [
         "2996",
         "1192",
         "1",
         "Veggie Salad",
         "[Roasted Chili Corn Salsa (Medium), [Black Beans, Rice, Cheese, Sour Cream, Lettuce]]",
         "8.49",
         "8.49"
        ],
        [
         "4084",
         "1635",
         "1",
         "Veggie Salad",
         "[[Fresh Tomato Salsa (Mild), Roasted Chili Corn Salsa (Medium), Tomatillo-Red Chili Salsa (Hot)], [Black Beans, Rice, Fajita Veggies, Lettuce]]",
         "8.49",
         "8.49"
        ],
        [
         "1653",
         "668",
         "1",
         "Veggie Crispy Tacos",
         "[Fresh Tomato Salsa (Mild), [Pinto Beans, Rice, Cheese, Sour Cream]]",
         "8.49",
         "8.49"
        ],
        [
         "2425",
         "963",
         "1",
         "Veggie Burrito",
         "[Tomatillo Red Chili Salsa, [Fajita Vegetables, Rice, Black Beans, Cheese, Guacamole, Lettuce]]",
         "11.25",
         "11.25"
        ],
        [
         "1959",
         "792",
         "1",
         "Veggie Burrito",
         "[Fresh Tomato Salsa, [Rice, Fajita Vegetables, Black Beans, Lettuce, Guacamole]]",
         "11.25",
         "11.25"
        ],
        [
         "3056",
         "1217",
         "1",
         "Veggie Burrito",
         "[Fresh Tomato Salsa (Mild), [Black Beans, Rice, Fajita Veggies, Cheese, Sour Cream]]",
         "8.49",
         "8.49"
        ],
        [
         "4471",
         "1782",
         "1",
         "Veggie Burrito",
         "[Roasted Chili Corn Salsa, [Rice, Black Beans, Cheese, Sour Cream, Guacamole, Lettuce]]",
         "11.25",
         "11.25"
        ],
        [
         "745",
         "307",
         "1",
         "Veggie Burrito",
         "[Fresh Tomato Salsa (Mild), [Cheese, Rice, Pinto Beans, Sour Cream]]",
         "8.49",
         "8.49"
        ],
        [
         "847",
         "349",
         "1",
         "Veggie Burrito",
         "[Tomatillo-Green Chili Salsa (Medium), [Black Beans, Rice, Cheese]]",
         "8.49",
         "8.49"
        ],
        [
         "732",
         "302",
         "1",
         "Veggie Burrito",
         "[Fresh Tomato Salsa (Mild), [Pinto Beans, Rice, Cheese, Sour Cream]]",
         "8.49",
         "8.49"
        ],
        [
         "435",
         "189",
         "1",
         "Veggie Burrito",
         "[[Roasted Chili Corn Salsa (Medium), Fresh Tomato Salsa (Mild)], [Rice, Black Beans, Pinto Beans, Fajita Veggies, Guacamole, Lettuce]]",
         "10.98",
         "10.98"
        ],
        [
         "1440",
         "584",
         "1",
         "Veggie Burrito",
         "[Fresh Tomato Salsa (Mild), [Pinto Beans, Rice, Cheese, Sour Cream]]",
         "8.49",
         "8.49"
        ],
        [
         "1459",
         "592",
         "1",
         "Veggie Burrito",
         "[Fresh Tomato Salsa, [Rice, Pinto Beans, Cheese]]",
         "8.75",
         "8.75"
        ],
        [
         "4018",
         "1609",
         "1",
         "Veggie Burrito",
         "[[Fresh Tomato Salsa (Mild), Roasted Chili Corn Salsa (Medium), Tomatillo-Red Chili Salsa (Hot)], [Black Beans, Rice, Fajita Veggies, Lettuce]]",
         "8.49",
         "8.49"
        ],
        [
         "3478",
         "1397",
         "1",
         "Veggie Burrito",
         "[Fresh Tomato Salsa, [Fajita Vegetables, Rice, Black Beans, Cheese, Sour Cream, Guacamole, Lettuce]]",
         "11.25",
         "11.25"
        ],
        [
         "2067",
         "834",
         "1",
         "Veggie Burrito",
         "[Fresh Tomato Salsa, [Cheese, Rice, Pinto Beans]]",
         "8.75",
         "8.75"
        ],
        [
         "1695",
         "687",
         "1",
         "Veggie Burrito",
         "[Fresh Tomato Salsa, [Rice, Fajita Vegetables, Black Beans, Lettuce, Guacamole]]",
         "11.25",
         "11.25"
        ],
        [
         "1768",
         "713",
         "1",
         "Veggie Burrito",
         "[[Fresh Tomato Salsa (Mild), Roasted Chili Corn Salsa (Medium)], [Black Beans, Rice, Cheese, Sour Cream, Guacamole]]",
         "10.98",
         "10.98"
        ],
        [
         "874",
         "361",
         "1",
         "Veggie Burrito",
         "[Fresh Tomato Salsa, [Rice, Black Beans, Sour Cream, Guacamole]]",
         "11.25",
         "11.25"
        ],
        [
         "4278",
         "1706",
         "1",
         "Veggie Burrito",
         "[Fresh Tomato Salsa, [Fajita Vegetables, Rice, Black Beans, Pinto Beans, Cheese, Sour Cream, Guacamole]]",
         "11.25",
         "11.25"
        ],
        [
         "4519",
         "1797",
         "1",
         "Veggie Burrito",
         "[Fresh Tomato Salsa, [Rice, Pinto Beans, Cheese]]",
         "8.75",
         "8.75"
        ]
       ],
       "shape": {
        "columns": 6,
        "rows": 4622
       }
      },
      "text/html": [
       "<div>\n",
       "<style scoped>\n",
       "    .dataframe tbody tr th:only-of-type {\n",
       "        vertical-align: middle;\n",
       "    }\n",
       "\n",
       "    .dataframe tbody tr th {\n",
       "        vertical-align: top;\n",
       "    }\n",
       "\n",
       "    .dataframe thead th {\n",
       "        text-align: right;\n",
       "    }\n",
       "</style>\n",
       "<table border=\"1\" class=\"dataframe\">\n",
       "  <thead>\n",
       "    <tr style=\"text-align: right;\">\n",
       "      <th></th>\n",
       "      <th>order_id</th>\n",
       "      <th>quantity</th>\n",
       "      <th>item_name</th>\n",
       "      <th>choice_description</th>\n",
       "      <th>item_price</th>\n",
       "      <th>unit_price</th>\n",
       "    </tr>\n",
       "  </thead>\n",
       "  <tbody>\n",
       "    <tr>\n",
       "      <th>3889</th>\n",
       "      <td>1559</td>\n",
       "      <td>2</td>\n",
       "      <td>Veggie Soft Tacos</td>\n",
       "      <td>[Fresh Tomato Salsa (Mild), [Black Beans, Rice...</td>\n",
       "      <td>16.98</td>\n",
       "      <td>8.49</td>\n",
       "    </tr>\n",
       "    <tr>\n",
       "      <th>2851</th>\n",
       "      <td>1132</td>\n",
       "      <td>1</td>\n",
       "      <td>Veggie Soft Tacos</td>\n",
       "      <td>[Roasted Chili Corn Salsa (Medium), [Black Bea...</td>\n",
       "      <td>8.49</td>\n",
       "      <td>8.49</td>\n",
       "    </tr>\n",
       "    <tr>\n",
       "      <th>738</th>\n",
       "      <td>304</td>\n",
       "      <td>1</td>\n",
       "      <td>Veggie Soft Tacos</td>\n",
       "      <td>[Tomatillo Red Chili Salsa, [Fajita Vegetables...</td>\n",
       "      <td>11.25</td>\n",
       "      <td>11.25</td>\n",
       "    </tr>\n",
       "    <tr>\n",
       "      <th>1395</th>\n",
       "      <td>567</td>\n",
       "      <td>1</td>\n",
       "      <td>Veggie Soft Tacos</td>\n",
       "      <td>[Fresh Tomato Salsa (Mild), [Pinto Beans, Rice...</td>\n",
       "      <td>8.49</td>\n",
       "      <td>8.49</td>\n",
       "    </tr>\n",
       "    <tr>\n",
       "      <th>2384</th>\n",
       "      <td>948</td>\n",
       "      <td>1</td>\n",
       "      <td>Veggie Soft Tacos</td>\n",
       "      <td>[Roasted Chili Corn Salsa, [Fajita Vegetables,...</td>\n",
       "      <td>8.75</td>\n",
       "      <td>8.75</td>\n",
       "    </tr>\n",
       "    <tr>\n",
       "      <th>...</th>\n",
       "      <td>...</td>\n",
       "      <td>...</td>\n",
       "      <td>...</td>\n",
       "      <td>...</td>\n",
       "      <td>...</td>\n",
       "      <td>...</td>\n",
       "    </tr>\n",
       "    <tr>\n",
       "      <th>1916</th>\n",
       "      <td>774</td>\n",
       "      <td>1</td>\n",
       "      <td>6 Pack Soft Drink</td>\n",
       "      <td>[Diet Coke]</td>\n",
       "      <td>6.49</td>\n",
       "      <td>6.49</td>\n",
       "    </tr>\n",
       "    <tr>\n",
       "      <th>1124</th>\n",
       "      <td>465</td>\n",
       "      <td>1</td>\n",
       "      <td>6 Pack Soft Drink</td>\n",
       "      <td>[Coke]</td>\n",
       "      <td>6.49</td>\n",
       "      <td>6.49</td>\n",
       "    </tr>\n",
       "    <tr>\n",
       "      <th>3789</th>\n",
       "      <td>1517</td>\n",
       "      <td>1</td>\n",
       "      <td>6 Pack Soft Drink</td>\n",
       "      <td>[Diet Coke]</td>\n",
       "      <td>6.49</td>\n",
       "      <td>6.49</td>\n",
       "    </tr>\n",
       "    <tr>\n",
       "      <th>1392</th>\n",
       "      <td>566</td>\n",
       "      <td>1</td>\n",
       "      <td>6 Pack Soft Drink</td>\n",
       "      <td>[Diet Coke]</td>\n",
       "      <td>6.49</td>\n",
       "      <td>6.49</td>\n",
       "    </tr>\n",
       "    <tr>\n",
       "      <th>3614</th>\n",
       "      <td>1448</td>\n",
       "      <td>1</td>\n",
       "      <td>6 Pack Soft Drink</td>\n",
       "      <td>[Nestea]</td>\n",
       "      <td>6.49</td>\n",
       "      <td>6.49</td>\n",
       "    </tr>\n",
       "  </tbody>\n",
       "</table>\n",
       "<p>4622 rows × 6 columns</p>\n",
       "</div>"
      ],
      "text/plain": [
       "      order_id  quantity          item_name  \\\n",
       "3889      1559         2  Veggie Soft Tacos   \n",
       "2851      1132         1  Veggie Soft Tacos   \n",
       "738        304         1  Veggie Soft Tacos   \n",
       "1395       567         1  Veggie Soft Tacos   \n",
       "2384       948         1  Veggie Soft Tacos   \n",
       "...        ...       ...                ...   \n",
       "1916       774         1  6 Pack Soft Drink   \n",
       "1124       465         1  6 Pack Soft Drink   \n",
       "3789      1517         1  6 Pack Soft Drink   \n",
       "1392       566         1  6 Pack Soft Drink   \n",
       "3614      1448         1  6 Pack Soft Drink   \n",
       "\n",
       "                                     choice_description  item_price  \\\n",
       "3889  [Fresh Tomato Salsa (Mild), [Black Beans, Rice...       16.98   \n",
       "2851  [Roasted Chili Corn Salsa (Medium), [Black Bea...        8.49   \n",
       "738   [Tomatillo Red Chili Salsa, [Fajita Vegetables...       11.25   \n",
       "1395  [Fresh Tomato Salsa (Mild), [Pinto Beans, Rice...        8.49   \n",
       "2384  [Roasted Chili Corn Salsa, [Fajita Vegetables,...        8.75   \n",
       "...                                                 ...         ...   \n",
       "1916                                        [Diet Coke]        6.49   \n",
       "1124                                             [Coke]        6.49   \n",
       "3789                                        [Diet Coke]        6.49   \n",
       "1392                                        [Diet Coke]        6.49   \n",
       "3614                                           [Nestea]        6.49   \n",
       "\n",
       "      unit_price  \n",
       "3889        8.49  \n",
       "2851        8.49  \n",
       "738        11.25  \n",
       "1395        8.49  \n",
       "2384        8.75  \n",
       "...          ...  \n",
       "1916        6.49  \n",
       "1124        6.49  \n",
       "3789        6.49  \n",
       "1392        6.49  \n",
       "3614        6.49  \n",
       "\n",
       "[4622 rows x 6 columns]"
      ]
     },
     "execution_count": 191,
     "metadata": {},
     "output_type": "execute_result"
    }
   ],
   "source": [
    "chipo.sort_values(\"item_name\",ascending=False)"
   ]
  },
  {
   "cell_type": "code",
   "execution_count": 192,
   "metadata": {},
   "outputs": [
    {
     "data": {
      "application/vnd.microsoft.datawrangler.viewer.v0+json": {
       "columns": [
        {
         "name": "index",
         "rawType": "int64",
         "type": "integer"
        },
        {
         "name": "order_id",
         "rawType": "int64",
         "type": "integer"
        },
        {
         "name": "quantity",
         "rawType": "int64",
         "type": "integer"
        },
        {
         "name": "item_name",
         "rawType": "object",
         "type": "string"
        },
        {
         "name": "choice_description",
         "rawType": "object",
         "type": "unknown"
        },
        {
         "name": "item_price",
         "rawType": "float64",
         "type": "float"
        },
        {
         "name": "unit_price",
         "rawType": "float64",
         "type": "float"
        }
       ],
       "conversionMethod": "pd.DataFrame",
       "ref": "2fe64043-b939-4d2e-a14b-811f96a74b54",
       "rows": [
        [
         "1395",
         "567",
         "1",
         "Veggie Soft Tacos",
         "[Fresh Tomato Salsa (Mild), [Pinto Beans, Rice, Cheese, Sour Cream]]",
         "8.49",
         "8.49"
        ],
        [
         "2851",
         "1132",
         "1",
         "Veggie Soft Tacos",
         "[Roasted Chili Corn Salsa (Medium), [Black Beans, Fajita Veggies, Cheese, Sour Cream, Lettuce]]",
         "8.49",
         "8.49"
        ],
        [
         "781",
         "322",
         "1",
         "Veggie Soft Tacos",
         "[Fresh Tomato Salsa, [Black Beans, Cheese, Sour Cream, Lettuce]]",
         "8.75",
         "8.75"
        ],
        [
         "2384",
         "948",
         "1",
         "Veggie Soft Tacos",
         "[Roasted Chili Corn Salsa, [Fajita Vegetables, Black Beans, Pinto Beans, Cheese, Lettuce]]",
         "8.75",
         "8.75"
        ],
        [
         "738",
         "304",
         "1",
         "Veggie Soft Tacos",
         "[Tomatillo Red Chili Salsa, [Fajita Vegetables, Rice, Black Beans, Cheese, Guacamole, Lettuce]]",
         "11.25",
         "11.25"
        ],
        [
         "1699",
         "688",
         "1",
         "Veggie Soft Tacos",
         "[Fresh Tomato Salsa, [Fajita Vegetables, Rice, Black Beans, Pinto Beans, Cheese, Sour Cream, Guacamole, Lettuce]]",
         "11.25",
         "11.25"
        ],
        [
         "3889",
         "1559",
         "2",
         "Veggie Soft Tacos",
         "[Fresh Tomato Salsa (Mild), [Black Beans, Rice, Cheese, Lettuce]]",
         "16.98",
         "8.49"
        ],
        [
         "960",
         "394",
         "1",
         "Veggie Salad Bowl",
         "[Fresh Tomato Salsa, [Fajita Vegetables, Lettuce]]",
         "8.75",
         "8.75"
        ],
        [
         "1316",
         "536",
         "1",
         "Veggie Salad Bowl",
         "[Fresh Tomato Salsa, [Fajita Vegetables, Rice, Black Beans, Cheese, Sour Cream]]",
         "8.75",
         "8.75"
        ],
        [
         "2223",
         "896",
         "1",
         "Veggie Salad Bowl",
         "[Roasted Chili Corn Salsa, Fajita Vegetables]",
         "8.75",
         "8.75"
        ],
        [
         "2269",
         "913",
         "1",
         "Veggie Salad Bowl",
         "[Fresh Tomato Salsa, [Fajita Vegetables, Rice, Pinto Beans, Cheese, Lettuce]]",
         "8.75",
         "8.75"
        ],
        [
         "2683",
         "1066",
         "1",
         "Veggie Salad Bowl",
         "[Roasted Chili Corn Salsa, [Fajita Vegetables, Rice, Black Beans, Lettuce]]",
         "8.75",
         "8.75"
        ],
        [
         "3293",
         "1321",
         "1",
         "Veggie Salad Bowl",
         "[Fresh Tomato Salsa, [Rice, Black Beans, Cheese, Sour Cream]]",
         "8.75",
         "8.75"
        ],
        [
         "4541",
         "1805",
         "1",
         "Veggie Salad Bowl",
         "[Tomatillo Green Chili Salsa, [Fajita Vegetables, Rice, Black Beans, Cheese, Sour Cream, Lettuce]]",
         "8.75",
         "8.75"
        ],
        [
         "4573",
         "1818",
         "1",
         "Veggie Salad Bowl",
         "[Fresh Tomato Salsa, [Fajita Vegetables, Pinto Beans, Lettuce]]",
         "8.75",
         "8.75"
        ],
        [
         "186",
         "83",
         "1",
         "Veggie Salad Bowl",
         "[Fresh Tomato Salsa, [Fajita Vegetables, Rice, Black Beans, Cheese, Sour Cream, Guacamole, Lettuce]]",
         "11.25",
         "11.25"
        ],
        [
         "295",
         "128",
         "1",
         "Veggie Salad Bowl",
         "[Fresh Tomato Salsa, [Fajita Vegetables, Lettuce, Guacamole, Sour Cream, Cheese, Black Beans, Rice]]",
         "11.25",
         "11.25"
        ],
        [
         "455",
         "195",
         "1",
         "Veggie Salad Bowl",
         "[Fresh Tomato Salsa, [Fajita Vegetables, Rice, Black Beans, Cheese, Guacamole, Lettuce]]",
         "11.25",
         "11.25"
        ],
        [
         "496",
         "207",
         "1",
         "Veggie Salad Bowl",
         "[Fresh Tomato Salsa, [Rice, Lettuce, Guacamole, Fajita Vegetables, Cheese, Sour Cream, Black Beans]]",
         "11.25",
         "11.25"
        ],
        [
         "1884",
         "760",
         "1",
         "Veggie Salad Bowl",
         "[Fresh Tomato Salsa, [Fajita Vegetables, Rice, Black Beans, Cheese, Guacamole, Lettuce]]",
         "11.25",
         "11.25"
        ],
        [
         "2156",
         "869",
         "1",
         "Veggie Salad Bowl",
         "[Tomatillo Red Chili Salsa, [Fajita Vegetables, Rice, Black Beans, Cheese, Guacamole]]",
         "11.25",
         "11.25"
        ],
        [
         "3223",
         "1289",
         "1",
         "Veggie Salad Bowl",
         "[Tomatillo Red Chili Salsa, [Fajita Vegetables, Rice, Black Beans, Cheese, Guacamole]]",
         "11.25",
         "11.25"
        ],
        [
         "4109",
         "1646",
         "1",
         "Veggie Salad Bowl",
         "[Tomatillo Red Chili Salsa, [Fajita Vegetables, Rice, Black Beans, Cheese, Guacamole, Lettuce]]",
         "11.25",
         "11.25"
        ],
        [
         "4201",
         "1677",
         "1",
         "Veggie Salad Bowl",
         "[Fresh Tomato Salsa, [Fajita Vegetables, Black Beans, Guacamole]]",
         "11.25",
         "11.25"
        ],
        [
         "4261",
         "1700",
         "1",
         "Veggie Salad Bowl",
         "[Fresh Tomato Salsa, [Fajita Vegetables, Rice, Guacamole]]",
         "11.25",
         "11.25"
        ],
        [
         "1694",
         "686",
         "1",
         "Veggie Salad",
         "[[Fresh Tomato Salsa (Mild), Roasted Chili Corn Salsa (Medium)], [Rice, Fajita Veggies, Lettuce]]",
         "8.49",
         "8.49"
        ],
        [
         "2756",
         "1094",
         "1",
         "Veggie Salad",
         "[[Tomatillo-Green Chili Salsa (Medium), Roasted Chili Corn Salsa (Medium), Tomatillo-Red Chili Salsa (Hot)], [Black Beans, Rice, Fajita Veggies, Lettuce]]",
         "8.49",
         "8.49"
        ],
        [
         "2996",
         "1192",
         "1",
         "Veggie Salad",
         "[Roasted Chili Corn Salsa (Medium), [Black Beans, Rice, Cheese, Sour Cream, Lettuce]]",
         "8.49",
         "8.49"
        ],
        [
         "3163",
         "1263",
         "1",
         "Veggie Salad",
         "[[Fresh Tomato Salsa (Mild), Roasted Chili Corn Salsa (Medium), Tomatillo-Red Chili Salsa (Hot)], [Black Beans, Rice, Fajita Veggies, Lettuce]]",
         "8.49",
         "8.49"
        ],
        [
         "3471",
         "1395",
         "1",
         "Veggie Salad",
         "[[Tomatillo-Green Chili Salsa (Medium), Roasted Chili Corn Salsa (Medium), Tomatillo-Red Chili Salsa (Hot)], [Black Beans, Rice, Fajita Veggies, Lettuce]]",
         "8.49",
         "8.49"
        ],
        [
         "4084",
         "1635",
         "1",
         "Veggie Salad",
         "[[Fresh Tomato Salsa (Mild), Roasted Chili Corn Salsa (Medium), Tomatillo-Red Chili Salsa (Hot)], [Black Beans, Rice, Fajita Veggies, Lettuce]]",
         "8.49",
         "8.49"
        ],
        [
         "1653",
         "668",
         "1",
         "Veggie Crispy Tacos",
         "[Fresh Tomato Salsa (Mild), [Pinto Beans, Rice, Cheese, Sour Cream]]",
         "8.49",
         "8.49"
        ],
        [
         "104",
         "46",
         "1",
         "Veggie Burrito",
         "[Fresh Tomato Salsa (Mild), [Black Beans, Rice, Fajita Veggies, Sour Cream, Lettuce]]",
         "8.49",
         "8.49"
        ],
        [
         "467",
         "200",
         "1",
         "Veggie Burrito",
         "[Fresh Tomato Salsa (Mild), [Pinto Beans, Rice, Cheese, Sour Cream]]",
         "8.49",
         "8.49"
        ],
        [
         "469",
         "201",
         "1",
         "Veggie Burrito",
         "[Fresh Tomato Salsa (Mild), [Pinto Beans, Rice, Sour Cream, Cheese]]",
         "8.49",
         "8.49"
        ],
        [
         "497",
         "208",
         "1",
         "Veggie Burrito",
         "[Fresh Tomato Salsa (Mild), [Pinto Beans, Cheese]]",
         "8.49",
         "8.49"
        ],
        [
         "535",
         "224",
         "1",
         "Veggie Burrito",
         "[Fresh Tomato Salsa (Mild), [Pinto Beans, Rice, Cheese, Sour Cream]]",
         "8.49",
         "8.49"
        ],
        [
         "631",
         "260",
         "1",
         "Veggie Burrito",
         "[Fresh Tomato Salsa (Mild), [Pinto Beans, Rice, Cheese, Sour Cream]]",
         "8.49",
         "8.49"
        ],
        [
         "662",
         "275",
         "1",
         "Veggie Burrito",
         "[Fresh Tomato Salsa (Mild), [Pinto Beans, Rice, Cheese, Sour Cream]]",
         "8.49",
         "8.49"
        ],
        [
         "710",
         "292",
         "1",
         "Veggie Burrito",
         "[Fresh Tomato Salsa (Mild), [Pinto Beans, Rice, Cheese, Sour Cream]]",
         "8.49",
         "8.49"
        ],
        [
         "714",
         "294",
         "1",
         "Veggie Burrito",
         "[Fresh Tomato Salsa (Mild), [Pinto Beans, Rice, Cheese, Sour Cream]]",
         "8.49",
         "8.49"
        ],
        [
         "732",
         "302",
         "1",
         "Veggie Burrito",
         "[Fresh Tomato Salsa (Mild), [Pinto Beans, Rice, Cheese, Sour Cream]]",
         "8.49",
         "8.49"
        ],
        [
         "745",
         "307",
         "1",
         "Veggie Burrito",
         "[Fresh Tomato Salsa (Mild), [Cheese, Rice, Pinto Beans, Sour Cream]]",
         "8.49",
         "8.49"
        ],
        [
         "771",
         "318",
         "1",
         "Veggie Burrito",
         "[Fresh Tomato Salsa (Mild), [Cheese, Rice, Pinto Beans, Sour Cream]]",
         "8.49",
         "8.49"
        ],
        [
         "813",
         "335",
         "1",
         "Veggie Burrito",
         "[Fresh Tomato Salsa (Mild), [Cheese, Rice, Pinto Beans, Sour Cream]]",
         "8.49",
         "8.49"
        ],
        [
         "827",
         "342",
         "1",
         "Veggie Burrito",
         "[Fresh Tomato Salsa (Mild), [Cheese, Pinto Beans, Sour Cream, Rice]]",
         "8.49",
         "8.49"
        ],
        [
         "847",
         "349",
         "1",
         "Veggie Burrito",
         "[Tomatillo-Green Chili Salsa (Medium), [Black Beans, Rice, Cheese]]",
         "8.49",
         "8.49"
        ],
        [
         "891",
         "368",
         "1",
         "Veggie Burrito",
         "[Fresh Tomato Salsa (Mild), [Black Beans, Rice, Cheese, Sour Cream, Lettuce]]",
         "8.49",
         "8.49"
        ],
        [
         "972",
         "399",
         "1",
         "Veggie Burrito",
         "[Fresh Tomato Salsa (Mild), [Rice, Pinto Beans, Cheese, Sour Cream]]",
         "8.49",
         "8.49"
        ],
        [
         "1038",
         "427",
         "1",
         "Veggie Burrito",
         "[Fresh Tomato Salsa (Mild), [Pinto Beans, Rice, Sour Cream, Cheese]]",
         "8.49",
         "8.49"
        ]
       ],
       "shape": {
        "columns": 6,
        "rows": 4622
       }
      },
      "text/html": [
       "<div>\n",
       "<style scoped>\n",
       "    .dataframe tbody tr th:only-of-type {\n",
       "        vertical-align: middle;\n",
       "    }\n",
       "\n",
       "    .dataframe tbody tr th {\n",
       "        vertical-align: top;\n",
       "    }\n",
       "\n",
       "    .dataframe thead th {\n",
       "        text-align: right;\n",
       "    }\n",
       "</style>\n",
       "<table border=\"1\" class=\"dataframe\">\n",
       "  <thead>\n",
       "    <tr style=\"text-align: right;\">\n",
       "      <th></th>\n",
       "      <th>order_id</th>\n",
       "      <th>quantity</th>\n",
       "      <th>item_name</th>\n",
       "      <th>choice_description</th>\n",
       "      <th>item_price</th>\n",
       "      <th>unit_price</th>\n",
       "    </tr>\n",
       "  </thead>\n",
       "  <tbody>\n",
       "    <tr>\n",
       "      <th>1395</th>\n",
       "      <td>567</td>\n",
       "      <td>1</td>\n",
       "      <td>Veggie Soft Tacos</td>\n",
       "      <td>[Fresh Tomato Salsa (Mild), [Pinto Beans, Rice...</td>\n",
       "      <td>8.49</td>\n",
       "      <td>8.49</td>\n",
       "    </tr>\n",
       "    <tr>\n",
       "      <th>2851</th>\n",
       "      <td>1132</td>\n",
       "      <td>1</td>\n",
       "      <td>Veggie Soft Tacos</td>\n",
       "      <td>[Roasted Chili Corn Salsa (Medium), [Black Bea...</td>\n",
       "      <td>8.49</td>\n",
       "      <td>8.49</td>\n",
       "    </tr>\n",
       "    <tr>\n",
       "      <th>781</th>\n",
       "      <td>322</td>\n",
       "      <td>1</td>\n",
       "      <td>Veggie Soft Tacos</td>\n",
       "      <td>[Fresh Tomato Salsa, [Black Beans, Cheese, Sou...</td>\n",
       "      <td>8.75</td>\n",
       "      <td>8.75</td>\n",
       "    </tr>\n",
       "    <tr>\n",
       "      <th>2384</th>\n",
       "      <td>948</td>\n",
       "      <td>1</td>\n",
       "      <td>Veggie Soft Tacos</td>\n",
       "      <td>[Roasted Chili Corn Salsa, [Fajita Vegetables,...</td>\n",
       "      <td>8.75</td>\n",
       "      <td>8.75</td>\n",
       "    </tr>\n",
       "    <tr>\n",
       "      <th>738</th>\n",
       "      <td>304</td>\n",
       "      <td>1</td>\n",
       "      <td>Veggie Soft Tacos</td>\n",
       "      <td>[Tomatillo Red Chili Salsa, [Fajita Vegetables...</td>\n",
       "      <td>11.25</td>\n",
       "      <td>11.25</td>\n",
       "    </tr>\n",
       "    <tr>\n",
       "      <th>...</th>\n",
       "      <td>...</td>\n",
       "      <td>...</td>\n",
       "      <td>...</td>\n",
       "      <td>...</td>\n",
       "      <td>...</td>\n",
       "      <td>...</td>\n",
       "    </tr>\n",
       "    <tr>\n",
       "      <th>4363</th>\n",
       "      <td>1742</td>\n",
       "      <td>1</td>\n",
       "      <td>6 Pack Soft Drink</td>\n",
       "      <td>[Diet Coke]</td>\n",
       "      <td>6.49</td>\n",
       "      <td>6.49</td>\n",
       "    </tr>\n",
       "    <tr>\n",
       "      <th>4522</th>\n",
       "      <td>1798</td>\n",
       "      <td>1</td>\n",
       "      <td>6 Pack Soft Drink</td>\n",
       "      <td>[Diet Coke]</td>\n",
       "      <td>6.49</td>\n",
       "      <td>6.49</td>\n",
       "    </tr>\n",
       "    <tr>\n",
       "      <th>4527</th>\n",
       "      <td>1800</td>\n",
       "      <td>1</td>\n",
       "      <td>6 Pack Soft Drink</td>\n",
       "      <td>[Diet Coke]</td>\n",
       "      <td>6.49</td>\n",
       "      <td>6.49</td>\n",
       "    </tr>\n",
       "    <tr>\n",
       "      <th>4535</th>\n",
       "      <td>1803</td>\n",
       "      <td>1</td>\n",
       "      <td>6 Pack Soft Drink</td>\n",
       "      <td>[Lemonade]</td>\n",
       "      <td>6.49</td>\n",
       "      <td>6.49</td>\n",
       "    </tr>\n",
       "    <tr>\n",
       "      <th>3389</th>\n",
       "      <td>1360</td>\n",
       "      <td>2</td>\n",
       "      <td>6 Pack Soft Drink</td>\n",
       "      <td>[Diet Coke]</td>\n",
       "      <td>12.98</td>\n",
       "      <td>6.49</td>\n",
       "    </tr>\n",
       "  </tbody>\n",
       "</table>\n",
       "<p>4622 rows × 6 columns</p>\n",
       "</div>"
      ],
      "text/plain": [
       "      order_id  quantity          item_name  \\\n",
       "1395       567         1  Veggie Soft Tacos   \n",
       "2851      1132         1  Veggie Soft Tacos   \n",
       "781        322         1  Veggie Soft Tacos   \n",
       "2384       948         1  Veggie Soft Tacos   \n",
       "738        304         1  Veggie Soft Tacos   \n",
       "...        ...       ...                ...   \n",
       "4363      1742         1  6 Pack Soft Drink   \n",
       "4522      1798         1  6 Pack Soft Drink   \n",
       "4527      1800         1  6 Pack Soft Drink   \n",
       "4535      1803         1  6 Pack Soft Drink   \n",
       "3389      1360         2  6 Pack Soft Drink   \n",
       "\n",
       "                                     choice_description  item_price  \\\n",
       "1395  [Fresh Tomato Salsa (Mild), [Pinto Beans, Rice...        8.49   \n",
       "2851  [Roasted Chili Corn Salsa (Medium), [Black Bea...        8.49   \n",
       "781   [Fresh Tomato Salsa, [Black Beans, Cheese, Sou...        8.75   \n",
       "2384  [Roasted Chili Corn Salsa, [Fajita Vegetables,...        8.75   \n",
       "738   [Tomatillo Red Chili Salsa, [Fajita Vegetables...       11.25   \n",
       "...                                                 ...         ...   \n",
       "4363                                        [Diet Coke]        6.49   \n",
       "4522                                        [Diet Coke]        6.49   \n",
       "4527                                        [Diet Coke]        6.49   \n",
       "4535                                         [Lemonade]        6.49   \n",
       "3389                                        [Diet Coke]       12.98   \n",
       "\n",
       "      unit_price  \n",
       "1395        8.49  \n",
       "2851        8.49  \n",
       "781         8.75  \n",
       "2384        8.75  \n",
       "738        11.25  \n",
       "...          ...  \n",
       "4363        6.49  \n",
       "4522        6.49  \n",
       "4527        6.49  \n",
       "4535        6.49  \n",
       "3389        6.49  \n",
       "\n",
       "[4622 rows x 6 columns]"
      ]
     },
     "execution_count": 192,
     "metadata": {},
     "output_type": "execute_result"
    }
   ],
   "source": [
    "chipo.sort_values(['item_name','item_price'], ascending=[False, True])"
   ]
  },
  {
   "attachments": {},
   "cell_type": "markdown",
   "metadata": {},
   "source": [
    "### Step 7. What was the quantity of the most expensive item ordered? 2 ways"
   ]
  },
  {
   "cell_type": "code",
   "execution_count": 193,
   "metadata": {},
   "outputs": [
    {
     "data": {
      "text/plain": [
       "array(['Steak Salad Bowl', 'Carnitas Salad Bowl', 'Barbacoa Salad Bowl'],\n",
       "      dtype=object)"
      ]
     },
     "execution_count": 193,
     "metadata": {},
     "output_type": "execute_result"
    }
   ],
   "source": [
    "max_valued_products = chipo[chipo['unit_price'] == chipo['unit_price'].max()]['item_name'].unique()\n",
    "max_valued_products"
   ]
  },
  {
   "cell_type": "code",
   "execution_count": 194,
   "metadata": {},
   "outputs": [
    {
     "name": "stdout",
     "output_type": "stream",
     "text": [
      "Steak Salad Bowl\n",
      "31\n",
      "\n",
      "Carnitas Salad Bowl\n",
      "6\n",
      "\n",
      "Barbacoa Salad Bowl\n",
      "10\n",
      "\n"
     ]
    }
   ],
   "source": [
    "for m in max_valued_products:\n",
    "    print(m)\n",
    "    print(chipo[chipo['item_name']==m]['quantity'].sum())\n",
    "    print()"
   ]
  },
  {
   "cell_type": "code",
   "execution_count": 195,
   "metadata": {},
   "outputs": [
    {
     "data": {
      "text/plain": [
       "281        Steak Salad Bowl\n",
       "606        Steak Salad Bowl\n",
       "613        Steak Salad Bowl\n",
       "749        Steak Salad Bowl\n",
       "1132    Carnitas Salad Bowl\n",
       "1159       Steak Salad Bowl\n",
       "1229    Barbacoa Salad Bowl\n",
       "1311       Steak Salad Bowl\n",
       "1326    Barbacoa Salad Bowl\n",
       "1505       Steak Salad Bowl\n",
       "1571       Steak Salad Bowl\n",
       "1590       Steak Salad Bowl\n",
       "1816       Steak Salad Bowl\n",
       "2401       Steak Salad Bowl\n",
       "2439       Steak Salad Bowl\n",
       "2442    Barbacoa Salad Bowl\n",
       "2610    Carnitas Salad Bowl\n",
       "2740       Steak Salad Bowl\n",
       "2804       Steak Salad Bowl\n",
       "2957       Steak Salad Bowl\n",
       "3120       Steak Salad Bowl\n",
       "3208    Barbacoa Salad Bowl\n",
       "3350       Steak Salad Bowl\n",
       "3493       Steak Salad Bowl\n",
       "3546    Barbacoa Salad Bowl\n",
       "3749    Carnitas Salad Bowl\n",
       "4239    Carnitas Salad Bowl\n",
       "4313       Steak Salad Bowl\n",
       "Name: item_name, dtype: object"
      ]
     },
     "execution_count": 195,
     "metadata": {},
     "output_type": "execute_result"
    }
   ],
   "source": [
    "chipo[chipo['unit_price'] == chipo['unit_price'].max()]['item_name']"
   ]
  },
  {
   "cell_type": "code",
   "execution_count": 196,
   "metadata": {},
   "outputs": [
    {
     "data": {
      "application/vnd.microsoft.datawrangler.viewer.v0+json": {
       "columns": [
        {
         "name": "item_name",
         "rawType": "object",
         "type": "string"
        },
        {
         "name": "order_id",
         "rawType": "int64",
         "type": "integer"
        },
        {
         "name": "quantity",
         "rawType": "int64",
         "type": "integer"
        },
        {
         "name": "choice_description",
         "rawType": "object",
         "type": "string"
        },
        {
         "name": "item_price",
         "rawType": "float64",
         "type": "float"
        },
        {
         "name": "unit_price",
         "rawType": "float64",
         "type": "float"
        }
       ],
       "conversionMethod": "pd.DataFrame",
       "ref": "b9b05928-fb0a-4c1a-9259-2d31e824446d",
       "rows": [
        [
         "Barbacoa Salad Bowl",
         "4721",
         "5",
         "[Fresh Tomato Salsa, [Rice, Fajita Vegetables, Pinto Beans, Black Beans, Sour Cream, Cheese, Lettuce, Guacamole]][Fresh Tomato Salsa, [Fajita Vegetables, Rice, Black Beans, Cheese, Guacamole, Lettuce]][Tomatillo Green Chili Salsa, [Rice, Fajita Vegetables, Pinto Beans, Sour Cream, Cheese, Lettuce, Guacamole]][Tomatillo Red Chili Salsa, [Black Beans, Cheese, Sour Cream, Guacamole]][Fresh Tomato Salsa, Guacamole]",
         "59.45",
         "59.45"
        ],
        [
         "Carnitas Salad Bowl",
         "4694",
         "4",
         "[Fresh Tomato Salsa, [Rice, Black Beans, Cheese, Guacamole]][Roasted Chili Corn Salsa, [Fajita Vegetables, Rice, Black Beans, Cheese, Sour Cream, Guacamole, Lettuce]][Roasted Chili Corn Salsa, [Fajita Vegetables, Rice, Pinto Beans, Cheese, Sour Cream, Guacamole, Lettuce]][Tomatillo Green Chili Salsa, [Black Beans, Cheese, Guacamole]]",
         "47.56",
         "47.56"
        ],
        [
         "Steak Salad Bowl",
         "15584",
         "21",
         "[Tomatillo Red Chili Salsa, [Black Beans, Cheese, Guacamole]][Fresh Tomato Salsa, [Pinto Beans, Cheese, Guacamole, Lettuce]][Tomatillo Red Chili Salsa, [Fajita Vegetables, Black Beans, Cheese, Guacamole, Lettuce]][Roasted Chili Corn Salsa, [Rice, Cheese, Lettuce, Guacamole]][Fresh Tomato Salsa, [Rice, Fajita Vegetables, Sour Cream, Cheese, Lettuce, Guacamole]][Roasted Chili Corn Salsa, [Fajita Vegetables, Rice, Black Beans, Cheese, Sour Cream, Guacamole, Lettuce]][Fresh Tomato Salsa, [Rice, Pinto Beans, Cheese, Sour Cream, Guacamole, Lettuce]][Fresh Tomato Salsa, [Fajita Vegetables, Sour Cream, Cheese, Lettuce, Guacamole]][Fresh Tomato Salsa, [Fajita Vegetables, Rice, Black Beans, Cheese, Sour Cream, Guacamole]][Fresh Tomato Salsa, [Rice, Black Beans, Cheese, Guacamole]][Fresh Tomato Salsa, [Fajita Vegetables, Guacamole]][Fresh Tomato Salsa, [Fajita Vegetables, Rice, Cheese, Sour Cream, Guacamole, Lettuce]][Fresh Tomato Salsa, [Fajita Vegetables, Black Beans, Cheese, Sour Cream, Guacamole]][Tomatillo Red Chili Salsa, [Rice, Black Beans, Cheese, Sour Cream, Guacamole, Lettuce]][Fresh Tomato Salsa, [Black Beans, Cheese, Guacamole, Lettuce]][Roasted Chili Corn Salsa, [Fajita Vegetables, Rice, Pinto Beans, Cheese, Sour Cream, Guacamole, Lettuce]][Fresh Tomato Salsa, [Cheese, Guacamole, Lettuce]][Roasted Chili Corn Salsa, [Fajita Vegetables, Rice, Cheese, Guacamole, Lettuce]][Roasted Chili Corn Salsa, [Fajita Vegetables, Rice, Black Beans, Guacamole]]",
         "249.69",
         "225.91000000000003"
        ]
       ],
       "shape": {
        "columns": 5,
        "rows": 3
       }
      },
      "text/html": [
       "<div>\n",
       "<style scoped>\n",
       "    .dataframe tbody tr th:only-of-type {\n",
       "        vertical-align: middle;\n",
       "    }\n",
       "\n",
       "    .dataframe tbody tr th {\n",
       "        vertical-align: top;\n",
       "    }\n",
       "\n",
       "    .dataframe thead th {\n",
       "        text-align: right;\n",
       "    }\n",
       "</style>\n",
       "<table border=\"1\" class=\"dataframe\">\n",
       "  <thead>\n",
       "    <tr style=\"text-align: right;\">\n",
       "      <th></th>\n",
       "      <th>order_id</th>\n",
       "      <th>quantity</th>\n",
       "      <th>choice_description</th>\n",
       "      <th>item_price</th>\n",
       "      <th>unit_price</th>\n",
       "    </tr>\n",
       "    <tr>\n",
       "      <th>item_name</th>\n",
       "      <th></th>\n",
       "      <th></th>\n",
       "      <th></th>\n",
       "      <th></th>\n",
       "      <th></th>\n",
       "    </tr>\n",
       "  </thead>\n",
       "  <tbody>\n",
       "    <tr>\n",
       "      <th>Barbacoa Salad Bowl</th>\n",
       "      <td>4721</td>\n",
       "      <td>5</td>\n",
       "      <td>[Fresh Tomato Salsa, [Rice, Fajita Vegetables,...</td>\n",
       "      <td>59.45</td>\n",
       "      <td>59.45</td>\n",
       "    </tr>\n",
       "    <tr>\n",
       "      <th>Carnitas Salad Bowl</th>\n",
       "      <td>4694</td>\n",
       "      <td>4</td>\n",
       "      <td>[Fresh Tomato Salsa, [Rice, Black Beans, Chees...</td>\n",
       "      <td>47.56</td>\n",
       "      <td>47.56</td>\n",
       "    </tr>\n",
       "    <tr>\n",
       "      <th>Steak Salad Bowl</th>\n",
       "      <td>15584</td>\n",
       "      <td>21</td>\n",
       "      <td>[Tomatillo Red Chili Salsa, [Black Beans, Chee...</td>\n",
       "      <td>249.69</td>\n",
       "      <td>225.91</td>\n",
       "    </tr>\n",
       "  </tbody>\n",
       "</table>\n",
       "</div>"
      ],
      "text/plain": [
       "                     order_id  quantity  \\\n",
       "item_name                                 \n",
       "Barbacoa Salad Bowl      4721         5   \n",
       "Carnitas Salad Bowl      4694         4   \n",
       "Steak Salad Bowl        15584        21   \n",
       "\n",
       "                                                    choice_description  \\\n",
       "item_name                                                                \n",
       "Barbacoa Salad Bowl  [Fresh Tomato Salsa, [Rice, Fajita Vegetables,...   \n",
       "Carnitas Salad Bowl  [Fresh Tomato Salsa, [Rice, Black Beans, Chees...   \n",
       "Steak Salad Bowl     [Tomatillo Red Chili Salsa, [Black Beans, Chee...   \n",
       "\n",
       "                     item_price  unit_price  \n",
       "item_name                                    \n",
       "Barbacoa Salad Bowl       59.45       59.45  \n",
       "Carnitas Salad Bowl       47.56       47.56  \n",
       "Steak Salad Bowl         249.69      225.91  "
      ]
     },
     "execution_count": 196,
     "metadata": {},
     "output_type": "execute_result"
    }
   ],
   "source": [
    "chipo[chipo['unit_price'] == chipo['unit_price'].max()].groupby(\"item_name\").sum()"
   ]
  },
  {
   "attachments": {},
   "cell_type": "markdown",
   "metadata": {},
   "source": [
    "### Step 8. How many times was a Veggie Salad Bowl ordered?"
   ]
  },
  {
   "cell_type": "code",
   "execution_count": 197,
   "metadata": {},
   "outputs": [
    {
     "data": {
      "text/plain": [
       "np.int64(18)"
      ]
     },
     "execution_count": 197,
     "metadata": {},
     "output_type": "execute_result"
    }
   ],
   "source": [
    "chipo[chipo[\"item_name\"]==\"Veggie Salad Bowl\"][\"quantity\"].sum()"
   ]
  },
  {
   "cell_type": "code",
   "execution_count": 198,
   "metadata": {},
   "outputs": [
    {
     "data": {
      "text/plain": [
       "np.int64(18)"
      ]
     },
     "execution_count": 198,
     "metadata": {},
     "output_type": "execute_result"
    }
   ],
   "source": [
    "chipo.loc[chipo['item_name'] == \"Veggie Salad Bowl\",'quantity'].sum()"
   ]
  },
  {
   "cell_type": "code",
   "execution_count": 199,
   "metadata": {},
   "outputs": [
    {
     "data": {
      "text/plain": [
       "quantity       18.0\n",
       "item_price    182.5\n",
       "dtype: float64"
      ]
     },
     "execution_count": 199,
     "metadata": {},
     "output_type": "execute_result"
    }
   ],
   "source": [
    "chipo.loc[chipo['item_name'] == \"Veggie Salad Bowl\",['quantity','item_price']].sum()"
   ]
  },
  {
   "attachments": {},
   "cell_type": "markdown",
   "metadata": {},
   "source": [
    "### Step 9. How many times did someone order more than one Canned Soda?"
   ]
  },
  {
   "cell_type": "code",
   "execution_count": 200,
   "metadata": {},
   "outputs": [
    {
     "data": {
      "text/plain": [
       "18"
      ]
     },
     "execution_count": 200,
     "metadata": {},
     "output_type": "execute_result"
    }
   ],
   "source": [
    "chipo[(chipo['item_name'] == \"Canned Soda\") & (chipo['quantity'] > 1)]['order_id'].nunique()"
   ]
  }
 ],
 "metadata": {
  "anaconda-cloud": {},
  "kernelspec": {
   "display_name": "Python 3",
   "language": "python",
   "name": "python3"
  },
  "language_info": {
   "codemirror_mode": {
    "name": "ipython",
    "version": 3
   },
   "file_extension": ".py",
   "mimetype": "text/x-python",
   "name": "python",
   "nbconvert_exporter": "python",
   "pygments_lexer": "ipython3",
   "version": "3.11.9"
  }
 },
 "nbformat": 4,
 "nbformat_minor": 4
}
