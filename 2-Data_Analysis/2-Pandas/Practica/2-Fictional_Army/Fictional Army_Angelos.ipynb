{
 "cells": [
  {
   "attachments": {},
   "cell_type": "markdown",
   "metadata": {},
   "source": [
    "# Fictional Army - Filtering and Sorting"
   ]
  },
  {
   "attachments": {},
   "cell_type": "markdown",
   "metadata": {},
   "source": [
    "### Import libraries"
   ]
  },
  {
   "cell_type": "code",
   "execution_count": 6,
   "metadata": {},
   "outputs": [],
   "source": [
    "import numpy as np\n",
    "import pandas as pd"
   ]
  },
  {
   "attachments": {},
   "cell_type": "markdown",
   "metadata": {},
   "source": [
    "### Step 1. This is the data given as a dictionary. Create a dataframe and assign it to a variable called army. "
   ]
  },
  {
   "cell_type": "code",
   "execution_count": 7,
   "metadata": {},
   "outputs": [],
   "source": [
    "# Create an example dataframe about a fictional army\n",
    "raw_data = {'regiment': ['Nighthawks', 'Nighthawks', 'Nighthawks', 'Nighthawks', 'Dragoons', 'Dragoons', 'Dragoons', 'Dragoons', 'Scouts', 'Scouts', 'Scouts', 'Scouts'],\n",
    "            'company': ['1st', '1st', '2nd', '2nd', '1st', '1st', '2nd', '2nd','1st', '1st', '2nd', '2nd'],\n",
    "            'deaths': [523, 52, 25, 616, 43, 234, 523, 62, None, 73, 37, 35],\n",
    "            'battles': [5, 42, 2, 2, 4, 7, 8, 3, 4, 7, 8, 9],\n",
    "            'size': [1045, 957, 1099, 1400, 1592, 1006, 987, 849, 973, 1005, 1099, 1523],\n",
    "            'veterans': [1, 5, 62, 26, 73, 37, 949, 48, 48, 435, 63, 345],\n",
    "            'readiness': [1, None, 3, None, 2, None, 2, None, None, 1, 2, None],\n",
    "            'armored': [1, 0, 1, 1, 0, 1, 0, 1, 0, 0, 1, 1],\n",
    "            'deserters': [4, 24, 31, 2, 3, 4, 24, 31, 2, 3, 2, 3],\n",
    "            'origin': ['Arizona', 'California', 'Texas', 'Florida', 'Maine', 'Iowa', 'Alaska', 'Washington', 'Oregon', 'Wyoming', 'Louisana', 'Georgia']}\n",
    "\n",
    "army = pd.DataFrame(raw_data)"
   ]
  },
  {
   "cell_type": "code",
   "execution_count": null,
   "metadata": {},
   "outputs": [
    {
     "ename": "NameError",
     "evalue": "name 'insull' is not defined",
     "output_type": "error",
     "traceback": [
      "\u001b[31m---------------------------------------------------------------------------\u001b[39m",
      "\u001b[31mNameError\u001b[39m                                 Traceback (most recent call last)",
      "\u001b[36mCell\u001b[39m\u001b[36m \u001b[39m\u001b[32mIn[4]\u001b[39m\u001b[32m, line 1\u001b[39m\n\u001b[32m----> \u001b[39m\u001b[32m1\u001b[39m \u001b[43minsull\u001b[49m(help)\n",
      "\u001b[31mNameError\u001b[39m: name 'insull' is not defined"
     ]
    }
   ],
   "source": []
  },
  {
   "attachments": {},
   "cell_type": "markdown",
   "metadata": {},
   "source": [
    "### Step 2. Check missing values"
   ]
  },
  {
   "cell_type": "code",
   "execution_count": 8,
   "metadata": {},
   "outputs": [
    {
     "name": "stdout",
     "output_type": "stream",
     "text": [
      "[[False False False False False False False False False False]\n",
      " [False False False False False False  True False False False]\n",
      " [False False False False False False False False False False]\n",
      " [False False False False False False  True False False False]\n",
      " [False False False False False False False False False False]\n",
      " [False False False False False False  True False False False]\n",
      " [False False False False False False False False False False]\n",
      " [False False False False False False  True False False False]\n",
      " [False False  True False False False  True False False False]\n",
      " [False False False False False False False False False False]\n",
      " [False False False False False False False False False False]\n",
      " [False False False False False False  True False False False]]\n"
     ]
    }
   ],
   "source": [
    "\n",
    "tiene_nan = army.isnull().values.view()\n",
    "\n",
    "print( tiene_nan)\n"
   ]
  },
  {
   "attachments": {},
   "cell_type": "markdown",
   "metadata": {},
   "source": [
    "### Step 3. Drop features, if there are more than 30% missing values."
   ]
  },
  {
   "cell_type": "code",
   "execution_count": 9,
   "metadata": {},
   "outputs": [
    {
     "name": "stdout",
     "output_type": "stream",
     "text": [
      "\n",
      "Valores faltantes por columna:\n",
      "regiment     0\n",
      "company      0\n",
      "deaths       1\n",
      "battles      0\n",
      "size         0\n",
      "veterans     0\n",
      "readiness    6\n",
      "armored      0\n",
      "deserters    0\n",
      "origin       0\n",
      "dtype: int64\n",
      "Columnas después de eliminar las que tienen más del 30% de nulos:\n",
      "['regiment', 'company', 'deaths', 'battles', 'size', 'veterans', 'armored', 'deserters', 'origin']\n"
     ]
    }
   ],
   "source": [
    "# Ver cuántos valores faltantes hay por columna\n",
    "nulos_por_columna = army.isnull().sum()\n",
    "print(\"\\nValores faltantes por columna:\")\n",
    "print(nulos_por_columna)\n",
    "\n",
    "# Mostrar filas que contienen al menos un valor nulo\n",
    "filas_con_nulos = army[army.isnull().any(axis=1)]\n",
    "filas_con_nulos\n",
    "\n",
    "\n",
    "umbral = len(army) * 0.3  # 30% de las filas\n",
    "\n",
    "# Eliminar columnas con más del 30% de valores nulos\n",
    "army_filtrado = army.dropna(axis=1, thresh=army.shape[0] - umbral)\n",
    "\n",
    "print(\"Columnas después de eliminar las que tienen más del 30% de nulos:\")\n",
    "print(army_filtrado.columns.tolist())\n",
    "\n"
   ]
  },
  {
   "attachments": {},
   "cell_type": "markdown",
   "metadata": {},
   "source": [
    "### Step 4. Fill missing values with the mean of their regiment."
   ]
  },
  {
   "cell_type": "code",
   "execution_count": null,
   "metadata": {},
   "outputs": [
    {
     "data": {
      "application/vnd.microsoft.datawrangler.viewer.v0+json": {
       "columns": [
        {
         "name": "index",
         "rawType": "int64",
         "type": "integer"
        },
        {
         "name": "regiment",
         "rawType": "object",
         "type": "string"
        },
        {
         "name": "company",
         "rawType": "object",
         "type": "string"
        },
        {
         "name": "deaths",
         "rawType": "float64",
         "type": "float"
        },
        {
         "name": "battles",
         "rawType": "int64",
         "type": "integer"
        },
        {
         "name": "size",
         "rawType": "int64",
         "type": "integer"
        },
        {
         "name": "veterans",
         "rawType": "int64",
         "type": "integer"
        },
        {
         "name": "readiness",
         "rawType": "float64",
         "type": "float"
        },
        {
         "name": "armored",
         "rawType": "int64",
         "type": "integer"
        },
        {
         "name": "deserters",
         "rawType": "int64",
         "type": "integer"
        },
        {
         "name": "origin",
         "rawType": "object",
         "type": "string"
        }
       ],
       "conversionMethod": "pd.DataFrame",
       "ref": "e37b14fa-8163-4178-9c69-d968e3d91fa5",
       "rows": [
        [
         "0",
         "Nighthawks",
         "1st",
         "523.0",
         "5",
         "1045",
         "1",
         "1.0",
         "1",
         "4",
         "Arizona"
        ],
        [
         "1",
         "Nighthawks",
         "1st",
         "52.0",
         "42",
         "957",
         "5",
         null,
         "0",
         "24",
         "California"
        ],
        [
         "2",
         "Nighthawks",
         "2nd",
         "25.0",
         "2",
         "1099",
         "62",
         "3.0",
         "1",
         "31",
         "Texas"
        ],
        [
         "3",
         "Nighthawks",
         "2nd",
         "616.0",
         "2",
         "1400",
         "26",
         null,
         "1",
         "2",
         "Florida"
        ],
        [
         "4",
         "Dragoons",
         "1st",
         "43.0",
         "4",
         "1592",
         "73",
         "2.0",
         "0",
         "3",
         "Maine"
        ],
        [
         "5",
         "Dragoons",
         "1st",
         "234.0",
         "7",
         "1006",
         "37",
         null,
         "1",
         "4",
         "Iowa"
        ],
        [
         "6",
         "Dragoons",
         "2nd",
         "523.0",
         "8",
         "987",
         "949",
         "2.0",
         "0",
         "24",
         "Alaska"
        ],
        [
         "7",
         "Dragoons",
         "2nd",
         "62.0",
         "3",
         "849",
         "48",
         null,
         "1",
         "31",
         "Washington"
        ],
        [
         "8",
         "Scouts",
         "1st",
         "48.333333333333336",
         "4",
         "973",
         "48",
         null,
         "0",
         "2",
         "Oregon"
        ],
        [
         "9",
         "Scouts",
         "1st",
         "73.0",
         "7",
         "1005",
         "435",
         "1.0",
         "0",
         "3",
         "Wyoming"
        ],
        [
         "10",
         "Scouts",
         "2nd",
         "37.0",
         "8",
         "1099",
         "63",
         "2.0",
         "1",
         "2",
         "Louisana"
        ],
        [
         "11",
         "Scouts",
         "2nd",
         "35.0",
         "9",
         "1523",
         "345",
         null,
         "1",
         "3",
         "Georgia"
        ]
       ],
       "shape": {
        "columns": 10,
        "rows": 12
       }
      },
      "text/html": [
       "<div>\n",
       "<style scoped>\n",
       "    .dataframe tbody tr th:only-of-type {\n",
       "        vertical-align: middle;\n",
       "    }\n",
       "\n",
       "    .dataframe tbody tr th {\n",
       "        vertical-align: top;\n",
       "    }\n",
       "\n",
       "    .dataframe thead th {\n",
       "        text-align: right;\n",
       "    }\n",
       "</style>\n",
       "<table border=\"1\" class=\"dataframe\">\n",
       "  <thead>\n",
       "    <tr style=\"text-align: right;\">\n",
       "      <th></th>\n",
       "      <th>regiment</th>\n",
       "      <th>company</th>\n",
       "      <th>deaths</th>\n",
       "      <th>battles</th>\n",
       "      <th>size</th>\n",
       "      <th>veterans</th>\n",
       "      <th>readiness</th>\n",
       "      <th>armored</th>\n",
       "      <th>deserters</th>\n",
       "      <th>origin</th>\n",
       "    </tr>\n",
       "  </thead>\n",
       "  <tbody>\n",
       "    <tr>\n",
       "      <th>0</th>\n",
       "      <td>Nighthawks</td>\n",
       "      <td>1st</td>\n",
       "      <td>523.000000</td>\n",
       "      <td>5</td>\n",
       "      <td>1045</td>\n",
       "      <td>1</td>\n",
       "      <td>1.0</td>\n",
       "      <td>1</td>\n",
       "      <td>4</td>\n",
       "      <td>Arizona</td>\n",
       "    </tr>\n",
       "    <tr>\n",
       "      <th>1</th>\n",
       "      <td>Nighthawks</td>\n",
       "      <td>1st</td>\n",
       "      <td>52.000000</td>\n",
       "      <td>42</td>\n",
       "      <td>957</td>\n",
       "      <td>5</td>\n",
       "      <td>NaN</td>\n",
       "      <td>0</td>\n",
       "      <td>24</td>\n",
       "      <td>California</td>\n",
       "    </tr>\n",
       "    <tr>\n",
       "      <th>2</th>\n",
       "      <td>Nighthawks</td>\n",
       "      <td>2nd</td>\n",
       "      <td>25.000000</td>\n",
       "      <td>2</td>\n",
       "      <td>1099</td>\n",
       "      <td>62</td>\n",
       "      <td>3.0</td>\n",
       "      <td>1</td>\n",
       "      <td>31</td>\n",
       "      <td>Texas</td>\n",
       "    </tr>\n",
       "    <tr>\n",
       "      <th>3</th>\n",
       "      <td>Nighthawks</td>\n",
       "      <td>2nd</td>\n",
       "      <td>616.000000</td>\n",
       "      <td>2</td>\n",
       "      <td>1400</td>\n",
       "      <td>26</td>\n",
       "      <td>NaN</td>\n",
       "      <td>1</td>\n",
       "      <td>2</td>\n",
       "      <td>Florida</td>\n",
       "    </tr>\n",
       "    <tr>\n",
       "      <th>4</th>\n",
       "      <td>Dragoons</td>\n",
       "      <td>1st</td>\n",
       "      <td>43.000000</td>\n",
       "      <td>4</td>\n",
       "      <td>1592</td>\n",
       "      <td>73</td>\n",
       "      <td>2.0</td>\n",
       "      <td>0</td>\n",
       "      <td>3</td>\n",
       "      <td>Maine</td>\n",
       "    </tr>\n",
       "    <tr>\n",
       "      <th>5</th>\n",
       "      <td>Dragoons</td>\n",
       "      <td>1st</td>\n",
       "      <td>234.000000</td>\n",
       "      <td>7</td>\n",
       "      <td>1006</td>\n",
       "      <td>37</td>\n",
       "      <td>NaN</td>\n",
       "      <td>1</td>\n",
       "      <td>4</td>\n",
       "      <td>Iowa</td>\n",
       "    </tr>\n",
       "    <tr>\n",
       "      <th>6</th>\n",
       "      <td>Dragoons</td>\n",
       "      <td>2nd</td>\n",
       "      <td>523.000000</td>\n",
       "      <td>8</td>\n",
       "      <td>987</td>\n",
       "      <td>949</td>\n",
       "      <td>2.0</td>\n",
       "      <td>0</td>\n",
       "      <td>24</td>\n",
       "      <td>Alaska</td>\n",
       "    </tr>\n",
       "    <tr>\n",
       "      <th>7</th>\n",
       "      <td>Dragoons</td>\n",
       "      <td>2nd</td>\n",
       "      <td>62.000000</td>\n",
       "      <td>3</td>\n",
       "      <td>849</td>\n",
       "      <td>48</td>\n",
       "      <td>NaN</td>\n",
       "      <td>1</td>\n",
       "      <td>31</td>\n",
       "      <td>Washington</td>\n",
       "    </tr>\n",
       "    <tr>\n",
       "      <th>8</th>\n",
       "      <td>Scouts</td>\n",
       "      <td>1st</td>\n",
       "      <td>48.333333</td>\n",
       "      <td>4</td>\n",
       "      <td>973</td>\n",
       "      <td>48</td>\n",
       "      <td>NaN</td>\n",
       "      <td>0</td>\n",
       "      <td>2</td>\n",
       "      <td>Oregon</td>\n",
       "    </tr>\n",
       "    <tr>\n",
       "      <th>9</th>\n",
       "      <td>Scouts</td>\n",
       "      <td>1st</td>\n",
       "      <td>73.000000</td>\n",
       "      <td>7</td>\n",
       "      <td>1005</td>\n",
       "      <td>435</td>\n",
       "      <td>1.0</td>\n",
       "      <td>0</td>\n",
       "      <td>3</td>\n",
       "      <td>Wyoming</td>\n",
       "    </tr>\n",
       "    <tr>\n",
       "      <th>10</th>\n",
       "      <td>Scouts</td>\n",
       "      <td>2nd</td>\n",
       "      <td>37.000000</td>\n",
       "      <td>8</td>\n",
       "      <td>1099</td>\n",
       "      <td>63</td>\n",
       "      <td>2.0</td>\n",
       "      <td>1</td>\n",
       "      <td>2</td>\n",
       "      <td>Louisana</td>\n",
       "    </tr>\n",
       "    <tr>\n",
       "      <th>11</th>\n",
       "      <td>Scouts</td>\n",
       "      <td>2nd</td>\n",
       "      <td>35.000000</td>\n",
       "      <td>9</td>\n",
       "      <td>1523</td>\n",
       "      <td>345</td>\n",
       "      <td>NaN</td>\n",
       "      <td>1</td>\n",
       "      <td>3</td>\n",
       "      <td>Georgia</td>\n",
       "    </tr>\n",
       "  </tbody>\n",
       "</table>\n",
       "</div>"
      ],
      "text/plain": [
       "      regiment company      deaths  battles  size  veterans  readiness  \\\n",
       "0   Nighthawks     1st  523.000000        5  1045         1        1.0   \n",
       "1   Nighthawks     1st   52.000000       42   957         5        NaN   \n",
       "2   Nighthawks     2nd   25.000000        2  1099        62        3.0   \n",
       "3   Nighthawks     2nd  616.000000        2  1400        26        NaN   \n",
       "4     Dragoons     1st   43.000000        4  1592        73        2.0   \n",
       "5     Dragoons     1st  234.000000        7  1006        37        NaN   \n",
       "6     Dragoons     2nd  523.000000        8   987       949        2.0   \n",
       "7     Dragoons     2nd   62.000000        3   849        48        NaN   \n",
       "8       Scouts     1st   48.333333        4   973        48        NaN   \n",
       "9       Scouts     1st   73.000000        7  1005       435        1.0   \n",
       "10      Scouts     2nd   37.000000        8  1099        63        2.0   \n",
       "11      Scouts     2nd   35.000000        9  1523       345        NaN   \n",
       "\n",
       "    armored  deserters      origin  \n",
       "0         1          4     Arizona  \n",
       "1         0         24  California  \n",
       "2         1         31       Texas  \n",
       "3         1          2     Florida  \n",
       "4         0          3       Maine  \n",
       "5         1          4        Iowa  \n",
       "6         0         24      Alaska  \n",
       "7         1         31  Washington  \n",
       "8         0          2      Oregon  \n",
       "9         0          3     Wyoming  \n",
       "10        1          2    Louisana  \n",
       "11        1          3     Georgia  "
      ]
     },
     "execution_count": 11,
     "metadata": {},
     "output_type": "execute_result"
    }
   ],
   "source": [
    "# army[\"deaths\"] = army.groupby(\"regiment\")[\"deaths\"].transform(lambda val: val.fillna(val.mean()))\n",
    "# army\n",
    "\n",
    "army[\"deaths\"] = army[\"deaths\"] .."
   ]
  },
  {
   "attachments": {},
   "cell_type": "markdown",
   "metadata": {},
   "source": [
    "### Step 5. Set the 'origin' colum as the index of the dataframe"
   ]
  },
  {
   "cell_type": "code",
   "execution_count": 12,
   "metadata": {},
   "outputs": [
    {
     "data": {
      "application/vnd.microsoft.datawrangler.viewer.v0+json": {
       "columns": [
        {
         "name": "origin",
         "rawType": "object",
         "type": "string"
        },
        {
         "name": "regiment",
         "rawType": "object",
         "type": "string"
        },
        {
         "name": "company",
         "rawType": "object",
         "type": "string"
        },
        {
         "name": "deaths",
         "rawType": "float64",
         "type": "float"
        },
        {
         "name": "battles",
         "rawType": "int64",
         "type": "integer"
        },
        {
         "name": "size",
         "rawType": "int64",
         "type": "integer"
        },
        {
         "name": "veterans",
         "rawType": "int64",
         "type": "integer"
        },
        {
         "name": "readiness",
         "rawType": "float64",
         "type": "float"
        },
        {
         "name": "armored",
         "rawType": "int64",
         "type": "integer"
        },
        {
         "name": "deserters",
         "rawType": "int64",
         "type": "integer"
        }
       ],
       "conversionMethod": "pd.DataFrame",
       "ref": "8951f80a-2a4e-4a55-915a-3d4304e7f875",
       "rows": [
        [
         "Arizona",
         "Nighthawks",
         "1st",
         "523.0",
         "5",
         "1045",
         "1",
         "1.0",
         "1",
         "4"
        ],
        [
         "California",
         "Nighthawks",
         "1st",
         "52.0",
         "42",
         "957",
         "5",
         null,
         "0",
         "24"
        ],
        [
         "Texas",
         "Nighthawks",
         "2nd",
         "25.0",
         "2",
         "1099",
         "62",
         "3.0",
         "1",
         "31"
        ],
        [
         "Florida",
         "Nighthawks",
         "2nd",
         "616.0",
         "2",
         "1400",
         "26",
         null,
         "1",
         "2"
        ],
        [
         "Maine",
         "Dragoons",
         "1st",
         "43.0",
         "4",
         "1592",
         "73",
         "2.0",
         "0",
         "3"
        ],
        [
         "Iowa",
         "Dragoons",
         "1st",
         "234.0",
         "7",
         "1006",
         "37",
         null,
         "1",
         "4"
        ],
        [
         "Alaska",
         "Dragoons",
         "2nd",
         "523.0",
         "8",
         "987",
         "949",
         "2.0",
         "0",
         "24"
        ],
        [
         "Washington",
         "Dragoons",
         "2nd",
         "62.0",
         "3",
         "849",
         "48",
         null,
         "1",
         "31"
        ],
        [
         "Oregon",
         "Scouts",
         "1st",
         "48.333333333333336",
         "4",
         "973",
         "48",
         null,
         "0",
         "2"
        ],
        [
         "Wyoming",
         "Scouts",
         "1st",
         "73.0",
         "7",
         "1005",
         "435",
         "1.0",
         "0",
         "3"
        ],
        [
         "Louisana",
         "Scouts",
         "2nd",
         "37.0",
         "8",
         "1099",
         "63",
         "2.0",
         "1",
         "2"
        ],
        [
         "Georgia",
         "Scouts",
         "2nd",
         "35.0",
         "9",
         "1523",
         "345",
         null,
         "1",
         "3"
        ]
       ],
       "shape": {
        "columns": 9,
        "rows": 12
       }
      },
      "text/html": [
       "<div>\n",
       "<style scoped>\n",
       "    .dataframe tbody tr th:only-of-type {\n",
       "        vertical-align: middle;\n",
       "    }\n",
       "\n",
       "    .dataframe tbody tr th {\n",
       "        vertical-align: top;\n",
       "    }\n",
       "\n",
       "    .dataframe thead th {\n",
       "        text-align: right;\n",
       "    }\n",
       "</style>\n",
       "<table border=\"1\" class=\"dataframe\">\n",
       "  <thead>\n",
       "    <tr style=\"text-align: right;\">\n",
       "      <th></th>\n",
       "      <th>regiment</th>\n",
       "      <th>company</th>\n",
       "      <th>deaths</th>\n",
       "      <th>battles</th>\n",
       "      <th>size</th>\n",
       "      <th>veterans</th>\n",
       "      <th>readiness</th>\n",
       "      <th>armored</th>\n",
       "      <th>deserters</th>\n",
       "    </tr>\n",
       "    <tr>\n",
       "      <th>origin</th>\n",
       "      <th></th>\n",
       "      <th></th>\n",
       "      <th></th>\n",
       "      <th></th>\n",
       "      <th></th>\n",
       "      <th></th>\n",
       "      <th></th>\n",
       "      <th></th>\n",
       "      <th></th>\n",
       "    </tr>\n",
       "  </thead>\n",
       "  <tbody>\n",
       "    <tr>\n",
       "      <th>Arizona</th>\n",
       "      <td>Nighthawks</td>\n",
       "      <td>1st</td>\n",
       "      <td>523.000000</td>\n",
       "      <td>5</td>\n",
       "      <td>1045</td>\n",
       "      <td>1</td>\n",
       "      <td>1.0</td>\n",
       "      <td>1</td>\n",
       "      <td>4</td>\n",
       "    </tr>\n",
       "    <tr>\n",
       "      <th>California</th>\n",
       "      <td>Nighthawks</td>\n",
       "      <td>1st</td>\n",
       "      <td>52.000000</td>\n",
       "      <td>42</td>\n",
       "      <td>957</td>\n",
       "      <td>5</td>\n",
       "      <td>NaN</td>\n",
       "      <td>0</td>\n",
       "      <td>24</td>\n",
       "    </tr>\n",
       "    <tr>\n",
       "      <th>Texas</th>\n",
       "      <td>Nighthawks</td>\n",
       "      <td>2nd</td>\n",
       "      <td>25.000000</td>\n",
       "      <td>2</td>\n",
       "      <td>1099</td>\n",
       "      <td>62</td>\n",
       "      <td>3.0</td>\n",
       "      <td>1</td>\n",
       "      <td>31</td>\n",
       "    </tr>\n",
       "    <tr>\n",
       "      <th>Florida</th>\n",
       "      <td>Nighthawks</td>\n",
       "      <td>2nd</td>\n",
       "      <td>616.000000</td>\n",
       "      <td>2</td>\n",
       "      <td>1400</td>\n",
       "      <td>26</td>\n",
       "      <td>NaN</td>\n",
       "      <td>1</td>\n",
       "      <td>2</td>\n",
       "    </tr>\n",
       "    <tr>\n",
       "      <th>Maine</th>\n",
       "      <td>Dragoons</td>\n",
       "      <td>1st</td>\n",
       "      <td>43.000000</td>\n",
       "      <td>4</td>\n",
       "      <td>1592</td>\n",
       "      <td>73</td>\n",
       "      <td>2.0</td>\n",
       "      <td>0</td>\n",
       "      <td>3</td>\n",
       "    </tr>\n",
       "    <tr>\n",
       "      <th>Iowa</th>\n",
       "      <td>Dragoons</td>\n",
       "      <td>1st</td>\n",
       "      <td>234.000000</td>\n",
       "      <td>7</td>\n",
       "      <td>1006</td>\n",
       "      <td>37</td>\n",
       "      <td>NaN</td>\n",
       "      <td>1</td>\n",
       "      <td>4</td>\n",
       "    </tr>\n",
       "    <tr>\n",
       "      <th>Alaska</th>\n",
       "      <td>Dragoons</td>\n",
       "      <td>2nd</td>\n",
       "      <td>523.000000</td>\n",
       "      <td>8</td>\n",
       "      <td>987</td>\n",
       "      <td>949</td>\n",
       "      <td>2.0</td>\n",
       "      <td>0</td>\n",
       "      <td>24</td>\n",
       "    </tr>\n",
       "    <tr>\n",
       "      <th>Washington</th>\n",
       "      <td>Dragoons</td>\n",
       "      <td>2nd</td>\n",
       "      <td>62.000000</td>\n",
       "      <td>3</td>\n",
       "      <td>849</td>\n",
       "      <td>48</td>\n",
       "      <td>NaN</td>\n",
       "      <td>1</td>\n",
       "      <td>31</td>\n",
       "    </tr>\n",
       "    <tr>\n",
       "      <th>Oregon</th>\n",
       "      <td>Scouts</td>\n",
       "      <td>1st</td>\n",
       "      <td>48.333333</td>\n",
       "      <td>4</td>\n",
       "      <td>973</td>\n",
       "      <td>48</td>\n",
       "      <td>NaN</td>\n",
       "      <td>0</td>\n",
       "      <td>2</td>\n",
       "    </tr>\n",
       "    <tr>\n",
       "      <th>Wyoming</th>\n",
       "      <td>Scouts</td>\n",
       "      <td>1st</td>\n",
       "      <td>73.000000</td>\n",
       "      <td>7</td>\n",
       "      <td>1005</td>\n",
       "      <td>435</td>\n",
       "      <td>1.0</td>\n",
       "      <td>0</td>\n",
       "      <td>3</td>\n",
       "    </tr>\n",
       "    <tr>\n",
       "      <th>Louisana</th>\n",
       "      <td>Scouts</td>\n",
       "      <td>2nd</td>\n",
       "      <td>37.000000</td>\n",
       "      <td>8</td>\n",
       "      <td>1099</td>\n",
       "      <td>63</td>\n",
       "      <td>2.0</td>\n",
       "      <td>1</td>\n",
       "      <td>2</td>\n",
       "    </tr>\n",
       "    <tr>\n",
       "      <th>Georgia</th>\n",
       "      <td>Scouts</td>\n",
       "      <td>2nd</td>\n",
       "      <td>35.000000</td>\n",
       "      <td>9</td>\n",
       "      <td>1523</td>\n",
       "      <td>345</td>\n",
       "      <td>NaN</td>\n",
       "      <td>1</td>\n",
       "      <td>3</td>\n",
       "    </tr>\n",
       "  </tbody>\n",
       "</table>\n",
       "</div>"
      ],
      "text/plain": [
       "              regiment company      deaths  battles  size  veterans  \\\n",
       "origin                                                                \n",
       "Arizona     Nighthawks     1st  523.000000        5  1045         1   \n",
       "California  Nighthawks     1st   52.000000       42   957         5   \n",
       "Texas       Nighthawks     2nd   25.000000        2  1099        62   \n",
       "Florida     Nighthawks     2nd  616.000000        2  1400        26   \n",
       "Maine         Dragoons     1st   43.000000        4  1592        73   \n",
       "Iowa          Dragoons     1st  234.000000        7  1006        37   \n",
       "Alaska        Dragoons     2nd  523.000000        8   987       949   \n",
       "Washington    Dragoons     2nd   62.000000        3   849        48   \n",
       "Oregon          Scouts     1st   48.333333        4   973        48   \n",
       "Wyoming         Scouts     1st   73.000000        7  1005       435   \n",
       "Louisana        Scouts     2nd   37.000000        8  1099        63   \n",
       "Georgia         Scouts     2nd   35.000000        9  1523       345   \n",
       "\n",
       "            readiness  armored  deserters  \n",
       "origin                                     \n",
       "Arizona           1.0        1          4  \n",
       "California        NaN        0         24  \n",
       "Texas             3.0        1         31  \n",
       "Florida           NaN        1          2  \n",
       "Maine             2.0        0          3  \n",
       "Iowa              NaN        1          4  \n",
       "Alaska            2.0        0         24  \n",
       "Washington        NaN        1         31  \n",
       "Oregon            NaN        0          2  \n",
       "Wyoming           1.0        0          3  \n",
       "Louisana          2.0        1          2  \n",
       "Georgia           NaN        1          3  "
      ]
     },
     "execution_count": 12,
     "metadata": {},
     "output_type": "execute_result"
    }
   ],
   "source": [
    "army = army.set_index(\"origin\")\n",
    "army"
   ]
  },
  {
   "attachments": {},
   "cell_type": "markdown",
   "metadata": {},
   "source": [
    "### Step 6. Select the 'deaths', 'size' and 'deserters' columns from Maine and Alaska"
   ]
  },
  {
   "cell_type": "code",
   "execution_count": 13,
   "metadata": {},
   "outputs": [
    {
     "data": {
      "application/vnd.microsoft.datawrangler.viewer.v0+json": {
       "columns": [
        {
         "name": "origin",
         "rawType": "object",
         "type": "string"
        },
        {
         "name": "deaths",
         "rawType": "float64",
         "type": "float"
        },
        {
         "name": "size",
         "rawType": "int64",
         "type": "integer"
        },
        {
         "name": "deserters",
         "rawType": "int64",
         "type": "integer"
        }
       ],
       "conversionMethod": "pd.DataFrame",
       "ref": "aeadc23a-34d5-44ec-b44d-3b63bae3e08c",
       "rows": [
        [
         "Maine",
         "43.0",
         "1592",
         "3"
        ],
        [
         "Alaska",
         "523.0",
         "987",
         "24"
        ]
       ],
       "shape": {
        "columns": 3,
        "rows": 2
       }
      },
      "text/html": [
       "<div>\n",
       "<style scoped>\n",
       "    .dataframe tbody tr th:only-of-type {\n",
       "        vertical-align: middle;\n",
       "    }\n",
       "\n",
       "    .dataframe tbody tr th {\n",
       "        vertical-align: top;\n",
       "    }\n",
       "\n",
       "    .dataframe thead th {\n",
       "        text-align: right;\n",
       "    }\n",
       "</style>\n",
       "<table border=\"1\" class=\"dataframe\">\n",
       "  <thead>\n",
       "    <tr style=\"text-align: right;\">\n",
       "      <th></th>\n",
       "      <th>deaths</th>\n",
       "      <th>size</th>\n",
       "      <th>deserters</th>\n",
       "    </tr>\n",
       "    <tr>\n",
       "      <th>origin</th>\n",
       "      <th></th>\n",
       "      <th></th>\n",
       "      <th></th>\n",
       "    </tr>\n",
       "  </thead>\n",
       "  <tbody>\n",
       "    <tr>\n",
       "      <th>Maine</th>\n",
       "      <td>43.0</td>\n",
       "      <td>1592</td>\n",
       "      <td>3</td>\n",
       "    </tr>\n",
       "    <tr>\n",
       "      <th>Alaska</th>\n",
       "      <td>523.0</td>\n",
       "      <td>987</td>\n",
       "      <td>24</td>\n",
       "    </tr>\n",
       "  </tbody>\n",
       "</table>\n",
       "</div>"
      ],
      "text/plain": [
       "        deaths  size  deserters\n",
       "origin                         \n",
       "Maine     43.0  1592          3\n",
       "Alaska   523.0   987         24"
      ]
     },
     "execution_count": 13,
     "metadata": {},
     "output_type": "execute_result"
    }
   ],
   "source": [
    "army.loc[[\"Maine\",\"Alaska\"]][[\"deaths\",\"size\",\"deserters\"]]"
   ]
  },
  {
   "attachments": {},
   "cell_type": "markdown",
   "metadata": {},
   "source": [
    "### Step 7. Select the rows 3 to 7 and the columns 3 to 6"
   ]
  },
  {
   "cell_type": "code",
   "execution_count": 14,
   "metadata": {},
   "outputs": [
    {
     "data": {
      "application/vnd.microsoft.datawrangler.viewer.v0+json": {
       "columns": [
        {
         "name": "origin",
         "rawType": "object",
         "type": "string"
        },
        {
         "name": "deaths",
         "rawType": "float64",
         "type": "float"
        },
        {
         "name": "battles",
         "rawType": "int64",
         "type": "integer"
        },
        {
         "name": "size",
         "rawType": "int64",
         "type": "integer"
        },
        {
         "name": "veterans",
         "rawType": "int64",
         "type": "integer"
        }
       ],
       "conversionMethod": "pd.DataFrame",
       "ref": "43ad433b-677b-4bdd-b3a3-b9ea8d25cc3a",
       "rows": [
        [
         "Texas",
         "25.0",
         "2",
         "1099",
         "62"
        ],
        [
         "Florida",
         "616.0",
         "2",
         "1400",
         "26"
        ],
        [
         "Maine",
         "43.0",
         "4",
         "1592",
         "73"
        ],
        [
         "Iowa",
         "234.0",
         "7",
         "1006",
         "37"
        ],
        [
         "Alaska",
         "523.0",
         "8",
         "987",
         "949"
        ]
       ],
       "shape": {
        "columns": 4,
        "rows": 5
       }
      },
      "text/html": [
       "<div>\n",
       "<style scoped>\n",
       "    .dataframe tbody tr th:only-of-type {\n",
       "        vertical-align: middle;\n",
       "    }\n",
       "\n",
       "    .dataframe tbody tr th {\n",
       "        vertical-align: top;\n",
       "    }\n",
       "\n",
       "    .dataframe thead th {\n",
       "        text-align: right;\n",
       "    }\n",
       "</style>\n",
       "<table border=\"1\" class=\"dataframe\">\n",
       "  <thead>\n",
       "    <tr style=\"text-align: right;\">\n",
       "      <th></th>\n",
       "      <th>deaths</th>\n",
       "      <th>battles</th>\n",
       "      <th>size</th>\n",
       "      <th>veterans</th>\n",
       "    </tr>\n",
       "    <tr>\n",
       "      <th>origin</th>\n",
       "      <th></th>\n",
       "      <th></th>\n",
       "      <th></th>\n",
       "      <th></th>\n",
       "    </tr>\n",
       "  </thead>\n",
       "  <tbody>\n",
       "    <tr>\n",
       "      <th>Texas</th>\n",
       "      <td>25.0</td>\n",
       "      <td>2</td>\n",
       "      <td>1099</td>\n",
       "      <td>62</td>\n",
       "    </tr>\n",
       "    <tr>\n",
       "      <th>Florida</th>\n",
       "      <td>616.0</td>\n",
       "      <td>2</td>\n",
       "      <td>1400</td>\n",
       "      <td>26</td>\n",
       "    </tr>\n",
       "    <tr>\n",
       "      <th>Maine</th>\n",
       "      <td>43.0</td>\n",
       "      <td>4</td>\n",
       "      <td>1592</td>\n",
       "      <td>73</td>\n",
       "    </tr>\n",
       "    <tr>\n",
       "      <th>Iowa</th>\n",
       "      <td>234.0</td>\n",
       "      <td>7</td>\n",
       "      <td>1006</td>\n",
       "      <td>37</td>\n",
       "    </tr>\n",
       "    <tr>\n",
       "      <th>Alaska</th>\n",
       "      <td>523.0</td>\n",
       "      <td>8</td>\n",
       "      <td>987</td>\n",
       "      <td>949</td>\n",
       "    </tr>\n",
       "  </tbody>\n",
       "</table>\n",
       "</div>"
      ],
      "text/plain": [
       "         deaths  battles  size  veterans\n",
       "origin                                  \n",
       "Texas      25.0        2  1099        62\n",
       "Florida   616.0        2  1400        26\n",
       "Maine      43.0        4  1592        73\n",
       "Iowa      234.0        7  1006        37\n",
       "Alaska    523.0        8   987       949"
      ]
     },
     "execution_count": 14,
     "metadata": {},
     "output_type": "execute_result"
    }
   ],
   "source": [
    "army.iloc[2:7,2:6]"
   ]
  },
  {
   "attachments": {},
   "cell_type": "markdown",
   "metadata": {},
   "source": [
    "### Step 8. Select every row after the fourth row and all columns"
   ]
  },
  {
   "cell_type": "code",
   "execution_count": null,
   "metadata": {},
   "outputs": [],
   "source": [
    "army.iloc[3:,:]"
   ]
  },
  {
   "attachments": {},
   "cell_type": "markdown",
   "metadata": {},
   "source": [
    "### Step 9. Select every row up to the 4th row and all columns"
   ]
  },
  {
   "cell_type": "code",
   "execution_count": null,
   "metadata": {},
   "outputs": [],
   "source": [
    "army.iloc"
   ]
  },
  {
   "attachments": {},
   "cell_type": "markdown",
   "metadata": {},
   "source": [
    "### Step 10. Select the 3rd column up to the 7th column"
   ]
  },
  {
   "attachments": {},
   "cell_type": "markdown",
   "metadata": {},
   "source": [
    "### Step 11. Select rows where df.deaths is greater than 50"
   ]
  },
  {
   "attachments": {},
   "cell_type": "markdown",
   "metadata": {},
   "source": [
    "### Step 12. Select rows where df.deaths is greater than 500 or less than 50"
   ]
  },
  {
   "attachments": {},
   "cell_type": "markdown",
   "metadata": {},
   "source": [
    "### Step 13. Select all the regiments not named \"Dragoons\""
   ]
  },
  {
   "attachments": {},
   "cell_type": "markdown",
   "metadata": {},
   "source": [
    "### Step 14. Select the rows called Texas and Arizona"
   ]
  },
  {
   "attachments": {},
   "cell_type": "markdown",
   "metadata": {},
   "source": [
    "### Step 15. Select the third cell in the row named Arizona"
   ]
  },
  {
   "attachments": {},
   "cell_type": "markdown",
   "metadata": {},
   "source": [
    "### Step 16. Select the third cell down in the column named deaths"
   ]
  }
 ],
 "metadata": {
  "kernelspec": {
   "display_name": "Python 3",
   "language": "python",
   "name": "python3"
  },
  "language_info": {
   "codemirror_mode": {
    "name": "ipython",
    "version": 3
   },
   "file_extension": ".py",
   "mimetype": "text/x-python",
   "name": "python",
   "nbconvert_exporter": "python",
   "pygments_lexer": "ipython3",
   "version": "3.11.9"
  }
 },
 "nbformat": 4,
 "nbformat_minor": 4
}
