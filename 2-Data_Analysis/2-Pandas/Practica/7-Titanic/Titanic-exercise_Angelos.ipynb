{
 "cells": [
  {
   "attachments": {},
   "cell_type": "markdown",
   "metadata": {},
   "source": [
    "   #                                                  Titanic Exercise \n",
    "\n",
    "   ![titanic](https://userscontent2.emaze.com/images/a5f68f37-6349-4065-a1fc-921cbe7401b2/958230111417e36d6b3c67ffd7bc3494.jpeg)\n",
    "   #### Practise Pandas"
   ]
  },
  {
   "attachments": {},
   "cell_type": "markdown",
   "metadata": {},
   "source": [
    "First of all, import the needed libraries. "
   ]
  },
  {
   "attachments": {},
   "cell_type": "markdown",
   "metadata": {},
   "source": [
    "1. Read in filename and call the variable `titanic`\n",
    "    - Explore the `titanic` dataset using `info`, `dtypes` & `describe`\n",
    " "
   ]
  },
  {
   "cell_type": "code",
   "execution_count": 153,
   "metadata": {},
   "outputs": [
    {
     "name": "stdout",
     "output_type": "stream",
     "text": [
      "<class 'pandas.core.frame.DataFrame'>\n",
      "RangeIndex: 1309 entries, 0 to 1308\n",
      "Data columns (total 14 columns):\n",
      " #   Column     Non-Null Count  Dtype  \n",
      "---  ------     --------------  -----  \n",
      " 0   pclass     1309 non-null   int64  \n",
      " 1   survived   1309 non-null   int64  \n",
      " 2   name       1309 non-null   object \n",
      " 3   sex        1309 non-null   object \n",
      " 4   age        1046 non-null   float64\n",
      " 5   sibsp      1309 non-null   int64  \n",
      " 6   parch      1309 non-null   int64  \n",
      " 7   ticket     1309 non-null   object \n",
      " 8   fare       1308 non-null   float64\n",
      " 9   cabin      295 non-null    object \n",
      " 10  embarked   1307 non-null   object \n",
      " 11  boat       486 non-null    object \n",
      " 12  body       121 non-null    float64\n",
      " 13  home.dest  745 non-null    object \n",
      "dtypes: float64(3), int64(4), object(7)\n",
      "memory usage: 143.3+ KB\n",
      "None\n",
      "pclass         int64\n",
      "survived       int64\n",
      "name          object\n",
      "sex           object\n",
      "age          float64\n",
      "sibsp          int64\n",
      "parch          int64\n",
      "ticket        object\n",
      "fare         float64\n",
      "cabin         object\n",
      "embarked      object\n",
      "boat          object\n",
      "body         float64\n",
      "home.dest     object\n",
      "dtype: object\n",
      "            pclass     survived          age        sibsp        parch  \\\n",
      "count  1309.000000  1309.000000  1046.000000  1309.000000  1309.000000   \n",
      "mean      2.294882     0.381971    29.881138     0.498854     0.385027   \n",
      "std       0.837836     0.486055    14.413493     1.041658     0.865560   \n",
      "min       1.000000     0.000000     0.170000     0.000000     0.000000   \n",
      "25%       2.000000     0.000000    21.000000     0.000000     0.000000   \n",
      "50%       3.000000     0.000000    28.000000     0.000000     0.000000   \n",
      "75%       3.000000     1.000000    39.000000     1.000000     0.000000   \n",
      "max       3.000000     1.000000    80.000000     8.000000     9.000000   \n",
      "\n",
      "              fare        body  \n",
      "count  1308.000000  121.000000  \n",
      "mean     33.295479  160.809917  \n",
      "std      51.758668   97.696922  \n",
      "min       0.000000    1.000000  \n",
      "25%       7.895800   72.000000  \n",
      "50%      14.454200  155.000000  \n",
      "75%      31.275000  256.000000  \n",
      "max     512.329200  328.000000  \n"
     ]
    }
   ],
   "source": [
    "import pandas as pd\n",
    "import numpy as np\n",
    "\n",
    "\n",
    "titanic = pd.read_csv('data/titanic.csv')\n",
    "\n",
    "\n",
    "print(titanic.info())      \n",
    "print(titanic.dtypes)       \n",
    "print(titanic.describe())   "
   ]
  },
  {
   "attachments": {},
   "cell_type": "markdown",
   "metadata": {},
   "source": [
    "2. Create a separate dataframe with the columns `['name', 'sex', 'age']`, call it `people`\n",
    "\n",
    "It can be done two ways, do it both!"
   ]
  },
  {
   "cell_type": "code",
   "execution_count": 154,
   "metadata": {},
   "outputs": [
    {
     "data": {
      "application/vnd.microsoft.datawrangler.viewer.v0+json": {
       "columns": [
        {
         "name": "index",
         "rawType": "int64",
         "type": "integer"
        },
        {
         "name": "name",
         "rawType": "object",
         "type": "string"
        },
        {
         "name": "sex",
         "rawType": "object",
         "type": "string"
        },
        {
         "name": "age",
         "rawType": "float64",
         "type": "float"
        }
       ],
       "conversionMethod": "pd.DataFrame",
       "ref": "10901f81-a224-464e-b7b1-8f3f02551176",
       "rows": [
        [
         "0",
         "Allen, Miss. Elisabeth Walton",
         "female",
         "29.0"
        ],
        [
         "1",
         "Allison, Master. Hudson Trevor",
         "male",
         "0.92"
        ],
        [
         "2",
         "Allison, Miss. Helen Loraine",
         "female",
         "2.0"
        ],
        [
         "3",
         "Allison, Mr. Hudson Joshua Creighton",
         "male",
         "30.0"
        ],
        [
         "4",
         "Allison, Mrs. Hudson J C (Bessie Waldo Daniels)",
         "female",
         "25.0"
        ],
        [
         "5",
         "Anderson, Mr. Harry",
         "male",
         "48.0"
        ],
        [
         "6",
         "Andrews, Miss. Kornelia Theodosia",
         "female",
         "63.0"
        ],
        [
         "7",
         "Andrews, Mr. Thomas Jr",
         "male",
         "39.0"
        ],
        [
         "8",
         "Appleton, Mrs. Edward Dale (Charlotte Lamson)",
         "female",
         "53.0"
        ],
        [
         "9",
         "Artagaveytia, Mr. Ramon",
         "male",
         "71.0"
        ],
        [
         "10",
         "Astor, Col. John Jacob",
         "male",
         "47.0"
        ],
        [
         "11",
         "Astor, Mrs. John Jacob (Madeleine Talmadge Force)",
         "female",
         "18.0"
        ],
        [
         "12",
         "Aubart, Mme. Leontine Pauline",
         "female",
         "24.0"
        ],
        [
         "13",
         "Barber, Miss. Ellen \"Nellie\"",
         "female",
         "26.0"
        ],
        [
         "14",
         "Barkworth, Mr. Algernon Henry Wilson",
         "male",
         "80.0"
        ],
        [
         "15",
         "Baumann, Mr. John D",
         "male",
         null
        ],
        [
         "16",
         "Baxter, Mr. Quigg Edmond",
         "male",
         "24.0"
        ],
        [
         "17",
         "Baxter, Mrs. James (Helene DeLaudeniere Chaput)",
         "female",
         "50.0"
        ],
        [
         "18",
         "Bazzani, Miss. Albina",
         "female",
         "32.0"
        ],
        [
         "19",
         "Beattie, Mr. Thomson",
         "male",
         "36.0"
        ],
        [
         "20",
         "Beckwith, Mr. Richard Leonard",
         "male",
         "37.0"
        ],
        [
         "21",
         "Beckwith, Mrs. Richard Leonard (Sallie Monypeny)",
         "female",
         "47.0"
        ],
        [
         "22",
         "Behr, Mr. Karl Howell",
         "male",
         "26.0"
        ],
        [
         "23",
         "Bidois, Miss. Rosalie",
         "female",
         "42.0"
        ],
        [
         "24",
         "Bird, Miss. Ellen",
         "female",
         "29.0"
        ],
        [
         "25",
         "Birnbaum, Mr. Jakob",
         "male",
         "25.0"
        ],
        [
         "26",
         "Bishop, Mr. Dickinson H",
         "male",
         "25.0"
        ],
        [
         "27",
         "Bishop, Mrs. Dickinson H (Helen Walton)",
         "female",
         "19.0"
        ],
        [
         "28",
         "Bissette, Miss. Amelia",
         "female",
         "35.0"
        ],
        [
         "29",
         "Bjornstrom-Steffansson, Mr. Mauritz Hakan",
         "male",
         "28.0"
        ],
        [
         "30",
         "Blackwell, Mr. Stephen Weart",
         "male",
         "45.0"
        ],
        [
         "31",
         "Blank, Mr. Henry",
         "male",
         "40.0"
        ],
        [
         "32",
         "Bonnell, Miss. Caroline",
         "female",
         "30.0"
        ],
        [
         "33",
         "Bonnell, Miss. Elizabeth",
         "female",
         "58.0"
        ],
        [
         "34",
         "Borebank, Mr. John James",
         "male",
         "42.0"
        ],
        [
         "35",
         "Bowen, Miss. Grace Scott",
         "female",
         "45.0"
        ],
        [
         "36",
         "Bowerman, Miss. Elsie Edith",
         "female",
         "22.0"
        ],
        [
         "37",
         "Bradley, Mr. George (\"George Arthur Brayton\")",
         "male",
         null
        ],
        [
         "38",
         "Brady, Mr. John Bertram",
         "male",
         "41.0"
        ],
        [
         "39",
         "Brandeis, Mr. Emil",
         "male",
         "48.0"
        ],
        [
         "40",
         "Brewe, Dr. Arthur Jackson",
         "male",
         null
        ],
        [
         "41",
         "Brown, Mrs. James Joseph (Margaret Tobin)",
         "female",
         "44.0"
        ],
        [
         "42",
         "Brown, Mrs. John Murray (Caroline Lane Lamson)",
         "female",
         "59.0"
        ],
        [
         "43",
         "Bucknell, Mrs. William Robert (Emma Eliza Ward)",
         "female",
         "60.0"
        ],
        [
         "44",
         "Burns, Miss. Elizabeth Margaret",
         "female",
         "41.0"
        ],
        [
         "45",
         "Butt, Major. Archibald Willingham",
         "male",
         "45.0"
        ],
        [
         "46",
         "Cairns, Mr. Alexander",
         "male",
         null
        ],
        [
         "47",
         "Calderhead, Mr. Edward Pennington",
         "male",
         "42.0"
        ],
        [
         "48",
         "Candee, Mrs. Edward (Helen Churchill Hungerford)",
         "female",
         "53.0"
        ],
        [
         "49",
         "Cardeza, Mr. Thomas Drake Martinez",
         "male",
         "36.0"
        ]
       ],
       "shape": {
        "columns": 3,
        "rows": 1309
       }
      },
      "text/html": [
       "<div>\n",
       "<style scoped>\n",
       "    .dataframe tbody tr th:only-of-type {\n",
       "        vertical-align: middle;\n",
       "    }\n",
       "\n",
       "    .dataframe tbody tr th {\n",
       "        vertical-align: top;\n",
       "    }\n",
       "\n",
       "    .dataframe thead th {\n",
       "        text-align: right;\n",
       "    }\n",
       "</style>\n",
       "<table border=\"1\" class=\"dataframe\">\n",
       "  <thead>\n",
       "    <tr style=\"text-align: right;\">\n",
       "      <th></th>\n",
       "      <th>name</th>\n",
       "      <th>sex</th>\n",
       "      <th>age</th>\n",
       "    </tr>\n",
       "  </thead>\n",
       "  <tbody>\n",
       "    <tr>\n",
       "      <th>0</th>\n",
       "      <td>Allen, Miss. Elisabeth Walton</td>\n",
       "      <td>female</td>\n",
       "      <td>29.00</td>\n",
       "    </tr>\n",
       "    <tr>\n",
       "      <th>1</th>\n",
       "      <td>Allison, Master. Hudson Trevor</td>\n",
       "      <td>male</td>\n",
       "      <td>0.92</td>\n",
       "    </tr>\n",
       "    <tr>\n",
       "      <th>2</th>\n",
       "      <td>Allison, Miss. Helen Loraine</td>\n",
       "      <td>female</td>\n",
       "      <td>2.00</td>\n",
       "    </tr>\n",
       "    <tr>\n",
       "      <th>3</th>\n",
       "      <td>Allison, Mr. Hudson Joshua Creighton</td>\n",
       "      <td>male</td>\n",
       "      <td>30.00</td>\n",
       "    </tr>\n",
       "    <tr>\n",
       "      <th>4</th>\n",
       "      <td>Allison, Mrs. Hudson J C (Bessie Waldo Daniels)</td>\n",
       "      <td>female</td>\n",
       "      <td>25.00</td>\n",
       "    </tr>\n",
       "    <tr>\n",
       "      <th>...</th>\n",
       "      <td>...</td>\n",
       "      <td>...</td>\n",
       "      <td>...</td>\n",
       "    </tr>\n",
       "    <tr>\n",
       "      <th>1304</th>\n",
       "      <td>Zabour, Miss. Hileni</td>\n",
       "      <td>female</td>\n",
       "      <td>14.50</td>\n",
       "    </tr>\n",
       "    <tr>\n",
       "      <th>1305</th>\n",
       "      <td>Zabour, Miss. Thamine</td>\n",
       "      <td>female</td>\n",
       "      <td>NaN</td>\n",
       "    </tr>\n",
       "    <tr>\n",
       "      <th>1306</th>\n",
       "      <td>Zakarian, Mr. Mapriededer</td>\n",
       "      <td>male</td>\n",
       "      <td>26.50</td>\n",
       "    </tr>\n",
       "    <tr>\n",
       "      <th>1307</th>\n",
       "      <td>Zakarian, Mr. Ortin</td>\n",
       "      <td>male</td>\n",
       "      <td>27.00</td>\n",
       "    </tr>\n",
       "    <tr>\n",
       "      <th>1308</th>\n",
       "      <td>Zimmerman, Mr. Leo</td>\n",
       "      <td>male</td>\n",
       "      <td>29.00</td>\n",
       "    </tr>\n",
       "  </tbody>\n",
       "</table>\n",
       "<p>1309 rows × 3 columns</p>\n",
       "</div>"
      ],
      "text/plain": [
       "                                                 name     sex    age\n",
       "0                       Allen, Miss. Elisabeth Walton  female  29.00\n",
       "1                      Allison, Master. Hudson Trevor    male   0.92\n",
       "2                        Allison, Miss. Helen Loraine  female   2.00\n",
       "3                Allison, Mr. Hudson Joshua Creighton    male  30.00\n",
       "4     Allison, Mrs. Hudson J C (Bessie Waldo Daniels)  female  25.00\n",
       "...                                               ...     ...    ...\n",
       "1304                             Zabour, Miss. Hileni  female  14.50\n",
       "1305                            Zabour, Miss. Thamine  female    NaN\n",
       "1306                        Zakarian, Mr. Mapriededer    male  26.50\n",
       "1307                              Zakarian, Mr. Ortin    male  27.00\n",
       "1308                               Zimmerman, Mr. Leo    male  29.00\n",
       "\n",
       "[1309 rows x 3 columns]"
      ]
     },
     "execution_count": 154,
     "metadata": {},
     "output_type": "execute_result"
    }
   ],
   "source": [
    "#people = titanic[['name', 'sex', 'age']]\n",
    "people = titanic.loc[:, ['name', 'sex', 'age']]\n",
    "people\n",
    "\n"
   ]
  },
  {
   "attachments": {},
   "cell_type": "markdown",
   "metadata": {},
   "source": [
    "3. Print the output of `people` showing the first three rows and the last four rows, using `append`,`tail` and `head`"
   ]
  },
  {
   "cell_type": "code",
   "execution_count": 2,
   "metadata": {},
   "outputs": [
    {
     "ename": "NameError",
     "evalue": "name 'people' is not defined",
     "output_type": "error",
     "traceback": [
      "\u001b[31m---------------------------------------------------------------------------\u001b[39m",
      "\u001b[31mNameError\u001b[39m                                 Traceback (most recent call last)",
      "\u001b[36mCell\u001b[39m\u001b[36m \u001b[39m\u001b[32mIn[2]\u001b[39m\u001b[32m, line 1\u001b[39m\n\u001b[32m----> \u001b[39m\u001b[32m1\u001b[39m first_three = \u001b[43mpeople\u001b[49m.head(\u001b[32m3\u001b[39m)\n\u001b[32m      4\u001b[39m last_four = people.tail(\u001b[32m4\u001b[39m)\n\u001b[32m      6\u001b[39m \u001b[38;5;66;03m# combined = first_three.append(last_four)\u001b[39;00m\n\u001b[32m      7\u001b[39m \n\u001b[32m      8\u001b[39m \u001b[38;5;66;03m#print(combined)\u001b[39;00m\n",
      "\u001b[31mNameError\u001b[39m: name 'people' is not defined"
     ]
    }
   ],
   "source": [
    "\n",
    "first_three = people.head(3)\n",
    "\n",
    "\n",
    "last_four = people.tail(4)\n",
    "\n",
    "# combined = first_three.append(last_four)\n",
    "\n",
    "#print(combined)\n"
   ]
  },
  {
   "attachments": {},
   "cell_type": "markdown",
   "metadata": {},
   "source": [
    "4. Slice the row from 3 to 9, call it `s_titanic`"
   ]
  },
  {
   "cell_type": "code",
   "execution_count": 156,
   "metadata": {},
   "outputs": [
    {
     "name": "stdout",
     "output_type": "stream",
     "text": [
      "   pclass  survived                                             name     sex  \\\n",
      "3       1         0             Allison, Mr. Hudson Joshua Creighton    male   \n",
      "4       1         0  Allison, Mrs. Hudson J C (Bessie Waldo Daniels)  female   \n",
      "5       1         1                              Anderson, Mr. Harry    male   \n",
      "6       1         1                Andrews, Miss. Kornelia Theodosia  female   \n",
      "7       1         0                           Andrews, Mr. Thomas Jr    male   \n",
      "8       1         1    Appleton, Mrs. Edward Dale (Charlotte Lamson)  female   \n",
      "9       1         0                          Artagaveytia, Mr. Ramon    male   \n",
      "\n",
      "    age  sibsp  parch    ticket      fare    cabin embarked boat   body  \\\n",
      "3  30.0      1      2    113781  151.5500  C22 C26        S  NaN  135.0   \n",
      "4  25.0      1      2    113781  151.5500  C22 C26        S  NaN    NaN   \n",
      "5  48.0      0      0     19952   26.5500      E12        S    3    NaN   \n",
      "6  63.0      1      0     13502   77.9583       D7        S   10    NaN   \n",
      "7  39.0      0      0    112050    0.0000      A36        S  NaN    NaN   \n",
      "8  53.0      2      0     11769   51.4792     C101        S    D    NaN   \n",
      "9  71.0      0      0  PC 17609   49.5042      NaN        C  NaN   22.0   \n",
      "\n",
      "                         home.dest  \n",
      "3  Montreal, PQ / Chesterville, ON  \n",
      "4  Montreal, PQ / Chesterville, ON  \n",
      "5                     New York, NY  \n",
      "6                       Hudson, NY  \n",
      "7                      Belfast, NI  \n",
      "8              Bayside, Queens, NY  \n",
      "9              Montevideo, Uruguay  \n"
     ]
    }
   ],
   "source": [
    "s_titanic = titanic[3:10]\n",
    "\n",
    "print(s_titanic)\n"
   ]
  },
  {
   "attachments": {},
   "cell_type": "markdown",
   "metadata": {},
   "source": [
    "5. Slice the row from 40 to 63 in reverse order, call it `s_titanic_rev`"
   ]
  },
  {
   "cell_type": "code",
   "execution_count": 157,
   "metadata": {},
   "outputs": [
    {
     "name": "stdout",
     "output_type": "stream",
     "text": [
      "    pclass  survived                                               name  \\\n",
      "63       1         1  Chaffee, Mrs. Herbert Fuller (Carrie Constance...   \n",
      "62       1         0                        Chaffee, Mr. Herbert Fuller   \n",
      "61       1         1  Cavendish, Mrs. Tyrell William (Julia Florence...   \n",
      "60       1         0                      Cavendish, Mr. Tyrell William   \n",
      "59       1         1  Cassebeer, Mrs. Henry Arthur Jr (Eleanor Genev...   \n",
      "58       1         0                             Case, Mr. Howard Brown   \n",
      "57       1         1          Carter, Mrs. William Ernest (Lucile Polk)   \n",
      "56       1         1                         Carter, Mr. William Ernest   \n",
      "55       1         1                          Carter, Miss. Lucile Polk   \n",
      "54       1         1                Carter, Master. William Thornton II   \n",
      "53       1         0                             Carrau, Mr. Jose Pedro   \n",
      "52       1         0                            Carrau, Mr. Francisco M   \n",
      "51       1         0                           Carlsson, Mr. Frans Olof   \n",
      "50       1         1  Cardeza, Mrs. James Warburton Martinez (Charlo...   \n",
      "49       1         1                 Cardeza, Mr. Thomas Drake Martinez   \n",
      "48       1         1   Candee, Mrs. Edward (Helen Churchill Hungerford)   \n",
      "47       1         1                  Calderhead, Mr. Edward Pennington   \n",
      "46       1         0                              Cairns, Mr. Alexander   \n",
      "45       1         0                  Butt, Major. Archibald Willingham   \n",
      "44       1         1                    Burns, Miss. Elizabeth Margaret   \n",
      "43       1         1    Bucknell, Mrs. William Robert (Emma Eliza Ward)   \n",
      "42       1         1     Brown, Mrs. John Murray (Caroline Lane Lamson)   \n",
      "41       1         1          Brown, Mrs. James Joseph (Margaret Tobin)   \n",
      "40       1         0                          Brewe, Dr. Arthur Jackson   \n",
      "\n",
      "       sex   age  sibsp  parch       ticket      fare        cabin embarked  \\\n",
      "63  female  47.0      1      0  W.E.P. 5734   61.1750          E31        S   \n",
      "62    male  46.0      1      0  W.E.P. 5734   61.1750          E31        S   \n",
      "61  female  76.0      1      0        19877   78.8500          C46        S   \n",
      "60    male  36.0      1      0        19877   78.8500          C46        S   \n",
      "59  female   NaN      0      0        17770   27.7208          NaN        C   \n",
      "58    male  49.0      0      0        19924   26.0000          NaN        S   \n",
      "57  female  36.0      1      2       113760  120.0000      B96 B98        S   \n",
      "56    male  36.0      1      2       113760  120.0000      B96 B98        S   \n",
      "55  female  14.0      1      2       113760  120.0000      B96 B98        S   \n",
      "54    male  11.0      1      2       113760  120.0000      B96 B98        S   \n",
      "53    male  17.0      0      0       113059   47.1000          NaN        S   \n",
      "52    male  28.0      0      0       113059   47.1000          NaN        S   \n",
      "51    male  33.0      0      0          695    5.0000  B51 B53 B55        S   \n",
      "50  female  58.0      0      1     PC 17755  512.3292  B51 B53 B55        C   \n",
      "49    male  36.0      0      1     PC 17755  512.3292  B51 B53 B55        C   \n",
      "48  female  53.0      0      0     PC 17606   27.4458          NaN        C   \n",
      "47    male  42.0      0      0     PC 17476   26.2875          E24        S   \n",
      "46    male   NaN      0      0       113798   31.0000          NaN        S   \n",
      "45    male  45.0      0      0       113050   26.5500          B38        S   \n",
      "44  female  41.0      0      0        16966  134.5000          E40        C   \n",
      "43  female  60.0      0      0        11813   76.2917          D15        C   \n",
      "42  female  59.0      2      0        11769   51.4792         C101        S   \n",
      "41  female  44.0      0      0     PC 17610   27.7208           B4        C   \n",
      "40    male   NaN      0      0       112379   39.6000          NaN        C   \n",
      "\n",
      "   boat   body                                       home.dest  \n",
      "63    4    NaN                                      Amenia, ND  \n",
      "62  NaN    NaN                                      Amenia, ND  \n",
      "61    6    NaN                         Little Onn Hall, Staffs  \n",
      "60  NaN  172.0                         Little Onn Hall, Staffs  \n",
      "59    5    NaN                                    New York, NY  \n",
      "58  NaN    NaN                Ascot, Berkshire / Rochester, NY  \n",
      "57    4    NaN                                   Bryn Mawr, PA  \n",
      "56    C    NaN                                   Bryn Mawr, PA  \n",
      "55    4    NaN                                   Bryn Mawr, PA  \n",
      "54    4    NaN                                   Bryn Mawr, PA  \n",
      "53  NaN    NaN                             Montevideo, Uruguay  \n",
      "52  NaN    NaN                             Montevideo, Uruguay  \n",
      "51  NaN    NaN                                    New York, NY  \n",
      "50    3    NaN                    Germantown, Philadelphia, PA  \n",
      "49    3    NaN  Austria-Hungary / Germantown, Philadelphia, PA  \n",
      "48    6    NaN                                  Washington, DC  \n",
      "47    5    NaN                                    New York, NY  \n",
      "46  NaN    NaN                                             NaN  \n",
      "45  NaN    NaN                                  Washington, DC  \n",
      "44    3    NaN                                             NaN  \n",
      "43    8    NaN                                Philadelphia, PA  \n",
      "42    D    NaN                                     Belmont, MA  \n",
      "41    6    NaN                                      Denver, CO  \n",
      "40  NaN    NaN                                Philadelphia, PA  \n"
     ]
    }
   ],
   "source": [
    "s_titanic_rev = titanic[63:39:-1]\n",
    "\n",
    "print(s_titanic_rev)\n"
   ]
  },
  {
   "attachments": {},
   "cell_type": "markdown",
   "metadata": {},
   "source": [
    "6. Slice the columns from the starting column to `'parch'`, call it `left_columns`"
   ]
  },
  {
   "cell_type": "code",
   "execution_count": 158,
   "metadata": {},
   "outputs": [
    {
     "name": "stdout",
     "output_type": "stream",
     "text": [
      "   pclass  survived                                             name     sex  \\\n",
      "0       1         1                    Allen, Miss. Elisabeth Walton  female   \n",
      "1       1         1                   Allison, Master. Hudson Trevor    male   \n",
      "2       1         0                     Allison, Miss. Helen Loraine  female   \n",
      "3       1         0             Allison, Mr. Hudson Joshua Creighton    male   \n",
      "4       1         0  Allison, Mrs. Hudson J C (Bessie Waldo Daniels)  female   \n",
      "\n",
      "     age  sibsp  parch  \n",
      "0  29.00      0      0  \n",
      "1   0.92      1      2  \n",
      "2   2.00      1      2  \n",
      "3  30.00      1      2  \n",
      "4  25.00      1      2  \n"
     ]
    }
   ],
   "source": [
    "end_col_index = titanic.columns.get_loc('parch')\n",
    "\n",
    "left_columns = titanic.iloc[:, :end_col_index + 1]\n",
    "\n",
    "print(left_columns.head())\n"
   ]
  },
  {
   "attachments": {},
   "cell_type": "markdown",
   "metadata": {},
   "source": [
    "7. Slice the columns from `'name'` to `'age'`, call it `middle_columns`"
   ]
  },
  {
   "cell_type": "code",
   "execution_count": 159,
   "metadata": {},
   "outputs": [
    {
     "name": "stdout",
     "output_type": "stream",
     "text": [
      "                                              name     sex    age\n",
      "0                    Allen, Miss. Elisabeth Walton  female  29.00\n",
      "1                   Allison, Master. Hudson Trevor    male   0.92\n",
      "2                     Allison, Miss. Helen Loraine  female   2.00\n",
      "3             Allison, Mr. Hudson Joshua Creighton    male  30.00\n",
      "4  Allison, Mrs. Hudson J C (Bessie Waldo Daniels)  female  25.00\n"
     ]
    }
   ],
   "source": [
    "start_idx = titanic.columns.get_loc('name')\n",
    "end_idx = titanic.columns.get_loc('age')\n",
    "\n",
    "middle_columns = titanic.iloc[:, start_idx:end_idx + 1]\n",
    "\n",
    "print(middle_columns.head())\n"
   ]
  },
  {
   "attachments": {},
   "cell_type": "markdown",
   "metadata": {},
   "source": [
    "8. Slice the columns from `'ticket'` to the end, call it `right_columns`"
   ]
  },
  {
   "cell_type": "code",
   "execution_count": 160,
   "metadata": {},
   "outputs": [
    {
     "name": "stdout",
     "output_type": "stream",
     "text": [
      "   ticket      fare    cabin embarked boat   body  \\\n",
      "0   24160  211.3375       B5        S    2    NaN   \n",
      "1  113781  151.5500  C22 C26        S   11    NaN   \n",
      "2  113781  151.5500  C22 C26        S  NaN    NaN   \n",
      "3  113781  151.5500  C22 C26        S  NaN  135.0   \n",
      "4  113781  151.5500  C22 C26        S  NaN    NaN   \n",
      "\n",
      "                         home.dest  \n",
      "0                     St Louis, MO  \n",
      "1  Montreal, PQ / Chesterville, ON  \n",
      "2  Montreal, PQ / Chesterville, ON  \n",
      "3  Montreal, PQ / Chesterville, ON  \n",
      "4  Montreal, PQ / Chesterville, ON  \n"
     ]
    }
   ],
   "source": [
    "start_idx = titanic.columns.get_loc('ticket')\n",
    "\n",
    "right_columns = titanic.iloc[:, start_idx:]\n",
    "\n",
    "print(right_columns.head())\n"
   ]
  },
  {
   "attachments": {},
   "cell_type": "markdown",
   "metadata": {},
   "source": [
    "9. What is the name of the oldest person who died in the Titanic? Was he or she travelling alone or had any family travelling with them?  \n",
    "\n"
   ]
  },
  {
   "cell_type": "code",
   "execution_count": 161,
   "metadata": {},
   "outputs": [
    {
     "name": "stdout",
     "output_type": "stream",
     "text": [
      "The oldest person who died was Svensson, Mr. Johan, age 74.0.\n",
      "He was travelling alone.\n"
     ]
    }
   ],
   "source": [
    "died = titanic[titanic['survived'] == 0]\n",
    "\n",
    "died = died.dropna(subset=['age'])\n",
    "\n",
    "oldest_dead = died.loc[died['age'].idxmax()]\n",
    "\n",
    "name = oldest_dead['name']\n",
    "age = oldest_dead['age']\n",
    "parents_children = oldest_dead['parch']\n",
    "siblings_spouses = oldest_dead['sibsp']\n",
    "family = parents_children + siblings_spouses\n",
    "status = \"alone\" if family == 0 else f\"with {family} family member(s)\"\n",
    "\n",
    "print(f\"The oldest person who died was {name}, age {age}.\")\n",
    "print(f\"He was travelling {status}.\")\n"
   ]
  },
  {
   "attachments": {},
   "cell_type": "markdown",
   "metadata": {},
   "source": [
    "In order to give an answer to the second question you should find out which columns give you that info. Usually part of your job as a Data Scientist will be get to know the dataset which you are working with. In this case the columns which give you that info are the following: \n",
    "        - 'sibsp' Number of Siblings/Spouses Aboard\n",
    "        - 'parch' Number of Parents/Children Aboard"
   ]
  },
  {
   "attachments": {},
   "cell_type": "markdown",
   "metadata": {},
   "source": [
    "10. Create the list of 5 random numbers of rows from 0 to the lenght of the dataframe, call it `rows`\n",
    "\n",
    "ex. `rows = [3,7,99,52,48]` use `random` library\n",
    "\n"
   ]
  },
  {
   "cell_type": "code",
   "execution_count": 162,
   "metadata": {},
   "outputs": [
    {
     "name": "stdout",
     "output_type": "stream",
     "text": [
      "Random row indices: [1282, 11, 798, 1035, 1165]\n"
     ]
    }
   ],
   "source": [
    "import random\n",
    "\n",
    "rows = random.sample(range(len(titanic)), 5)\n",
    "\n",
    "print(\"Random row indices:\", rows)\n"
   ]
  },
  {
   "attachments": {},
   "cell_type": "markdown",
   "metadata": {},
   "source": [
    "This list of numbers are random, could be different.\n"
   ]
  },
  {
   "attachments": {},
   "cell_type": "markdown",
   "metadata": {},
   "source": [
    "11. Create the list of three column labels, call it `cols`\n"
   ]
  },
  {
   "cell_type": "code",
   "execution_count": 163,
   "metadata": {},
   "outputs": [
    {
     "name": "stdout",
     "output_type": "stream",
     "text": [
      "Selected columns: ['name', 'age', 'sex']\n"
     ]
    }
   ],
   "source": [
    "cols = ['name', 'age', 'sex']\n",
    "print(\"Selected columns:\", cols)\n"
   ]
  },
  {
   "attachments": {},
   "cell_type": "markdown",
   "metadata": {},
   "source": [
    "12. Use both lists `rows` and `cols` to create a new dataframe"
   ]
  },
  {
   "cell_type": "code",
   "execution_count": 164,
   "metadata": {},
   "outputs": [
    {
     "name": "stdout",
     "output_type": "stream",
     "text": [
      "                                                   name   age     sex\n",
      "1282                                Ware, Mr. Frederick   NaN    male\n",
      "11    Astor, Mrs. John Jacob (Madeleine Talmadge Force)  18.0  female\n",
      "798                                   Finoli, Mr. Luigi   NaN    male\n",
      "1035  Moubarek, Master. Halim Gonios (\"William George\")   NaN    male\n",
      "1165                                   Saad, Mr. Khalil  25.0    male\n"
     ]
    }
   ],
   "source": [
    "new_df = titanic.loc[rows, cols]\n",
    "\n",
    "print(new_df)\n"
   ]
  },
  {
   "attachments": {},
   "cell_type": "markdown",
   "metadata": {},
   "source": [
    "13. Create a boolean array with the condition of being a woman or a man, using the `sex` column, where **female** is True. Call it `array_fe`"
   ]
  },
  {
   "cell_type": "code",
   "execution_count": 165,
   "metadata": {},
   "outputs": [
    {
     "name": "stdout",
     "output_type": "stream",
     "text": [
      "0     True\n",
      "1    False\n",
      "2     True\n",
      "3    False\n",
      "4     True\n",
      "Name: sex, dtype: bool\n"
     ]
    }
   ],
   "source": [
    "array_fe = titanic['sex'] == 'female'\n",
    "\n",
    "print(array_fe.head())\n"
   ]
  },
  {
   "attachments": {},
   "cell_type": "markdown",
   "metadata": {},
   "source": [
    "14. Rename the column `\"sex\"` to `\"gender\"` and filter the `titanic` dataframe with the boolean array, call it `woman_titanic`"
   ]
  },
  {
   "cell_type": "code",
   "execution_count": 166,
   "metadata": {},
   "outputs": [
    {
     "name": "stdout",
     "output_type": "stream",
     "text": [
      "   pclass  survived                                             name  gender  \\\n",
      "0       1         1                    Allen, Miss. Elisabeth Walton  female   \n",
      "2       1         0                     Allison, Miss. Helen Loraine  female   \n",
      "4       1         0  Allison, Mrs. Hudson J C (Bessie Waldo Daniels)  female   \n",
      "6       1         1                Andrews, Miss. Kornelia Theodosia  female   \n",
      "8       1         1    Appleton, Mrs. Edward Dale (Charlotte Lamson)  female   \n",
      "\n",
      "    age  sibsp  parch  ticket      fare    cabin embarked boat  body  \\\n",
      "0  29.0      0      0   24160  211.3375       B5        S    2   NaN   \n",
      "2   2.0      1      2  113781  151.5500  C22 C26        S  NaN   NaN   \n",
      "4  25.0      1      2  113781  151.5500  C22 C26        S  NaN   NaN   \n",
      "6  63.0      1      0   13502   77.9583       D7        S   10   NaN   \n",
      "8  53.0      2      0   11769   51.4792     C101        S    D   NaN   \n",
      "\n",
      "                         home.dest  \n",
      "0                     St Louis, MO  \n",
      "2  Montreal, PQ / Chesterville, ON  \n",
      "4  Montreal, PQ / Chesterville, ON  \n",
      "6                       Hudson, NY  \n",
      "8              Bayside, Queens, NY  \n"
     ]
    }
   ],
   "source": [
    "titanic_renamed = titanic.rename(columns={'sex': 'gender'})\n",
    "\n",
    "woman_titanic = titanic_renamed[array_fe]\n",
    "\n",
    "print(woman_titanic.head())\n"
   ]
  },
  {
   "attachments": {},
   "cell_type": "markdown",
   "metadata": {},
   "source": [
    "15. How many woman were younger than 18? Call the variable `minor_wo`"
   ]
  },
  {
   "cell_type": "code",
   "execution_count": 167,
   "metadata": {},
   "outputs": [
    {
     "name": "stdout",
     "output_type": "stream",
     "text": [
      "Numero de mujeres U18: 72\n"
     ]
    }
   ],
   "source": [
    "minor_wo = woman_titanic[woman_titanic['age'] < 18]\n",
    "\n",
    "print(f\"Numero de mujeres U18: {len(minor_wo)}\")\n"
   ]
  },
  {
   "attachments": {},
   "cell_type": "markdown",
   "metadata": {},
   "source": [
    "16. How many woman that were less than 18 actually died? Call the variable `dead_wo`"
   ]
  },
  {
   "cell_type": "code",
   "execution_count": 168,
   "metadata": {},
   "outputs": [
    {
     "name": "stdout",
     "output_type": "stream",
     "text": [
      "Numero de mujeres U18 que murieron: 22\n"
     ]
    }
   ],
   "source": [
    "dead_wo = minor_wo[minor_wo['survived'] == 0]\n",
    "\n",
    "print(f\"Numero de mujeres U18 que murieron: {len(dead_wo)}\")\n"
   ]
  },
  {
   "attachments": {},
   "cell_type": "markdown",
   "metadata": {},
   "source": [
    "17. Drop rows with *Nan* in `titanic` with `how='any'` and print the shape\n",
    "\n"
   ]
  },
  {
   "cell_type": "code",
   "execution_count": 169,
   "metadata": {},
   "outputs": [
    {
     "name": "stdout",
     "output_type": "stream",
     "text": [
      "(0, 14)\n"
     ]
    }
   ],
   "source": [
    "titanic_cleaned = titanic.dropna(how='any')\n",
    "\n",
    "print(titanic_cleaned.shape)\n",
    "\n"
   ]
  },
  {
   "attachments": {},
   "cell_type": "markdown",
   "metadata": {},
   "source": [
    "18. Drop rows with *Nan* in `titanic` with `how='all'` and print the shape\n"
   ]
  },
  {
   "cell_type": "code",
   "execution_count": 170,
   "metadata": {},
   "outputs": [
    {
     "data": {
      "text/plain": [
       "(1309, 14)"
      ]
     },
     "execution_count": 170,
     "metadata": {},
     "output_type": "execute_result"
    }
   ],
   "source": [
    "titanic_drop_all = titanic.dropna(how='all')\n",
    "\n",
    "titanic_drop_all.shape\n"
   ]
  },
  {
   "attachments": {},
   "cell_type": "markdown",
   "metadata": {},
   "source": [
    "Check in [here](https://pandas.pydata.org/pandas-docs/stable/reference/api/pandas.DataFrame.dropna.html) why the shapes are different."
   ]
  },
  {
   "attachments": {},
   "cell_type": "markdown",
   "metadata": {},
   "source": [
    "19. Drop columns in `titanic` with more than 1000 missing values and print the columns remaining"
   ]
  },
  {
   "cell_type": "code",
   "execution_count": 171,
   "metadata": {},
   "outputs": [
    {
     "name": "stdout",
     "output_type": "stream",
     "text": [
      "Remaining columns: ['pclass', 'survived', 'name', 'sex', 'age', 'sibsp', 'parch', 'ticket', 'fare', 'embarked', 'boat', 'home.dest']\n"
     ]
    }
   ],
   "source": [
    "titanic_filtered = titanic.loc[:, titanic.isnull().sum() <= 1000]\n",
    "\n",
    "print(\"Remaining columns:\", titanic_filtered.columns.tolist())\n"
   ]
  },
  {
   "attachments": {},
   "cell_type": "markdown",
   "metadata": {},
   "source": [
    "20. Calculate the ratio of missing values at the `boat` column. "
   ]
  },
  {
   "cell_type": "code",
   "execution_count": 172,
   "metadata": {},
   "outputs": [
    {
     "name": "stdout",
     "output_type": "stream",
     "text": [
      "Missing value ratio in 'boat' column: 62.87%\n"
     ]
    }
   ],
   "source": [
    "total_rows = len(titanic)\n",
    "\n",
    "missing_boat = titanic['boat'].isnull().sum()\n",
    "\n",
    "missing_ratio = missing_boat / total_rows\n",
    "\n",
    "print(f\"Missing value ratio in 'boat' column: {missing_ratio:.2%}\")\n"
   ]
  },
  {
   "attachments": {},
   "cell_type": "markdown",
   "metadata": {},
   "source": [
    "21.  Group `titanic` by `'pclass'` and aggregate by the columns `age` & `fare`, by `max` and `median` and assign it to `by_class`\n"
   ]
  },
  {
   "cell_type": "code",
   "execution_count": 173,
   "metadata": {},
   "outputs": [
    {
     "name": "stdout",
     "output_type": "stream",
     "text": [
      "         age             fare         \n",
      "         max median       max   median\n",
      "pclass                                \n",
      "1       80.0   39.0  512.3292  60.0000\n",
      "2       70.0   29.0   73.5000  15.0458\n",
      "3       74.0   24.0   69.5500   8.0500\n"
     ]
    }
   ],
   "source": [
    "by_class = titanic.groupby('pclass')[['age', 'fare']].agg(['max', 'median'])\n",
    "\n",
    "print(by_class)\n"
   ]
  },
  {
   "attachments": {},
   "cell_type": "markdown",
   "metadata": {},
   "source": [
    "22. Print the maximum age in each class from `by_class`"
   ]
  },
  {
   "cell_type": "code",
   "execution_count": 174,
   "metadata": {},
   "outputs": [
    {
     "name": "stdout",
     "output_type": "stream",
     "text": [
      "Maximum age in each class:\n",
      "pclass\n",
      "1    80.0\n",
      "2    70.0\n",
      "3    74.0\n",
      "Name: max, dtype: float64\n"
     ]
    }
   ],
   "source": [
    "print(\"Maximum age in each class:\")\n",
    "print(by_class['age']['max'])\n"
   ]
  },
  {
   "attachments": {},
   "cell_type": "markdown",
   "metadata": {},
   "source": [
    "23. Print the median fare in each class from `by_class`"
   ]
  },
  {
   "cell_type": "code",
   "execution_count": 175,
   "metadata": {},
   "outputs": [
    {
     "name": "stdout",
     "output_type": "stream",
     "text": [
      "Median fare in each class:\n",
      "pclass\n",
      "1    60.0000\n",
      "2    15.0458\n",
      "3     8.0500\n",
      "Name: median, dtype: float64\n"
     ]
    }
   ],
   "source": [
    "print(\"Median fare in each class:\")\n",
    "print(by_class['fare']['median'])\n"
   ]
  },
  {
   "attachments": {},
   "cell_type": "markdown",
   "metadata": {},
   "source": [
    "24. Using [`.pivot_table()`](https://pandas.pydata.org/pandas-docs/stable/reference/api/pandas.pivot_table.html) to count how many women or men survived by class, call it `counted`.\n",
    "\n",
    "Don't panic and read the documentation!\n",
    "\n",
    "\n"
   ]
  },
  {
   "cell_type": "code",
   "execution_count": 176,
   "metadata": {},
   "outputs": [
    {
     "name": "stdout",
     "output_type": "stream",
     "text": [
      "sex     female  male\n",
      "pclass              \n",
      "1          144   179\n",
      "2          106   171\n",
      "3          216   493\n"
     ]
    }
   ],
   "source": [
    "counted = pd.pivot_table(\n",
    "    titanic,\n",
    "    values='name',         \n",
    "    index='pclass',        \n",
    "    columns='sex',         \n",
    "    aggfunc='count'        \n",
    ")\n",
    "\n",
    "print(counted)\n"
   ]
  },
  {
   "attachments": {},
   "cell_type": "markdown",
   "metadata": {},
   "source": [
    "25. Add a new column with the sum of survived men and women, call it `counted['total']` \n"
   ]
  },
  {
   "cell_type": "code",
   "execution_count": 177,
   "metadata": {},
   "outputs": [
    {
     "name": "stdout",
     "output_type": "stream",
     "text": [
      "sex     female  male  total\n",
      "pclass                     \n",
      "1          144   179    323\n",
      "2          106   171    277\n",
      "3          216   493    709\n"
     ]
    }
   ],
   "source": [
    "counted['total'] = counted['female'] + counted['male']\n",
    "\n",
    "print(counted)\n"
   ]
  },
  {
   "attachments": {},
   "cell_type": "markdown",
   "metadata": {},
   "source": [
    "26. Sort `counted` by the `'total'` column. In which class the people survived the most?"
   ]
  },
  {
   "cell_type": "code",
   "execution_count": 178,
   "metadata": {},
   "outputs": [
    {
     "name": "stdout",
     "output_type": "stream",
     "text": [
      "sex     female  male  total\n",
      "pclass                     \n",
      "3          216   493    709\n",
      "1          144   179    323\n",
      "2          106   171    277\n",
      "\n",
      "Class with the most survivors: 3\n"
     ]
    }
   ],
   "source": [
    "counted_sorted = counted.sort_values(by='total', ascending=False)\n",
    "\n",
    "print(counted_sorted)\n",
    "\n",
    "most_survived_class = counted_sorted.index[0]\n",
    "print(f\"\\nClass with the most survivors: {most_survived_class}\")\n"
   ]
  },
  {
   "attachments": {},
   "cell_type": "markdown",
   "metadata": {},
   "source": [
    "27. Please, show only the rows using a mask with the following conditions: \n",
    "    - They are woman\n",
    "    - From third class\n",
    "    - Younger than 30\n",
    "    - They survived\n",
    "    \n",
    "    ¿How many rows fulfill the condition?"
   ]
  },
  {
   "cell_type": "code",
   "execution_count": 179,
   "metadata": {},
   "outputs": [
    {
     "name": "stdout",
     "output_type": "stream",
     "text": [
      "      pclass  survived                                               name  \\\n",
      "604        3         1                        Abelseth, Miss. Karen Marie   \n",
      "607        3         1          Abrahim, Mrs. Joseph (Sophie Halaut Easu)   \n",
      "612        3         1                         Aks, Mrs. Sam (Leah Rosen)   \n",
      "621        3         1    Andersen-Jensen, Miss. Carla Christine Nielsine   \n",
      "625        3         1                    Andersson, Miss. Erna Alexandra   \n",
      "643        3         1                     Asplund, Miss. Lillian Gertrud   \n",
      "653        3         1                               Ayoub, Miss. Banoura   \n",
      "657        3         1                             Baclini, Miss. Eugenie   \n",
      "658        3         1                      Baclini, Miss. Helene Barbara   \n",
      "659        3         1                     Baclini, Miss. Marie Catherine   \n",
      "660        3         1              Baclini, Mrs. Solomon (Latifa Qurban)   \n",
      "661        3         1                         Badman, Miss. Emily Louisa   \n",
      "686        3         1                       Bradley, Miss. Bridget Delia   \n",
      "709        3         1                          Carr, Miss. Helen \"Ellen\"   \n",
      "725        3         1                               Connolly, Miss. Kate   \n",
      "738        3         1                           Cribb, Miss. Laura Alice   \n",
      "763        3         1            Dean, Miss. Elizabeth Gladys \"Millvina\"   \n",
      "771        3         1                      Devaney, Miss. Margaret Delia   \n",
      "780        3         1                              Drapkin, Miss. Jennie   \n",
      "785        3         1  Dyker, Mrs. Adolf Fredrik (Anna Elisabeth Judi...   \n",
      "794        3         1                      Emanuel, Miss. Virginia Ethel   \n",
      "818        3         1                   Gilnagh, Miss. Katherine \"Katie\"   \n",
      "845        3         1  Hakkarainen, Mrs. Pekka Pietari (Elin Matilda ...   \n",
      "860        3         1                             Heikkinen, Miss. Laina   \n",
      "862        3         1                       Hellstrom, Miss. Hilda Maria   \n",
      "866        3         1                           Hirvonen, Miss. Hildur E   \n",
      "867        3         1       Hirvonen, Mrs. Alexander (Helga E Lindqvist)   \n",
      "870        3         1                             Honkanen, Miss. Eliina   \n",
      "895        3         1                       Johnson, Miss. Eleanor Ileen   \n",
      "899        3         1  Johnson, Mrs. Oscar W (Elisabeth Vilhelmina Berg)   \n",
      "916        3         1                                 Karun, Miss. Manca   \n",
      "934        3         1                Kink-Heilmann, Miss. Luise Gretchen   \n",
      "936        3         1         Kink-Heilmann, Mrs. Anton (Luise Heilmann)   \n",
      "947        3         1                    Landergren, Miss. Aurora Adelia   \n",
      "980        3         1                           Lundin, Miss. Olga Elida   \n",
      "1007       3         1                        McGowan, Miss. Anna \"Annie\"   \n",
      "1026       3         1                                 Moor, Mrs. (Beila)   \n",
      "1040       3         1                          Mulvihill, Miss. Bertha E   \n",
      "1047       3         1                   Najib, Miss. Adele Kiamie \"Jane\"   \n",
      "1048       3         1                        Nakid, Miss. Maria (\"Mary\")   \n",
      "1050       3         1              Nakid, Mrs. Said (Waika \"Mary\" Mowad)   \n",
      "1057       3         1                        Nicola-Yarred, Miss. Jamila   \n",
      "1060       3         1                        Nilsson, Miss. Berta Olivia   \n",
      "1061       3         1                    Nilsson, Miss. Helmina Josefina   \n",
      "1067       3         1                           Nysten, Miss. Anna Sofia   \n",
      "1079       3         1                                 Ohman, Miss. Velin   \n",
      "1182       3         1                   Salkjelsvik, Miss. Anna Kristine   \n",
      "1187       3         1                    Sandstrom, Miss. Beatrice Irene   \n",
      "1188       3         1  Sandstrom, Mrs. Hjalmar (Agnes Charlotta Bengt...   \n",
      "1189       3         1                    Sandstrom, Miss. Marguerite Rut   \n",
      "1205       3         1                          Sjoblom, Miss. Anna Sofia   \n",
      "1223       3         1                    Stanley, Miss. Amy Zillah Elsie   \n",
      "1244       3         1          Thomas, Mrs. Alexander (Thamine \"Thelma\")   \n",
      "1257       3         1                         Touma, Miss. Maria Youssef   \n",
      "1258       3         1            Touma, Mrs. Darwis (Hanne Youssef Razi)   \n",
      "1260       3         1                            Turja, Miss. Anna Sofia   \n",
      "1300       3         1            Yasbeck, Mrs. Antoni (Selini Alexander)   \n",
      "\n",
      "         sex    age  sibsp  parch            ticket     fare cabin embarked  \\\n",
      "604   female  16.00      0      0            348125   7.6500   NaN        S   \n",
      "607   female  18.00      0      0              2657   7.2292   NaN        C   \n",
      "612   female  18.00      0      1            392091   9.3500   NaN        S   \n",
      "621   female  19.00      1      0            350046   7.8542   NaN        S   \n",
      "625   female  17.00      4      2           3101281   7.9250   NaN        S   \n",
      "643   female   5.00      4      2            347077  31.3875   NaN        S   \n",
      "653   female  13.00      0      0              2687   7.2292   NaN        C   \n",
      "657   female   0.75      2      1              2666  19.2583   NaN        C   \n",
      "658   female   0.75      2      1              2666  19.2583   NaN        C   \n",
      "659   female   5.00      2      1              2666  19.2583   NaN        C   \n",
      "660   female  24.00      0      3              2666  19.2583   NaN        C   \n",
      "661   female  18.00      0      0         A/4 31416   8.0500   NaN        S   \n",
      "686   female  22.00      0      0            334914   7.7250   NaN        Q   \n",
      "709   female  16.00      0      0            367231   7.7500   NaN        Q   \n",
      "725   female  22.00      0      0            370373   7.7500   NaN        Q   \n",
      "738   female  17.00      0      1            371362  16.1000   NaN        S   \n",
      "763   female   0.17      1      2         C.A. 2315  20.5750   NaN        S   \n",
      "771   female  19.00      0      0            330958   7.8792   NaN        Q   \n",
      "780   female  23.00      0      0   SOTON/OQ 392083   8.0500   NaN        S   \n",
      "785   female  22.00      1      0            347072  13.9000   NaN        S   \n",
      "794   female   5.00      0      0            364516  12.4750   NaN        S   \n",
      "818   female  16.00      0      0             35851   7.7333   NaN        Q   \n",
      "845   female  24.00      1      0  STON/O2. 3101279  15.8500   NaN        S   \n",
      "860   female  26.00      0      0  STON/O2. 3101282   7.9250   NaN        S   \n",
      "862   female  22.00      0      0              7548   8.9625   NaN        S   \n",
      "866   female   2.00      0      1           3101298  12.2875   NaN        S   \n",
      "867   female  22.00      1      1           3101298  12.2875   NaN        S   \n",
      "870   female  27.00      0      0  STON/O2. 3101283   7.9250   NaN        S   \n",
      "895   female   1.00      1      1            347742  11.1333   NaN        S   \n",
      "899   female  27.00      0      2            347742  11.1333   NaN        S   \n",
      "916   female   4.00      0      1            349256  13.4167   NaN        C   \n",
      "934   female   4.00      0      2            315153  22.0250   NaN        S   \n",
      "936   female  26.00      1      1            315153  22.0250   NaN        S   \n",
      "947   female  22.00      0      0            C 7077   7.2500   NaN        S   \n",
      "980   female  23.00      0      0            347469   7.8542   NaN        S   \n",
      "1007  female  15.00      0      0            330923   8.0292   NaN        Q   \n",
      "1026  female  27.00      0      1            392096  12.4750  E121        S   \n",
      "1040  female  24.00      0      0            382653   7.7500   NaN        Q   \n",
      "1047  female  15.00      0      0              2667   7.2250   NaN        C   \n",
      "1048  female   1.00      0      2              2653  15.7417   NaN        C   \n",
      "1050  female  19.00      1      1              2653  15.7417   NaN        C   \n",
      "1057  female  14.00      1      0              2651  11.2417   NaN        C   \n",
      "1060  female  18.00      0      0            347066   7.7750   NaN        S   \n",
      "1061  female  26.00      0      0            347470   7.8542   NaN        S   \n",
      "1067  female  22.00      0      0            347081   7.7500   NaN        S   \n",
      "1079  female  22.00      0      0            347085   7.7750   NaN        S   \n",
      "1182  female  21.00      0      0            343120   7.6500   NaN        S   \n",
      "1187  female   1.00      1      1           PP 9549  16.7000    G6        S   \n",
      "1188  female  24.00      0      2           PP 9549  16.7000    G6        S   \n",
      "1189  female   4.00      1      1           PP 9549  16.7000    G6        S   \n",
      "1205  female  18.00      0      0           3101265   7.4958   NaN        S   \n",
      "1223  female  23.00      0      0          CA. 2314   7.5500   NaN        S   \n",
      "1244  female  16.00      1      1              2625   8.5167   NaN        C   \n",
      "1257  female   9.00      1      1              2650  15.2458   NaN        C   \n",
      "1258  female  29.00      0      2              2650  15.2458   NaN        C   \n",
      "1260  female  18.00      0      0              4138   9.8417   NaN        S   \n",
      "1300  female  15.00      1      0              2659  14.4542   NaN        C   \n",
      "\n",
      "     boat  body                                          home.dest  \n",
      "604    16   NaN                             Norway Los Angeles, CA  \n",
      "607     C   NaN                                     Greensburg, PA  \n",
      "612    13   NaN                        London, England Norfolk, VA  \n",
      "621    16   NaN                                                NaN  \n",
      "625     D   NaN               Ruotsinphyhtaa, Finland New York, NY  \n",
      "643    15   NaN                               Sweden Worcester, MA  \n",
      "653     C   NaN                               Syria Youngstown, OH  \n",
      "657     C   NaN                                 Syria New York, NY  \n",
      "658     C   NaN                                 Syria New York, NY  \n",
      "659     C   NaN                                 Syria New York, NY  \n",
      "660     C   NaN                                 Syria New York, NY  \n",
      "661     C   NaN                              London Skanteales, NY  \n",
      "686    13   NaN  Kingwilliamstown, Co Cork, Ireland Glens Falls...  \n",
      "709    16   NaN                  Co Longford, Ireland New York, NY  \n",
      "725    13   NaN                                            Ireland  \n",
      "738    12   NaN                    Bournemouth, England Newark, NJ  \n",
      "763    10   NaN                         Devon, England Wichita, KS  \n",
      "771     C   NaN         Kilmacowen, Co Sligo, Ireland New York, NY  \n",
      "780   NaN   NaN                                London New York, NY  \n",
      "785    16   NaN                                     West Haven, CT  \n",
      "794    13   NaN                                       New York, NY  \n",
      "818    16   NaN                  Co Longford, Ireland New York, NY  \n",
      "845    15   NaN                                                NaN  \n",
      "860   NaN   NaN                                                NaN  \n",
      "862     C   NaN                                                NaN  \n",
      "866    15   NaN                                                NaN  \n",
      "867    15   NaN                                                NaN  \n",
      "870   NaN   NaN                                                NaN  \n",
      "895    15   NaN                                                NaN  \n",
      "899    15   NaN                                                NaN  \n",
      "916    15   NaN                                                NaN  \n",
      "934     2   NaN                                                NaN  \n",
      "936     2   NaN                                                NaN  \n",
      "947    13   NaN                                                NaN  \n",
      "980    10   NaN                                                NaN  \n",
      "1007  NaN   NaN                                                NaN  \n",
      "1026   14   NaN                                                NaN  \n",
      "1040   15   NaN                                                NaN  \n",
      "1047    C   NaN                                                NaN  \n",
      "1048    C   NaN                                                NaN  \n",
      "1050    C   NaN                                                NaN  \n",
      "1057    C   NaN                                                NaN  \n",
      "1060    D   NaN                                                NaN  \n",
      "1061   13   NaN                                                NaN  \n",
      "1067   13   NaN                                                NaN  \n",
      "1079    C   NaN                                                NaN  \n",
      "1182    C   NaN                                                NaN  \n",
      "1187   13   NaN                                                NaN  \n",
      "1188   13   NaN                                                NaN  \n",
      "1189   13   NaN                                                NaN  \n",
      "1205   16   NaN                                                NaN  \n",
      "1223    C   NaN                                                NaN  \n",
      "1244   14   NaN                                                NaN  \n",
      "1257    C   NaN                                                NaN  \n",
      "1258    C   NaN                                                NaN  \n",
      "1260   15   NaN                                                NaN  \n",
      "1300  NaN   NaN                                                NaN  \n",
      "\n",
      "Number of women in 3rd class, under 30, who survived: 57\n"
     ]
    }
   ],
   "source": [
    "mask = (\n",
    "    (titanic['sex'] == 'female') &\n",
    "    (titanic['pclass'] == 3) &\n",
    "    (titanic['age'] < 30) &\n",
    "    (titanic['survived'] == 1)\n",
    ")\n",
    "\n",
    "filtered_women = titanic[mask]\n",
    "\n",
    "print(filtered_women)\n",
    "\n",
    "print(f\"\\nNumber of women in 3rd class, under 30, who survived: {len(filtered_women)}\")\n"
   ]
  },
  {
   "cell_type": "code",
   "execution_count": 180,
   "metadata": {},
   "outputs": [],
   "source": [
    "# mascara con todo \n"
   ]
  },
  {
   "attachments": {},
   "cell_type": "markdown",
   "metadata": {},
   "source": [
    "28. Now, show only the rows using `.loc` with the following conditions: \n",
    "    - They are man\n",
    "    - From first class\n",
    "    - Older than 50\n",
    "    - They died\n",
    "    \n",
    "    ¿How many rows fulfill the condition?"
   ]
  },
  {
   "cell_type": "code",
   "execution_count": null,
   "metadata": {},
   "outputs": [
    {
     "name": "stdout",
     "output_type": "stream",
     "text": [
      "     pclass  survived                            name   sex   age  sibsp  \\\n",
      "9         1         0         Artagaveytia, Mr. Ramon  male  71.0      0   \n",
      "81        1         0    Crosby, Capt. Edward Gifford  male  70.0      1   \n",
      "115       1         0               Fortune, Mr. Mark  male  64.0      1   \n",
      "135       1         0       Goldschmidt, Mr. George B  male  71.0      0   \n",
      "154       1         0      Hays, Mr. Charles Melville  male  55.0      1   \n",
      "158       1         0     Hipkins, Mr. William Edward  male  55.0      0   \n",
      "174       1         0         Kent, Mr. Edward Austin  male  58.0      0   \n",
      "201       1         0         McCarthy, Mr. Timothy J  male  54.0      0   \n",
      "205       1         0       Millet, Mr. Francis Davis  male  65.0      0   \n",
      "210       1         0      Molson, Mr. Harry Markland  male  55.0      0   \n",
      "215       1         0      Newell, Mr. Arthur Webster  male  58.0      0   \n",
      "217       1         0    Nicholson, Mr. Arthur Ernest  male  64.0      0   \n",
      "221       1         0  Ostby, Mr. Engelhart Cornelius  male  65.0      0   \n",
      "246       1         0          Rothschild, Mr. Martin  male  55.0      1   \n",
      "252       1         0      Ryerson, Mr. Arthur Larned  male  61.0      1   \n",
      "266       1         0      Smart, Mr. John Montgomery  male  56.0      0   \n",
      "267       1         0         Smith, Mr. James Clinch  male  56.0      0   \n",
      "276       1         0   Spencer, Mr. William Augustus  male  57.0      1   \n",
      "279       1         0       Stead, Mr. William Thomas  male  62.0      0   \n",
      "285       1         0              Straus, Mr. Isidor  male  67.0      1   \n",
      "287       1         0           Sutton, Mr. Frederick  male  61.0      0   \n",
      "290       1         0               Taussig, Mr. Emil  male  52.0      1   \n",
      "300       1         0       Van der hoef, Mr. Wyckoff  male  61.0      0   \n",
      "303       1         0        Warren, Mr. Frank Manley  male  64.0      1   \n",
      "305       1         0                 Weir, Col. John  male  60.0      0   \n",
      "306       1         0     White, Mr. Percival Wayland  male  54.0      0   \n",
      "310       1         0        Wick, Mr. George Dennick  male  57.0      1   \n",
      "316       1         0     Williams, Mr. Charles Duane  male  51.0      0   \n",
      "321       1         0              Wright, Mr. George  male  62.0      0   \n",
      "\n",
      "     parch     ticket      fare            cabin embarked boat   body  \\\n",
      "9        0   PC 17609   49.5042              NaN        C  NaN   22.0   \n",
      "81       1  WE/P 5735   71.0000              B22        S  NaN  269.0   \n",
      "115      4      19950  263.0000      C23 C25 C27        S  NaN    NaN   \n",
      "135      0   PC 17754   34.6542               A5        C  NaN    NaN   \n",
      "154      1      12749   93.5000              B69        S  NaN  307.0   \n",
      "158      0        680   50.0000              C39        S  NaN    NaN   \n",
      "174      0      11771   29.7000              B37        C  NaN  258.0   \n",
      "201      0      17463   51.8625              E46        S  NaN  175.0   \n",
      "205      0      13509   26.5500              E38        S  NaN  249.0   \n",
      "210      0     113787   30.5000              C30        S  NaN    NaN   \n",
      "215      2      35273  113.2750              D48        C  NaN  122.0   \n",
      "217      0        693   26.0000              NaN        S  NaN  263.0   \n",
      "221      1     113509   61.9792              B30        C  NaN  234.0   \n",
      "246      0   PC 17603   59.4000              NaN        C  NaN    NaN   \n",
      "252      3   PC 17608  262.3750  B57 B59 B63 B66        C  NaN    NaN   \n",
      "266      0     113792   26.5500              NaN        S  NaN    NaN   \n",
      "267      0      17764   30.6958               A7        C  NaN    NaN   \n",
      "276      0   PC 17569  146.5208              B78        C  NaN    NaN   \n",
      "279      0     113514   26.5500              C87        S  NaN    NaN   \n",
      "285      0   PC 17483  221.7792          C55 C57        S  NaN   96.0   \n",
      "287      0      36963   32.3208              D50        S  NaN   46.0   \n",
      "290      1     110413   79.6500              E67        S  NaN    NaN   \n",
      "300      0     111240   33.5000              B19        S  NaN  245.0   \n",
      "303      0     110813   75.2500              D37        C  NaN    NaN   \n",
      "305      0     113800   26.5500              NaN        S  NaN    NaN   \n",
      "306      1      35281   77.2875              D26        S  NaN    NaN   \n",
      "310      1      36928  164.8667              NaN        S  NaN    NaN   \n",
      "316      1   PC 17597   61.3792              NaN        C  NaN    NaN   \n",
      "321      0     113807   26.5500              NaN        S  NaN    NaN   \n",
      "\n",
      "                                          home.dest  \n",
      "9                               Montevideo, Uruguay  \n",
      "81                                    Milwaukee, WI  \n",
      "115                                    Winnipeg, MB  \n",
      "135                                    New York, NY  \n",
      "154                                    Montreal, PQ  \n",
      "158                             London / Birmingham  \n",
      "174                                     Buffalo, NY  \n",
      "201                                  Dorchester, MA  \n",
      "205                            East Bridgewater, MA  \n",
      "210                                    Montreal, PQ  \n",
      "215                                   Lexington, MA  \n",
      "217                          Isle of Wight, England  \n",
      "221                                  Providence, RI  \n",
      "246                                    New York, NY  \n",
      "252                 Haverford, PA / Cooperstown, NY  \n",
      "266                                    New York, NY  \n",
      "267                       St James, Long Island, NY  \n",
      "276                                   Paris, France  \n",
      "279  Wimbledon Park, London / Hayling Island, Hants  \n",
      "285                                    New York, NY  \n",
      "287                                 Haddenfield, NJ  \n",
      "290                                    New York, NY  \n",
      "300                                    Brooklyn, NY  \n",
      "303                                    Portland, OR  \n",
      "305                    England Salt Lake City, Utah  \n",
      "306                                   Brunswick, ME  \n",
      "310                                  Youngstown, OH  \n",
      "316                Geneva, Switzerland / Radnor, PA  \n",
      "321                                     Halifax, NS  \n",
      "\n",
      "Número de hombres de primera clase, mayores de 50, que murieron: 29\n"
     ]
    }
   ],
   "source": [
    "filtered_men = titanic.loc[\n",
    "    (titanic['sex'] == 'male') &           \n",
    "    (titanic['pclass'] == 1) &             \n",
    "    (titanic['age'] > 50) &                \n",
    "    (titanic['survived'] == 0)             \n",
    "]\n",
    "\n",
    "print(filtered_men)\n",
    "\n",
    "print(f\"\\nNúmero de hombres de primera clase, mayores de 50, que murieron: {len(filtered_men)}\")\n"
   ]
  },
  {
   "attachments": {},
   "cell_type": "markdown",
   "metadata": {},
   "source": [
    "29. Print the uniques values at the column `'name'`"
   ]
  },
  {
   "cell_type": "code",
   "execution_count": 182,
   "metadata": {},
   "outputs": [
    {
     "name": "stdout",
     "output_type": "stream",
     "text": [
      "['Allen, Miss. Elisabeth Walton' 'Allison, Master. Hudson Trevor'\n",
      " 'Allison, Miss. Helen Loraine' ... 'Zakarian, Mr. Mapriededer'\n",
      " 'Zakarian, Mr. Ortin' 'Zimmerman, Mr. Leo']\n"
     ]
    }
   ],
   "source": [
    "# Mostrar los valores únicos en la columna 'name'\n",
    "unique_names = titanic['name'].unique()\n",
    "\n",
    "print(unique_names)\n"
   ]
  },
  {
   "attachments": {},
   "cell_type": "markdown",
   "metadata": {},
   "source": [
    "30. Find if was there any `name` repeated at the Titanic?\n",
    "\n",
    "Hint: There were two people with the same name, who?"
   ]
  },
  {
   "cell_type": "code",
   "execution_count": 183,
   "metadata": {},
   "outputs": [
    {
     "name": "stdout",
     "output_type": "stream",
     "text": [
      "Nombres repetidos en el Titanic:\n",
      "name\n",
      "Connolly, Miss. Kate    2\n",
      "Kelly, Mr. James        2\n",
      "Name: count, dtype: int64\n",
      "\n",
      "Cantidad de nombres repetidos: 2\n"
     ]
    }
   ],
   "source": [
    "name_counts = titanic['name'].value_counts()\n",
    "\n",
    "repeated_names = name_counts[name_counts > 1]\n",
    "\n",
    "print(\"Nombres repetidos en el Titanic:\")\n",
    "print(repeated_names)\n",
    "\n",
    "if repeated_names.empty:\n",
    "    print(\"\\nNo hay nombres repetidos.\")\n",
    "else:\n",
    "    print(f\"\\nCantidad de nombres repetidos: {len(repeated_names)}\")\n"
   ]
  },
  {
   "cell_type": "code",
   "execution_count": null,
   "metadata": {},
   "outputs": [
    {
     "ename": "AttributeError",
     "evalue": "'list' object has no attribute 'duplicated'",
     "output_type": "error",
     "traceback": [
      "\u001b[31m---------------------------------------------------------------------------\u001b[39m",
      "\u001b[31mAttributeError\u001b[39m                            Traceback (most recent call last)",
      "\u001b[36mCell\u001b[39m\u001b[36m \u001b[39m\u001b[32mIn[1]\u001b[39m\u001b[32m, line 1\u001b[39m\n\u001b[32m----> \u001b[39m\u001b[32m1\u001b[39m \u001b[43m[\u001b[49m\u001b[33;43m\"\u001b[39;49m\u001b[33;43mname\u001b[39;49m\u001b[33;43m\"\u001b[39;49m\u001b[43m]\u001b[49m\u001b[43m.\u001b[49m\u001b[43mduplicated\u001b[49m()[\u001b[33m\"\u001b[39m\u001b[33mname\u001b[39m\u001b[33m\"\u001b[39m]\n",
      "\u001b[31mAttributeError\u001b[39m: 'list' object has no attribute 'duplicated'"
     ]
    }
   ],
   "source": [
    "#[\"name\"].duplicated()[\"name\"]"
   ]
  },
  {
   "attachments": {},
   "cell_type": "markdown",
   "metadata": {},
   "source": [
    "31. Using `matplotlib` find the appropriate visualization to show the distribution of the column `'age'`"
   ]
  },
  {
   "cell_type": "code",
   "execution_count": null,
   "metadata": {},
   "outputs": [
    {
     "data": {
      "image/png": "[encoded data removed]",
      "text/plain": [
       "<Figure size 1000x600 with 1 Axes>"
      ]
     },
     "metadata": {},
     "output_type": "display_data"
    }
   ],
   "source": [
    "import matplotlib.pyplot as plt\n",
    "\n",
    "plt.figure(figsize=(10, 6))\n",
    "\n",
    "plt.hist(titanic['age'].dropna(), bins=30, edgecolor='black')\n",
    "\n",
    "plt.title('Distribución de la edad de los pasajeros del Titanic')\n",
    "plt.xlabel('Edad')\n",
    "plt.ylabel('Cantidad de pasajeros')\n",
    "\n",
    "plt.show()\n"
   ]
  },
  {
   "attachments": {},
   "cell_type": "markdown",
   "metadata": {},
   "source": [
    "32. Using `matplotlib` find the appropriate plot to visualize the column `'gender'`"
   ]
  },
  {
   "cell_type": "code",
   "execution_count": null,
   "metadata": {},
   "outputs": [
    {
     "data": {
      "image/png": "[encoded data removed]",
      "text/plain": [
       "<Figure size 600x400 with 1 Axes>"
      ]
     },
     "metadata": {},
     "output_type": "display_data"
    }
   ],
   "source": [
    "# gender = drop_tita[\"gender\"].value_counts()\n",
    "import matplotlib.pyplot as plt\n",
    "\n",
    "gender_counts = titanic['sex'].value_counts()\n",
    "\n",
    "plt.figure(figsize=(6, 4))\n",
    "plt.bar(gender_counts.index, gender_counts.values, color=['skyblue', 'lightpink'], edgecolor='black')\n",
    "\n",
    "plt.title('Cantidad de pasajeros por género')\n",
    "plt.xlabel('Género')\n",
    "plt.ylabel('Cantidad')\n",
    "\n",
    "plt.show()\n"
   ]
  },
  {
   "attachments": {},
   "cell_type": "markdown",
   "metadata": {},
   "source": [
    "32b. What if you also plot the column `'gender'` using the function [`countplot`](https://seaborn.pydata.org/generated/seaborn.countplot.html) from the library [`seaborn`](https://seaborn.pydata.org/)?\n",
    "\n",
    "Remember you have never used `seaborn` before, therefore you should install it before importing it."
   ]
  },
  {
   "cell_type": "code",
   "execution_count": null,
   "metadata": {},
   "outputs": [],
   "source": [
    "\n",
    "\n"
   ]
  },
  {
   "attachments": {},
   "cell_type": "markdown",
   "metadata": {},
   "source": [
    "33. Using the function [`catplot`](https://seaborn.pydata.org/generated/seaborn.catplot.html) from the library `seaborn`, find out if the hypothesis _\"Women are more likely to survive shipwrecks\"_ is true or not.\n"
   ]
  },
  {
   "cell_type": "code",
   "execution_count": null,
   "metadata": {},
   "outputs": [],
   "source": [
    "\n"
   ]
  },
  {
   "attachments": {},
   "cell_type": "markdown",
   "metadata": {},
   "source": [
    "34. Using [`kdeplot`](\"https://seaborn.pydata.org/generated/seaborn.kdeplot.html\") from `seaborn` represent those who not survived distributed by age.<>\n",
    "\n",
    "Hint: First you should \"filter\" the `titanic` dataset where the column \"survived\" is 0, indexing the column `\"age\"` only.\n",
    "\n",
    "Arguments you should pass to the function: \n",
    "\n",
    "    - color = \"red\"\n",
    "    - label = \"Not Survived\"\n",
    "    - shade = True\n",
    "    \n",
    "You should get something like this: "
   ]
  },
  {
   "cell_type": "code",
   "execution_count": null,
   "metadata": {},
   "outputs": [],
   "source": [
    "import seaborn as sns\n",
    "import matplotlib.pyplot as plt\n",
    "\n",
    "# Filtrar edades de quienes no sobrevivieron\n",
    "not_survived_ages = titanic[titanic['survived'] == 0]['age'].dropna()\n"
   ]
  },
  {
   "cell_type": "code",
   "execution_count": null,
   "metadata": {},
   "outputs": [
    {
     "name": "stderr",
     "output_type": "stream",
     "text": [
      "C:\\Users\\Aggelos\\AppData\\Local\\Temp\\ipykernel_18500\\4216357064.py:3: FutureWarning: \n",
      "\n",
      "`shade` is now deprecated in favor of `fill`; setting `fill=True`.\n",
      "This will become an error in seaborn v0.14.0; please update your code.\n",
      "\n",
      "  sns.kdeplot(\n"
     ]
    },
    {
     "data": {
      "image/png": "[encoded data removed]",
      "text/plain": [
       "<Figure size 1000x600 with 1 Axes>"
      ]
     },
     "metadata": {},
     "output_type": "display_data"
    }
   ],
   "source": [
    "plt.figure(figsize=(10, 6))\n",
    "\n",
    "sns.kdeplot(\n",
    "    data=not_survived_ages,\n",
    "    color=\"red\",\n",
    "    label=\"Not Survived\",\n",
    "    shade=True\n",
    ")\n",
    "\n",
    "plt.title('Distribución de edad de quienes NO sobrevivieron')\n",
    "plt.xlabel('Edad')\n",
    "plt.ylabel('Densidad')\n",
    "plt.legend()\n",
    "\n",
    "plt.show()\n"
   ]
  },
  {
   "attachments": {},
   "cell_type": "markdown",
   "metadata": {},
   "source": [
    "![kdeplot](./img/kdeplotsur.png)"
   ]
  }
 ],
 "metadata": {
  "kernelspec": {
   "display_name": "Python 3",
   "language": "python",
   "name": "python3"
  },
  "language_info": {
   "codemirror_mode": {
    "name": "ipython",
    "version": 3
   },
   "file_extension": ".py",
   "mimetype": "text/x-python",
   "name": "python",
   "nbconvert_exporter": "python",
   "pygments_lexer": "ipython3",
   "version": "3.11.9"
  }
 },
 "nbformat": 4,
 "nbformat_minor": 4
}
