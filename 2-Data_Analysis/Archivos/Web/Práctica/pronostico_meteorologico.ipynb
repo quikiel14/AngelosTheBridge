{
 "cells": [
  {
   "cell_type": "markdown",
   "metadata": {},
   "source": [
    "## Análisis de Datos Meteorológicos con una API Pública\n",
    "Obtener datos del clima de una ciudad usando la API de Open-Meteo (https://open-meteo.com/) y mostrar el pronóstico para Bilbao."
   ]
  },
  {
   "cell_type": "markdown",
   "metadata": {},
   "source": [
    "* Haz una petición a la API para que devuelva el pronóstico de las temperaturas para una semana en Bilbao. Tip: el parámetro correspondiente en el query es `temperature_2m` además de la latitud y la longitud.\n",
    "* Procesa la respuesta en formato JSON para obtener dos listas: una con la lista de temperaturas y otra con las fechas-horas correspondientes.\n",
    "* Crea un DataFrame con esas dos columnas: `Hora` y `Temperatura`\n",
    "* Elige la gráfica adecuada y visualiza el pronóstico de temperaturas."
   ]
  },
  {
   "cell_type": "markdown",
   "metadata": {},
   "source": [
    "Para crear la variable `Hora` del DataFrame puedes introducir directamente la lista que se obtiene del campo `data[\"hourly\"][\"time\"]` o procesar esa lista mediante el siguiente código:\n",
    "\n",
    "`hours = pd.date_range(start=lista_de_horas, periods=len(temps), freq=\"H\")`"
   ]
  },
  {
   "cell_type": "code",
   "execution_count": 3,
   "metadata": {},
   "outputs": [],
   "source": [
    "import requests\n",
    "\n",
    "\n",
    "# Coordenadas de Madrid\n",
    "latitude = 40.4168\n",
    "longitude = -3.7038\n",
    "\n",
    "\n",
    "url = f\"https://api.open-meteo.com/v1/forecast?\"  # Aquí vienen el resto de los parámetros\n",
    "\n"
   ]
  }
 ],
 "metadata": {
  "kernelspec": {
   "display_name": "Python 3",
   "language": "python",
   "name": "python3"
  },
  "language_info": {
   "codemirror_mode": {
    "name": "ipython",
    "version": 3
   },
   "file_extension": ".py",
   "mimetype": "text/x-python",
   "name": "python",
   "nbconvert_exporter": "python",
   "pygments_lexer": "ipython3",
   "version": "3.11.9"
  }
 },
 "nbformat": 4,
 "nbformat_minor": 2
}
