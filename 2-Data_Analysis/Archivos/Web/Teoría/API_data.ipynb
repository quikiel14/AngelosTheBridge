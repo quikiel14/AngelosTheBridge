{
 "cells": [
  {
   "cell_type": "markdown",
   "metadata": {
    "colab_type": "text",
    "id": "zWl5iuMThonQ"
   },
   "source": [
    "# Obtención de Datos Mediante APIs en Python"
   ]
  },
  {
   "cell_type": "markdown",
   "metadata": {},
   "source": [
    "Alguna de las formas de obtención de datos es a través de **APIs (Application Programming Interfaces)**. Las APIs son una forma eficiente de acceder a datos y servicios en línea. Aprenderemos a realizar solicitudes a través de Python utilizando la popular biblioteca `requests`."
   ]
  },
  {
   "cell_type": "markdown",
   "metadata": {},
   "source": [
    "## Introducción a las APIs"
   ]
  },
  {
   "cell_type": "markdown",
   "metadata": {},
   "source": [
    "Una API (Application Programming Interface) es un conjunto de reglas y protocolos que permiten a diferentes aplicaciones interactuar entre sí. Las APIs permiten a las aplicaciones solicitar datos o realizar acciones en un servidor remoto de manera estructurada y estandarizada.\n",
    "\n",
    "![imagen](./img/http.PNG)"
   ]
  },
  {
   "cell_type": "markdown",
   "metadata": {},
   "source": [
    "## Protocolo HTTP"
   ]
  },
  {
   "cell_type": "markdown",
   "metadata": {},
   "source": [
    "El Protocolo de Transferencia de Hipertexto (HTTP) es el protocolo subyacente utilizado en la World Wide Web. Se utiliza para solicitar y transmitir datos en la web. \n",
    "\n",
    "![imagen](./img/peticion_respuesta.PNG)\n",
    "\n",
    "Aquí tienes un ejemplo de arquitectura:\n",
    "\n",
    "![imagen](./img/arquitectura_servidor.PNG)\n",
    "\n",
    "Las solicitudes HTTP se pueden realizar utilizando varios métodos, siendo los más comunes:\n",
    "\n",
    "* **GET**: Para recuperar datos.\n",
    "* **POST**: Para enviar datos al servidor.\n",
    "* **PUT**: Para actualizar datos en el servidor.\n",
    "* **DELETE**: Para eliminar datos en el servidor.\n",
    "\n",
    "\n",
    "![imagen](./img/documentacion_api.PNG)"
   ]
  },
  {
   "cell_type": "markdown",
   "metadata": {},
   "source": [
    "Podemos hacer una petición:\n",
    "\n",
    "![imagen](./img/parametros.PNG)\n",
    "\n",
    "y obtener como respuesta diferentes códigos:\n",
    "\n",
    "![imagen](./img/status_codes.PNG)"
   ]
  },
  {
   "cell_type": "markdown",
   "metadata": {},
   "source": [
    "Ejemplo de la API de Marvel. La URL se construye como *urlbase* + *endpoint* + *params*"
   ]
  },
  {
   "cell_type": "markdown",
   "metadata": {},
   "source": [
    "En general para acceder a un servicio de una API la URL se construye como *urlbase* + *endpoint* + *params*"
   ]
  },
  {
   "cell_type": "markdown",
   "metadata": {},
   "source": [
    "![imagen](./img/MarvelAccessPoints.png)"
   ]
  },
  {
   "cell_type": "markdown",
   "metadata": {},
   "source": [
    "## Biblioteca ``requests``"
   ]
  },
  {
   "cell_type": "markdown",
   "metadata": {},
   "source": [
    "La biblioteca requests es una de las más populares para realizar solicitudes HTTP en Python. Permite enviar solicitudes y procesar respuestas de una manera sencilla y eficiente."
   ]
  },
  {
   "cell_type": "code",
   "execution_count": null,
   "metadata": {},
   "outputs": [],
   "source": [
    "#!pip install requests"
   ]
  },
  {
   "cell_type": "code",
   "execution_count": null,
   "metadata": {},
   "outputs": [],
   "source": [
    "# Importamos librerias\n",
    "import requests\n",
    "import zipfile\n",
    "import pandas as pd"
   ]
  },
  {
   "cell_type": "markdown",
   "metadata": {},
   "source": [
    "## Primera petición"
   ]
  },
  {
   "cell_type": "code",
   "execution_count": null,
   "metadata": {},
   "outputs": [],
   "source": [
    "url = \"https://pbs.twimg.com/profile_images/616689518968762368/rkhjKqNb.jpg\"\n",
    "image = requests.get(url)"
   ]
  },
  {
   "cell_type": "code",
   "execution_count": null,
   "metadata": {},
   "outputs": [],
   "source": [
    "image\n"
   ]
  },
  {
   "cell_type": "code",
   "execution_count": null,
   "metadata": {},
   "outputs": [],
   "source": [
    "image.content"
   ]
  },
  {
   "cell_type": "markdown",
   "metadata": {},
   "source": [
    "### Mediante pandas"
   ]
  },
  {
   "cell_type": "code",
   "execution_count": null,
   "metadata": {},
   "outputs": [],
   "source": [
    "df_inflation = pd.read_csv('https://datahub.io/core/inflation/r/inflation-gdp.csv')\n",
    "df_inflation.head()"
   ]
  },
  {
   "cell_type": "code",
   "execution_count": null,
   "metadata": {},
   "outputs": [],
   "source": [
    "df_inflation[df_inflation['Country'] == \"Spain\"]"
   ]
  },
  {
   "cell_type": "markdown",
   "metadata": {
    "colab_type": "text",
    "id": "G8fjA0nyhonR"
   },
   "source": [
    "## Bajar datos de Bicimad"
   ]
  },
  {
   "cell_type": "code",
   "execution_count": null,
   "metadata": {
    "tags": []
   },
   "outputs": [],
   "source": [
    "url = 'https://opendata.emtmadrid.es/getattachment/c3383795-121b-4ebf-98b4-c7b05e902eaf/202106_movements.aspx'\n",
    "\n",
    "r = requests.get(url)"
   ]
  },
  {
   "cell_type": "code",
   "execution_count": null,
   "metadata": {},
   "outputs": [],
   "source": [
    "r"
   ]
  },
  {
   "cell_type": "code",
   "execution_count": null,
   "metadata": {},
   "outputs": [],
   "source": [
    "r.content"
   ]
  },
  {
   "cell_type": "code",
   "execution_count": null,
   "metadata": {},
   "outputs": [],
   "source": [
    "# Guardamos el zip\n",
    "filename = 'data/bicis.zip'\n",
    "with open(filename, 'wb') as f:\n",
    "   f.write(r.content)"
   ]
  },
  {
   "cell_type": "code",
   "execution_count": null,
   "metadata": {
    "colab": {},
    "colab_type": "code",
    "id": "uVRFbVZrhonV"
   },
   "outputs": [],
   "source": [
    "# Extraemos lo que hay dentro\n",
    "filename = 'data/bicis.zip'\n",
    "with zipfile.ZipFile(filename, 'r') as zip_ref:\n",
    "    zip_ref.extractall(\"data/\")"
   ]
  },
  {
   "cell_type": "code",
   "execution_count": null,
   "metadata": {
    "colab": {},
    "colab_type": "code",
    "id": "uNGffwephonX"
   },
   "outputs": [],
   "source": [
    "## Leemos los datos\n",
    "datos_bicis = pd.read_json('data/202106_movements.json', lines=True, encoding='latin-1', nrows=10000)"
   ]
  },
  {
   "cell_type": "code",
   "execution_count": null,
   "metadata": {
    "colab": {
     "base_uri": "https://localhost:8080/",
     "height": 309
    },
    "colab_type": "code",
    "id": "CF9u6xluhonZ",
    "outputId": "2e4e08fe-735e-4d35-ced1-2c83fc2fc743"
   },
   "outputs": [],
   "source": [
    "# Vemos qué pinta tienen\n",
    "datos_bicis.head()"
   ]
  },
  {
   "cell_type": "code",
   "execution_count": null,
   "metadata": {},
   "outputs": [],
   "source": [
    "datos_bicis.info()"
   ]
  },
  {
   "cell_type": "code",
   "execution_count": null,
   "metadata": {},
   "outputs": [],
   "source": [
    "datos_bicis['zip_code'].unique()"
   ]
  },
  {
   "cell_type": "markdown",
   "metadata": {},
   "source": [
    "## Api chucknorris"
   ]
  },
  {
   "cell_type": "markdown",
   "metadata": {},
   "source": [
    "[Enlace API](https://api.chucknorris.io/)"
   ]
  },
  {
   "cell_type": "code",
   "execution_count": 7,
   "metadata": {},
   "outputs": [
    {
     "name": "stdout",
     "output_type": "stream",
     "text": [
      "{'categories': ['religion'], 'created_at': '2020-01-05 13:42:19.576875', 'icon_url': 'https://api.chucknorris.io/img/avatar/chuck-norris.png', 'id': 'hsnyecdiq0e7moidbhs3fw', 'updated_at': '2020-01-05 13:42:19.576875', 'url': 'https://api.chucknorris.io/jokes/hsnyecdiq0e7moidbhs3fw', 'value': 'Jesus can walk on water, but Chuck Norris can swim through land.'}\n"
     ]
    },
    {
     "data": {
      "text/plain": [
       "'Jesus can walk on water, but Chuck Norris can swim through land.'"
      ]
     },
     "execution_count": 7,
     "metadata": {},
     "output_type": "execute_result"
    }
   ],
   "source": [
    "url = \"https://api.chucknorris.io/jokes/random\"  # Reemplaza con la URL de la API que deseas acceder.\n",
    "\n",
    "response = requests.get(url)\n",
    "response.json()\n",
    "if response.status_code == 200:  # Código 200 indica una respuesta exitosa.\n",
    "    data = response.json()  # Analizar la respuesta JSON.\n",
    "    #print(data[\"value\"])\n",
    "    print(data)\n",
    "else:\n",
    "    print(\"Error en la solicitud: \", response.status_code)\n",
    "data[\"value\"]"
   ]
  },
  {
   "cell_type": "code",
   "execution_count": 8,
   "metadata": {},
   "outputs": [],
   "source": [
    "def get_joke(url):\n",
    "    response = requests.get(url)\n",
    "\n",
    "    if response.status_code == 200:  # Código 200 indica una respuesta exitosa.\n",
    "        data = response.json()  # Analizar la respuesta JSON.\n",
    "        return data\n",
    "    else:\n",
    "        print(\"Error en la solicitud: \", response.status_code)"
   ]
  },
  {
   "cell_type": "code",
   "execution_count": 9,
   "metadata": {},
   "outputs": [
    {
     "data": {
      "text/plain": [
       "['animal',\n",
       " 'career',\n",
       " 'celebrity',\n",
       " 'dev',\n",
       " 'explicit',\n",
       " 'fashion',\n",
       " 'food',\n",
       " 'history',\n",
       " 'money',\n",
       " 'movie',\n",
       " 'music',\n",
       " 'political',\n",
       " 'religion',\n",
       " 'science',\n",
       " 'sport',\n",
       " 'travel']"
      ]
     },
     "execution_count": 9,
     "metadata": {},
     "output_type": "execute_result"
    }
   ],
   "source": [
    "url = \"https://api.chucknorris.io/jokes/categories\"\n",
    "get_joke(url)"
   ]
  },
  {
   "cell_type": "code",
   "execution_count": 10,
   "metadata": {},
   "outputs": [
    {
     "data": {
      "text/plain": [
       "{'categories': ['animal'],\n",
       " 'created_at': '2020-01-05 13:42:19.104863',\n",
       " 'icon_url': 'https://api.chucknorris.io/img/avatar/chuck-norris.png',\n",
       " 'id': 'o0sukejatqchi7oyjms6mw',\n",
       " 'updated_at': '2020-01-05 13:42:19.104863',\n",
       " 'url': 'https://api.chucknorris.io/jokes/o0sukejatqchi7oyjms6mw',\n",
       " 'value': 'Chuck Norris can set ants on fire with a magnifying glass. At night.'}"
      ]
     },
     "execution_count": 10,
     "metadata": {},
     "output_type": "execute_result"
    }
   ],
   "source": [
    "url = \"https://api.chucknorris.io/jokes/random?category=animal\"\n",
    "get_joke(url)"
   ]
  },
  {
   "cell_type": "code",
   "execution_count": null,
   "metadata": {},
   "outputs": [],
   "source": [
    "joke = get_joke(url)\n",
    "joke[\"value\"]"
   ]
  },
  {
   "cell_type": "markdown",
   "metadata": {},
   "source": [
    "### POST"
   ]
  },
  {
   "cell_type": "code",
   "execution_count": 11,
   "metadata": {},
   "outputs": [
    {
     "name": "stdout",
     "output_type": "stream",
     "text": [
      "Usuario creado con éxito.\n",
      "Respuesta de la API: {'name': 'Juan Pérez', 'job': 'Científico de Datos', 'id': '64', 'createdAt': '2025-03-27T11:16:42.712Z'}\n"
     ]
    }
   ],
   "source": [
    "# URL de la API de prueba\n",
    "url = \"https://reqres.in/api/users\"\n",
    "\n",
    "# Datos a enviar en el request\n",
    "data = {\n",
    "    \"name\": \"Juan Pérez\",\n",
    "    \"job\": \"Científico de Datos\"\n",
    "}\n",
    "\n",
    "# Enviar solicitud POST\n",
    "response = requests.post(url, json=data)\n",
    "\n",
    "# Verificar la respuesta\n",
    "if response.status_code == 201:  # Código 201 = Creado exitosamente\n",
    "    print(\"Usuario creado con éxito.\")\n",
    "    print(\"Respuesta de la API:\", response.json())  # Mostrar datos devueltos\n",
    "else:\n",
    "    print(\"Error en la solicitud:\", response.status_code)"
   ]
  },
  {
   "cell_type": "markdown",
   "metadata": {},
   "source": [
    "## Datos del espacio"
   ]
  },
  {
   "cell_type": "code",
   "execution_count": 76,
   "metadata": {
    "tags": []
   },
   "outputs": [],
   "source": [
    "'''\n",
    "https://thespacedevs.com/llapi\n",
    "https://ll.thespacedevs.com/2.2.0/swagger\n",
    "'''\n",
    "space_url = \"http://ll.thespacedevs.com/2.2.0\"\n",
    "\n",
    "path = \"/astronaut\"\n",
    "\n",
    "url_total = space_url + path #+ \"/?limit=20\"\n",
    "\n",
    "response = requests.get(url_total)"
   ]
  },
  {
   "cell_type": "code",
   "execution_count": 77,
   "metadata": {},
   "outputs": [
    {
     "name": "stdout",
     "output_type": "stream",
     "text": [
      "http://ll.thespacedevs.com/2.2.0/astronaut\n"
     ]
    }
   ],
   "source": [
    "print(url_total)"
   ]
  },
  {
   "cell_type": "code",
   "execution_count": 78,
   "metadata": {
    "collapsed": true,
    "jupyter": {
     "outputs_hidden": true
    },
    "tags": []
   },
   "outputs": [
    {
     "name": "stdout",
     "output_type": "stream",
     "text": [
      "429\n"
     ]
    }
   ],
   "source": [
    "print(response.status_code)\n",
    "#type(response.content)\n",
    "#response.json()"
   ]
  },
  {
   "cell_type": "code",
   "execution_count": 79,
   "metadata": {},
   "outputs": [
    {
     "data": {
      "text/plain": [
       "bytes"
      ]
     },
     "execution_count": 79,
     "metadata": {},
     "output_type": "execute_result"
    }
   ],
   "source": [
    "type(response.content)\n"
   ]
  },
  {
   "cell_type": "code",
   "execution_count": 80,
   "metadata": {},
   "outputs": [
    {
     "data": {
      "text/plain": [
       "{'detail': 'Request was throttled. Expected available in 173 seconds.'}"
      ]
     },
     "execution_count": 80,
     "metadata": {},
     "output_type": "execute_result"
    }
   ],
   "source": [
    "astronautas = response.json()\n",
    "astronautas"
   ]
  },
  {
   "cell_type": "code",
   "execution_count": 81,
   "metadata": {},
   "outputs": [
    {
     "ename": "KeyError",
     "evalue": "'results'",
     "output_type": "error",
     "traceback": [
      "\u001b[1;31m---------------------------------------------------------------------------\u001b[0m",
      "\u001b[1;31mKeyError\u001b[0m                                  Traceback (most recent call last)",
      "Cell \u001b[1;32mIn[81], line 1\u001b[0m\n\u001b[1;32m----> 1\u001b[0m \u001b[43mastronautas\u001b[49m\u001b[43m[\u001b[49m\u001b[38;5;124;43m\"\u001b[39;49m\u001b[38;5;124;43mresults\u001b[39;49m\u001b[38;5;124;43m\"\u001b[39;49m\u001b[43m]\u001b[49m[\u001b[38;5;241m0\u001b[39m][\u001b[38;5;124m\"\u001b[39m\u001b[38;5;124mname\u001b[39m\u001b[38;5;124m\"\u001b[39m]\n",
      "\u001b[1;31mKeyError\u001b[0m: 'results'"
     ]
    }
   ],
   "source": [
    "astronautas[\"results\"][0][\"name\"]"
   ]
  },
  {
   "cell_type": "code",
   "execution_count": null,
   "metadata": {},
   "outputs": [
    {
     "data": {
      "text/plain": [
       "'Active'"
      ]
     },
     "execution_count": 31,
     "metadata": {},
     "output_type": "execute_result"
    }
   ],
   "source": [
    "astronautas[\"results\"][0][\"status\"][\"name\"]"
   ]
  },
  {
   "cell_type": "code",
   "execution_count": null,
   "metadata": {},
   "outputs": [],
   "source": [
    "#pd.DataFrame(astronautas[\"results\"])"
   ]
  },
  {
   "cell_type": "code",
   "execution_count": null,
   "metadata": {},
   "outputs": [
    {
     "data": {
      "text/plain": [
       "'Multinational'"
      ]
     },
     "execution_count": 36,
     "metadata": {},
     "output_type": "execute_result"
    }
   ],
   "source": [
    "astronautas[\"results\"][0][\"agency\"][\"type\"]"
   ]
  },
  {
   "cell_type": "code",
   "execution_count": null,
   "metadata": {},
   "outputs": [
    {
     "name": "stdout",
     "output_type": "stream",
     "text": [
      "{'id': 1, 'url': 'https://ll.thespacedevs.com/2.2.0/astronaut/1/', 'name': 'Thomas Pesquet', 'status': {'id': 1, 'name': 'Active'}, 'type': {'id': 2, 'name': 'Government'}, 'in_space': False, 'time_in_space': 'P396DT11H33M45S', 'eva_time': 'P1DT15H54M', 'age': 47, 'date_of_birth': '1978-02-27', 'date_of_death': None, 'nationality': 'French', 'bio': 'Thomas Gautier Pesquet is a French aerospace engineer, pilot, and European Space Agency astronaut. Pesquet was selected by ESA as a candidate in May 2009, and he successfully completed his basic training in November 2010. From November 2016 to June 2017, Pesquet was part of Expeditions 50 and 51 on the International Space Station as a flight engineer.', 'twitter': 'https://twitter.com/Thom_astro', 'instagram': 'https://instagram.com/thom_astro', 'wiki': 'https://en.wikipedia.org/wiki/Thomas_Pesquet', 'agency': {'id': 27, 'url': 'https://ll.thespacedevs.com/2.2.0/agencies/27/', 'name': 'European Space Agency', 'featured': False, 'type': 'Multinational', 'country_code': 'FRA,ITA,DEU,ESP,CHE,GBR,AUT,SWE,PRT,NLD,HUN,POL,DNK,CZE,ROU,NOR,FIN,GRC,EST,IRL,LUX,BEL,SVN', 'abbrev': 'ESA', 'description': \"The European Space Agency is an intergovernmental organisation of 22 member states. Established in 1975 and headquartered in Paris, France, ESA has a worldwide staff of about 2,000 employees.\\r\\n\\r\\nESA's space flight programme includes human spaceflight (mainly through participation in the International Space Station program); the launch and operation of unmanned exploration missions to other planets and the Moon; Earth observation, science and telecommunication; designing launch vehicles; and maintaining a major spaceport, the Guiana Space Centre at Kourou, French Guiana.\", 'administrator': 'Director General: Josef Aschbacher', 'founding_year': '1975', 'launchers': 'Ariane | Vega', 'spacecraft': 'Space Rider', 'parent': None, 'image_url': 'https://thespacedevs-prod.nyc3.digitaloceanspaces.com/media/images/esa_patch_float_image_20250211192109.png', 'logo_url': 'https://thespacedevs-prod.nyc3.digitaloceanspaces.com/media/images/european2520space2520agency_logo_20221130101442.png'}, 'profile_image': 'https://thespacedevs-prod.nyc3.digitaloceanspaces.com/media/images/thomas2520pesquet_image_20200102120546.jpeg', 'profile_image_thumbnail': 'https://thespacedevs-prod.nyc3.digitaloceanspaces.com/media/images/255bauto255d__image_thumbnail_20240305190357.jpeg', 'flights_count': 2, 'landings_count': 2, 'spacewalks_count': 6, 'last_flight': '2021-04-23T09:49:02Z', 'first_flight': '2016-11-17T20:20:13Z'}\n",
      "{'id': 2, 'url': 'https://ll.thespacedevs.com/2.2.0/astronaut/2/', 'name': 'Claude Nicollier', 'status': {'id': 2, 'name': 'Retired'}, 'type': {'id': 2, 'name': 'Government'}, 'in_space': False, 'time_in_space': 'P42DT12H3M12S', 'eva_time': 'PT8H10M', 'age': 80, 'date_of_birth': '1944-09-02', 'date_of_death': None, 'nationality': 'Swiss', 'bio': 'Claude Nicollier is the first astronaut from Switzerland. He has flown on four Space Shuttle missions. His first spaceflight (STS-46) was in 1992, and his final spaceflight (STS-103) was in 1999. He took part in two servicing missions to the Hubble Space Telescope (called STS-61 and STS-103). During his final spaceflight he participated in a spacewalk, becoming the first European Space Agency astronaut to do so during a Space Shuttle mission. In 2000 he was assigned to the Astronaut Office Extravehicular Activity Branch, while maintaining a position as Lead ESA Astronaut in Houston. Nicollier retired from ESA in April 2007.', 'twitter': 'https://twitter.com/Astroclaude', 'instagram': None, 'wiki': 'https://en.wikipedia.org/wiki/Claude_Nicollier', 'agency': {'id': 27, 'url': 'https://ll.thespacedevs.com/2.2.0/agencies/27/', 'name': 'European Space Agency', 'featured': False, 'type': 'Multinational', 'country_code': 'FRA,ITA,DEU,ESP,CHE,GBR,AUT,SWE,PRT,NLD,HUN,POL,DNK,CZE,ROU,NOR,FIN,GRC,EST,IRL,LUX,BEL,SVN', 'abbrev': 'ESA', 'description': \"The European Space Agency is an intergovernmental organisation of 22 member states. Established in 1975 and headquartered in Paris, France, ESA has a worldwide staff of about 2,000 employees.\\r\\n\\r\\nESA's space flight programme includes human spaceflight (mainly through participation in the International Space Station program); the launch and operation of unmanned exploration missions to other planets and the Moon; Earth observation, science and telecommunication; designing launch vehicles; and maintaining a major spaceport, the Guiana Space Centre at Kourou, French Guiana.\", 'administrator': 'Director General: Josef Aschbacher', 'founding_year': '1975', 'launchers': 'Ariane | Vega', 'spacecraft': 'Space Rider', 'parent': None, 'image_url': 'https://thespacedevs-prod.nyc3.digitaloceanspaces.com/media/images/esa_patch_float_image_20250211192109.png', 'logo_url': 'https://thespacedevs-prod.nyc3.digitaloceanspaces.com/media/images/european2520space2520agency_logo_20221130101442.png'}, 'profile_image': 'https://thespacedevs-prod.nyc3.digitaloceanspaces.com/media/images/claude2520nicollier_image_20181127203218.jpg', 'profile_image_thumbnail': 'https://thespacedevs-prod.nyc3.digitaloceanspaces.com/media/images/255bauto255d__image_thumbnail_20240305185551.jpeg', 'flights_count': 4, 'landings_count': 4, 'spacewalks_count': 1, 'last_flight': '1999-12-20T00:50:00Z', 'first_flight': '1992-07-31T13:56:48Z'}\n",
      "{'id': 3, 'url': 'https://ll.thespacedevs.com/2.2.0/astronaut/3/', 'name': 'Tim Peake', 'status': {'id': 2, 'name': 'Retired'}, 'type': {'id': 2, 'name': 'Government'}, 'in_space': False, 'time_in_space': 'P185DT22H11M51S', 'eva_time': 'PT4H43M', 'age': 52, 'date_of_birth': '1972-04-07', 'date_of_death': None, 'nationality': 'British', 'bio': \"Major Timothy Nigel Peake CMG is a British Army Air Corps officer, former European Space Agency astronaut and International Space Station (ISS) crew member.  He is the first British ESA astronaut, the second astronaut to bear a flag of the United Kingdom patch, the sixth person born in the United Kingdom to go on board the International Space Station and the seventh UK-born person in space. He began the ESA's intensive astronaut basic training course in September 2009 and graduated on 22 November 2010\", 'twitter': 'https://twitter.com/astro_timpeake', 'instagram': 'https://www.instagram.com/astro_timpeake/', 'wiki': 'https://en.wikipedia.org/wiki/Tim_Peake', 'agency': {'id': 27, 'url': 'https://ll.thespacedevs.com/2.2.0/agencies/27/', 'name': 'European Space Agency', 'featured': False, 'type': 'Multinational', 'country_code': 'FRA,ITA,DEU,ESP,CHE,GBR,AUT,SWE,PRT,NLD,HUN,POL,DNK,CZE,ROU,NOR,FIN,GRC,EST,IRL,LUX,BEL,SVN', 'abbrev': 'ESA', 'description': \"The European Space Agency is an intergovernmental organisation of 22 member states. Established in 1975 and headquartered in Paris, France, ESA has a worldwide staff of about 2,000 employees.\\r\\n\\r\\nESA's space flight programme includes human spaceflight (mainly through participation in the International Space Station program); the launch and operation of unmanned exploration missions to other planets and the Moon; Earth observation, science and telecommunication; designing launch vehicles; and maintaining a major spaceport, the Guiana Space Centre at Kourou, French Guiana.\", 'administrator': 'Director General: Josef Aschbacher', 'founding_year': '1975', 'launchers': 'Ariane | Vega', 'spacecraft': 'Space Rider', 'parent': None, 'image_url': 'https://thespacedevs-prod.nyc3.digitaloceanspaces.com/media/images/esa_patch_float_image_20250211192109.png', 'logo_url': 'https://thespacedevs-prod.nyc3.digitaloceanspaces.com/media/images/european2520space2520agency_logo_20221130101442.png'}, 'profile_image': 'https://thespacedevs-prod.nyc3.digitaloceanspaces.com/media/images/tim_peake_image_20230120154350.jpg', 'profile_image_thumbnail': 'https://thespacedevs-prod.nyc3.digitaloceanspaces.com/media/images/255bauto255d__image_thumbnail_20240305185843.jpeg', 'flights_count': 1, 'landings_count': 1, 'spacewalks_count': 1, 'last_flight': '2015-12-15T11:03:09Z', 'first_flight': '2015-12-15T11:03:09Z'}\n",
      "{'id': 4, 'url': 'https://ll.thespacedevs.com/2.2.0/astronaut/4/', 'name': 'Buzz Aldrin', 'status': {'id': 2, 'name': 'Retired'}, 'type': {'id': 2, 'name': 'Government'}, 'in_space': False, 'time_in_space': 'P9DT8H43M58S', 'eva_time': 'PT8H1M40S', 'age': 95, 'date_of_birth': '1930-01-20', 'date_of_death': None, 'nationality': 'American', 'bio': 'Buzz Aldrin; born Edwin Eugene Aldrin Jr.; is an American engineer, former astronaut, and fighter pilot.\\r\\nAs Lunar Module Pilot on the Apollo 11 mission, he and mission commander Neil Armstrong were the first two humans to land on the Moon.', 'twitter': 'https://twitter.com/TheRealBuzz', 'instagram': 'https://www.instagram.com/drbuzzaldrin/', 'wiki': 'https://en.wikipedia.org/wiki/Buzz_Aldrin', 'agency': {'id': 44, 'url': 'https://ll.thespacedevs.com/2.2.0/agencies/44/', 'name': 'National Aeronautics and Space Administration', 'featured': True, 'type': 'Government', 'country_code': 'USA', 'abbrev': 'NASA', 'description': 'The National Aeronautics and Space Administration is an independent agency of the executive branch of the United States federal government responsible for the civilian space program, as well as aeronautics and aerospace research. NASA have many launch facilities but most are inactive. The most commonly used pad will be LC-39B at Kennedy Space Center in Florida.', 'administrator': 'Acting Administrator:  James Free', 'founding_year': '1958', 'launchers': 'Space Shuttle | SLS', 'spacecraft': 'Orion', 'parent': None, 'image_url': 'https://thespacedevs-prod.nyc3.digitaloceanspaces.com/media/images/national2520aeronautics2520and2520space2520administration_image_20190207032448.jpeg', 'logo_url': 'https://thespacedevs-prod.nyc3.digitaloceanspaces.com/media/images/national2520aeronautics2520and2520space2520administration_logo_20190207032448.png'}, 'profile_image': 'https://thespacedevs-prod.nyc3.digitaloceanspaces.com/media/images/buzz_aldrin_image_20220911034547.jpeg', 'profile_image_thumbnail': 'https://thespacedevs-prod.nyc3.digitaloceanspaces.com/media/images/255bauto255d__image_thumbnail_20240305185225.jpeg', 'flights_count': 2, 'landings_count': 2, 'spacewalks_count': 4, 'last_flight': '1969-07-21T17:54:00Z', 'first_flight': '1966-11-11T20:46:33Z'}\n",
      "{'id': 5, 'url': 'https://ll.thespacedevs.com/2.2.0/astronaut/5/', 'name': 'Chris Hadfield', 'status': {'id': 2, 'name': 'Retired'}, 'type': {'id': 2, 'name': 'Government'}, 'in_space': False, 'time_in_space': 'P165DT16H19M', 'eva_time': 'PT14H50M', 'age': 65, 'date_of_birth': '1959-08-29', 'date_of_death': None, 'nationality': 'Canadian', 'bio': 'Chris Austin Hadfield is a Canadian retired astronaut, engineer, and former Royal Canadian Air Force fighter pilot.\\r\\nThe first Canadian to walk in space, Hadfield has flown two space shuttle missions and served as commander of the International Space Station.', 'twitter': 'https://twitter.com/Cmdr_Hadfield', 'instagram': 'https://www.instagram.com/colchrishadfield/', 'wiki': 'https://en.wikipedia.org/wiki/Chris_Hadfield', 'agency': {'id': 16, 'url': 'https://ll.thespacedevs.com/2.2.0/agencies/16/', 'name': 'Canadian Space Agency', 'featured': False, 'type': 'Government', 'country_code': 'CAN', 'abbrev': 'CSA', 'description': 'The Canadian Space Agency was established by the Canadian Space Agency Act which received Royal Assent on May 10, 1990. \\r\\n\\r\\nThe Canadian space program is administered by the Canadian Space Agency. Canada has contributed technology, expertise and personnel to the world space effort, especially in collaboration with ESA and NASA. In addition to its astronauts and satellites, some of the most notable Canadian technological contributions to space exploration include the Canadarm on the Space Shuttle and Canadarm2 on the International Space Station.', 'administrator': 'President: Lisa Campbell', 'founding_year': '1990', 'launchers': '', 'spacecraft': '', 'parent': None, 'image_url': None, 'logo_url': 'https://thespacedevs-prod.nyc3.digitaloceanspaces.com/media/images/canadian2520space2520agency_logo_20231122160211.png'}, 'profile_image': 'https://thespacedevs-prod.nyc3.digitaloceanspaces.com/media/images/chris_hadfield_image_20220911034200.jpeg', 'profile_image_thumbnail': 'https://thespacedevs-prod.nyc3.digitaloceanspaces.com/media/images/255bauto255d__image_thumbnail_20240305190208.jpeg', 'flights_count': 3, 'landings_count': 3, 'spacewalks_count': 2, 'last_flight': '2012-12-19T12:12:35Z', 'first_flight': '1995-11-12T12:30:43Z'}\n",
      "{'id': 6, 'url': 'https://ll.thespacedevs.com/2.2.0/astronaut/6/', 'name': 'David Saint-Jacques', 'status': {'id': 1, 'name': 'Active'}, 'type': {'id': 2, 'name': 'Government'}, 'in_space': False, 'time_in_space': 'P203DT12H28M8S', 'eva_time': 'PT6H29M', 'age': 55, 'date_of_birth': '1970-01-06', 'date_of_death': None, 'nationality': 'Canadian', 'bio': 'David Saint-Jacques is a Canadian astronaut with the Canadian Space Agency (CSA).\\r\\nHe was also an engineer, an astrophysicist, and a physician prior to joining the CSA.\\r\\nHe was selected to join the CSA in the 2009 CSA selection along with Jeremy Hansen.', 'twitter': 'https://twitter.com/Astro_DavidS', 'instagram': 'https://www.instagram.com/astrodavids/', 'wiki': 'https://en.wikipedia.org/wiki/David_Saint-Jacques', 'agency': {'id': 16, 'url': 'https://ll.thespacedevs.com/2.2.0/agencies/16/', 'name': 'Canadian Space Agency', 'featured': False, 'type': 'Government', 'country_code': 'CAN', 'abbrev': 'CSA', 'description': 'The Canadian Space Agency was established by the Canadian Space Agency Act which received Royal Assent on May 10, 1990. \\r\\n\\r\\nThe Canadian space program is administered by the Canadian Space Agency. Canada has contributed technology, expertise and personnel to the world space effort, especially in collaboration with ESA and NASA. In addition to its astronauts and satellites, some of the most notable Canadian technological contributions to space exploration include the Canadarm on the Space Shuttle and Canadarm2 on the International Space Station.', 'administrator': 'President: Lisa Campbell', 'founding_year': '1990', 'launchers': '', 'spacecraft': '', 'parent': None, 'image_url': None, 'logo_url': 'https://thespacedevs-prod.nyc3.digitaloceanspaces.com/media/images/canadian2520space2520agency_logo_20231122160211.png'}, 'profile_image': 'https://thespacedevs-prod.nyc3.digitaloceanspaces.com/media/images/david_saint-jac_image_20220911034207.jpeg', 'profile_image_thumbnail': 'https://thespacedevs-prod.nyc3.digitaloceanspaces.com/media/images/255bauto255d__image_thumbnail_20240305191004.jpeg', 'flights_count': 1, 'landings_count': 1, 'spacewalks_count': 1, 'last_flight': '2018-12-03T11:31:52Z', 'first_flight': '2018-12-03T11:31:52Z'}\n",
      "{'id': 7, 'url': 'https://ll.thespacedevs.com/2.2.0/astronaut/7/', 'name': 'Anne McClain', 'status': {'id': 1, 'name': 'Active'}, 'type': {'id': 2, 'name': 'Government'}, 'in_space': True, 'time_in_space': 'P215DT15H48M10S', 'eva_time': 'PT13H8M', 'age': 45, 'date_of_birth': '1979-06-07', 'date_of_death': None, 'nationality': 'American', 'bio': 'Anne Charlotte McClain is a lieutenant colonel in the U.S. Army currently assigned to NASA Astronaut Group 21.', 'twitter': 'https://twitter.com/AstroAnnimal', 'instagram': None, 'wiki': 'https://en.wikipedia.org/wiki/Anne_McClain', 'agency': {'id': 44, 'url': 'https://ll.thespacedevs.com/2.2.0/agencies/44/', 'name': 'National Aeronautics and Space Administration', 'featured': True, 'type': 'Government', 'country_code': 'USA', 'abbrev': 'NASA', 'description': 'The National Aeronautics and Space Administration is an independent agency of the executive branch of the United States federal government responsible for the civilian space program, as well as aeronautics and aerospace research. NASA have many launch facilities but most are inactive. The most commonly used pad will be LC-39B at Kennedy Space Center in Florida.', 'administrator': 'Acting Administrator:  James Free', 'founding_year': '1958', 'launchers': 'Space Shuttle | SLS', 'spacecraft': 'Orion', 'parent': None, 'image_url': 'https://thespacedevs-prod.nyc3.digitaloceanspaces.com/media/images/national2520aeronautics2520and2520space2520administration_image_20190207032448.jpeg', 'logo_url': 'https://thespacedevs-prod.nyc3.digitaloceanspaces.com/media/images/national2520aeronautics2520and2520space2520administration_logo_20190207032448.png'}, 'profile_image': 'https://thespacedevs-prod.nyc3.digitaloceanspaces.com/media/images/anne2520mcclain_image_20181127210625.jpg', 'profile_image_thumbnail': 'https://thespacedevs-prod.nyc3.digitaloceanspaces.com/media/images/255bauto255d__image_thumbnail_20240305185442.jpeg', 'flights_count': 2, 'landings_count': 1, 'spacewalks_count': 2, 'last_flight': '2025-03-14T23:03:48Z', 'first_flight': '2018-12-03T11:31:52Z'}\n",
      "{'id': 8, 'url': 'https://ll.thespacedevs.com/2.2.0/astronaut/8/', 'name': 'Andrew R. Morgan', 'status': {'id': 1, 'name': 'Active'}, 'type': {'id': 2, 'name': 'Government'}, 'in_space': False, 'time_in_space': 'P271DT12H48M22S', 'eva_time': 'P1DT21H48M', 'age': 49, 'date_of_birth': '1976-02-05', 'date_of_death': None, 'nationality': 'American', 'bio': 'Andrew Richard \"Drew\" Morgan is a NASA astronaut from the class of 2013.', 'twitter': 'https://twitter.com/AstroDrewMorgan', 'instagram': 'https://www.instagram.com/astrodrewmorgan/', 'wiki': 'https://en.wikipedia.org/wiki/Andrew_R._Morgan', 'agency': {'id': 44, 'url': 'https://ll.thespacedevs.com/2.2.0/agencies/44/', 'name': 'National Aeronautics and Space Administration', 'featured': True, 'type': 'Government', 'country_code': 'USA', 'abbrev': 'NASA', 'description': 'The National Aeronautics and Space Administration is an independent agency of the executive branch of the United States federal government responsible for the civilian space program, as well as aeronautics and aerospace research. NASA have many launch facilities but most are inactive. The most commonly used pad will be LC-39B at Kennedy Space Center in Florida.', 'administrator': 'Acting Administrator:  James Free', 'founding_year': '1958', 'launchers': 'Space Shuttle | SLS', 'spacecraft': 'Orion', 'parent': None, 'image_url': 'https://thespacedevs-prod.nyc3.digitaloceanspaces.com/media/images/national2520aeronautics2520and2520space2520administration_image_20190207032448.jpeg', 'logo_url': 'https://thespacedevs-prod.nyc3.digitaloceanspaces.com/media/images/national2520aeronautics2520and2520space2520administration_logo_20190207032448.png'}, 'profile_image': 'https://thespacedevs-prod.nyc3.digitaloceanspaces.com/media/images/andrew_r._morga_image_20220911034204.jpeg', 'profile_image_thumbnail': 'https://thespacedevs-prod.nyc3.digitaloceanspaces.com/media/images/255bauto255d__image_thumbnail_20240305185549.jpeg', 'flights_count': 1, 'landings_count': 1, 'spacewalks_count': 7, 'last_flight': '2019-07-20T16:28:21Z', 'first_flight': '2019-07-20T16:28:21Z'}\n",
      "{'id': 9, 'url': 'https://ll.thespacedevs.com/2.2.0/astronaut/9/', 'name': 'Nick Hague', 'status': {'id': 1, 'name': 'Active'}, 'type': {'id': 2, 'name': 'Government'}, 'in_space': False, 'time_in_space': 'P373DT20H43M16S', 'eva_time': 'P1DT1H56M', 'age': 49, 'date_of_birth': '1975-09-24', 'date_of_death': None, 'nationality': 'American', 'bio': 'Tyler Nicklaus Hague is an American Flight Test Engineer and a NASA astronaut of the class of 2013.\\r\\nSelected to be a flight engineer of Expedition 57 / 58 to the International Space Station, he launched on board Soyuz MS-10, which aborted shortly after launch on October 11, 2018.', 'twitter': 'https://twitter.com/AstroHague', 'instagram': 'https://www.instagram.com/astrohague/', 'wiki': 'https://en.wikipedia.org/wiki/Nick_Hague', 'agency': {'id': 44, 'url': 'https://ll.thespacedevs.com/2.2.0/agencies/44/', 'name': 'National Aeronautics and Space Administration', 'featured': True, 'type': 'Government', 'country_code': 'USA', 'abbrev': 'NASA', 'description': 'The National Aeronautics and Space Administration is an independent agency of the executive branch of the United States federal government responsible for the civilian space program, as well as aeronautics and aerospace research. NASA have many launch facilities but most are inactive. The most commonly used pad will be LC-39B at Kennedy Space Center in Florida.', 'administrator': 'Acting Administrator:  James Free', 'founding_year': '1958', 'launchers': 'Space Shuttle | SLS', 'spacecraft': 'Orion', 'parent': None, 'image_url': 'https://thespacedevs-prod.nyc3.digitaloceanspaces.com/media/images/national2520aeronautics2520and2520space2520administration_image_20190207032448.jpeg', 'logo_url': 'https://thespacedevs-prod.nyc3.digitaloceanspaces.com/media/images/national2520aeronautics2520and2520space2520administration_logo_20190207032448.png'}, 'profile_image': 'https://thespacedevs-prod.nyc3.digitaloceanspaces.com/media/images/nick_hague_image_20220911034312.jpeg', 'profile_image_thumbnail': 'https://thespacedevs-prod.nyc3.digitaloceanspaces.com/media/images/255bauto255d__image_thumbnail_20240305190648.jpeg', 'flights_count': 3, 'landings_count': 3, 'spacewalks_count': 4, 'last_flight': '2024-09-28T17:17:21Z', 'first_flight': '2018-10-11T08:40:15Z'}\n",
      "{'id': 10, 'url': 'https://ll.thespacedevs.com/2.2.0/astronaut/10/', 'name': 'Terry W. Virts', 'status': {'id': 2, 'name': 'Retired'}, 'type': {'id': 2, 'name': 'Government'}, 'in_space': False, 'time_in_space': 'P213DT10H50M38S', 'eva_time': 'PT19H2M', 'age': 57, 'date_of_birth': '1967-12-01', 'date_of_death': None, 'nationality': 'American', 'bio': 'Terry W. Virts Jr. is a former NASA astronaut, and Colonel in the United States Air Force.', 'twitter': 'https://twitter.com/AstroTerry', 'instagram': 'https://www.instagram.com/astro_terry/', 'wiki': 'https://en.wikipedia.org/wiki/Terry_W._Virts', 'agency': {'id': 44, 'url': 'https://ll.thespacedevs.com/2.2.0/agencies/44/', 'name': 'National Aeronautics and Space Administration', 'featured': True, 'type': 'Government', 'country_code': 'USA', 'abbrev': 'NASA', 'description': 'The National Aeronautics and Space Administration is an independent agency of the executive branch of the United States federal government responsible for the civilian space program, as well as aeronautics and aerospace research. NASA have many launch facilities but most are inactive. The most commonly used pad will be LC-39B at Kennedy Space Center in Florida.', 'administrator': 'Acting Administrator:  James Free', 'founding_year': '1958', 'launchers': 'Space Shuttle | SLS', 'spacecraft': 'Orion', 'parent': None, 'image_url': 'https://thespacedevs-prod.nyc3.digitaloceanspaces.com/media/images/national2520aeronautics2520and2520space2520administration_image_20190207032448.jpeg', 'logo_url': 'https://thespacedevs-prod.nyc3.digitaloceanspaces.com/media/images/national2520aeronautics2520and2520space2520administration_logo_20190207032448.png'}, 'profile_image': 'https://thespacedevs-prod.nyc3.digitaloceanspaces.com/media/images/terry_w._virts_image_20220911033815.jpeg', 'profile_image_thumbnail': 'https://thespacedevs-prod.nyc3.digitaloceanspaces.com/media/images/255bauto255d__image_thumbnail_20240305190900.jpeg', 'flights_count': 2, 'landings_count': 2, 'spacewalks_count': 3, 'last_flight': '2014-11-23T21:01:14Z', 'first_flight': '2010-02-08T09:14:08Z'}\n"
     ]
    }
   ],
   "source": [
    "for astronauta in astronautas[\"results\"]:\n",
    "    print(astronauta)"
   ]
  },
  {
   "cell_type": "code",
   "execution_count": null,
   "metadata": {},
   "outputs": [
    {
     "data": {
      "text/plain": [
       "{'name': ['Thomas Pesquet',\n",
       "  'Claude Nicollier',\n",
       "  'Tim Peake',\n",
       "  'Buzz Aldrin',\n",
       "  'Chris Hadfield',\n",
       "  'David Saint-Jacques',\n",
       "  'Anne McClain',\n",
       "  'Andrew R. Morgan',\n",
       "  'Nick Hague',\n",
       "  'Terry W. Virts'],\n",
       " 'status': ['Active',\n",
       "  'Retired',\n",
       "  'Retired',\n",
       "  'Retired',\n",
       "  'Retired',\n",
       "  'Active',\n",
       "  'Active',\n",
       "  'Active',\n",
       "  'Active',\n",
       "  'Retired'],\n",
       " 'type': ['Multinational',\n",
       "  'Multinational',\n",
       "  'Multinational',\n",
       "  'Government',\n",
       "  'Government',\n",
       "  'Government',\n",
       "  'Government',\n",
       "  'Government',\n",
       "  'Government',\n",
       "  'Government']}"
      ]
     },
     "execution_count": 43,
     "metadata": {},
     "output_type": "execute_result"
    }
   ],
   "source": [
    "\n",
    "astro_dict = {\n",
    "    \"name\":[],\n",
    "    \"status\":[],\n",
    "    \"type\":[]\n",
    "}\n",
    "\n",
    "for astronauta in astronautas[\"results\"]:\n",
    "    #print(astronauta[\"name\"])\n",
    "    #print(astronauta[\"status\"][\"name\"])\n",
    "    #print(astronauta[\"agency\"][\"type\"])\n",
    "    #print()\n",
    "    astro_dict[\"name\"].append(astronauta[\"name\"])\n",
    "    astro_dict[\"status\"].append(astronauta[\"status\"][\"name\"])\n",
    "    astro_dict[\"type\"].append(astronauta[\"agency\"][\"type\"])\n",
    "    \n",
    "astro_dict\n",
    "  "
   ]
  },
  {
   "cell_type": "code",
   "execution_count": null,
   "metadata": {},
   "outputs": [
    {
     "data": {
      "application/vnd.microsoft.datawrangler.viewer.v0+json": {
       "columns": [
        {
         "name": "index",
         "rawType": "int64",
         "type": "integer"
        },
        {
         "name": "name",
         "rawType": "object",
         "type": "string"
        },
        {
         "name": "status",
         "rawType": "object",
         "type": "string"
        },
        {
         "name": "type",
         "rawType": "object",
         "type": "string"
        }
       ],
       "conversionMethod": "pd.DataFrame",
       "ref": "f86c4934-a77d-46be-aea6-15969ca091b8",
       "rows": [
        [
         "0",
         "Thomas Pesquet",
         "Active",
         "Multinational"
        ],
        [
         "1",
         "Claude Nicollier",
         "Retired",
         "Multinational"
        ],
        [
         "2",
         "Tim Peake",
         "Retired",
         "Multinational"
        ],
        [
         "3",
         "Buzz Aldrin",
         "Retired",
         "Government"
        ],
        [
         "4",
         "Chris Hadfield",
         "Retired",
         "Government"
        ],
        [
         "5",
         "David Saint-Jacques",
         "Active",
         "Government"
        ],
        [
         "6",
         "Anne McClain",
         "Active",
         "Government"
        ],
        [
         "7",
         "Andrew R. Morgan",
         "Active",
         "Government"
        ],
        [
         "8",
         "Nick Hague",
         "Active",
         "Government"
        ],
        [
         "9",
         "Terry W. Virts",
         "Retired",
         "Government"
        ]
       ],
       "shape": {
        "columns": 3,
        "rows": 10
       }
      },
      "text/html": [
       "<div>\n",
       "<style scoped>\n",
       "    .dataframe tbody tr th:only-of-type {\n",
       "        vertical-align: middle;\n",
       "    }\n",
       "\n",
       "    .dataframe tbody tr th {\n",
       "        vertical-align: top;\n",
       "    }\n",
       "\n",
       "    .dataframe thead th {\n",
       "        text-align: right;\n",
       "    }\n",
       "</style>\n",
       "<table border=\"1\" class=\"dataframe\">\n",
       "  <thead>\n",
       "    <tr style=\"text-align: right;\">\n",
       "      <th></th>\n",
       "      <th>name</th>\n",
       "      <th>status</th>\n",
       "      <th>type</th>\n",
       "    </tr>\n",
       "  </thead>\n",
       "  <tbody>\n",
       "    <tr>\n",
       "      <th>0</th>\n",
       "      <td>Thomas Pesquet</td>\n",
       "      <td>Active</td>\n",
       "      <td>Multinational</td>\n",
       "    </tr>\n",
       "    <tr>\n",
       "      <th>1</th>\n",
       "      <td>Claude Nicollier</td>\n",
       "      <td>Retired</td>\n",
       "      <td>Multinational</td>\n",
       "    </tr>\n",
       "    <tr>\n",
       "      <th>2</th>\n",
       "      <td>Tim Peake</td>\n",
       "      <td>Retired</td>\n",
       "      <td>Multinational</td>\n",
       "    </tr>\n",
       "    <tr>\n",
       "      <th>3</th>\n",
       "      <td>Buzz Aldrin</td>\n",
       "      <td>Retired</td>\n",
       "      <td>Government</td>\n",
       "    </tr>\n",
       "    <tr>\n",
       "      <th>4</th>\n",
       "      <td>Chris Hadfield</td>\n",
       "      <td>Retired</td>\n",
       "      <td>Government</td>\n",
       "    </tr>\n",
       "    <tr>\n",
       "      <th>5</th>\n",
       "      <td>David Saint-Jacques</td>\n",
       "      <td>Active</td>\n",
       "      <td>Government</td>\n",
       "    </tr>\n",
       "    <tr>\n",
       "      <th>6</th>\n",
       "      <td>Anne McClain</td>\n",
       "      <td>Active</td>\n",
       "      <td>Government</td>\n",
       "    </tr>\n",
       "    <tr>\n",
       "      <th>7</th>\n",
       "      <td>Andrew R. Morgan</td>\n",
       "      <td>Active</td>\n",
       "      <td>Government</td>\n",
       "    </tr>\n",
       "    <tr>\n",
       "      <th>8</th>\n",
       "      <td>Nick Hague</td>\n",
       "      <td>Active</td>\n",
       "      <td>Government</td>\n",
       "    </tr>\n",
       "    <tr>\n",
       "      <th>9</th>\n",
       "      <td>Terry W. Virts</td>\n",
       "      <td>Retired</td>\n",
       "      <td>Government</td>\n",
       "    </tr>\n",
       "  </tbody>\n",
       "</table>\n",
       "</div>"
      ],
      "text/plain": [
       "                  name   status           type\n",
       "0       Thomas Pesquet   Active  Multinational\n",
       "1     Claude Nicollier  Retired  Multinational\n",
       "2            Tim Peake  Retired  Multinational\n",
       "3          Buzz Aldrin  Retired     Government\n",
       "4       Chris Hadfield  Retired     Government\n",
       "5  David Saint-Jacques   Active     Government\n",
       "6         Anne McClain   Active     Government\n",
       "7     Andrew R. Morgan   Active     Government\n",
       "8           Nick Hague   Active     Government\n",
       "9       Terry W. Virts  Retired     Government"
      ]
     },
     "execution_count": 45,
     "metadata": {},
     "output_type": "execute_result"
    }
   ],
   "source": [
    "astrodf = pd.DataFrame(astro_dict)\n",
    "astrodf"
   ]
  },
  {
   "cell_type": "code",
   "execution_count": null,
   "metadata": {},
   "outputs": [],
   "source": [
    "url_total"
   ]
  },
  {
   "cell_type": "code",
   "execution_count": null,
   "metadata": {},
   "outputs": [],
   "source": [
    "url_total = space_url + path + \"/?age=45\"\n",
    "\n",
    "response_sp = requests.get(url_total)"
   ]
  },
  {
   "cell_type": "code",
   "execution_count": null,
   "metadata": {},
   "outputs": [
    {
     "data": {
      "text/plain": [
       "<Response [429]>"
      ]
     },
     "execution_count": 72,
     "metadata": {},
     "output_type": "execute_result"
    }
   ],
   "source": [
    "response_sp"
   ]
  },
  {
   "cell_type": "code",
   "execution_count": null,
   "metadata": {},
   "outputs": [
    {
     "data": {
      "text/plain": [
       "'http://ll.thespacedevs.com/2.2.0/astronaut/?age=45'"
      ]
     },
     "execution_count": 73,
     "metadata": {},
     "output_type": "execute_result"
    }
   ],
   "source": [
    "url_total"
   ]
  },
  {
   "cell_type": "code",
   "execution_count": null,
   "metadata": {
    "tags": []
   },
   "outputs": [
    {
     "data": {
      "text/plain": [
       "{'detail': 'Request was throttled. Expected available in 163 seconds.'}"
      ]
     },
     "execution_count": 74,
     "metadata": {},
     "output_type": "execute_result"
    }
   ],
   "source": [
    "response_sp.json()"
   ]
  },
  {
   "cell_type": "code",
   "execution_count": null,
   "metadata": {},
   "outputs": [],
   "source": [
    "response_sp.json()['results']"
   ]
  },
  {
   "cell_type": "code",
   "execution_count": null,
   "metadata": {},
   "outputs": [],
   "source": [
    "results = response_sp.json()['results']\n",
    "len(results)"
   ]
  },
  {
   "cell_type": "code",
   "execution_count": null,
   "metadata": {},
   "outputs": [],
   "source": [
    "type(results)"
   ]
  },
  {
   "cell_type": "code",
   "execution_count": null,
   "metadata": {},
   "outputs": [],
   "source": [
    "results[0]"
   ]
  },
  {
   "cell_type": "code",
   "execution_count": null,
   "metadata": {},
   "outputs": [],
   "source": [
    "pd.DataFrame(response_sp.json()['results'])"
   ]
  },
  {
   "cell_type": "code",
   "execution_count": null,
   "metadata": {},
   "outputs": [],
   "source": [
    "response_sp.json()"
   ]
  },
  {
   "cell_type": "code",
   "execution_count": null,
   "metadata": {},
   "outputs": [],
   "source": [
    "response_sp.json()['results']"
   ]
  },
  {
   "cell_type": "code",
   "execution_count": null,
   "metadata": {},
   "outputs": [],
   "source": [
    "pd.DataFrame(response_sp.json()['results'])"
   ]
  },
  {
   "cell_type": "markdown",
   "metadata": {},
   "source": [
    "## JSON to DataFrame\n",
    "\n",
    "Recuerda que para crear un DataFrame a partir de un diccionario este diccionario tiene que tener para cada clave una lista. Las claves serán las columnas y los items de las listas los valores de las celdas.\n",
    "\n",
    "O si prefieres crear el DataFrame a partir de una lista de diccionarios entonces todos los diccionarios tienen que tener las mismas claves y el DataFrame resultante tendrá como columnas los nombres de las claves de cualquier diccionario (todos tienen las mismas claves) y habrá una fila con con los valores del diccionario para cada diccionario de la lista. \n",
    "\n",
    "La conversión de JSON no es necesariamente satisfactoria a un DataFrame de forma general. Tendrás que obtener un diccionario de listas o una lista de diccionarios del objeto JSON navegando a través de las etiquetas para obtener el DataFrame que te interesa.  "
   ]
  },
  {
   "cell_type": "code",
   "execution_count": null,
   "metadata": {},
   "outputs": [
    {
     "ename": "KeyError",
     "evalue": "'results'",
     "output_type": "error",
     "traceback": [
      "\u001b[1;31m---------------------------------------------------------------------------\u001b[0m",
      "\u001b[1;31mKeyError\u001b[0m                                  Traceback (most recent call last)",
      "Cell \u001b[1;32mIn[75], line 1\u001b[0m\n\u001b[1;32m----> 1\u001b[0m \u001b[43mresponse_sp\u001b[49m\u001b[38;5;241;43m.\u001b[39;49m\u001b[43mjson\u001b[49m\u001b[43m(\u001b[49m\u001b[43m)\u001b[49m\u001b[43m[\u001b[49m\u001b[38;5;124;43m'\u001b[39;49m\u001b[38;5;124;43mresults\u001b[39;49m\u001b[38;5;124;43m'\u001b[39;49m\u001b[43m]\u001b[49m[\u001b[38;5;241m0\u001b[39m]\n",
      "\u001b[1;31mKeyError\u001b[0m: 'results'"
     ]
    }
   ],
   "source": [
    "response_sp.json()['results'][0]"
   ]
  },
  {
   "cell_type": "code",
   "execution_count": null,
   "metadata": {},
   "outputs": [],
   "source": [
    "response_sp.json()['results'][0]['status']"
   ]
  },
  {
   "cell_type": "code",
   "execution_count": null,
   "metadata": {},
   "outputs": [],
   "source": [
    "response_sp.json()['results'][0]['status']['name']"
   ]
  },
  {
   "cell_type": "code",
   "execution_count": null,
   "metadata": {},
   "outputs": [],
   "source": [
    "import pprint\n",
    "for astronaut in response_sp.json()['results']:\n",
    "    pprint.pprint(astronaut)"
   ]
  },
  {
   "cell_type": "code",
   "execution_count": null,
   "metadata": {},
   "outputs": [],
   "source": [
    "dict = {'name':[],\n",
    "        'age':[],\n",
    "        'date of birth':[],\n",
    "        'space walks':[],\n",
    "        'active':[]}\n",
    "\n",
    "for astronaut in response_sp.json()['results']:\n",
    "    dict['name'].append(astronaut['name'])\n",
    "    dict['age'].append(astronaut['age'])\n",
    "    dict['date of birth'].append(astronaut['date_of_birth'])\n",
    "    dict['space walks'].append(astronaut['spacewalks_count'])\n",
    "    dict['active'].append(astronaut['status']['name'])\n",
    "\n",
    "    \n",
    "dict\n",
    "\n"
   ]
  },
  {
   "cell_type": "code",
   "execution_count": null,
   "metadata": {},
   "outputs": [],
   "source": [
    "pd.DataFrame(dict)"
   ]
  }
 ],
 "metadata": {
  "colab": {
   "name": "1-DataAccess.ipynb",
   "provenance": []
  },
  "kernelspec": {
   "display_name": "Python 3",
   "language": "python",
   "name": "python3"
  },
  "language_info": {
   "codemirror_mode": {
    "name": "ipython",
    "version": 3
   },
   "file_extension": ".py",
   "mimetype": "text/x-python",
   "name": "python",
   "nbconvert_exporter": "python",
   "pygments_lexer": "ipython3",
   "version": "3.11.9"
  }
 },
 "nbformat": 4,
 "nbformat_minor": 4
}
