{
 "cells": [
  {
   "attachments": {},
   "cell_type": "markdown",
   "metadata": {},
   "source": [
    "## Ejercicio descargas"
   ]
  },
  {
   "attachments": {},
   "cell_type": "markdown",
   "metadata": {},
   "source": [
    "Python es un lenguaje de propósito general, por lo que podemos desarrollar otros programas,\n",
    "aparte de ciencia de datos, que nos permitan montar dashboards, crear APIs o automatizar\n",
    "procesos. En este caso vas a automatizar un proceso, en el que tendrás que desarrollar un\n",
    "script que ordene todos los archivos de una carpeta, dependiendo de la extensión de los\n",
    "mismos.\n",
    "\n",
    "\n",
    "El objetivo es ordenar la típica carpeta de cajón desastre donde se nos acumulan archivos de\n",
    "todos los formatos como: imágenes, words, presentaciones, excels, ejecutables, zips, etc... Y\n",
    "que no vamos a ir viendo archivo a archivo, ordenándolos.... La solución suele ser eliminarlo\n",
    "todo. Vamos a intentar no tener que llegar a eso, ordenando los ficheros automáticamente en\n",
    "carpetas y revisar las que nos interesen. La típica carpeta donde aplicaríamos este programa es\n",
    "la de “Descargas”, donde se suelen acumular muchos archivos temporales.\n",
    "\n",
    "\n",
    "Por tanto, **el programa tiene que guardar los archivos de la carpeta “Descargas” (o cualquier\n",
    "otra donde acumules mucho archivo temporal) en los siguientes directorios dentro de la\n",
    "propia carpeta “Descargas”**:\n",
    "- Imagenes\n",
    "- Documentos\n",
    "- Software\n",
    "- Otros\n",
    "\n",
    "Cada vez que ejecutes el script, automáticamente se ordenarán todos los archivos en sus\n",
    "correspondientes carpetas.\n"
   ]
  },
  {
   "cell_type": "code",
   "execution_count": 83,
   "metadata": {},
   "outputs": [],
   "source": [
    "doc_types = ('.doc', '.docx', '.txt', '.pdf', '.xls', '.ppt', '.xlsx', '.pptx')\n",
    "img_types = ('.jpg', '.jpeg', '.png', '.svg', '.gif')\n",
    "software_types = ('.exe', '.py','.ipynb')"
   ]
  },
  {
   "attachments": {},
   "cell_type": "markdown",
   "metadata": {},
   "source": [
    "### 1. Crea un un programa con el flujo principal y encapsúlalo en funciones."
   ]
  },
  {
   "cell_type": "code",
   "execution_count": 84,
   "metadata": {},
   "outputs": [],
   "source": [
    "import os\n",
    "import shutil\n",
    "import pandas as pd\n",
    "import numpy as np"
   ]
  },
  {
   "cell_type": "code",
   "execution_count": 85,
   "metadata": {},
   "outputs": [
    {
     "data": {
      "text/plain": [
       "'c:\\\\Users\\\\Aggelos\\\\Downloads'"
      ]
     },
     "execution_count": 85,
     "metadata": {},
     "output_type": "execute_result"
    }
   ],
   "source": [
    "os.getcwd()"
   ]
  },
  {
   "cell_type": "code",
   "execution_count": 90,
   "metadata": {},
   "outputs": [
    {
     "data": {
      "text/plain": [
       "'c:\\\\Users\\\\Aggelos\\\\Documents\\\\Download_Copia'"
      ]
     },
     "execution_count": 90,
     "metadata": {},
     "output_type": "execute_result"
    }
   ],
   "source": [
    "ruta = os.path.join(os.getcwd(),'c:\\\\Users\\\\Aggelos\\\\Documents\\\\Download_Copia')\n",
    "ruta"
   ]
  },
  {
   "cell_type": "code",
   "execution_count": 93,
   "metadata": {},
   "outputs": [
    {
     "data": {
      "text/plain": [
       "'c:\\\\Users\\\\Aggelos\\\\Downloads\\\\ordenar_archivos'"
      ]
     },
     "execution_count": 93,
     "metadata": {},
     "output_type": "execute_result"
    }
   ],
   "source": [
    "os.getcwd()"
   ]
  },
  {
   "cell_type": "code",
   "execution_count": 94,
   "metadata": {},
   "outputs": [],
   "source": [
    "os.chdir(ruta)\n",
    "os.mkdir(\"Imagenes\")\n",
    "os.mkdir(\"Documentos\")\n",
    "os.mkdir(\"Software\")\n",
    "os.mkdir(\"Otros\")\n"
   ]
  },
  {
   "cell_type": "code",
   "execution_count": null,
   "metadata": {},
   "outputs": [],
   "source": []
  },
  {
   "cell_type": "code",
   "execution_count": 95,
   "metadata": {},
   "outputs": [
    {
     "data": {
      "text/plain": [
       "['0901a0fe8b9646bd1721032896648_121_207.pdf',\n",
       " '0901a0fe8c0b0f1f1723882794208_141_45040.pdf',\n",
       " '135768yojuroIB13.jpg',\n",
       " '14fcb6548eb372433c790c6420.jpg.webp',\n",
       " '1730726469282.jpg',\n",
       " '1gpc_psicosis_completa.docx',\n",
       " '1gpc_psicosis_completa.pdf',\n",
       " '20200727111638_giotis_anthos_aravositou_stigmis_vanilia_62gr.jpeg',\n",
       " '20211018130925_giotis_meigma_gia_glyka_anthos_aravositou_43gr.jpeg',\n",
       " '2023-11-01 09-57.pdf',\n",
       " '20231215-biobcn-ampatzidis-ucmmry-31b.pdf',\n",
       " '20231217-bcnbio-ampatzidis-jgw8rz-9a.pdf',\n",
       " '20240117-biolgw-ampatzidis-ody38f-30f.pdf',\n",
       " '2024RTE00987844.html',\n",
       " '2402838154.pdf',\n",
       " '2η_Άσκηση_2023_2024.pdf',\n",
       " '30c459a7-32a7-40ce-a881-5ef3b36eb3aa.csv',\n",
       " '398308343_10168393306320385_5296981034252443343_n.jpg',\n",
       " '407263352_370852125456706_87582036497313848_n.jpg',\n",
       " '464907329_10226073260887666_4987381578570106292_n.jpg',\n",
       " '470596328_1116718057129107_5998629692302367780_n.jpg',\n",
       " '7a97860bc693d80671824206ec72a440.jpg',\n",
       " '7z2407-x64.exe',\n",
       " '7_κατολισθήσεις_2023-2024_elearning.pdf',\n",
       " '8η_Άσκηση_2023-2024_φράγματα.pdf',\n",
       " '9196938f-bd90-464e-bcba-c2e995354515.csv',\n",
       " '920cc911b6eb5747f2ccd431bbc4306b_lec1.py',\n",
       " 'AAYQAQSOAAgAAQAAAAAAAB-zrMZEDXI2T62PSuT6kpB6qg.png',\n",
       " 'abono.pdf',\n",
       " 'abono2.pdf',\n",
       " 'abono3.pdf',\n",
       " 'ACTA 09-10-2023.pdf',\n",
       " 'administrator,+geocan10_4art01.pdf',\n",
       " 'AEGEAN_AIRLINES_SA_Booking_Confirmation.pdf',\n",
       " 'Alcohol_Consumption_Angelos.ipynb',\n",
       " 'Angelos Ampatzidis.pdf',\n",
       " 'ArcGISPro_33_190016.exe',\n",
       " 'attachments(1).zip',\n",
       " 'attachments(2).zip',\n",
       " 'attachments(3).zip',\n",
       " 'attachments.zip',\n",
       " 'boarding-pass.pdf',\n",
       " 'boarding-passes-Y7635M-1.pdf',\n",
       " 'boarding-passes-Y7635M.pdf',\n",
       " 'CamScanner 16-08-2024 17.10_1.pdf',\n",
       " 'cartel-herrikrosa-2024.jpg',\n",
       " 'cert-A-O15-24-86822-9.pdf',\n",
       " 'change_update_channel.zip',\n",
       " 'Chipotle_Angelos.ipynb',\n",
       " 'Cita previa online - Zuzenean - Gobierno Vasco.pdf',\n",
       " 'Complete_y_firma_con_Docusign_su_matrícula_en-1.pdf',\n",
       " 'Complete_y_firma_con_Docusign_su_matrícula_en.pdf',\n",
       " 'contrato de melospito (1).pdf',\n",
       " 'contrato de melospito.pdf',\n",
       " 'CV Angelos Ampatzidis es spo (1).pdf',\n",
       " 'CV Angelos labo1.pdf',\n",
       " 'CV Angelos.pdf',\n",
       " 'CV es.pdf',\n",
       " 'd6ee838ee4c85ace93a4e170cfd83c03_lec2_branch_loops.py',\n",
       " 'darde_inscripcion_1734351799371.pdf',\n",
       " 'darde_renovacion_1735254038975.pdf',\n",
       " 'Data Science ¬ IA - The Bridge School - Python Fundamentals - 2025-03-18.png',\n",
       " 'datos_arrendador_a.pdf',\n",
       " 'DATOS_PERS-gaztelagun 2-1.pdf',\n",
       " 'DATOS_PERS-gaztelagun 2.pdf',\n",
       " 'declaracion_2024715_114552_7885674(19500630).PDF-1.pdf',\n",
       " 'declaracion_2024715_114552_7885674(19500630).PDF.pdf',\n",
       " 'Descargar dibujo de línea continua de hombre y mujer conversando con bocadillos_ pareja joven sentada y tener una pequeña charla en casa arte lineal dibujado a mano sobre fondo blanco. concepto de…',\n",
       " 'desescalada .pdf',\n",
       " 'document.pdf',\n",
       " 'documento.pdf',\n",
       " 'Documentos',\n",
       " 'dotnet-sdk-8.0.403-win-x64(1).exe',\n",
       " 'dotnet-sdk-8.0.403-win-x64.exe',\n",
       " 'dotnet-sdk-9.0.100-rc.2.24474.11-win-x86.exe',\n",
       " 'Ejerciciosmarkdown.ipynb',\n",
       " 'Ejercicios_Clases_Objetos_Angelos(1).ipynb',\n",
       " 'Ejercicios_Clases_Objetos_Angelos.ipynb',\n",
       " 'Ejercicios_Clases_Objetos_InigoLopez.ipynb',\n",
       " 'Ejercicios_Colecciones_Extra_Angelos (1).ipynb',\n",
       " 'Ejercicios_Colecciones_Extra_Angelos.ipynb',\n",
       " 'Ejercicios_Flujos_Extra_Angelos.ipynb',\n",
       " 'Ejercicios_Numpy_II_Angelos.ipynb',\n",
       " 'Ejercicios_Numpy_I_Angelos.ipynb',\n",
       " 'English_PMS_exams_2021-22.docx',\n",
       " 'Euro12_Angelos.ipynb',\n",
       " 'Everything-1.4.1.1026.x86-Setup.exe',\n",
       " 'Examen_RampUp_DSFT_2402.ipynb',\n",
       " 'Examen_RampUp_DSFT_2503.ipynb',\n",
       " 'Examen_RampUp_DSFT_2503_Angelos.ipynb',\n",
       " 'gaztelagun -1.pdf',\n",
       " 'gaztelagun .pdf',\n",
       " 'gaztelagun 12.pdf',\n",
       " 'gaztelagun 2 - 1DATOS_PERS-gaztelagun 2(19500629).PDF-1.pdf',\n",
       " 'gaztelagun 2 - 1DATOS_PERS-gaztelagun 2(19500629).PDF.pdf',\n",
       " 'gimp-2.10.38-setup.exe',\n",
       " 'gimp-2.10.38-setup.exe.torrent',\n",
       " 'Git-2.48.1-64-bit.exe',\n",
       " 'GitHubDesktopSetup-x64.exe',\n",
       " 'GVP_Eruption_Search_Result_202503260801.xls',\n",
       " 'GVP_Eruption_Search_Result_202503260802.xls',\n",
       " 'GVP_Eruption_Search_Result_202503260807.xls',\n",
       " 'GVP_Eruption_Search_Result_202503260808.xls',\n",
       " 'GVP_Eruption_Search_Result_202503260834.xls',\n",
       " 'GVP_Eruption_Search_Result_202503260834.xls.csv',\n",
       " 'GVP_Volcano_List_Holocene_202503260755.xls',\n",
       " 'GVP_Volcano_List_Holocene_202503260755.xls.csv',\n",
       " 'GVP_Volcano_List_Holocene_202503260831.xls',\n",
       " 'GVP_Volcano_Search_Result_202503260811.xls',\n",
       " 'gzt_arch_deses_19680_.pdf',\n",
       " 'H068E13..ZIP',\n",
       " 'H068E13.ZIP',\n",
       " 'Imagenes',\n",
       " 'IMG_20231014_133417(1).jpg',\n",
       " 'IMG_20231014_133417.jpg',\n",
       " 'impreso_solicitud_subsidios.pdf',\n",
       " 'info.csv',\n",
       " 'Insomnia.Core-11.0.0.exe',\n",
       " 'instancia_registro_general_2020.pdf',\n",
       " 'invoice_61479124.pdf',\n",
       " 'Iratxe.pdf',\n",
       " 'Jornada resis (002).docx',\n",
       " 'm1xMFyd_.htm',\n",
       " 'MBSetup.exe',\n",
       " 'mitres_str001iap22_level1_arcgis_takehome.docx',\n",
       " 'mitres_str001iap22_level1_pres.pptx',\n",
       " 'Modelo 10T Bizkaia ANGELOS SOCIEDAD CIVIL.pdf',\n",
       " 'Modelo 10T Bizkaia ANGELOS SOCIEDAD LIMITADA.pdf',\n",
       " 'Movimientos.pdf',\n",
       " 'NDP481-Web.exe',\n",
       " 'nie.pdf',\n",
       " 'Ninite Chrome Firefox Foxit Reader Google Earth Installer.exe',\n",
       " 'nomacs-setup-x64.msi',\n",
       " 'nominas.pdf',\n",
       " 'Nueva ubicación_kastrexana.jpg',\n",
       " 'O365ProPlusRetail.img',\n",
       " 'Obsidian-1.7.6.exe',\n",
       " 'Occupation_Angelos.ipynb',\n",
       " 'ODHGOS-SPOUDON_NEO_2023-2024.ppsx',\n",
       " 'OfficeSetup(1).exe',\n",
       " 'OfficeSetup.exe',\n",
       " 'open-meteo-43.26N2.93W21m.csv',\n",
       " 'Otros',\n",
       " 'palestine.jpg',\n",
       " 'pasaporte .pdf',\n",
       " 'payment-transaction-own.pdf',\n",
       " 'Poster Nazionala 2024. Desescalada verbal y CM.pptx',\n",
       " 'poster-conocimiento-enfermero-ostomias-scaled.jpg',\n",
       " 'Programa BOOTCAMP DATA SCIENTIST.pdf',\n",
       " 'Programa troncal BOOTCAMP DATA SCIENTIST 24-25-1.pdf',\n",
       " 'Programa troncal BOOTCAMP DATA SCIENTIST 24-25.pdf',\n",
       " 'python-3.11.9-amd64.exe',\n",
       " 'python-3.13.2-amd64.exe',\n",
       " 'qbittorrent_4.6.5_x64_setup.exe',\n",
       " 'qbittorrent_4.6.6_x64_setup.exe',\n",
       " 'qweqweqw.pdf',\n",
       " 'README Install Store + Apps [IrisNebula] - Simple.txt',\n",
       " 'registrationReceipt-1705334081696-8326768.pdf',\n",
       " 'registrationReceipt-1707923169548-8028778-1.pdf',\n",
       " 'registrationReceipt-1707923169548-8028778-2.pdf',\n",
       " 'registrationReceipt-1707923169548-8028778.pdf',\n",
       " 'report.pdf',\n",
       " 'sasaaa.pdf',\n",
       " 'sasas.pdf',\n",
       " 'Screenshot from 2025-01-08 17-23-40.png',\n",
       " 'Sede Electrónica - Justificante de registro - JUSTIFICANTE_7885674_signed(19500631).PDF-1.pdf',\n",
       " 'Sede Electrónica - Justificante de registro - JUSTIFICANTE_7885674_signed(19500631).PDF.pdf',\n",
       " 'SlackSetup.exe',\n",
       " 'Software',\n",
       " 'Solicitud.pdf',\n",
       " 'SoulseekQt-2024-2-1-64bit.exe',\n",
       " 'Spyder-Windows-x86_64.exe',\n",
       " 'Telegram Desktop',\n",
       " 'tickets iberia.pdf',\n",
       " 'Tickets-1000mods-frenzee-en-bilbao-1.pdf',\n",
       " 'Tickets-1000mods-frenzee-en-bilbao.pdf',\n",
       " 'TransferentziaBesteEntitateBateraEgiaztagiri1721195641714.pdf',\n",
       " 'TransferentziaBesteEntitateBateraEgiaztagiri1721195684847.pdf',\n",
       " 'TransferentziaBesteEntitateBateraEgiaztagiri1721195716378.pdf',\n",
       " 'TransferentziaBesteEntitateBateraEgiaztagiri1723107304501.pdf',\n",
       " 'VC_redist.x64.exe',\n",
       " 'vecteezy_rock-climbing_1206228.png',\n",
       " 'ViberSetup.exe',\n",
       " 'vida_laboral-1.pdf',\n",
       " 'vida_laboral.pdf',\n",
       " 'vikosgorge-gr-wp-content-uploads-2024-07-vikos-2-webp.jpg',\n",
       " 'volanteEmpadronamiento Angelos-1.pdf',\n",
       " 'volanteEmpadronamiento Angelos.pdf',\n",
       " 'volanteEmpadronamiento.pdf',\n",
       " 'volotea.pdf',\n",
       " 'VSCodeUserSetup-x64-1.97.2.exe',\n",
       " 'WhatsApp Image 2024-07-21 at 23.25.44.jpeg',\n",
       " 'WhatsApp Image 2024-07-21 at 23.25.47.jpeg',\n",
       " 'winrar-x64-701.exe',\n",
       " 'www.lanbide.net.pdf',\n",
       " 'ZoomInstallerFull.exe',\n",
       " 'Zoom_cm_fo42anktZ9vvrZo4_mPpvL3lRff9fyEaUOX5yyDW00f43X1R860pA3@P4i+V3jgE32vmdCP_ka3c32686b94f5b03_.exe',\n",
       " 'ΑΓΓΕΛΟΣ ΑΜΠΑΤΖΙΔΗΣ - DraftTranscript.pdf',\n",
       " 'Αγγελος CV.png',\n",
       " 'ΘΕΛΩ ΟΙ ΦΙΛΕΣ.jpg',\n",
       " 'ΚΑΝΟΝΙΣΜΟΣ-ΣΥΜΒΟΥΛΟΥ-ΣΠΟΥΔΩΝ_ΠΠΣ_ΤΜΗΜΑΤΟΣ_ΓΕΩΛΟΓΙΑΣ_11-10-2023.pdf',\n",
       " 'χρονος γεωλογι.jpg']"
      ]
     },
     "execution_count": 95,
     "metadata": {},
     "output_type": "execute_result"
    }
   ],
   "source": [
    "os.listdir()"
   ]
  },
  {
   "cell_type": "code",
   "execution_count": null,
   "metadata": {},
   "outputs": [
    {
     "data": {
      "text/plain": [
       "'c:\\\\Users\\\\Aggelos\\\\BootcampDataScience\\\\AngelosTheBridge\\\\2-Data_Analysis\\\\3-Sources\\\\Archivos\\\\Practica\\\\carpeta_ejercicio'"
      ]
     },
     "execution_count": 13,
     "metadata": {},
     "output_type": "execute_result"
    }
   ],
   "source": [
    "# ruta = os.path.join(os.getcwd(),  \"carpeta_ejercicio\")\n",
    "# ruta"
   ]
  },
  {
   "cell_type": "code",
   "execution_count": null,
   "metadata": {},
   "outputs": [],
   "source": [
    "# os.mkdir('ordenar_archivos')"
   ]
  },
  {
   "cell_type": "code",
   "execution_count": null,
   "metadata": {},
   "outputs": [
    {
     "data": {
      "text/plain": [
       "'c:\\\\Users\\\\Aggelos\\\\Downloads\\\\ordenar_archivos'"
      ]
     },
     "execution_count": 40,
     "metadata": {},
     "output_type": "execute_result"
    }
   ],
   "source": [
    "# ruta_ordenada = os.path.abspath('ordenar_archivos')\n",
    "# ruta_ordenada\n"
   ]
  },
  {
   "cell_type": "code",
   "execution_count": null,
   "metadata": {},
   "outputs": [
    {
     "ename": "TypeError",
     "evalue": "abspath() missing 1 required positional argument: 'path'",
     "output_type": "error",
     "traceback": [
      "\u001b[31m---------------------------------------------------------------------------\u001b[39m",
      "\u001b[31mTypeError\u001b[39m                                 Traceback (most recent call last)",
      "\u001b[36mCell\u001b[39m\u001b[36m \u001b[39m\u001b[32mIn[41]\u001b[39m\u001b[32m, line 1\u001b[39m\n\u001b[32m----> \u001b[39m\u001b[32m1\u001b[39m ruta = \u001b[43mos\u001b[49m\u001b[43m.\u001b[49m\u001b[43mpath\u001b[49m\u001b[43m.\u001b[49m\u001b[43mabspath\u001b[49m\u001b[43m(\u001b[49m\u001b[43m)\u001b[49m\n",
      "\u001b[31mTypeError\u001b[39m: abspath() missing 1 required positional argument: 'path'"
     ]
    }
   ],
   "source": [
    "# ruta = os.path.abspath()"
   ]
  },
  {
   "cell_type": "code",
   "execution_count": null,
   "metadata": {},
   "outputs": [
    {
     "data": {
      "text/plain": [
       "[]"
      ]
     },
     "execution_count": 11,
     "metadata": {},
     "output_type": "execute_result"
    }
   ],
   "source": [
    "# os.listdir(ruta)"
   ]
  },
  {
   "cell_type": "code",
   "execution_count": 91,
   "metadata": {},
   "outputs": [],
   "source": [
    "doc_types = ('.doc', '.docx', '.txt', '.pdf', '.xls', '.ppt', '.xlsx', '.pptx')\n",
    "img_types = ('.jpg', '.jpeg', '.png', '.svg', '.gif')\n",
    "software_types = ('.exe', '.py', '.ipynb')"
   ]
  },
  {
   "cell_type": "code",
   "execution_count": 96,
   "metadata": {},
   "outputs": [
    {
     "data": {
      "text/plain": [
       "['0901a0fe8b9646bd1721032896648_121_207.pdf',\n",
       " '0901a0fe8c0b0f1f1723882794208_141_45040.pdf',\n",
       " '135768yojuroIB13.jpg',\n",
       " '14fcb6548eb372433c790c6420.jpg.webp',\n",
       " '1730726469282.jpg',\n",
       " '1gpc_psicosis_completa.docx',\n",
       " '1gpc_psicosis_completa.pdf',\n",
       " '20200727111638_giotis_anthos_aravositou_stigmis_vanilia_62gr.jpeg',\n",
       " '20211018130925_giotis_meigma_gia_glyka_anthos_aravositou_43gr.jpeg',\n",
       " '2023-11-01 09-57.pdf',\n",
       " '20231215-biobcn-ampatzidis-ucmmry-31b.pdf',\n",
       " '20231217-bcnbio-ampatzidis-jgw8rz-9a.pdf',\n",
       " '20240117-biolgw-ampatzidis-ody38f-30f.pdf',\n",
       " '2024RTE00987844.html',\n",
       " '2402838154.pdf',\n",
       " '2η_Άσκηση_2023_2024.pdf',\n",
       " '30c459a7-32a7-40ce-a881-5ef3b36eb3aa.csv',\n",
       " '398308343_10168393306320385_5296981034252443343_n.jpg',\n",
       " '407263352_370852125456706_87582036497313848_n.jpg',\n",
       " '464907329_10226073260887666_4987381578570106292_n.jpg',\n",
       " '470596328_1116718057129107_5998629692302367780_n.jpg',\n",
       " '7a97860bc693d80671824206ec72a440.jpg',\n",
       " '7z2407-x64.exe',\n",
       " '7_κατολισθήσεις_2023-2024_elearning.pdf',\n",
       " '8η_Άσκηση_2023-2024_φράγματα.pdf',\n",
       " '9196938f-bd90-464e-bcba-c2e995354515.csv',\n",
       " '920cc911b6eb5747f2ccd431bbc4306b_lec1.py',\n",
       " 'AAYQAQSOAAgAAQAAAAAAAB-zrMZEDXI2T62PSuT6kpB6qg.png',\n",
       " 'abono.pdf',\n",
       " 'abono2.pdf',\n",
       " 'abono3.pdf',\n",
       " 'ACTA 09-10-2023.pdf',\n",
       " 'administrator,+geocan10_4art01.pdf',\n",
       " 'AEGEAN_AIRLINES_SA_Booking_Confirmation.pdf',\n",
       " 'Alcohol_Consumption_Angelos.ipynb',\n",
       " 'Angelos Ampatzidis.pdf',\n",
       " 'ArcGISPro_33_190016.exe',\n",
       " 'attachments(1).zip',\n",
       " 'attachments(2).zip',\n",
       " 'attachments(3).zip',\n",
       " 'attachments.zip',\n",
       " 'boarding-pass.pdf',\n",
       " 'boarding-passes-Y7635M-1.pdf',\n",
       " 'boarding-passes-Y7635M.pdf',\n",
       " 'CamScanner 16-08-2024 17.10_1.pdf',\n",
       " 'cartel-herrikrosa-2024.jpg',\n",
       " 'cert-A-O15-24-86822-9.pdf',\n",
       " 'change_update_channel.zip',\n",
       " 'Chipotle_Angelos.ipynb',\n",
       " 'Cita previa online - Zuzenean - Gobierno Vasco.pdf',\n",
       " 'Complete_y_firma_con_Docusign_su_matrícula_en-1.pdf',\n",
       " 'Complete_y_firma_con_Docusign_su_matrícula_en.pdf',\n",
       " 'contrato de melospito (1).pdf',\n",
       " 'contrato de melospito.pdf',\n",
       " 'CV Angelos Ampatzidis es spo (1).pdf',\n",
       " 'CV Angelos labo1.pdf',\n",
       " 'CV Angelos.pdf',\n",
       " 'CV es.pdf',\n",
       " 'd6ee838ee4c85ace93a4e170cfd83c03_lec2_branch_loops.py',\n",
       " 'darde_inscripcion_1734351799371.pdf',\n",
       " 'darde_renovacion_1735254038975.pdf',\n",
       " 'Data Science ¬ IA - The Bridge School - Python Fundamentals - 2025-03-18.png',\n",
       " 'datos_arrendador_a.pdf',\n",
       " 'DATOS_PERS-gaztelagun 2-1.pdf',\n",
       " 'DATOS_PERS-gaztelagun 2.pdf',\n",
       " 'declaracion_2024715_114552_7885674(19500630).PDF-1.pdf',\n",
       " 'declaracion_2024715_114552_7885674(19500630).PDF.pdf',\n",
       " 'Descargar dibujo de línea continua de hombre y mujer conversando con bocadillos_ pareja joven sentada y tener una pequeña charla en casa arte lineal dibujado a mano sobre fondo blanco. concepto de…',\n",
       " 'desescalada .pdf',\n",
       " 'document.pdf',\n",
       " 'documento.pdf',\n",
       " 'Documentos',\n",
       " 'dotnet-sdk-8.0.403-win-x64(1).exe',\n",
       " 'dotnet-sdk-8.0.403-win-x64.exe',\n",
       " 'dotnet-sdk-9.0.100-rc.2.24474.11-win-x86.exe',\n",
       " 'Ejerciciosmarkdown.ipynb',\n",
       " 'Ejercicios_Clases_Objetos_Angelos(1).ipynb',\n",
       " 'Ejercicios_Clases_Objetos_Angelos.ipynb',\n",
       " 'Ejercicios_Clases_Objetos_InigoLopez.ipynb',\n",
       " 'Ejercicios_Colecciones_Extra_Angelos (1).ipynb',\n",
       " 'Ejercicios_Colecciones_Extra_Angelos.ipynb',\n",
       " 'Ejercicios_Flujos_Extra_Angelos.ipynb',\n",
       " 'Ejercicios_Numpy_II_Angelos.ipynb',\n",
       " 'Ejercicios_Numpy_I_Angelos.ipynb',\n",
       " 'English_PMS_exams_2021-22.docx',\n",
       " 'Euro12_Angelos.ipynb',\n",
       " 'Everything-1.4.1.1026.x86-Setup.exe',\n",
       " 'Examen_RampUp_DSFT_2402.ipynb',\n",
       " 'Examen_RampUp_DSFT_2503.ipynb',\n",
       " 'Examen_RampUp_DSFT_2503_Angelos.ipynb',\n",
       " 'gaztelagun -1.pdf',\n",
       " 'gaztelagun .pdf',\n",
       " 'gaztelagun 12.pdf',\n",
       " 'gaztelagun 2 - 1DATOS_PERS-gaztelagun 2(19500629).PDF-1.pdf',\n",
       " 'gaztelagun 2 - 1DATOS_PERS-gaztelagun 2(19500629).PDF.pdf',\n",
       " 'gimp-2.10.38-setup.exe',\n",
       " 'gimp-2.10.38-setup.exe.torrent',\n",
       " 'Git-2.48.1-64-bit.exe',\n",
       " 'GitHubDesktopSetup-x64.exe',\n",
       " 'GVP_Eruption_Search_Result_202503260801.xls',\n",
       " 'GVP_Eruption_Search_Result_202503260802.xls',\n",
       " 'GVP_Eruption_Search_Result_202503260807.xls',\n",
       " 'GVP_Eruption_Search_Result_202503260808.xls',\n",
       " 'GVP_Eruption_Search_Result_202503260834.xls',\n",
       " 'GVP_Eruption_Search_Result_202503260834.xls.csv',\n",
       " 'GVP_Volcano_List_Holocene_202503260755.xls',\n",
       " 'GVP_Volcano_List_Holocene_202503260755.xls.csv',\n",
       " 'GVP_Volcano_List_Holocene_202503260831.xls',\n",
       " 'GVP_Volcano_Search_Result_202503260811.xls',\n",
       " 'gzt_arch_deses_19680_.pdf',\n",
       " 'H068E13..ZIP',\n",
       " 'H068E13.ZIP',\n",
       " 'Imagenes',\n",
       " 'IMG_20231014_133417(1).jpg',\n",
       " 'IMG_20231014_133417.jpg',\n",
       " 'impreso_solicitud_subsidios.pdf',\n",
       " 'info.csv',\n",
       " 'Insomnia.Core-11.0.0.exe',\n",
       " 'instancia_registro_general_2020.pdf',\n",
       " 'invoice_61479124.pdf',\n",
       " 'Iratxe.pdf',\n",
       " 'Jornada resis (002).docx',\n",
       " 'm1xMFyd_.htm',\n",
       " 'MBSetup.exe',\n",
       " 'mitres_str001iap22_level1_arcgis_takehome.docx',\n",
       " 'mitres_str001iap22_level1_pres.pptx',\n",
       " 'Modelo 10T Bizkaia ANGELOS SOCIEDAD CIVIL.pdf',\n",
       " 'Modelo 10T Bizkaia ANGELOS SOCIEDAD LIMITADA.pdf',\n",
       " 'Movimientos.pdf',\n",
       " 'NDP481-Web.exe',\n",
       " 'nie.pdf',\n",
       " 'Ninite Chrome Firefox Foxit Reader Google Earth Installer.exe',\n",
       " 'nomacs-setup-x64.msi',\n",
       " 'nominas.pdf',\n",
       " 'Nueva ubicación_kastrexana.jpg',\n",
       " 'O365ProPlusRetail.img',\n",
       " 'Obsidian-1.7.6.exe',\n",
       " 'Occupation_Angelos.ipynb',\n",
       " 'ODHGOS-SPOUDON_NEO_2023-2024.ppsx',\n",
       " 'OfficeSetup(1).exe',\n",
       " 'OfficeSetup.exe',\n",
       " 'open-meteo-43.26N2.93W21m.csv',\n",
       " 'Otros',\n",
       " 'palestine.jpg',\n",
       " 'pasaporte .pdf',\n",
       " 'payment-transaction-own.pdf',\n",
       " 'Poster Nazionala 2024. Desescalada verbal y CM.pptx',\n",
       " 'poster-conocimiento-enfermero-ostomias-scaled.jpg',\n",
       " 'Programa BOOTCAMP DATA SCIENTIST.pdf',\n",
       " 'Programa troncal BOOTCAMP DATA SCIENTIST 24-25-1.pdf',\n",
       " 'Programa troncal BOOTCAMP DATA SCIENTIST 24-25.pdf',\n",
       " 'python-3.11.9-amd64.exe',\n",
       " 'python-3.13.2-amd64.exe',\n",
       " 'qbittorrent_4.6.5_x64_setup.exe',\n",
       " 'qbittorrent_4.6.6_x64_setup.exe',\n",
       " 'qweqweqw.pdf',\n",
       " 'README Install Store + Apps [IrisNebula] - Simple.txt',\n",
       " 'registrationReceipt-1705334081696-8326768.pdf',\n",
       " 'registrationReceipt-1707923169548-8028778-1.pdf',\n",
       " 'registrationReceipt-1707923169548-8028778-2.pdf',\n",
       " 'registrationReceipt-1707923169548-8028778.pdf',\n",
       " 'report.pdf',\n",
       " 'sasaaa.pdf',\n",
       " 'sasas.pdf',\n",
       " 'Screenshot from 2025-01-08 17-23-40.png',\n",
       " 'Sede Electrónica - Justificante de registro - JUSTIFICANTE_7885674_signed(19500631).PDF-1.pdf',\n",
       " 'Sede Electrónica - Justificante de registro - JUSTIFICANTE_7885674_signed(19500631).PDF.pdf',\n",
       " 'SlackSetup.exe',\n",
       " 'Software',\n",
       " 'Solicitud.pdf',\n",
       " 'SoulseekQt-2024-2-1-64bit.exe',\n",
       " 'Spyder-Windows-x86_64.exe',\n",
       " 'Telegram Desktop',\n",
       " 'tickets iberia.pdf',\n",
       " 'Tickets-1000mods-frenzee-en-bilbao-1.pdf',\n",
       " 'Tickets-1000mods-frenzee-en-bilbao.pdf',\n",
       " 'TransferentziaBesteEntitateBateraEgiaztagiri1721195641714.pdf',\n",
       " 'TransferentziaBesteEntitateBateraEgiaztagiri1721195684847.pdf',\n",
       " 'TransferentziaBesteEntitateBateraEgiaztagiri1721195716378.pdf',\n",
       " 'TransferentziaBesteEntitateBateraEgiaztagiri1723107304501.pdf',\n",
       " 'VC_redist.x64.exe',\n",
       " 'vecteezy_rock-climbing_1206228.png',\n",
       " 'ViberSetup.exe',\n",
       " 'vida_laboral-1.pdf',\n",
       " 'vida_laboral.pdf',\n",
       " 'vikosgorge-gr-wp-content-uploads-2024-07-vikos-2-webp.jpg',\n",
       " 'volanteEmpadronamiento Angelos-1.pdf',\n",
       " 'volanteEmpadronamiento Angelos.pdf',\n",
       " 'volanteEmpadronamiento.pdf',\n",
       " 'volotea.pdf',\n",
       " 'VSCodeUserSetup-x64-1.97.2.exe',\n",
       " 'WhatsApp Image 2024-07-21 at 23.25.44.jpeg',\n",
       " 'WhatsApp Image 2024-07-21 at 23.25.47.jpeg',\n",
       " 'winrar-x64-701.exe',\n",
       " 'www.lanbide.net.pdf',\n",
       " 'ZoomInstallerFull.exe',\n",
       " 'Zoom_cm_fo42anktZ9vvrZo4_mPpvL3lRff9fyEaUOX5yyDW00f43X1R860pA3@P4i+V3jgE32vmdCP_ka3c32686b94f5b03_.exe',\n",
       " 'ΑΓΓΕΛΟΣ ΑΜΠΑΤΖΙΔΗΣ - DraftTranscript.pdf',\n",
       " 'Αγγελος CV.png',\n",
       " 'ΘΕΛΩ ΟΙ ΦΙΛΕΣ.jpg',\n",
       " 'ΚΑΝΟΝΙΣΜΟΣ-ΣΥΜΒΟΥΛΟΥ-ΣΠΟΥΔΩΝ_ΠΠΣ_ΤΜΗΜΑΤΟΣ_ΓΕΩΛΟΓΙΑΣ_11-10-2023.pdf',\n",
       " 'χρονος γεωλογι.jpg']"
      ]
     },
     "execution_count": 96,
     "metadata": {},
     "output_type": "execute_result"
    }
   ],
   "source": [
    "os.listdir(ruta)"
   ]
  },
  {
   "cell_type": "code",
   "execution_count": 104,
   "metadata": {},
   "outputs": [],
   "source": [
    "for archivo in os.listdir(ruta):\n",
    "    if archivo.endswith(doc_types) : \n",
    "        shutil.move(archivo,\"Documentos\")\n",
    "    elif archivo.endswith(img_types) : \n",
    "        shutil.move(archivo, \"Imagenes\")\n",
    "    elif archivo.endswith(software_types):\n",
    "        shutil.move(archivo, \"Software\")\n",
    "    elif archivo not in [\"Documentos\",\"Imagenes\",\"Software\",\"Otros\"]:\n",
    "        shutil.move(archivo, \"Otros\")\n",
    "            "
   ]
  },
  {
   "cell_type": "code",
   "execution_count": 101,
   "metadata": {},
   "outputs": [
    {
     "data": {
      "text/plain": [
       "'c:\\\\Users\\\\Aggelos\\\\Documents\\\\Download_Copia'"
      ]
     },
     "execution_count": 101,
     "metadata": {},
     "output_type": "execute_result"
    }
   ],
   "source": [
    "os.getcwd()"
   ]
  },
  {
   "attachments": {},
   "cell_type": "markdown",
   "metadata": {},
   "source": [
    "### 2. Crea un programa standalone (main.py, funciones.py, variables.py) que realice la tarea sin necesidad de Jupyter notebooks."
   ]
  },
  {
   "cell_type": "code",
   "execution_count": null,
   "metadata": {},
   "outputs": [],
   "source": []
  }
 ],
 "metadata": {
  "kernelspec": {
   "display_name": "Python 3",
   "language": "python",
   "name": "python3"
  },
  "language_info": {
   "codemirror_mode": {
    "name": "ipython",
    "version": 3
   },
   "file_extension": ".py",
   "mimetype": "text/x-python",
   "name": "python",
   "nbconvert_exporter": "python",
   "pygments_lexer": "ipython3",
   "version": "3.11.9"
  },
  "orig_nbformat": 4
 },
 "nbformat": 4,
 "nbformat_minor": 2
}
