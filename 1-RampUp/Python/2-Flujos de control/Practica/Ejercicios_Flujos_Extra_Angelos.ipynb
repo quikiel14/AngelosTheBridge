{
 "cells": [
  {
   "cell_type": "markdown",
   "metadata": {},
   "source": [
    "![imagen](./img/ejercicios.png)"
   ]
  },
  {
   "cell_type": "markdown",
   "metadata": {},
   "source": [
    "# Ejercicios Flujos de control"
   ]
  },
  {
   "cell_type": "markdown",
   "metadata": {},
   "source": [
    "## Ejercicio Extra\n",
    "Programa una calculadora que\n",
    "\n",
    "* Pregunte qué operación quieres realizar (multiplicación/división/suma/resta/potencia/salir)\n",
    "* Pida dos números \n",
    "* Realice la operación\n",
    "* Siga funcionando hasta que el usuario elija salir\n",
    "\n",
    "#### Bonus:\n",
    "* Que guarde todas las operaciones realizadas y las imprima por pantalla cuando el usuario elija esa opción\n",
    "* Que sea robusta frente a entradas erróneas del usuario o frente a operaciones como dividir por 0"
   ]
  },
  {
   "cell_type": "code",
   "execution_count": 8,
   "metadata": {},
   "outputs": [
    {
     "name": "stdout",
     "output_type": "stream",
     "text": [
      "Vaya, tienes que elegir entre multiplicación/división/suma/resta/potencia o salir\n",
      "Vaya, tienes que elegir entre multiplicación/división/suma/resta/potencia o salir\n",
      "Vaya, tienes que elegir entre multiplicación/división/suma/resta/potencia o salir\n",
      "Vaya, tienes que elegir entre multiplicación/división/suma/resta/potencia o salir\n",
      "Vaya, tienes que elegir entre multiplicación/división/suma/resta/potencia o salir\n",
      "Vaya, tienes que elegir entre multiplicación/división/suma/resta/potencia o salir\n",
      "Agur, espero que ta haya salido util\n"
     ]
    }
   ],
   "source": [
    "\"\"\"operacacion = input(\"Que operación quieres realizar? multiplicación/división/suma/resta/potencia o salir ? \")\n",
    "operacacion.lower()\"\"\"\n",
    "\"\"\"try:\n",
    "     operacacion != \"multiplicación\"!=\"división\"!=\"suma\"!=\"resta\"!=\"potencia\"!=\"salir\"\n",
    "except Exception:\n",
    "     print(\"Error, por favor pon una de las opiciones\")\"\"\"\n",
    "lista_suma = []\n",
    "lista_division= []\n",
    "lista_mult = []\n",
    "lista_potencia = []\n",
    "lista_resta = []\n",
    "\n",
    "\n",
    "while True:\n",
    "     operacacion = input(\"Que operación quieres realizar? multiplicación/división/suma/resta/potencia o salir ? \")\n",
    "     operacacion.lower()\n",
    "     if operacacion == \"salir\":\n",
    "          print(\"Agur, espero que ta haya salido util\")\n",
    "          break\n",
    "     elif operacacion not in [\"multiplicación\",\"división\",\"suma\",\"resta\",\"potencia\"]:\n",
    "          print(\"Vaya, tienes que elegir entre multiplicación/división/suma/resta/potencia o salir\")\n",
    "          continue\n",
    "     num = float(input(\"Dame un numero\"))\n",
    "     num2 = float(input(\"Dame otro numero\"))\n",
    "     if operacacion == \"suma\":\n",
    "          suma = num + num2\n",
    "          lista_suma.append(suma)\n",
    "          print (\"La suma es:\",suma)\n",
    "          respuesta = input(\"Quieres que te imprima la lista de esta operacion si o no?\")\n",
    "          respuesta.lower()\n",
    "          if respuesta == \"si\":\n",
    "               print(lista_suma)\n",
    "          elif respuesta == \"no\":\n",
    "               continue\n",
    "     elif operacacion == \"división\":\n",
    "          if num2==0:\n",
    "               print(\"No puedes dividir por 0 \")\n",
    "               continue\n",
    "          division = num / num2\n",
    "          lista_division.append(division)\n",
    "          print(\"La division sale a \",division)\n",
    "          respuesta = input(\"Quieres que te imprima la lista de esta operacion si o no?\")\n",
    "          respuesta.lower()\n",
    "          if respuesta == \"si\":\n",
    "               print(lista_division)\n",
    "          elif respuesta == \"no\":\n",
    "               continue\n",
    "     elif operacacion == \"multiplicación\":\n",
    "          mult = num * num2\n",
    "          lista_mult.append(mult)\n",
    "          print(\"La multiplicacion es:\",mult)\n",
    "          respuesta = input(\"Quieres que te imprima la lista de esta operacion si o no?\")\n",
    "          respuesta.lower()\n",
    "          if respuesta == \"si\":\n",
    "               print(lista_mult)\n",
    "          elif respuesta == \"no\":\n",
    "               continue\n",
    "     elif operacacion == \"resta\":\n",
    "          resta = num % num2\n",
    "          lista_resta.append(resta)\n",
    "          print(\"La resta es :\",resta)\n",
    "          respuesta = input(\"Quieres que te imprima la lista de esta operacion si o no?\")\n",
    "          respuesta.lower()\n",
    "          if respuesta == \"si\":\n",
    "               print(lista_resta)\n",
    "          elif respuesta == \"no\":\n",
    "               continue\n",
    "     elif operacacion == \"potencia\":\n",
    "          potencia = num**num2\n",
    "          lista_potencia.append(potencia)\n",
    "          print(\"la potencia es:\",potencia)\n",
    "          respuesta = input(\"Quieres que te imprima la lista de esta operacion si o no?\")\n",
    "          respuesta.lower()\n",
    "          if respuesta == \"si\":\n",
    "               print(lista_potencia)\n",
    "          elif respuesta == \"no\":\n",
    "               continue  \n",
    "\n",
    "\n",
    "\n",
    "         "
   ]
  },
  {
   "cell_type": "code",
   "execution_count": null,
   "metadata": {},
   "outputs": [],
   "source": []
  }
 ],
 "metadata": {
  "kernelspec": {
   "display_name": "Python 3",
   "language": "python",
   "name": "python3"
  },
  "language_info": {
   "codemirror_mode": {
    "name": "ipython",
    "version": 3
   },
   "file_extension": ".py",
   "mimetype": "text/x-python",
   "name": "python",
   "nbconvert_exporter": "python",
   "pygments_lexer": "ipython3",
   "version": "3.11.9"
  }
 },
 "nbformat": 4,
 "nbformat_minor": 4
}
