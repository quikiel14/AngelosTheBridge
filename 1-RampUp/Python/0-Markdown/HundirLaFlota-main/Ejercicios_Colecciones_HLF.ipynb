{
 "cells": [
  {
   "cell_type": "markdown",
   "metadata": {},
   "source": [
    "## Hundir la Flota\n",
    "#### Primeros pasos\n",
    "Vamos a empezar a programar trozos de código que nos servirán para el HLF:\n",
    "\n",
    "* Crear un Tablero como una lista de listas de 10x10 que contenga caracteres espacio: \" \"\n",
    "* Insertar dos barcos sustituyendo en el Tablero los espacios en blanco por el caracter \"B\":\n",
    "    * Uno de 4 casillas en horizontal: casillas [1][0], [1][1], [1][2], [1][3]\n",
    "    * Uno de 3 casillas en vertical:   casillas [3][3], [4][3], [4][4], [4][5]\n",
    "* Escribir una celda de código separada de las anteriores para simular que el usuario está efectuando un disparo: \n",
    "    *  Solicite al usuario dos coordenadas `i,j` mediante dos inputs\n",
    "    *  Compruebe si esas coordenadas están ocupada por una casilla barco (que haya una en \"B\")\n",
    "        * Si hay una \"B\":\n",
    "            * Cambiar el contenido de esa posición por una \"x\"\n",
    "            * Imprimir por pantalla el texto \"Tocado en posición `i,j`\"\n",
    "        * Si hay un \" \":\n",
    "            * Cambiar el contenido de esa posición por una \"o\"\n",
    "            * Imprimir por pantalla el texto \"Agua\"\n",
    "    * Imprimir por pantalla el Tablero\n",
    "* Para comprobar que funciona bien la celda de disparar ejecutarla varias veces metiendo distintas coordenadas\n",
    "\n",
    "### Bonus\n",
    "* En la celda de disparar, si el usuario acierta a tocar un barco, vuelve a disparar\n",
    "* Resuélvelo con funciones:\n",
    "    * Una para solicitar una coordenada válida a la que llamarás dos veces, una par i y otra par j\n",
    "    * Una `disparar` que devuelva `True` si el usuario ha acertado o `False` si no.\n",
    "    \n"
   ]
  },
  {
   "cell_type": "code",
   "execution_count": null,
   "metadata": {},
   "outputs": [],
   "source": [
    "tablero = [[\" \" for i in range(10)] for j in range(10)]\n",
    "tablero_mostrar = [[\" \" for i in range(10)] for j in range(10)]"
   ]
  },
  {
   "cell_type": "code",
   "execution_count": 1,
   "metadata": {},
   "outputs": [
    {
     "ename": "NameError",
     "evalue": "name 'tablero' is not defined",
     "output_type": "error",
     "traceback": [
      "\u001b[31m---------------------------------------------------------------------------\u001b[39m",
      "\u001b[31mNameError\u001b[39m                                 Traceback (most recent call last)",
      "\u001b[36mCell\u001b[39m\u001b[36m \u001b[39m\u001b[32mIn[1]\u001b[39m\u001b[32m, line 1\u001b[39m\n\u001b[32m----> \u001b[39m\u001b[32m1\u001b[39m \u001b[43mtablero\u001b[49m\n",
      "\u001b[31mNameError\u001b[39m: name 'tablero' is not defined"
     ]
    }
   ],
   "source": [
    "tablero"
   ]
  },
  {
   "cell_type": "code",
   "execution_count": null,
   "metadata": {},
   "outputs": [
    {
     "data": {
      "text/plain": [
       "[[' ', ' ', ' ', ' ', ' ', ' ', ' ', ' ', ' ', ' '],\n",
       " [' ', ' ', ' ', ' ', ' ', ' ', ' ', ' ', ' ', ' '],\n",
       " [' ', ' ', ' ', ' ', ' ', ' ', ' ', ' ', ' ', ' '],\n",
       " [' ', ' ', ' ', 'B', ' ', ' ', ' ', ' ', ' ', ' '],\n",
       " [' ', ' ', ' ', 'B', ' ', ' ', ' ', ' ', ' ', ' '],\n",
       " [' ', ' ', ' ', 'B', ' ', ' ', ' ', ' ', ' ', ' '],\n",
       " [' ', ' ', ' ', 'B', ' ', ' ', ' ', ' ', ' ', ' '],\n",
       " [' ', ' ', ' ', ' ', ' ', ' ', ' ', ' ', ' ', ' '],\n",
       " [' ', ' ', ' ', ' ', ' ', ' ', ' ', ' ', ' ', ' '],\n",
       " [' ', ' ', ' ', ' ', ' ', ' ', ' ', ' ', ' ', ' ']]"
      ]
     },
     "execution_count": 22,
     "metadata": {},
     "output_type": "execute_result"
    }
   ],
   "source": [
    "tablero\n",
    "tablero[3][3] = 'B'\n",
    "tablero[4][3] = 'B'\n",
    "tablero[5][3] = 'B'\n",
    "tablero[6][3] = 'B'\n",
    "tablero"
   ]
  },
  {
   "cell_type": "code",
   "execution_count": null,
   "metadata": {},
   "outputs": [
    {
     "data": {
      "text/plain": [
       "[[' ', ' ', ' ', ' ', ' ', ' ', ' ', ' ', ' ', ' '],\n",
       " ['B', 'B', 'B', 'B', ' ', ' ', ' ', ' ', ' ', ' '],\n",
       " [' ', ' ', ' ', ' ', ' ', ' ', ' ', ' ', ' ', ' '],\n",
       " [' ', ' ', ' ', 'B', ' ', ' ', ' ', ' ', ' ', ' '],\n",
       " [' ', ' ', ' ', 'B', ' ', ' ', ' ', ' ', ' ', ' '],\n",
       " [' ', ' ', ' ', 'B', ' ', ' ', ' ', ' ', ' ', ' '],\n",
       " [' ', ' ', ' ', 'B', ' ', ' ', ' ', ' ', ' ', ' '],\n",
       " [' ', ' ', ' ', ' ', ' ', ' ', ' ', ' ', ' ', ' '],\n",
       " [' ', ' ', ' ', ' ', ' ', ' ', ' ', ' ', ' ', ' '],\n",
       " [' ', ' ', ' ', ' ', ' ', ' ', ' ', ' ', ' ', ' ']]"
      ]
     },
     "execution_count": 23,
     "metadata": {},
     "output_type": "execute_result"
    }
   ],
   "source": [
    "tablero[1][0] = 'B'\n",
    "tablero[1][1] = 'B'\n",
    "tablero[1][2] = 'B'\n",
    "tablero[1][3] = 'B'\n",
    "tablero"
   ]
  },
  {
   "cell_type": "code",
   "execution_count": null,
   "metadata": {},
   "outputs": [
    {
     "name": "stdout",
     "output_type": "stream",
     "text": [
      "Agua\n"
     ]
    },
    {
     "data": {
      "text/plain": [
       "[[' ', 'O', ' ', ' ', ' ', ' ', ' ', ' ', ' ', ' '],\n",
       " ['B', 'B', 'B', 'B', ' ', ' ', ' ', ' ', ' ', ' '],\n",
       " [' ', ' ', ' ', ' ', ' ', ' ', ' ', ' ', ' ', ' '],\n",
       " [' ', ' ', ' ', 'B', ' ', ' ', ' ', ' ', ' ', ' '],\n",
       " [' ', ' ', ' ', 'B', ' ', ' ', ' ', ' ', ' ', ' '],\n",
       " [' ', ' ', ' ', 'B', ' ', ' ', ' ', ' ', ' ', ' '],\n",
       " [' ', ' ', ' ', 'B', ' ', ' ', ' ', ' ', ' ', ' '],\n",
       " [' ', ' ', ' ', ' ', ' ', ' ', ' ', ' ', ' ', ' '],\n",
       " [' ', ' ', ' ', ' ', ' ', ' ', ' ', ' ', ' ', ' '],\n",
       " [' ', ' ', ' ', ' ', ' ', ' ', ' ', ' ', ' ', ' ']]"
      ]
     },
     "execution_count": 24,
     "metadata": {},
     "output_type": "execute_result"
    }
   ],
   "source": [
    "def disparo(tablero,i,j):\n",
    "    if tablero[i][j] == 'B':\n",
    "        print(\"Tocado\")\n",
    "        tablero[i][j] = \"X\"\n",
    "        return True\n",
    "    elif tablero[i][j] == \" \":\n",
    "        print(\"Agua\")\n",
    "        tablero[i][j] = \"O\"\n",
    "        return False\n",
    "    else:\n",
    "        print(\"Ya habías disparado allí, inútil\")\n",
    "        return False\n",
    "\n",
    "disparo(tablero,0,1)\n",
    "tablero"
   ]
  },
  {
   "cell_type": "code",
   "execution_count": null,
   "metadata": {},
   "outputs": [],
   "source": [
    "def disparo(tablero,tablero_mostrar,i,j):\n",
    "    if tablero[i][j] == 'B':\n",
    "        print(\"Tocado\")\n",
    "        tablero[i][j] = \"X\"\n",
    "        tablero_mostrar[i][j] = \"X\"\n",
    "        return True\n",
    "    elif tablero[i][j] == \" \":\n",
    "        print(\"Agua\")\n",
    "        tablero[i][j] = \"O\"\n",
    "        tablero_mostrar[i][j] = \"X\"\n",
    "        return False\n",
    "    else:\n",
    "        print(\"Ya habías disparado allí, inútil\")\n",
    "        return False"
   ]
  },
  {
   "cell_type": "code",
   "execution_count": null,
   "metadata": {},
   "outputs": [
    {
     "data": {
      "text/plain": [
       "[[' ', 'O', ' ', ' ', ' ', ' ', ' ', ' ', ' ', ' '],\n",
       " ['B', 'B', 'B', 'B', ' ', ' ', ' ', ' ', ' ', ' '],\n",
       " [' ', ' ', ' ', ' ', ' ', ' ', ' ', ' ', ' ', ' '],\n",
       " [' ', ' ', ' ', 'B', ' ', ' ', ' ', ' ', ' ', ' '],\n",
       " [' ', ' ', ' ', 'B', ' ', ' ', ' ', ' ', ' ', ' '],\n",
       " [' ', ' ', ' ', 'B', ' ', ' ', ' ', ' ', ' ', ' '],\n",
       " [' ', ' ', ' ', 'B', ' ', ' ', ' ', ' ', ' ', ' '],\n",
       " [' ', ' ', ' ', ' ', ' ', ' ', ' ', ' ', ' ', ' '],\n",
       " [' ', ' ', ' ', ' ', ' ', ' ', ' ', ' ', ' ', ' '],\n",
       " [' ', ' ', ' ', ' ', ' ', ' ', ' ', ' ', ' ', ' ']]"
      ]
     },
     "execution_count": 26,
     "metadata": {},
     "output_type": "execute_result"
    }
   ],
   "source": [
    "tablero"
   ]
  },
  {
   "cell_type": "code",
   "execution_count": null,
   "metadata": {},
   "outputs": [
    {
     "data": {
      "text/plain": [
       "[[' ', ' ', ' ', ' ', ' ', ' ', ' ', ' ', ' ', ' '],\n",
       " [' ', ' ', ' ', ' ', ' ', ' ', ' ', ' ', ' ', ' '],\n",
       " [' ', ' ', ' ', ' ', ' ', ' ', ' ', ' ', ' ', ' '],\n",
       " [' ', ' ', ' ', ' ', ' ', ' ', ' ', ' ', ' ', ' '],\n",
       " [' ', ' ', ' ', ' ', ' ', ' ', ' ', ' ', ' ', ' '],\n",
       " [' ', ' ', ' ', ' ', ' ', ' ', ' ', ' ', ' ', ' '],\n",
       " [' ', ' ', ' ', ' ', ' ', ' ', ' ', ' ', ' ', ' '],\n",
       " [' ', ' ', ' ', ' ', ' ', ' ', ' ', ' ', ' ', ' '],\n",
       " [' ', ' ', ' ', ' ', ' ', ' ', ' ', ' ', ' ', ' '],\n",
       " [' ', ' ', ' ', ' ', ' ', ' ', ' ', ' ', ' ', ' ']]"
      ]
     },
     "execution_count": 27,
     "metadata": {},
     "output_type": "execute_result"
    }
   ],
   "source": [
    "tablero_mostrar"
   ]
  },
  {
   "cell_type": "code",
   "execution_count": 2,
   "metadata": {},
   "outputs": [
    {
     "ename": "NameError",
     "evalue": "name 'disparo' is not defined",
     "output_type": "error",
     "traceback": [
      "\u001b[31m---------------------------------------------------------------------------\u001b[39m",
      "\u001b[31mNameError\u001b[39m                                 Traceback (most recent call last)",
      "\u001b[36mCell\u001b[39m\u001b[36m \u001b[39m\u001b[32mIn[2]\u001b[39m\u001b[32m, line 1\u001b[39m\n\u001b[32m----> \u001b[39m\u001b[32m1\u001b[39m \u001b[43mdisparo\u001b[49m(tablero,\u001b[32m0\u001b[39m,\u001b[32m0\u001b[39m)\n\u001b[32m      2\u001b[39m tablero\n",
      "\u001b[31mNameError\u001b[39m: name 'disparo' is not defined"
     ]
    }
   ],
   "source": [
    "disparo(tablero,0,0)\n",
    "tablero"
   ]
  },
  {
   "cell_type": "code",
   "execution_count": null,
   "metadata": {},
   "outputs": [
    {
     "name": "stdout",
     "output_type": "stream",
     "text": [
      "Tocado\n"
     ]
    },
    {
     "data": {
      "text/plain": [
       "[['O', ' ', ' ', ' ', ' ', ' ', ' ', ' ', ' ', ' '],\n",
       " ['X', 'B', 'B', 'B', ' ', ' ', ' ', ' ', ' ', ' '],\n",
       " [' ', ' ', ' ', ' ', ' ', ' ', ' ', ' ', ' ', ' '],\n",
       " [' ', ' ', ' ', 'B', ' ', ' ', ' ', ' ', ' ', ' '],\n",
       " [' ', ' ', ' ', 'B', ' ', ' ', ' ', ' ', ' ', ' '],\n",
       " [' ', ' ', ' ', 'B', ' ', ' ', ' ', ' ', ' ', ' '],\n",
       " [' ', ' ', ' ', 'B', ' ', ' ', ' ', ' ', ' ', ' '],\n",
       " [' ', ' ', ' ', ' ', ' ', ' ', ' ', ' ', ' ', ' '],\n",
       " [' ', ' ', ' ', ' ', ' ', ' ', ' ', ' ', ' ', ' '],\n",
       " [' ', ' ', ' ', ' ', ' ', ' ', ' ', ' ', ' ', ' ']]"
      ]
     },
     "execution_count": 15,
     "metadata": {},
     "output_type": "execute_result"
    }
   ],
   "source": [
    "disparo(tablero,1,0)\n",
    "tablero"
   ]
  },
  {
   "cell_type": "code",
   "execution_count": null,
   "metadata": {},
   "outputs": [
    {
     "name": "stdout",
     "output_type": "stream",
     "text": [
      "Ya habías disparado allí, inútil\n"
     ]
    },
    {
     "data": {
      "text/plain": [
       "[['O', ' ', ' ', ' ', ' ', ' ', ' ', ' ', ' ', ' '],\n",
       " ['X', 'B', 'B', 'B', ' ', ' ', ' ', ' ', ' ', ' '],\n",
       " [' ', ' ', ' ', ' ', ' ', ' ', ' ', ' ', ' ', ' '],\n",
       " [' ', ' ', ' ', 'B', ' ', ' ', ' ', ' ', ' ', ' '],\n",
       " [' ', ' ', ' ', 'B', ' ', ' ', ' ', ' ', ' ', ' '],\n",
       " [' ', ' ', ' ', 'B', ' ', ' ', ' ', ' ', ' ', ' '],\n",
       " [' ', ' ', ' ', 'B', ' ', ' ', ' ', ' ', ' ', ' '],\n",
       " [' ', ' ', ' ', ' ', ' ', ' ', ' ', ' ', ' ', ' '],\n",
       " [' ', ' ', ' ', ' ', ' ', ' ', ' ', ' ', ' ', ' '],\n",
       " [' ', ' ', ' ', ' ', ' ', ' ', ' ', ' ', ' ', ' ']]"
      ]
     },
     "execution_count": 16,
     "metadata": {},
     "output_type": "execute_result"
    }
   ],
   "source": [
    "disparo(tablero,1,0)\n",
    "tablero"
   ]
  },
  {
   "cell_type": "code",
   "execution_count": null,
   "metadata": {},
   "outputs": [],
   "source": [
    "import pprint"
   ]
  },
  {
   "cell_type": "code",
   "execution_count": null,
   "metadata": {},
   "outputs": [],
   "source": [
    "def visualizar(tablero):\n",
    "    pprint.pprint(tablero)"
   ]
  },
  {
   "cell_type": "code",
   "execution_count": null,
   "metadata": {},
   "outputs": [
    {
     "name": "stdout",
     "output_type": "stream",
     "text": [
      "[[' ', ' ', ' ', ' ', ' ', ' ', ' ', ' ', ' ', ' '],\n",
      " [' ', ' ', ' ', ' ', ' ', ' ', ' ', ' ', ' ', ' '],\n",
      " [' ', ' ', ' ', 'X', 'X', ' ', ' ', ' ', ' ', ' '],\n",
      " [' ', ' ', ' ', 'X', ' ', ' ', ' ', ' ', ' ', ' '],\n",
      " [' ', ' ', ' ', ' ', ' ', ' ', ' ', ' ', ' ', ' '],\n",
      " [' ', ' ', ' ', ' ', ' ', ' ', 'X', ' ', ' ', ' '],\n",
      " [' ', ' ', ' ', ' ', ' ', ' ', ' ', ' ', ' ', ' '],\n",
      " [' ', ' ', ' ', ' ', ' ', ' ', ' ', ' ', ' ', ' '],\n",
      " [' ', ' ', ' ', ' ', ' ', ' ', ' ', ' ', ' ', ' '],\n",
      " [' ', ' ', ' ', ' ', ' ', ' ', ' ', ' ', ' ', ' ']]\n",
      "Agua\n"
     ]
    }
   ],
   "source": [
    "while True:\n",
    "    visualizar(tablero_mostrar)\n",
    "    i = int(input(\"Introduce la fila, por favor\"))\n",
    "    j = int(input(\"Introduce la columna, por favor\"))\n",
    "    acierto =  disparo(tablero,tablero_mostrar,i,j)\n",
    "    if not acierto:\n",
    "        break\n",
    "    \n",
    "    \n",
    "    "
   ]
  }
 ],
 "metadata": {
  "kernelspec": {
   "display_name": "Python 3",
   "language": "python",
   "name": "python3"
  },
  "language_info": {
   "codemirror_mode": {
    "name": "ipython",
    "version": 3
   },
   "file_extension": ".py",
   "mimetype": "text/x-python",
   "name": "python",
   "nbconvert_exporter": "python",
   "pygments_lexer": "ipython3",
   "version": "3.11.9"
  }
 },
 "nbformat": 4,
 "nbformat_minor": 2
}
