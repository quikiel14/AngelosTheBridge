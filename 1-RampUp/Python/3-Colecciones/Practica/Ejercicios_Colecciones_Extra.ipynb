{
 "cells": [
  {
   "cell_type": "markdown",
   "metadata": {},
   "source": [
    "## Ejercicio Extra\n",
    "Programa el SW de una biblioteca:\n",
    "\n",
    "* Preguntar qué operación quieres realizar (visualizar todos los libros de la biblioteca/buscar libro/añadir libro/eliminar libro por título)\n",
    "    * En caso de que pida el usuario elija visualizar se visualizarán todos los libros\n",
    "    * Buscar libro: búsqueda por título que introduce el usuario y se visualiza todos los campos del libro\n",
    "    * Añadir libro: se debe solicitar al usuario que introduzca título y autor para el nuevo libro y se añade el libro a la lista de libros\n",
    "    * Eliminar libro: se solicita al usuario el título del libro y éste debe ser eliminado de la lista de libros\n",
    "    * Alquilar libro: se solicita al usuario el título del libro y se debe pasar el campo \"Alquilado\" a True\n",
    "    * Devolver libro: se solicita al usuario el título del libro y se debe pasar el campo \"Alquilado\" a False"
   ]
  },
  {
   "cell_type": "code",
   "execution_count": 1,
   "metadata": {},
   "outputs": [],
   "source": [
    "libros = [\n",
    "    {\"Titulo\": \"Python Data Science Handbook\", \"Autor\": \"Jake VanderPlas\", \"Alquilado\": False},\n",
    "    {\"Titulo\": \"Hands-On Machine Learning with Scikit-Learn, Keras, and TensorFlow\", \"Autor\": \"Aurélien Géron\", \"Alquilado\": True},\n",
    "    {\"Titulo\": \"Pattern Recognition and Machine Learning\", \"Autor\": \"Christopher M. Bishop\", \"Alquilado\": False},\n",
    "    {\"Titulo\": \"Deep Learning\", \"Autor\": \"Ian Goodfellow, Yoshua Bengio, Aaron Courville\", \"Alquilado\": True},\n",
    "    {\"Titulo\": \"The Elements of Statistical Learning\", \"Autor\": \"Trevor Hastie, Robert Tibshirani, Jerome Friedman\", \"Alquilado\": False},\n",
    "    {\"Titulo\": \"Data Science for Business\", \"Autor\": \"Foster Provost, Tom Fawcett\", \"Alquilado\": False},\n",
    "    {\"Titulo\": \"Bayesian Data Analysis\", \"Autor\": \"Andrew Gelman et al.\", \"Alquilado\": True},\n",
    "    {\"Titulo\": \"Introduction to the Theory of Computation\", \"Autor\": \"Michael Sipser\", \"Alquilado\": False},\n",
    "    {\"Titulo\": \"Artificial Intelligence: A Modern Approach\", \"Autor\": \"Stuart Russell, Peter Norvig\", \"Alquilado\": True},\n",
    "    {\"Titulo\": \"Computer Vision: Algorithms and Applications\", \"Autor\": \"Richard Szeliski\", \"Alquilado\": False},\n",
    "    {\"Titulo\": \"Data Science from Scratch\", \"Autor\": \"Joel Grus\", \"Alquilado\": True},\n",
    "    {\"Titulo\": \"The Art of Statistics\", \"Autor\": \"David Spiegelhalter\", \"Alquilado\": False},\n",
    "    {\"Titulo\": \"Python Machine Learning\", \"Autor\": \"Sebastian Raschka, Vahid Mirjalili\", \"Alquilado\": True},\n",
    "    {\"Titulo\": \"An Introduction to Statistical Learning\", \"Autor\": \"Gareth James, Daniela Witten, Trevor Hastie, Robert Tibshirani\", \"Alquilado\": False},\n",
    "    {\"Titulo\": \"Fundamentals of Data Engineering\", \"Autor\": \"Joe Reis, Matt Housley\", \"Alquilado\": False},\n",
    "    {\"Titulo\": \"Storytelling with Data\", \"Autor\": \"Cole Nussbaumer Knaflic\", \"Alquilado\": True},\n",
    "    {\"Titulo\": \"Building Machine Learning Powered Applications\", \"Autor\": \"Emmanuel Ameisen\", \"Alquilado\": False},\n",
    "    {\"Titulo\": \"Practical Statistics for Data Scientists\", \"Autor\": \"Peter Bruce, Andrew Bruce\", \"Alquilado\": True},\n",
    "    {\"Titulo\": \"SQL for Data Scientists\", \"Autor\": \"Renee M. P. Teate\", \"Alquilado\": False},\n",
    "    {\"Titulo\": \"Data Engineering on Azure\", \"Autor\": \"Vlad Riscutia\", \"Alquilado\": True}\n",
    "]"
   ]
  },
  {
   "cell_type": "code",
   "execution_count": 2,
   "metadata": {},
   "outputs": [],
   "source": [
    "import pprint"
   ]
  },
  {
   "cell_type": "code",
   "execution_count": 3,
   "metadata": {},
   "outputs": [],
   "source": [
    "def imprimir_libros(libros):\n",
    "    pprint.pprint(libros)\n",
    "    \n",
    "        "
   ]
  },
  {
   "cell_type": "code",
   "execution_count": 4,
   "metadata": {},
   "outputs": [
    {
     "name": "stdout",
     "output_type": "stream",
     "text": [
      "[{'Alquilado': False,\n",
      "  'Autor': 'Jake VanderPlas',\n",
      "  'Titulo': 'Python Data Science Handbook'},\n",
      " {'Alquilado': True,\n",
      "  'Autor': 'Aurélien Géron',\n",
      "  'Titulo': 'Hands-On Machine Learning with Scikit-Learn, Keras, and '\n",
      "            'TensorFlow'},\n",
      " {'Alquilado': False,\n",
      "  'Autor': 'Christopher M. Bishop',\n",
      "  'Titulo': 'Pattern Recognition and Machine Learning'},\n",
      " {'Alquilado': True,\n",
      "  'Autor': 'Ian Goodfellow, Yoshua Bengio, Aaron Courville',\n",
      "  'Titulo': 'Deep Learning'},\n",
      " {'Alquilado': False,\n",
      "  'Autor': 'Trevor Hastie, Robert Tibshirani, Jerome Friedman',\n",
      "  'Titulo': 'The Elements of Statistical Learning'},\n",
      " {'Alquilado': False,\n",
      "  'Autor': 'Foster Provost, Tom Fawcett',\n",
      "  'Titulo': 'Data Science for Business'},\n",
      " {'Alquilado': True,\n",
      "  'Autor': 'Andrew Gelman et al.',\n",
      "  'Titulo': 'Bayesian Data Analysis'},\n",
      " {'Alquilado': False,\n",
      "  'Autor': 'Michael Sipser',\n",
      "  'Titulo': 'Introduction to the Theory of Computation'},\n",
      " {'Alquilado': True,\n",
      "  'Autor': 'Stuart Russell, Peter Norvig',\n",
      "  'Titulo': 'Artificial Intelligence: A Modern Approach'},\n",
      " {'Alquilado': False,\n",
      "  'Autor': 'Richard Szeliski',\n",
      "  'Titulo': 'Computer Vision: Algorithms and Applications'},\n",
      " {'Alquilado': True,\n",
      "  'Autor': 'Joel Grus',\n",
      "  'Titulo': 'Data Science from Scratch'},\n",
      " {'Alquilado': False,\n",
      "  'Autor': 'David Spiegelhalter',\n",
      "  'Titulo': 'The Art of Statistics'},\n",
      " {'Alquilado': True,\n",
      "  'Autor': 'Sebastian Raschka, Vahid Mirjalili',\n",
      "  'Titulo': 'Python Machine Learning'},\n",
      " {'Alquilado': False,\n",
      "  'Autor': 'Gareth James, Daniela Witten, Trevor Hastie, Robert Tibshirani',\n",
      "  'Titulo': 'An Introduction to Statistical Learning'},\n",
      " {'Alquilado': False,\n",
      "  'Autor': 'Joe Reis, Matt Housley',\n",
      "  'Titulo': 'Fundamentals of Data Engineering'},\n",
      " {'Alquilado': True,\n",
      "  'Autor': 'Cole Nussbaumer Knaflic',\n",
      "  'Titulo': 'Storytelling with Data'},\n",
      " {'Alquilado': False,\n",
      "  'Autor': 'Emmanuel Ameisen',\n",
      "  'Titulo': 'Building Machine Learning Powered Applications'},\n",
      " {'Alquilado': True,\n",
      "  'Autor': 'Peter Bruce, Andrew Bruce',\n",
      "  'Titulo': 'Practical Statistics for Data Scientists'},\n",
      " {'Alquilado': False,\n",
      "  'Autor': 'Renee M. P. Teate',\n",
      "  'Titulo': 'SQL for Data Scientists'},\n",
      " {'Alquilado': True,\n",
      "  'Autor': 'Vlad Riscutia',\n",
      "  'Titulo': 'Data Engineering on Azure'}]\n"
     ]
    }
   ],
   "source": [
    "imprimir_libros(libros)"
   ]
  },
  {
   "cell_type": "code",
   "execution_count": null,
   "metadata": {},
   "outputs": [],
   "source": [
    "def buscar_libro(libros):\n",
    "    titulo_buscar = input(\"Introduce el título del libro\")\n",
    "    "
   ]
  },
  {
   "cell_type": "code",
   "execution_count": 8,
   "metadata": {},
   "outputs": [
    {
     "name": "stdout",
     "output_type": "stream",
     "text": [
      "Libro encontrado\n",
      "{'Titulo': 'An Introduction to Statistical Learning', 'Autor': 'Gareth James, Daniela Witten, Trevor Hastie, Robert Tibshirani', 'Alquilado': False}\n"
     ]
    }
   ],
   "source": [
    "titulo_buscar = \"An Introduction to Statistical Learning\"\n",
    "for libro in libros:\n",
    "    #print(libro)\n",
    "    titulo = libro['Titulo']\n",
    "    #print(titulo)\n",
    "    if titulo == titulo_buscar:\n",
    "        print(\"Libro encontrado\")\n",
    "        print(libro)"
   ]
  },
  {
   "cell_type": "code",
   "execution_count": null,
   "metadata": {},
   "outputs": [],
   "source": [
    "def buscar_libro(libros):\n",
    "    titulo_buscar = input(\"Introduce el título, por favor:\")\n",
    "    for libro in libros:\n",
    "        #print(libro)\n",
    "        titulo = libro['Titulo']\n",
    "        #print(titulo)\n",
    "        if titulo == titulo_buscar:\n",
    "            print(\"Libro encontrado\")\n",
    "            print(libro)\n",
    "            break"
   ]
  },
  {
   "cell_type": "code",
   "execution_count": 10,
   "metadata": {},
   "outputs": [
    {
     "name": "stdout",
     "output_type": "stream",
     "text": [
      "Libro encontrado\n",
      "{'Titulo': 'An Introduction to Statistical Learning', 'Autor': 'Gareth James, Daniela Witten, Trevor Hastie, Robert Tibshirani', 'Alquilado': False}\n"
     ]
    }
   ],
   "source": [
    "buscar_libro(libros)"
   ]
  },
  {
   "cell_type": "code",
   "execution_count": null,
   "metadata": {},
   "outputs": [],
   "source": [
    "salir = False\n",
    "\n",
    "while not salir:\n",
    "    opcion = input(\"Visualizar/Buscar/Añadir/Alquilar/Devolver/Salir\")\n",
    "    match opcion:\n",
    "        case \"Visualizar\":\n",
    "            imprimir_libros(libros)\n",
    "        case \"Buscar\":\n",
    "            buscar_libro(libros)\n",
    "        case \"Salir\":\n",
    "            salir = True\n",
    "            "
   ]
  },
  {
   "cell_type": "code",
   "execution_count": null,
   "metadata": {},
   "outputs": [],
   "source": [
    "\n",
    "\n",
    "while True:\n",
    "    opcion = input(\"Visualizar/Buscar/Añadir/Alquilar/Devolver/Salir\")\n",
    "    match opcion:\n",
    "        case \"Visualizar\":\n",
    "            imprimir_libros(libros)\n",
    "        case \"Buscar\":\n",
    "            buscar_libro(libros)\n",
    "        case \"Salir\":\n",
    "            break\n",
    "            "
   ]
  }
 ],
 "metadata": {
  "kernelspec": {
   "display_name": "Python 3",
   "language": "python",
   "name": "python3"
  },
  "language_info": {
   "codemirror_mode": {
    "name": "ipython",
    "version": 3
   },
   "file_extension": ".py",
   "mimetype": "text/x-python",
   "name": "python",
   "nbconvert_exporter": "python",
   "pygments_lexer": "ipython3",
   "version": "3.11.9"
  }
 },
 "nbformat": 4,
 "nbformat_minor": 2
}
