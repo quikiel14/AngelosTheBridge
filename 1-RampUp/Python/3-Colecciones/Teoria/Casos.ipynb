{
 "cells": [
  {
   "cell_type": "code",
   "execution_count": 1,
   "metadata": {},
   "outputs": [
    {
     "data": {
      "text/plain": [
       "[' ', ' ', ' ', ' ', ' ', ' ', ' ', ' ', ' ', ' ']"
      ]
     },
     "execution_count": 1,
     "metadata": {},
     "output_type": "execute_result"
    }
   ],
   "source": [
    "linea = []\n",
    "for i in range(10):\n",
    "    linea.append(\" \")\n",
    "linea"
   ]
  },
  {
   "cell_type": "code",
   "execution_count": 2,
   "metadata": {},
   "outputs": [
    {
     "data": {
      "text/plain": [
       "[[' ', ' ', ' ', ' ', ' ', ' ', ' ', ' ', ' ', ' '],\n",
       " [' ', ' ', ' ', ' ', ' ', ' ', ' ', ' ', ' ', ' '],\n",
       " [' ', ' ', ' ', ' ', ' ', ' ', ' ', ' ', ' ', ' '],\n",
       " [' ', ' ', ' ', ' ', ' ', ' ', ' ', ' ', ' ', ' '],\n",
       " [' ', ' ', ' ', ' ', ' ', ' ', ' ', ' ', ' ', ' '],\n",
       " [' ', ' ', ' ', ' ', ' ', ' ', ' ', ' ', ' ', ' '],\n",
       " [' ', ' ', ' ', ' ', ' ', ' ', ' ', ' ', ' ', ' '],\n",
       " [' ', ' ', ' ', ' ', ' ', ' ', ' ', ' ', ' ', ' '],\n",
       " [' ', ' ', ' ', ' ', ' ', ' ', ' ', ' ', ' ', ' '],\n",
       " [' ', ' ', ' ', ' ', ' ', ' ', ' ', ' ', ' ', ' ']]"
      ]
     },
     "execution_count": 2,
     "metadata": {},
     "output_type": "execute_result"
    }
   ],
   "source": [
    "\n",
    "tablero = []\n",
    "for i in range(10):\n",
    "    linea = []\n",
    "    for i in range(10):\n",
    "        linea.append(\" \")\n",
    "    tablero.append(linea)\n",
    "\n",
    "tablero"
   ]
  },
  {
   "cell_type": "code",
   "execution_count": 3,
   "metadata": {},
   "outputs": [
    {
     "data": {
      "text/plain": [
       "[' ', ' ', ' ', ' ', ' ', ' ', ' ', ' ', ' ', ' ']"
      ]
     },
     "execution_count": 3,
     "metadata": {},
     "output_type": "execute_result"
    }
   ],
   "source": [
    "tablero[0]"
   ]
  },
  {
   "cell_type": "code",
   "execution_count": 4,
   "metadata": {},
   "outputs": [
    {
     "data": {
      "text/plain": [
       "[[' ', ' ', ' ', ' ', 'b', ' ', ' ', ' ', ' ', ' '],\n",
       " [' ', ' ', ' ', ' ', ' ', ' ', ' ', ' ', ' ', ' '],\n",
       " [' ', ' ', ' ', ' ', ' ', ' ', ' ', ' ', ' ', ' '],\n",
       " [' ', ' ', ' ', ' ', ' ', ' ', ' ', ' ', ' ', ' '],\n",
       " [' ', ' ', ' ', ' ', ' ', ' ', ' ', ' ', ' ', ' '],\n",
       " [' ', ' ', ' ', ' ', ' ', ' ', ' ', ' ', ' ', ' '],\n",
       " [' ', ' ', ' ', ' ', ' ', ' ', ' ', ' ', ' ', ' '],\n",
       " [' ', ' ', ' ', ' ', ' ', ' ', ' ', ' ', ' ', ' '],\n",
       " [' ', ' ', ' ', ' ', ' ', ' ', ' ', ' ', ' ', ' '],\n",
       " [' ', ' ', ' ', ' ', ' ', ' ', ' ', ' ', ' ', ' ']]"
      ]
     },
     "execution_count": 4,
     "metadata": {},
     "output_type": "execute_result"
    }
   ],
   "source": [
    "tablero[0][4]='b'\n",
    "tablero"
   ]
  },
  {
   "cell_type": "code",
   "execution_count": null,
   "metadata": {},
   "outputs": [
    {
     "name": "stdout",
     "output_type": "stream",
     "text": [
      "El laptop 0 cumple las condiciones que busco\n",
      "El laptop 3 cumple las condiciones que busco\n"
     ]
    }
   ],
   "source": [
    "laptop_1 = {\"RAM\": 16,\n",
    "            \"CPU\": \"i3\",\n",
    "            \"Disco\":500,\n",
    "            \"Precio\":750}\n",
    "\n",
    "laptop_2 = {\"RAM\": 36,\n",
    "            \"CPU\": \"i7\",\n",
    "            \"Disco\":700,\n",
    "            \"Precio\":100}\n",
    "\n",
    "laptop_3 = {\"RAM\": 36,\n",
    "            \"CPU\": \"i7\",\n",
    "            \"Disco\":700,\n",
    "            \"Precio\":100}\n",
    "\n",
    "laptop_4 = {\"RAM\": 32,\n",
    "            \"CPU\": \"i3\",\n",
    "            \"Disco\":500,\n",
    "            \"Precio\":799}\n",
    "\n",
    "lista_laptops = [laptop_1,laptop_2,laptop_3,laptop_4]\n",
    "\n",
    "for indice,laptop in enumerate(lista_laptops):\n",
    "    ram = laptop[\"RAM\"]\n",
    "    cpu = laptop[\"CPU\"]\n",
    "    disco = laptop[\"Disco\"]\n",
    "    precio = laptop[\"Precio\"]\n",
    "    cond = (ram == 16 or ram == 32 or ram == 64) and (cpu == \"i3\" and disco == 500) and (precio <=800)\n",
    "    if cond:\n",
    "        print(\"El laptop\",indice,\"cumple las condiciones que busco\")"
   ]
  },
  {
   "cell_type": "code",
   "execution_count": 12,
   "metadata": {},
   "outputs": [
    {
     "name": "stdout",
     "output_type": "stream",
     "text": [
      "[{'Nombre': 'Ane', 'Nota': 8.5, 'Trabajo': True},\n",
      " {'Nombre': 'Unai', 'Nota': 6.2, 'Trabajo': False},\n",
      " {'Nombre': 'Irati', 'Nota': 9.1, 'Trabajo': True},\n",
      " {'Nombre': 'Iker', 'Nota': 5.8, 'Trabajo': False},\n",
      " {'Nombre': 'Maialen', 'Nota': 7.4, 'Trabajo': True},\n",
      " {'Nombre': 'Eneko', 'Nota': 4.9, 'Trabajo': False},\n",
      " {'Nombre': 'Nahia', 'Nota': 9.7, 'Trabajo': True},\n",
      " {'Nombre': 'Ander', 'Nota': 3.5, 'Trabajo': False},\n",
      " {'Nombre': 'Leire', 'Nota': 7.9, 'Trabajo': True},\n",
      " {'Nombre': 'Jon', 'Nota': 6.0, 'Trabajo': False}]\n",
      "\n",
      "[{'Nombre': 'Ane', 'Nota': 8.5, 'Trabajo': True}, {'Nombre': 'Unai', 'Nota': 6.2, 'Trabajo': False}, {'Nombre': 'Irati', 'Nota': 9.1, 'Trabajo': True}, {'Nombre': 'Iker', 'Nota': 5.8, 'Trabajo': False}, {'Nombre': 'Maialen', 'Nota': 7.4, 'Trabajo': True}, {'Nombre': 'Eneko', 'Nota': 4.9, 'Trabajo': False}, {'Nombre': 'Nahia', 'Nota': 9.7, 'Trabajo': True}, {'Nombre': 'Ander', 'Nota': 3.5, 'Trabajo': False}, {'Nombre': 'Leire', 'Nota': 7.9, 'Trabajo': True}, {'Nombre': 'Jon', 'Nota': 6.0, 'Trabajo': False}]\n"
     ]
    }
   ],
   "source": [
    "alumnos = [\n",
    "    {\"Nombre\": \"Ane\", \"Nota\": 8.5, \"Trabajo\": True},\n",
    "    {\"Nombre\": \"Unai\", \"Nota\": 6.2, \"Trabajo\": False},\n",
    "    {\"Nombre\": \"Irati\", \"Nota\": 9.1, \"Trabajo\": True},\n",
    "    {\"Nombre\": \"Iker\", \"Nota\": 5.8, \"Trabajo\": False},\n",
    "    {\"Nombre\": \"Maialen\", \"Nota\": 7.4, \"Trabajo\": True},\n",
    "    {\"Nombre\": \"Eneko\", \"Nota\": 4.9, \"Trabajo\": False},\n",
    "    {\"Nombre\": \"Nahia\", \"Nota\": 9.7, \"Trabajo\": True},\n",
    "    {\"Nombre\": \"Ander\", \"Nota\": 3.5, \"Trabajo\": False},\n",
    "    {\"Nombre\": \"Leire\", \"Nota\": 7.9, \"Trabajo\": True},\n",
    "    {\"Nombre\": \"Jon\", \"Nota\": 6.0, \"Trabajo\": False},\n",
    "]\n",
    "\n",
    "from pprint import pprint\n",
    "pprint(alumnos)\n",
    "print()\n",
    "print(alumnos)"
   ]
  },
  {
   "cell_type": "code",
   "execution_count": 9,
   "metadata": {},
   "outputs": [
    {
     "name": "stdout",
     "output_type": "stream",
     "text": [
      "[{'Nombre': 'Ane', 'Nota': 8.5, 'Nota final': 9.5, 'Trabajo': True},\n",
      " {'Nombre': 'Unai', 'Nota': 6.2, 'Trabajo': False},\n",
      " {'Nombre': 'Irati', 'Nota': 9.1, 'Nota final': 10.1, 'Trabajo': True},\n",
      " {'Nombre': 'Iker', 'Nota': 5.8, 'Trabajo': False},\n",
      " {'Nombre': 'Maialen', 'Nota': 7.4, 'Nota final': 8.4, 'Trabajo': True},\n",
      " {'Nombre': 'Eneko', 'Nota': 4.9, 'Trabajo': False},\n",
      " {'Nombre': 'Nahia', 'Nota': 9.7, 'Nota final': 10.7, 'Trabajo': True},\n",
      " {'Nombre': 'Ander', 'Nota': 3.5, 'Trabajo': False},\n",
      " {'Nombre': 'Leire', 'Nota': 7.9, 'Nota final': 8.9, 'Trabajo': True},\n",
      " {'Nombre': 'Jon', 'Nota': 6.0, 'Trabajo': False}]\n"
     ]
    }
   ],
   "source": [
    "for alumno in alumnos:\n",
    "    if alumno[\"Trabajo\"] == True:\n",
    "        alumno[\"Nota final\"] = alumno[\"Nota\"] + 1\n",
    "pprint.pprint(alumnos)"
   ]
  },
  {
   "cell_type": "code",
   "execution_count": 11,
   "metadata": {},
   "outputs": [],
   "source": [
    "for alumno in alumnos:\n",
    "    if alumno[\"Trabajo\"]:\n",
    "        alumno[\"Nota Final\"]=alumno[\"Nota\"]+1"
   ]
  },
  {
   "cell_type": "code",
   "execution_count": 12,
   "metadata": {},
   "outputs": [
    {
     "name": "stdout",
     "output_type": "stream",
     "text": [
      "[{'Nombre': 'Ane', 'Nota': 8.5, 'Nota Final': 9.5, 'Trabajo': True},\n",
      " {'Nombre': 'Unai', 'Nota': 6.2, 'Trabajo': False},\n",
      " {'Nombre': 'Irati', 'Nota': 9.1, 'Nota Final': 10.1, 'Trabajo': True},\n",
      " {'Nombre': 'Iker', 'Nota': 5.8, 'Trabajo': False},\n",
      " {'Nombre': 'Maialen', 'Nota': 7.4, 'Nota Final': 8.4, 'Trabajo': True},\n",
      " {'Nombre': 'Eneko', 'Nota': 4.9, 'Trabajo': False},\n",
      " {'Nombre': 'Nahia', 'Nota': 9.7, 'Nota Final': 10.7, 'Trabajo': True},\n",
      " {'Nombre': 'Ander', 'Nota': 3.5, 'Trabajo': False},\n",
      " {'Nombre': 'Leire', 'Nota': 7.9, 'Nota Final': 8.9, 'Trabajo': True},\n",
      " {'Nombre': 'Jon', 'Nota': 6.0, 'Trabajo': False}]\n"
     ]
    }
   ],
   "source": [
    "pprint.pprint(alumnos)"
   ]
  }
 ],
 "metadata": {
  "kernelspec": {
   "display_name": "Python 3",
   "language": "python",
   "name": "python3"
  },
  "language_info": {
   "codemirror_mode": {
    "name": "ipython",
    "version": 3
   },
   "file_extension": ".py",
   "mimetype": "text/x-python",
   "name": "python",
   "nbconvert_exporter": "python",
   "pygments_lexer": "ipython3",
   "version": "3.11.9"
  }
 },
 "nbformat": 4,
 "nbformat_minor": 2
}
