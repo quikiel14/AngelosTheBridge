{
 "cells": [
  {
   "cell_type": "markdown",
   "metadata": {},
   "source": [
    "![imagen](./img/ejercicios.png)"
   ]
  },
  {
   "cell_type": "markdown",
   "metadata": {},
   "source": [
    "# Ejercicios funciones\n",
    "## Ejercicio 1\n",
    "Escribe una función que convierta números del 1 al 7 en nombres de los dias de la semana. La función constará de un único argumento numérico y una salida de tipo string"
   ]
  },
  {
   "cell_type": "code",
   "execution_count": null,
   "metadata": {},
   "outputs": [
    {
     "name": "stdout",
     "output_type": "stream",
     "text": [
      "Martes\n",
      "Número fuera de rango\n"
     ]
    }
   ],
   "source": [
    "def numero_a_dia(numero):\n",
    "    dias = [\"Lunes\", \"Martes\", \"Miércoles\", \"Jueves\", \"Viernes\", \"Sábado\", \"Domingo\"]\n",
    "    \n",
    "    if 1 <= numero <= 7:\n",
    "        return dias[numero - 1]  # Restamos 1 porque las listas en Python empiezan en 0\n",
    "    else:\n",
    "        return \"Número fuera de rango\"\n",
    "\n",
    "\n",
    "print(numero_a_dia(2))\n",
    "print(numero_a_dia(8))  \n",
    "\n",
    "\n"
   ]
  },
  {
   "cell_type": "code",
   "execution_count": null,
   "metadata": {},
   "outputs": [],
   "source": [
    "\n"
   ]
  },
  {
   "cell_type": "code",
   "execution_count": null,
   "metadata": {},
   "outputs": [],
   "source": []
  },
  {
   "cell_type": "code",
   "execution_count": 18,
   "metadata": {},
   "outputs": [],
   "source": []
  },
  {
   "cell_type": "code",
   "execution_count": null,
   "metadata": {},
   "outputs": [],
   "source": []
  },
  {
   "cell_type": "code",
   "execution_count": null,
   "metadata": {},
   "outputs": [],
   "source": []
  },
  {
   "cell_type": "code",
   "execution_count": null,
   "metadata": {},
   "outputs": [],
   "source": []
  },
  {
   "cell_type": "code",
   "execution_count": 35,
   "metadata": {},
   "outputs": [],
   "source": []
  },
  {
   "cell_type": "code",
   "execution_count": null,
   "metadata": {},
   "outputs": [],
   "source": []
  },
  {
   "cell_type": "code",
   "execution_count": null,
   "metadata": {},
   "outputs": [],
   "source": []
  },
  {
   "cell_type": "markdown",
   "metadata": {},
   "source": [
    "## Ejercicio 2\n",
    "En el ejercicio 8 de flujos de control, creábamos una pirámide invertida de números desde el 5. Crea una función que replique el comportamiento de la pirámide, y utiliza un único parámetro de entrada de la función para determinar el número de filas de la pirámide."
   ]
  },
  {
   "cell_type": "code",
   "execution_count": null,
   "metadata": {},
   "outputs": [],
   "source": []
  },
  {
   "cell_type": "code",
   "execution_count": 1,
   "metadata": {},
   "outputs": [
    {
     "name": "stdout",
     "output_type": "stream",
     "text": [
      "8 7 6 5 4 3 2 1 \n",
      "7 6 5 4 3 2 1 \n",
      "6 5 4 3 2 1 \n",
      "5 4 3 2 1 \n",
      "4 3 2 1 \n",
      "3 2 1 \n",
      "2 1 \n",
      "1 \n"
     ]
    }
   ],
   "source": [
    "def piramide(n):\n",
    "    for i in range(n, 0, -1):\n",
    "        for j in range(i, 0, -1):\n",
    "            print(j, end=\" \")\n",
    "        print()\n",
    "\n",
    "\n",
    "piramide(8)\n",
    "\n"
   ]
  },
  {
   "cell_type": "code",
   "execution_count": null,
   "metadata": {},
   "outputs": [],
   "source": []
  },
  {
   "cell_type": "code",
   "execution_count": null,
   "metadata": {},
   "outputs": [],
   "source": []
  },
  {
   "cell_type": "code",
   "execution_count": null,
   "metadata": {},
   "outputs": [],
   "source": []
  },
  {
   "cell_type": "code",
   "execution_count": null,
   "metadata": {},
   "outputs": [],
   "source": []
  },
  {
   "cell_type": "markdown",
   "metadata": {},
   "source": [
    "## Ejercicio 3\n",
    "Escribe una función que compare dos números. La función tiene dos argumentos y hay tres salidas posibles: que sean iguales, que el primero sea  mayor que el segundo, o que el segundo sea mayor que el primero"
   ]
  },
  {
   "cell_type": "code",
   "execution_count": 3,
   "metadata": {},
   "outputs": [
    {
     "name": "stdout",
     "output_type": "stream",
     "text": [
      "El primer número es mayor que el segundo.\n",
      "El segundo número es mayor que el primero.\n",
      "Los números son iguales.\n"
     ]
    }
   ],
   "source": [
    "def comparar_numeros(a, b):\n",
    "    if a > b:\n",
    "        return \"El primer número es mayor que el segundo.\"\n",
    "    elif a < b:\n",
    "        return \"El segundo número es mayor que el primero.\"\n",
    "    else:\n",
    "        return \"Los números son iguales.\"\n",
    "\n",
    "\n",
    "print(comparar_numeros(5, 3)) \n",
    "print(comparar_numeros(2, 7))  \n",
    "print(comparar_numeros(4, 4))  \n"
   ]
  },
  {
   "cell_type": "code",
   "execution_count": 69,
   "metadata": {},
   "outputs": [],
   "source": []
  },
  {
   "cell_type": "code",
   "execution_count": null,
   "metadata": {},
   "outputs": [],
   "source": []
  },
  {
   "cell_type": "code",
   "execution_count": null,
   "metadata": {},
   "outputs": [],
   "source": []
  },
  {
   "cell_type": "code",
   "execution_count": null,
   "metadata": {},
   "outputs": [],
   "source": []
  },
  {
   "cell_type": "code",
   "execution_count": null,
   "metadata": {},
   "outputs": [],
   "source": []
  },
  {
   "attachments": {},
   "cell_type": "markdown",
   "metadata": {},
   "source": [
    "## Ejercicio 4\n",
    "Escribe una función que sea un contador de letras. En el primer argumento tienes que introducir un texto, y el segundo que sea una letra que contar. La función tiene que devolver un entero con el número de veces que aparece esa letra, tanto mayúscula, como minúscula"
   ]
  },
  {
   "cell_type": "code",
   "execution_count": 3,
   "metadata": {},
   "outputs": [
    {
     "name": "stdout",
     "output_type": "stream",
     "text": [
      "La letra 'a' aparece 4 veces en el texto.\n"
     ]
    }
   ],
   "source": [
    "def contar_letra(texto, letra):\n",
    "    \n",
    "    #Contador de veces que aparece una letra en un texto, sin distinguir mayúsculas de minúsculas.\n",
    "    if len(letra) != 1:\n",
    "        raise ValueError(\"El segundo argumento debe ser una única letra.\")\n",
    "    \n",
    "    return texto.lower().count(letra.lower())\n",
    "\n",
    "\n",
    "texto_ejemplo = \"Hola compañeros, espero que tengais un buen dia\"\n",
    "letra_a_buscar = \"a\" \n",
    "resultado = contar_letra(texto_ejemplo, letra_a_buscar)\n",
    "print(f\"La letra '{letra_a_buscar}' aparece {resultado} veces en el texto.\")\n"
   ]
  },
  {
   "cell_type": "code",
   "execution_count": 84,
   "metadata": {},
   "outputs": [],
   "source": [
    "\n",
    "    "
   ]
  },
  {
   "cell_type": "code",
   "execution_count": 86,
   "metadata": {},
   "outputs": [],
   "source": []
  },
  {
   "cell_type": "code",
   "execution_count": null,
   "metadata": {},
   "outputs": [],
   "source": []
  },
  {
   "cell_type": "code",
   "execution_count": 87,
   "metadata": {},
   "outputs": [],
   "source": []
  },
  {
   "cell_type": "code",
   "execution_count": null,
   "metadata": {},
   "outputs": [],
   "source": []
  },
  {
   "cell_type": "code",
   "execution_count": 93,
   "metadata": {},
   "outputs": [],
   "source": []
  },
  {
   "cell_type": "code",
   "execution_count": 101,
   "metadata": {},
   "outputs": [],
   "source": []
  },
  {
   "cell_type": "code",
   "execution_count": 98,
   "metadata": {},
   "outputs": [],
   "source": []
  },
  {
   "cell_type": "code",
   "execution_count": null,
   "metadata": {},
   "outputs": [],
   "source": []
  },
  {
   "cell_type": "markdown",
   "metadata": {},
   "source": [
    "## Ejercicio 5\n",
    "Escribe una función que tenga un único argumento, un string. La salida de la función tiene que ser un diccionario con el conteo de todas las letras de ese string, siendo la clave la letra y el valor el conteo."
   ]
  },
  {
   "cell_type": "code",
   "execution_count": 14,
   "metadata": {},
   "outputs": [
    {
     "name": "stdout",
     "output_type": "stream",
     "text": [
      "{'h': 1, 'o': 2, 'l': 1, 'a': 1, 'g': 2, 'e': 3, 'n': 3, 't': 1, 'u': 1}\n"
     ]
    }
   ],
   "source": [
    "def contar_letras(cadena: str):\n",
    "    conteo = {}\n",
    "    for letra in cadena:\n",
    "         if 'a' <= letra.lower() <= 'z': \n",
    "            letra = letra.lower() \n",
    "            conteo[letra] = conteo.get(letra, 0) + 1\n",
    "    return conteo\n",
    "\n",
    "cadena = \"Hola gente, egun on!\"\n",
    "resultado = contar_letras(cadena)\n",
    "print(resultado)"
   ]
  },
  {
   "cell_type": "code",
   "execution_count": null,
   "metadata": {},
   "outputs": [],
   "source": []
  },
  {
   "cell_type": "code",
   "execution_count": 115,
   "metadata": {},
   "outputs": [],
   "source": []
  },
  {
   "cell_type": "code",
   "execution_count": null,
   "metadata": {},
   "outputs": [],
   "source": []
  },
  {
   "cell_type": "code",
   "execution_count": null,
   "metadata": {},
   "outputs": [],
   "source": []
  },
  {
   "cell_type": "markdown",
   "metadata": {},
   "source": [
    "## Ejercicio 6\n",
    "Escribir una función que añada o elimine elementos en una lista. La función necesita los siguientes argumentos:\n",
    "* lista: la lista donde se añadirán o eliminarán los elementos\n",
    "* comando: \"add\" o \"remove\"\n",
    "* elemento: Por defecto es None.\n",
    "\n",
    "Tendrá como salida la lista"
   ]
  },
  {
   "cell_type": "code",
   "execution_count": null,
   "metadata": {},
   "outputs": [
    {
     "name": "stdout",
     "output_type": "stream",
     "text": [
      "el numero o el comando no son adecuados\n",
      "[1, 2, 3]\n"
     ]
    }
   ],
   "source": [
    "def modificar_lista(lista: list, comando: str, elemento=None) -> list:\n",
    "    if comando == \"add\" and elemento is not None:\n",
    "        lista.append(elemento)\n",
    "    elif comando == \"remove\" and elemento in lista:\n",
    "        lista.remove(elemento)\n",
    "    else:\n",
    "        ValueError\n",
    "        print(\"el numero o el comando no son adecuados\")\n",
    "    return lista\n",
    "\n",
    "\n",
    "mi_lista = [1, 2, 3]\n",
    "print(modificar_lista(mi_lista, \"add\", 5))     \n",
    "print(modificar_lista(mi_lista, \"remove\", 2))\n",
    "#print(modificar_lista(mi_lista, \"remove\", 6))\n"
   ]
  },
  {
   "cell_type": "code",
   "execution_count": null,
   "metadata": {},
   "outputs": [],
   "source": []
  },
  {
   "cell_type": "code",
   "execution_count": null,
   "metadata": {},
   "outputs": [],
   "source": []
  },
  {
   "cell_type": "code",
   "execution_count": null,
   "metadata": {},
   "outputs": [],
   "source": []
  },
  {
   "cell_type": "code",
   "execution_count": null,
   "metadata": {},
   "outputs": [],
   "source": []
  },
  {
   "cell_type": "code",
   "execution_count": null,
   "metadata": {},
   "outputs": [],
   "source": []
  },
  {
   "cell_type": "markdown",
   "metadata": {},
   "source": [
    "## Ejercicio 7\n",
    "Crea una función que reciba un número arbitrario de palabras, y devuelva una frase completa, separando las palabras con espacios."
   ]
  },
  {
   "cell_type": "code",
   "execution_count": 18,
   "metadata": {},
   "outputs": [
    {
     "name": "stdout",
     "output_type": "stream",
     "text": [
      "Hola gente esto es Python\n"
     ]
    }
   ],
   "source": [
    "def unir_palabras(palabras) -> str:\n",
    "    return \" \".join(palabras)\n",
    "\n",
    "frase = unir_palabras([\"Hola\", \"gente\", \"esto\", \"es\", \"Python\"])\n",
    "print(frase)  \n",
    "\n"
   ]
  },
  {
   "cell_type": "code",
   "execution_count": 140,
   "metadata": {},
   "outputs": [],
   "source": []
  },
  {
   "cell_type": "code",
   "execution_count": null,
   "metadata": {},
   "outputs": [],
   "source": []
  },
  {
   "cell_type": "code",
   "execution_count": null,
   "metadata": {},
   "outputs": [],
   "source": []
  },
  {
   "cell_type": "markdown",
   "metadata": {},
   "source": [
    "## Ejercicio 8\n",
    "Escribe un programa que obtenga el enésimo número de la [serie de Fibonacci](https://es.wikipedia.org/wiki/Sucesi%C3%B3n_de_Fibonacci). Tienes que crear una función recursiva con un único argumento.\n",
    "\n",
    "```Python\n",
    "fibonacci(2) = 1\n",
    "fibonacci(4) = 3\n",
    "fibonacci(5) = 5\n",
    "fibonacci(8) = 21\n",
    "```"
   ]
  },
  {
   "cell_type": "markdown",
   "metadata": {},
   "source": [
    "fibonacci(n) = fibonacci(n-1) + fibonacci(n-2)"
   ]
  },
  {
   "cell_type": "code",
   "execution_count": 19,
   "metadata": {},
   "outputs": [
    {
     "name": "stdout",
     "output_type": "stream",
     "text": [
      "1\n",
      "2\n",
      "5\n",
      "21\n"
     ]
    }
   ],
   "source": [
    "def fibonacci(n: int) -> int:\n",
    "    if n <= 0:\n",
    "        raise ValueError(\"El número debe ser mayor a 0\")\n",
    "    elif n == 1:\n",
    "        return 1\n",
    "    elif n == 2:\n",
    "        return 1\n",
    "    return fibonacci(n - 1) + fibonacci(n - 2)\n",
    "\n",
    "\n",
    "print(fibonacci(1)) \n",
    "print(fibonacci(3)) \n",
    "print(fibonacci(5)) \n",
    "print(fibonacci(8))  \n",
    "\n"
   ]
  },
  {
   "cell_type": "code",
   "execution_count": null,
   "metadata": {},
   "outputs": [],
   "source": []
  },
  {
   "cell_type": "code",
   "execution_count": null,
   "metadata": {},
   "outputs": [],
   "source": []
  },
  {
   "cell_type": "code",
   "execution_count": null,
   "metadata": {},
   "outputs": [],
   "source": []
  },
  {
   "cell_type": "code",
   "execution_count": null,
   "metadata": {},
   "outputs": [],
   "source": []
  },
  {
   "cell_type": "code",
   "execution_count": null,
   "metadata": {},
   "outputs": [],
   "source": []
  },
  {
   "attachments": {},
   "cell_type": "markdown",
   "metadata": {},
   "source": [
    "## Ejercicio 9\n",
    "Define en una única celda las siguientes funciones:\n",
    "* Función que calcule el área de un cuadrado\n",
    "* Función que calcule el área de un triángulo\n",
    "* Función que calcule el área de un círculo\n",
    "\n",
    "En otra celda, calcular el area de:\n",
    "* Dos círculos de radio 10 + un triángulo de base 3 y altura 7\n",
    "* Un cuadrado de lado = 10 + 3 círculos (uno de radio = 4 y los otros dos de radio = 6) + 5 triángulos de base = 2 + altura = 4"
   ]
  },
  {
   "cell_type": "code",
   "execution_count": null,
   "metadata": {},
   "outputs": [
    {
     "name": "stdout",
     "output_type": "stream",
     "text": [
      "Área total 1: 638.8185307179587\n",
      "Área total 2: 396.46015351590177\n"
     ]
    }
   ],
   "source": [
    "import math\n",
    "\n",
    "def area_cuadrado(lado: float) -> float:\n",
    "    return lado ** 2\n",
    "\n",
    "def area_triangulo(base: float, altura: float) -> float:\n",
    "    return (base * altura) / 2\n",
    "\n",
    "def area_circulo(radio: float) -> float:\n",
    "    return math.pi * radio ** 2\n",
    "\n",
    "\n",
    "total_area_1 = (2 * area_circulo(10)) + area_triangulo(3, 7)\n",
    "total_area_2 = (area_cuadrado(10)) + area_circulo(4) + (2 * area_circulo(6)) + (5 * area_triangulo(2, 4))\n",
    "\n",
    "print(\"Área total 1:\", total_area_1)\n",
    "print(\"Área total 2:\", total_area_2)"
   ]
  },
  {
   "cell_type": "code",
   "execution_count": null,
   "metadata": {},
   "outputs": [],
   "source": [
    "import math\n",
    "\n",
    "def area_cuadrado(lado: float) -> float:\n",
    "    return lado ** 2\n",
    "\n",
    "def area_triangulo(base: float, altura: float) -> float:\n",
    "    return (base * altura) / 2\n",
    "\n",
    "def area_circulo(radio: float) -> float:\n",
    "    return math.pi * radio ** 2\n",
    "\n",
    "\n",
    "total_area_1 = (2 * area_circulo(10)) + area_triangulo(3, 7)\n",
    "total_area_2 = (area_cuadrado(10)) + area_circulo(4) + (2 * area_circulo(6)) + (5 * area_triangulo(2, 4))\n",
    "\n",
    "print(\"Área total 1:\",total_area_1)\n",
    "print(\"Área total 2:\", total_area_2)"
   ]
  },
  {
   "cell_type": "code",
   "execution_count": null,
   "metadata": {},
   "outputs": [],
   "source": []
  },
  {
   "cell_type": "markdown",
   "metadata": {},
   "source": [
    "## Ejercicio 10\n",
    "\n",
    "Guarda las funciones de estos ejercicios en un fichero llamado `funciones.py` e importalas desde este jupyter notebook para probar que puedes hacer uso de ellas."
   ]
  },
  {
   "cell_type": "code",
   "execution_count": 22,
   "metadata": {},
   "outputs": [],
   "source": [
    "import math\n",
    "\n",
    "def numero_a_dia(numero):\n",
    "    dias = [\"Lunes\", \"Martes\", \"Miércoles\", \"Jueves\", \"Viernes\", \"Sábado\", \"Domingo\"]\n",
    "    \n",
    "    if 1 <= numero <= 7:\n",
    "        return dias[numero - 1]  # Restamos 1 porque las listas en Python empiezan en 0\n",
    "    else:\n",
    "        return \"Número fuera de rango\"\n",
    "\n",
    "def piramide(n):\n",
    "    for i in range(n, 0, -1):\n",
    "        for j in range(i, 0, -1):\n",
    "            print(j, end=\" \")\n",
    "        print()\n",
    "\n",
    "def comparar_numeros(a, b):\n",
    "    if a > b:\n",
    "        return \"El primer número es mayor que el segundo.\"\n",
    "    elif a < b:\n",
    "        return \"El segundo número es mayor que el primero.\"\n",
    "    else:\n",
    "        return \"Los números son iguales.\"\n",
    "\n",
    "\n",
    "def area_cuadrado(lado: float) -> float:\n",
    "    return lado ** 2\n",
    "\n",
    "def area_triangulo(base: float, altura: float) -> float:\n",
    "    return (base * altura) / 2\n",
    "\n",
    "def area_circulo(radio: float) -> float:\n",
    "    return math.pi * radio ** 2\n",
    "\n",
    "def fibonacci(n: int) -> int:\n",
    "    if n <= 0:\n",
    "        raise ValueError(\"El número debe ser mayor a 0\")\n",
    "    elif n == 1:\n",
    "        return 1\n",
    "    elif n == 2:\n",
    "        return 1\n",
    "    return fibonacci(n - 1) + fibonacci(n - 2)\n",
    "\n",
    "def unir_palabras(palabras) -> str:\n",
    "    return \" \".join(palabras)\n",
    "\n",
    "def modificar_lista(lista: list, comando: str, elemento=None) -> list:\n",
    "    if comando == \"add\" and elemento is not None:\n",
    "        lista.append(elemento)\n",
    "    elif comando == \"remove\" and elemento in lista:\n",
    "        lista.remove(elemento)\n",
    "    return lista\n",
    "\n",
    "def contar_letra(texto, letra):\n",
    "    \n",
    "    #Contador de veces que aparece una letra en un texto, sin distinguir mayúsculas de minúsculas.\n",
    "    if len(letra) != 1:\n",
    "        raise ValueError(\"El segundo argumento debe ser una única letra.\")\n",
    "    \n",
    "    return texto.lower().count(letra.lower())\n"
   ]
  }
 ],
 "metadata": {
  "kernelspec": {
   "display_name": "Python 3",
   "language": "python",
   "name": "python3"
  },
  "language_info": {
   "codemirror_mode": {
    "name": "ipython",
    "version": 3
   },
   "file_extension": ".py",
   "mimetype": "text/x-python",
   "name": "python",
   "nbconvert_exporter": "python",
   "pygments_lexer": "ipython3",
   "version": "3.11.9"
  }
 },
 "nbformat": 4,
 "nbformat_minor": 4
}
